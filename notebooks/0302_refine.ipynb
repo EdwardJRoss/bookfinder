{
 "cells": [
  {
   "cell_type": "markdown",
   "id": "33933dbb-a304-4cab-a850-ed0925712541",
   "metadata": {},
   "source": [
    "# Refine\n",
    "\n",
    "Using the first set of annotations, train a model, and use this to sample a second round of annotations that will be more informative than random for the model."
   ]
  },
  {
   "cell_type": "code",
   "execution_count": 1,
   "id": "420c8379-9cd6-401c-9706-9f46fff8e221",
   "metadata": {},
   "outputs": [
    {
     "name": "stdout",
     "output_type": "stream",
     "text": [
      "/home/bookfinder\n"
     ]
    }
   ],
   "source": [
    "%cd .."
   ]
  },
  {
   "cell_type": "code",
   "execution_count": 2,
   "id": "d4e260a5-dcdb-4f75-9ca7-0c6d997853f1",
   "metadata": {},
   "outputs": [],
   "source": [
    "import numpy as np\n",
    "import pandas as pd\n",
    "\n",
    "from datasets import Dataset\n",
    "\n",
    "from sentence_transformers.losses import CosineSimilarityLoss\n",
    "\n",
    "from setfit import SetFitModel, SetFitTrainer"
   ]
  },
  {
   "cell_type": "markdown",
   "id": "d0dc15dc-426f-4dd2-ac41-48750e8b3aa3",
   "metadata": {},
   "source": [
    "# Train the model\n",
    "\n",
    "## Read in existing annotations"
   ]
  },
  {
   "cell_type": "code",
   "execution_count": 3,
   "id": "2bad9080-4c98-455d-830f-3615410b1111",
   "metadata": {},
   "outputs": [],
   "source": [
    "df_in = pd.read_json('data/00_annotations/03_book_binary/hnbook_classify.jsonl', lines=True)"
   ]
  },
  {
   "cell_type": "code",
   "execution_count": 4,
   "id": "985b95f2-1032-4cab-aed9-0778d1a41791",
   "metadata": {},
   "outputs": [
    {
     "data": {
      "text/plain": [
       "reject    86\n",
       "accept    11\n",
       "ignore     3\n",
       "Name: answer, dtype: int64"
      ]
     },
     "execution_count": 4,
     "metadata": {},
     "output_type": "execute_result"
    }
   ],
   "source": [
    "counts = df_in.answer.value_counts()\n",
    "counts"
   ]
  },
  {
   "cell_type": "markdown",
   "id": "b79d0d57-8b3d-4836-9891-23d9054d82dc",
   "metadata": {},
   "source": [
    "## Stratified Sample\n",
    "\n",
    "Create a 1:1 sample of reject and accept"
   ]
  },
  {
   "cell_type": "code",
   "execution_count": 5,
   "id": "2d3c1533-e493-42b7-ab98-4e21de9b2a03",
   "metadata": {},
   "outputs": [
    {
     "data": {
      "text/plain": [
       "11"
      ]
     },
     "execution_count": 5,
     "metadata": {},
     "output_type": "execute_result"
    }
   ],
   "source": [
    "n_sample = counts.loc[['reject', 'accept']].min()\n",
    "\n",
    "n_sample"
   ]
  },
  {
   "cell_type": "code",
   "execution_count": 6,
   "id": "eb17a14e-a146-4fc0-be07-4aaf5ae7b9a1",
   "metadata": {},
   "outputs": [
    {
     "data": {
      "text/plain": [
       "accept    11\n",
       "reject    11\n",
       "Name: answer, dtype: int64"
      ]
     },
     "execution_count": 6,
     "metadata": {},
     "output_type": "execute_result"
    }
   ],
   "source": [
    "df_train = (\n",
    "    df_in\n",
    "    .query('answer != \"ignore\"')\n",
    "    .groupby('answer', group_keys=False)\n",
    "    .apply(lambda x: x.sample(min(len(x), n_sample)))\n",
    ")\n",
    "\n",
    "df_train.answer.value_counts()"
   ]
  },
  {
   "cell_type": "markdown",
   "id": "ff31919d-3f3a-42dc-862c-48744aaa0057",
   "metadata": {},
   "source": [
    "## Train the model\n",
    "\n",
    "We'll use [SetFit](https://huggingface.co/blog/setfit) which is fast and good for few-shot text classification like this."
   ]
  },
  {
   "cell_type": "code",
   "execution_count": 7,
   "id": "cfcf04f6-97d6-48d8-9217-84e762b3dd7d",
   "metadata": {},
   "outputs": [
    {
     "data": {
      "text/plain": [
       "Dataset({\n",
       "    features: ['text', 'meta', '_input_hash', '_task_hash', 'label', '_view_id', 'answer', '_timestamp', '__index_level_0__'],\n",
       "    num_rows: 22\n",
       "})"
      ]
     },
     "execution_count": 7,
     "metadata": {},
     "output_type": "execute_result"
    }
   ],
   "source": [
    "train_dataset = Dataset.from_pandas(df_train)\n",
    "train_dataset"
   ]
  },
  {
   "cell_type": "markdown",
   "id": "a209e2ed-a409-4623-89ed-39cd8b50c001",
   "metadata": {},
   "source": [
    "Use `all-MiniLM-L6-v2` which is very fast, while still quite accurate (based on the SentenceTransformers [benchmarks](https://www.sbert.net/docs/pretrained_models.html))."
   ]
  },
  {
   "cell_type": "code",
   "execution_count": 8,
   "id": "c224e589-57a4-4ddf-b57f-06fae08c3432",
   "metadata": {},
   "outputs": [
    {
     "name": "stderr",
     "output_type": "stream",
     "text": [
      "model_head.pkl not found on HuggingFace Hub, initialising classification head with random weights. You should TRAIN this model on a downstream task to use it for predictions and inference.\n"
     ]
    }
   ],
   "source": [
    "model = SetFitModel.from_pretrained(\"sentence-transformers/all-MiniLM-L6-v2\")"
   ]
  },
  {
   "cell_type": "markdown",
   "id": "77098070-ee7a-492a-8f01-a5715530e8a8",
   "metadata": {},
   "source": [
    "We'll leave all these as their default"
   ]
  },
  {
   "cell_type": "code",
   "execution_count": 9,
   "id": "ae37002f-724c-444a-861f-6f0a011d15fe",
   "metadata": {},
   "outputs": [],
   "source": [
    "trainer = SetFitTrainer(\n",
    "    model=model,\n",
    "    train_dataset=train_dataset,\n",
    "    eval_dataset=None,\n",
    "    loss_class=CosineSimilarityLoss,\n",
    "    metric=\"accuracy\",\n",
    "    batch_size=16,\n",
    "    num_iterations=20, # The number of text pairs to generate for contrastive learning\n",
    "    num_epochs=1, # The number of epochs to use for constrastive learning\n",
    "    column_mapping={\"text\": \"text\", \"answer\": \"label\"} # Map dataset columns to text/label expected by trainer\n",
    "\n",
    ")"
   ]
  },
  {
   "cell_type": "code",
   "execution_count": 10,
   "id": "5c667ee0-87b2-4a41-be84-056566f01096",
   "metadata": {},
   "outputs": [
    {
     "name": "stderr",
     "output_type": "stream",
     "text": [
      "Applying column mapping to training dataset\n",
      "***** Running training *****\n",
      "  Num examples = 880\n",
      "  Num epochs = 1\n",
      "  Total optimization steps = 55\n",
      "  Total train batch size = 16\n"
     ]
    },
    {
     "data": {
      "application/vnd.jupyter.widget-view+json": {
       "model_id": "13a3fc1b6274458aaa68b11e4eeca8fa",
       "version_major": 2,
       "version_minor": 0
      },
      "text/plain": [
       "Epoch:   0%|          | 0/1 [00:00<?, ?it/s]"
      ]
     },
     "metadata": {},
     "output_type": "display_data"
    },
    {
     "data": {
      "application/vnd.jupyter.widget-view+json": {
       "model_id": "8c13aa5a114a4c8db9c58a1adebba48a",
       "version_major": 2,
       "version_minor": 0
      },
      "text/plain": [
       "Iteration:   0%|          | 0/55 [00:00<?, ?it/s]"
      ]
     },
     "metadata": {},
     "output_type": "display_data"
    }
   ],
   "source": [
    "trainer.train()"
   ]
  },
  {
   "cell_type": "code",
   "execution_count": 11,
   "id": "12c94af2-0adf-40c3-807e-b2c769815eec",
   "metadata": {},
   "outputs": [],
   "source": [
    "model.save_pretrained('data/06_models/setfit_0')"
   ]
  },
  {
   "cell_type": "markdown",
   "id": "5bd0add5-f4d9-43dc-8d82-6507052fbfd2",
   "metadata": {},
   "source": [
    "# Predict\n",
    "\n",
    "Now let's perform inference with our trained model on our data to annotate."
   ]
  },
  {
   "cell_type": "code",
   "execution_count": 12,
   "id": "9e740b1a-5ba5-4014-83ea-67c0c4c13f61",
   "metadata": {},
   "outputs": [],
   "source": [
    "df = (\n",
    "    pd.read_parquet('data/02_intermediate/hn_enriched.parquet')\n",
    "    .query('bucket<3 & text_length > 0')\n",
    ")"
   ]
  },
  {
   "cell_type": "code",
   "execution_count": 13,
   "id": "787d6836-cf98-4c65-8d63-c752c75bd78a",
   "metadata": {},
   "outputs": [],
   "source": [
    "text = df.clean_text.to_list()"
   ]
  },
  {
   "cell_type": "markdown",
   "id": "a36721e3-87cf-42a1-a7c1-5ad5a1463a90",
   "metadata": {},
   "source": [
    "Get the column corresponding to 'accept'"
   ]
  },
  {
   "cell_type": "code",
   "execution_count": 14,
   "id": "b173f566-d61f-40c7-a5f1-92946116fdd7",
   "metadata": {},
   "outputs": [
    {
     "data": {
      "text/plain": [
       "array(['accept', 'reject'], dtype='<U6')"
      ]
     },
     "execution_count": 14,
     "metadata": {},
     "output_type": "execute_result"
    }
   ],
   "source": [
    "model.model_head.classes_"
   ]
  },
  {
   "cell_type": "code",
   "execution_count": 15,
   "id": "bdd72bd4-e2d3-4ce2-8fe1-921a1886bb8e",
   "metadata": {},
   "outputs": [
    {
     "data": {
      "text/plain": [
       "0"
      ]
     },
     "execution_count": 15,
     "metadata": {},
     "output_type": "execute_result"
    }
   ],
   "source": [
    "accept_idx = list(model.model_head.classes_).index('accept')\n",
    "accept_idx"
   ]
  },
  {
   "cell_type": "markdown",
   "id": "6a6e6f81-3cca-4fe4-ba00-cbd002fd687c",
   "metadata": {},
   "source": [
    "Calculate the accept probabilities"
   ]
  },
  {
   "cell_type": "code",
   "execution_count": 16,
   "id": "672da089-0624-49d4-bf0c-1204c15e11e9",
   "metadata": {},
   "outputs": [
    {
     "name": "stdout",
     "output_type": "stream",
     "text": [
      "CPU times: user 2min 8s, sys: 7.69 s, total: 2min 16s\n",
      "Wall time: 1min 20s\n"
     ]
    }
   ],
   "source": [
    "%%time\n",
    "probs = model.predict_proba(text)[:,accept_idx]"
   ]
  },
  {
   "cell_type": "code",
   "execution_count": 17,
   "id": "bf590783-ca48-488a-b5b5-a07343c5e207",
   "metadata": {},
   "outputs": [],
   "source": [
    "df['prob'] = probs"
   ]
  },
  {
   "cell_type": "markdown",
   "id": "c7fc0d63-dfba-45bb-9426-8ea41a7d1135",
   "metadata": {},
   "source": [
    "## Check the results"
   ]
  },
  {
   "cell_type": "code",
   "execution_count": 18,
   "id": "f1df8a06-a38d-44df-879d-585efd7c417d",
   "metadata": {},
   "outputs": [],
   "source": [
    "pd.options.display.max_colwidth = 1000"
   ]
  },
  {
   "cell_type": "markdown",
   "id": "4fdb7515-82d4-48d8-b480-542d6dac1405",
   "metadata": {},
   "source": [
    "It works pretty well!"
   ]
  },
  {
   "cell_type": "code",
   "execution_count": 19,
   "id": "4ad0d9a6-ff84-404f-8e0e-5c97ae3473c6",
   "metadata": {},
   "outputs": [
    {
     "data": {
      "text/html": [
       "<div>\n",
       "<style scoped>\n",
       "    .dataframe tbody tr th:only-of-type {\n",
       "        vertical-align: middle;\n",
       "    }\n",
       "\n",
       "    .dataframe tbody tr th {\n",
       "        vertical-align: top;\n",
       "    }\n",
       "\n",
       "    .dataframe thead th {\n",
       "        text-align: right;\n",
       "    }\n",
       "</style>\n",
       "<table border=\"1\" class=\"dataframe\">\n",
       "  <thead>\n",
       "    <tr style=\"text-align: right;\">\n",
       "      <th></th>\n",
       "      <th>clean_text</th>\n",
       "    </tr>\n",
       "    <tr>\n",
       "      <th>id</th>\n",
       "      <th></th>\n",
       "    </tr>\n",
       "  </thead>\n",
       "  <tbody>\n",
       "    <tr>\n",
       "      <th>29315400</th>\n",
       "      <td>I was introduced to the concept by this book:\\n\\nhttps://www.amazon.com/Corporations-Examples-Explanations-Alan-Palmiter/dp/1454802472\\n\\nBut it’s probably a lot more than you bargained for.</td>\n",
       "    </tr>\n",
       "    <tr>\n",
       "      <th>29022116</th>\n",
       "      <td>Second this, Becoming Steve Jobs is the superior book. It helped a lot that the authors had interacted with Jobs over decades and also had an understanding of business and technology that Isaacson was missing.\\n\\nThere’s also an old documentary about the founding of NeXT that does such a great job of showing what it was like to be in the room with him as a member of a small team, and this was before he fully “became” Steve Jobs. People underestimate how much meaning can be found in being pushed hard by someone with a clear and inspiring vision.\\n\\nhttps://m.youtube.com/watch?v=Udi0rk3jZYM</td>\n",
       "    </tr>\n",
       "    <tr>\n",
       "      <th>27225900</th>\n",
       "      <td>That's a great one! Also available at SE as \"Memoirs of a Madman\": https://standardebooks.org/ebooks/nikolai-gogol/short-fiction/claud-field_isabel-f-hapgood_vizetelly-and-company_george-tolstoy</td>\n",
       "    </tr>\n",
       "    <tr>\n",
       "      <th>28902849</th>\n",
       "      <td>I can’t tell you what is that website, but the concept of broken window reminds me a book that talked about it:\\n\\nhttps://www.amazon.fr/Pragmatic-Programmer-Journeyman-Master/dp/020161622X\\n\\n(No affiliation)</td>\n",
       "    </tr>\n",
       "    <tr>\n",
       "      <th>27386353</th>\n",
       "      <td>A related great read is the book Into the Cool[1]. Highly recommend.\\n\\n[1] https://press.uchicago.edu/ucp/books/book/chicago/I/bo3533936.html</td>\n",
       "    </tr>\n",
       "    <tr>\n",
       "      <th>26902721</th>\n",
       "      <td>The Secrets of Consulting[1][2] sounds like a book you might appreciate in your current situation.\\n\\n[1] https://www.amazon.com/Secrets-Consulting-Giving-Getting-Successfully/dp/0932633013\\n\\n[2] https://www.goodreads.com/book/show/566213.The_Secrets_of_Consulting</td>\n",
       "    </tr>\n",
       "    <tr>\n",
       "      <th>28074710</th>\n",
       "      <td>Looking forward to grabbing a physical copy of this book. As a beginner, CI and Alex Aiken’s course at Stanford were a great place to start.\\n\\nBob also gave me a lot of insight  on what it’s like working on programming languages in the industry when I reached out to him as an undergrad.</td>\n",
       "    </tr>\n",
       "    <tr>\n",
       "      <th>26726081</th>\n",
       "      <td>I hope you like this biography on Paul Erdos. Great read. If you like it recommend it to others. I have gifted it to many friends and even to those who are not mathematicians, STEMmy or mathematically inclined. Hope you get a chance to read it.\\n\\nhttps://en.wikipedia.org/wiki/The_Man_Who_Loved_Only_Numbers</td>\n",
       "    </tr>\n",
       "    <tr>\n",
       "      <th>25723649</th>\n",
       "      <td>&gt; I'm really not sure who your target audience is, though.\\n\\nWe should ask Havoc Pennington about this, he must have names for all the personas that he came up with, after reading \"The Inmates Are Running the Asylum\": https://mail.gnome.org/archives/desktop-devel-list/2002-December/msg00482.html\\n\\nI actually have a copy of the book, and it is indeed a good book. The problem is that it somehow empowers GNOME developers to keep creating/maintaining/rewriting broken software, all in the name of \"usability\".</td>\n",
       "    </tr>\n",
       "    <tr>\n",
       "      <th>28125050</th>\n",
       "      <td>Iirc there is a great YouTube video with Bill Hammack about this. Highly recommended. https://youtu.be/ixxXhZVFXxQ\\n\\nHe also wrote a book.</td>\n",
       "    </tr>\n",
       "  </tbody>\n",
       "</table>\n",
       "</div>"
      ],
      "text/plain": [
       "                                                                                                                                                                                                                                                                                                                                                                                                                                                                                                                                                                                                                   clean_text\n",
       "id                                                                                                                                                                                                                                                                                                                                                                                                                                                                                                                                                                                                                           \n",
       "29315400                                                                                                                                                                                                                                                                                                                                                                                                                       I was introduced to the concept by this book:\\n\\nhttps://www.amazon.com/Corporations-Examples-Explanations-Alan-Palmiter/dp/1454802472\\n\\nBut it’s probably a lot more than you bargained for.\n",
       "29022116  Second this, Becoming Steve Jobs is the superior book. It helped a lot that the authors had interacted with Jobs over decades and also had an understanding of business and technology that Isaacson was missing.\\n\\nThere’s also an old documentary about the founding of NeXT that does such a great job of showing what it was like to be in the room with him as a member of a small team, and this was before he fully “became” Steve Jobs. People underestimate how much meaning can be found in being pushed hard by someone with a clear and inspiring vision.\\n\\nhttps://m.youtube.com/watch?v=Udi0rk3jZYM\n",
       "27225900                                                                                                                                                                                                                                                                                                                                                                                                                   That's a great one! Also available at SE as \"Memoirs of a Madman\": https://standardebooks.org/ebooks/nikolai-gogol/short-fiction/claud-field_isabel-f-hapgood_vizetelly-and-company_george-tolstoy\n",
       "28902849                                                                                                                                                                                                                                                                                                                                                                                                    I can’t tell you what is that website, but the concept of broken window reminds me a book that talked about it:\\n\\nhttps://www.amazon.fr/Pragmatic-Programmer-Journeyman-Master/dp/020161622X\\n\\n(No affiliation)\n",
       "27386353                                                                                                                                                                                                                                                                                                                                                                                                                                                                       A related great read is the book Into the Cool[1]. Highly recommend.\\n\\n[1] https://press.uchicago.edu/ucp/books/book/chicago/I/bo3533936.html\n",
       "26902721                                                                                                                                                                                                                                                                                                                                            The Secrets of Consulting[1][2] sounds like a book you might appreciate in your current situation.\\n\\n[1] https://www.amazon.com/Secrets-Consulting-Giving-Getting-Successfully/dp/0932633013\\n\\n[2] https://www.goodreads.com/book/show/566213.The_Secrets_of_Consulting\n",
       "28074710                                                                                                                                                                                                                                                                                                                     Looking forward to grabbing a physical copy of this book. As a beginner, CI and Alex Aiken’s course at Stanford were a great place to start.\\n\\nBob also gave me a lot of insight  on what it’s like working on programming languages in the industry when I reached out to him as an undergrad.\n",
       "26726081                                                                                                                                                                                                                                                                                                 I hope you like this biography on Paul Erdos. Great read. If you like it recommend it to others. I have gifted it to many friends and even to those who are not mathematicians, STEMmy or mathematically inclined. Hope you get a chance to read it.\\n\\nhttps://en.wikipedia.org/wiki/The_Man_Who_Loved_Only_Numbers\n",
       "25723649                                                                                      > I'm really not sure who your target audience is, though.\\n\\nWe should ask Havoc Pennington about this, he must have names for all the personas that he came up with, after reading \"The Inmates Are Running the Asylum\": https://mail.gnome.org/archives/desktop-devel-list/2002-December/msg00482.html\\n\\nI actually have a copy of the book, and it is indeed a good book. The problem is that it somehow empowers GNOME developers to keep creating/maintaining/rewriting broken software, all in the name of \"usability\".\n",
       "28125050                                                                                                                                                                                                                                                                                                                                                                                                                                                                          Iirc there is a great YouTube video with Bill Hammack about this. Highly recommended. https://youtu.be/ixxXhZVFXxQ\\n\\nHe also wrote a book."
      ]
     },
     "execution_count": 19,
     "metadata": {},
     "output_type": "execute_result"
    }
   ],
   "source": [
    "df.sort_values('prob', ascending=False)[['clean_text']][:10]"
   ]
  },
  {
   "cell_type": "markdown",
   "id": "755474fb-f1d9-4ae4-af71-ab7e48a8f6b0",
   "metadata": {},
   "source": [
    "# Stratified sample for annotation.\n",
    "\n",
    "We want to get some interesting examples to annotate.\n",
    "\n",
    "If we pick at random, most won't have titles of books or works of art.\n",
    "Instead sample equally from each decile to get a mixture of positives, negatives and borderline cases."
   ]
  },
  {
   "cell_type": "code",
   "execution_count": 20,
   "id": "bc9f03dc-08ac-4998-8ed2-5da237ab2ed9",
   "metadata": {},
   "outputs": [
    {
     "data": {
      "text/plain": [
       "<AxesSubplot: >"
      ]
     },
     "execution_count": 20,
     "metadata": {},
     "output_type": "execute_result"
    },
    {
     "data": {
      "image/png": "[encoded data removed]",
      "text/plain": [
       "<Figure size 640x480 with 1 Axes>"
      ]
     },
     "metadata": {},
     "output_type": "display_data"
    }
   ],
   "source": [
    "df['prob'].hist(bins=20)"
   ]
  },
  {
   "cell_type": "code",
   "execution_count": 21,
   "id": "4317b787-37d7-41e7-b860-dd59a290a7fa",
   "metadata": {},
   "outputs": [],
   "source": [
    "df['bucket'] = (df['prob']*10).astype(int)"
   ]
  },
  {
   "cell_type": "code",
   "execution_count": 22,
   "id": "d1b39df3-5932-4781-adb8-c3c1afca7c3b",
   "metadata": {},
   "outputs": [],
   "source": [
    "n_sample = 20"
   ]
  },
  {
   "cell_type": "markdown",
   "id": "216a82ce-0f63-49ce-ab5a-525644d084cc",
   "metadata": {},
   "source": [
    "Remove the items that are already annotated"
   ]
  },
  {
   "cell_type": "code",
   "execution_count": 23,
   "id": "57515f9c-5ef7-47ad-abf0-cf77ace2e1d2",
   "metadata": {},
   "outputs": [],
   "source": [
    "annotated_ids = [x['id'] for x in df_in['meta'].to_list()]"
   ]
  },
  {
   "cell_type": "code",
   "execution_count": 24,
   "id": "1287972f-2123-4b90-855f-2e3e905a570b",
   "metadata": {},
   "outputs": [],
   "source": [
    "df_out = (\n",
    "    df.loc[~df.index.isin(annotated_ids)]\n",
    "    .groupby('bucket', group_keys=False)\n",
    "    .apply(lambda x: x.sample(min(len(x), n_sample)))\n",
    "    .sample(frac=1)\n",
    ")"
   ]
  },
  {
   "cell_type": "code",
   "execution_count": 25,
   "id": "2c9a2c50-659b-4cd5-9b20-d035e4a35759",
   "metadata": {},
   "outputs": [
    {
     "data": {
      "text/plain": [
       "140"
      ]
     },
     "execution_count": 25,
     "metadata": {},
     "output_type": "execute_result"
    }
   ],
   "source": [
    "len(df_out)"
   ]
  },
  {
   "cell_type": "code",
   "execution_count": 26,
   "id": "c9348bf9-6e32-4bf4-a041-413eb29df1ea",
   "metadata": {},
   "outputs": [
    {
     "data": {
      "text/plain": [
       "6    20\n",
       "4    20\n",
       "3    20\n",
       "1    20\n",
       "5    20\n",
       "2    20\n",
       "7    20\n",
       "Name: bucket, dtype: int64"
      ]
     },
     "execution_count": 26,
     "metadata": {},
     "output_type": "execute_result"
    }
   ],
   "source": [
    "df_out.bucket.value_counts()"
   ]
  },
  {
   "cell_type": "markdown",
   "id": "4375eaed-357d-4792-bccd-b9d025d4d5b7",
   "metadata": {},
   "source": [
    "Save to JSON"
   ]
  },
  {
   "cell_type": "code",
   "execution_count": 27,
   "id": "10a69011-8e0d-46b1-9c00-7c2325cba4d3",
   "metadata": {},
   "outputs": [],
   "source": [
    "import json\n",
    "\n",
    "with open('data/02_intermediate/hn_sample_1.jsonl', 'w') as f:\n",
    "    for id, row in df_out.iterrows():\n",
    "        data = {\"text\": row[\"clean_text\"], \"meta\": {\"id\": id}}\n",
    "        print(json.dumps(data), file=f)"
   ]
  }
 ],
 "metadata": {
  "kernelspec": {
   "display_name": "Python 3 (ipykernel)",
   "language": "python",
   "name": "python3"
  },
  "language_info": {
   "codemirror_mode": {
    "name": "ipython",
    "version": 3
   },
   "file_extension": ".py",
   "mimetype": "text/x-python",
   "name": "python",
   "nbconvert_exporter": "python",
   "pygments_lexer": "ipython3",
   "version": "3.8.12"
  }
 },
 "nbformat": 4,
 "nbformat_minor": 5
}
