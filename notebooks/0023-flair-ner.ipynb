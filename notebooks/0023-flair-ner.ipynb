{
 "cells": [
  {
   "cell_type": "markdown",
   "id": "be199675",
   "metadata": {},
   "source": [
    "# Flair NER for Detecting Book Titles\n",
    "\n",
    "Flair like SpaCy is trained on Ontonotes and so can detect Works of Art.\n",
    "\n",
    "It seems to perform comparably to SpaCy; a more careful analysis including preprocessing would be needed to choose between them."
   ]
  },
  {
   "cell_type": "code",
   "execution_count": 1,
   "id": "bb0a3fa9",
   "metadata": {},
   "outputs": [
    {
     "name": "stderr",
     "output_type": "stream",
     "text": [
      "2022-06-27 21:00:28.518400: W tensorflow/stream_executor/platform/default/dso_loader.cc:64] Could not load dynamic library 'libcudart.so.11.0'; dlerror: libcudart.so.11.0: cannot open shared object file: No such file or directory\n",
      "2022-06-27 21:00:28.518449: I tensorflow/stream_executor/cuda/cudart_stub.cc:29] Ignore above cudart dlerror if you do not have a GPU set up on your machine.\n"
     ]
    }
   ],
   "source": [
    "import flair, torch\n",
    "flair.device = torch.device('cpu') \n",
    "\n",
    "import pandas as pd"
   ]
  },
  {
   "cell_type": "code",
   "execution_count": 2,
   "id": "945cf981",
   "metadata": {},
   "outputs": [],
   "source": [
    "book_recs = pd.read_csv('../data/02_intermediate/hn_ask_book_recommendations.csv')"
   ]
  },
  {
   "cell_type": "code",
   "execution_count": 3,
   "id": "da6ae5c1",
   "metadata": {},
   "outputs": [
    {
     "name": "stdout",
     "output_type": "stream",
     "text": [
      "2022-06-27 21:00:32,178 loading file /home/edward/.flair/models/ner-english-ontonotes-large/2da6c2cdd76e59113033adf670340bfd820f0301ae2e39204d67ba2dc276cc28.ec1bdb304b6c66111532c3b1fc6e522460ae73f1901848a4d0362cdf9760edb1\n",
      "2022-06-27 21:00:50,599 SequenceTagger predicts: Dictionary with 76 tags: <unk>, O, B-CARDINAL, E-CARDINAL, S-PERSON, S-CARDINAL, S-PRODUCT, B-PRODUCT, I-PRODUCT, E-PRODUCT, B-WORK_OF_ART, I-WORK_OF_ART, E-WORK_OF_ART, B-PERSON, E-PERSON, S-GPE, B-DATE, I-DATE, E-DATE, S-ORDINAL, S-LANGUAGE, I-PERSON, S-EVENT, S-DATE, B-QUANTITY, E-QUANTITY, S-TIME, B-TIME, I-TIME, E-TIME, B-GPE, E-GPE, S-ORG, I-GPE, S-NORP, B-FAC, I-FAC, E-FAC, B-NORP, E-NORP, S-PERCENT, B-ORG, E-ORG, B-LANGUAGE, E-LANGUAGE, I-CARDINAL, I-ORG, S-WORK_OF_ART, I-QUANTITY, B-MONEY\n"
     ]
    }
   ],
   "source": [
    "from flair.data import Sentence\n",
    "from flair.models import SequenceTagger\n",
    "\n",
    "# load tagger\n",
    "tagger = SequenceTagger.load(\"flair/ner-english-ontonotes-large\")"
   ]
  },
  {
   "cell_type": "code",
   "execution_count": 4,
   "id": "db7664ed",
   "metadata": {},
   "outputs": [],
   "source": [
    "import re\n",
    "import html\n",
    "\n",
    "def clean(text):\n",
    "    text = html.unescape(text)\n",
    "    text = text.replace('<i>', '\"')\n",
    "    text = text.replace('</i>', '\"')\n",
    "    text = text.replace('<p>', '\\n\\n')\n",
    "    text = re.sub('<a href=\"(.*?)\".*?>.*?</a>', r'\\1', text)\n",
    "    return text"
   ]
  },
  {
   "cell_type": "code",
   "execution_count": 5,
   "id": "a7a74679",
   "metadata": {},
   "outputs": [],
   "source": [
    "books = book_recs.text.head(15).map(clean).to_list()"
   ]
  },
  {
   "cell_type": "code",
   "execution_count": 6,
   "id": "07b16424",
   "metadata": {},
   "outputs": [
    {
     "name": "stdout",
     "output_type": "stream",
     "text": [
      "CPU times: user 25.6 s, sys: 153 ms, total: 25.7 s\n",
      "Wall time: 6.66 s\n"
     ]
    }
   ],
   "source": [
    "%%time\n",
    "sentences = [Sentence(book) for book in books]\n",
    "for sentence in sentences:\n",
    "    tagger.predict(sentence)"
   ]
  },
  {
   "cell_type": "markdown",
   "id": "5bf389d4",
   "metadata": {},
   "source": [
    "It does pretty well, comparable to SpaCy's model (in some ways better, some worse)."
   ]
  },
  {
   "cell_type": "code",
   "execution_count": 7,
   "id": "ef5adcc0",
   "metadata": {},
   "outputs": [
    {
     "name": "stdout",
     "output_type": "stream",
     "text": [
      "- Existential Rationalism : Handling Hume 's Fork ( second edition ) - Living with the Himalayan Masters - The Outsider - Hirohito : Behind the Myth\n",
      "Span[5:6]: \"Hume\" → WORK_OF_ART (0.4963)\n",
      "Span[9:10]: \"second\" → ORDINAL (1.0)\n",
      "Span[14:17]: \"with the Himalayan\" → WORK_OF_ART (0.7983)\n",
      "Span[22:27]: \"Hirohito : Behind the Myth\" → WORK_OF_ART (0.9999)\n",
      "\n",
      "The Coming of Neo-Feudalism by Joel Kotkin\n",
      "Span[5:7]: \"Joel Kotkin\" → PERSON (1.0)\n",
      "\n",
      "Probably \" Reaper \" , by Will Wight . It ’s not an insightful nonfiction book or a piece of high literature , but the whole Cradle series is very , very fun .\n",
      "Span[2:3]: \"Reaper\" → WORK_OF_ART (1.0)\n",
      "Span[6:8]: \"Will Wight\" → PERSON (1.0)\n",
      "Span[26:27]: \"Cradle\" → WORK_OF_ART (0.9994)\n",
      "\n",
      "A Gentleman in Moscow by Amor Towles . I spent a lot of the year in isolation , only seeing a few people and this book felt like an appropriate analogy . It was also very heartwarming when I really needed something to lift me up .\n",
      "Span[0:4]: \"A Gentleman in Moscow\" → WORK_OF_ART (1.0)\n",
      "Span[5:7]: \"Amor Towles\" → PERSON (1.0)\n",
      "Span[14:15]: \"year\" → DATE (0.9907)\n",
      "\n",
      "\" In Cold Blood \" by Truman Capote . It 's a masterpiece .\n",
      "Span[0:5]: \"\" In Cold Blood \"\" → WORK_OF_ART (1.0)\n",
      "Span[6:8]: \"Truman Capote\" → PERSON (1.0)\n",
      "\n",
      "A small selection of papers that I find useful ( also check the Wikipedia articles for a quick overview ) : Communicating Sequential Processes \" CSP \" by Tony Hoare [ 0 ] has a strong influence on Go and Clojure . He also published / contributed to other interesting and influential books and papers . Making reliable distributed systems in the presence of software errors by Joe Armstrong [ 1 ] ( Erlang , BEAM ) . An implementation of the actor model and functional programming to optimize for reliability . Conflict-free Replicated Data Types by Marc Shapiro , Nuno Preguiça , Carlos Baquero , Marek Zawirsk , \" CRDTs \" [ 2 ] . Enable strong eventual consistency , which is typically useful ( and implemented ) for databases , p2p ( chat ) applications and other distributed systems . [ 0 ] https :// www.cs.cmu.edu /~ crary / 819-f09 / Hoare78.pdf [ 1 ] https :// www.cs.otago.ac.nz / coursework / cosc461 / armstrong _ thesis _ 2003.pdf [ 2 ] https :// hal.inria.fr / hal-00932836 / file / CRDTs _ SSS-2011.pdf\n",
      "Span[13:14]: \"Wikipedia\" → ORG (0.9988)\n",
      "Span[28:30]: \"Tony Hoare\" → PERSON (0.996)\n",
      "Span[38:39]: \"Go\" → WORK_OF_ART (0.6095)\n",
      "Span[40:41]: \"Clojure\" → WORK_OF_ART (0.8876)\n",
      "Span[67:69]: \"Joe Armstrong\" → PERSON (1.0)\n",
      "Span[70:71]: \"1\" → CARDINAL (0.9115)\n",
      "Span[73:74]: \"Erlang\" → ORG (0.9992)\n",
      "Span[75:76]: \"BEAM\" → ORG (1.0)\n",
      "Span[97:99]: \"Marc Shapiro\" → PERSON (1.0)\n",
      "Span[100:102]: \"Nuno Preguiça\" → PERSON (1.0)\n",
      "Span[103:105]: \"Carlos Baquero\" → PERSON (1.0)\n",
      "Span[106:108]: \"Marek Zawirsk\" → PERSON (1.0)\n",
      "Span[113:114]: \"2\" → CARDINAL (0.9998)\n",
      "Span[169:170]: \"2003.pdf\" → DATE (0.428)\n",
      "\n",
      "\" The Unwomanly Face of War : An Oral History of Women in World War II \" . Non-fiction . Harrowing . Was inspired to read it after seeing \" Beanpole \" . Also really enjoyed \" Klara and the Sun \" .\n",
      "Span[0:17]: \"\" The Unwomanly Face of War : An Oral History of Women in World War II \"\" → WORK_OF_ART (0.9989)\n",
      "Span[30:31]: \"Beanpole\" → WORK_OF_ART (1.0)\n",
      "Span[36:42]: \"\" Klara and the Sun \"\" → WORK_OF_ART (1.0)\n",
      "\n",
      "programming pearls jon bentley\n",
      "Span[2:4]: \"jon bentley\" → PERSON (1.0)\n",
      "\n",
      "try aristotle 's treatment on the subject in The Nichomachean Ethics . very relatable by modern standards\n",
      "Span[1:2]: \"aristotle\" → PERSON (0.9459)\n",
      "Span[8:11]: \"The Nichomachean Ethics\" → WORK_OF_ART (1.0)\n",
      "\n",
      "Can you send a reference for . “ Statistical Inference in Computer Age ? ” There are several books with similar titles .\n",
      "\n",
      "\" Learning how to learn \" course ( the corresponding book : \" A mind for numbers ...\") : evidenced based 101 on how to learn : the essence is ~ 12 points on what to do and the most important what not to do to learn something ( 100s references ) . https :// barbaraoakley.com You are learning almost all of the time on the \" knowledge \" job .\n",
      "Span[13:17]: \"A mind for numbers\" → WORK_OF_ART (0.9964)\n",
      "Span[21:22]: \"101\" → CARDINAL (1.0)\n",
      "Span[31:32]: \"12\" → CARDINAL (1.0)\n",
      "Span[49:50]: \"100s\" → CARDINAL (1.0)\n",
      "\n",
      "The best and most accessible book on theory is probably Reliable and Secure Distributed systems by Cachin , Guerrouai et al .\n",
      "Span[10:15]: \"Reliable and Secure Distributed systems\" → WORK_OF_ART (1.0)\n",
      "Span[16:17]: \"Cachin\" → PERSON (0.998)\n",
      "Span[18:21]: \"Guerrouai et al\" → ORG (0.8325)\n",
      "\n",
      "Nand2Tetris opened up a world for me . Searching for it on HN , I also found these books ( three of them new to me ) : * The Elements of Computing Systems [ 1 ] * Understanding Computation : From Simple Machines to Impossible Programs [ 2 ] * Computer Systems : A Programmer 's Perspective [ 3 ] * Code : The Hidden Language of Computer Hardware and Software [ 4 ] [ 1 ] https :// news.ycombinator.com / item ? id = 26036790 [ 2 ] https :// news.ycombinator.com / item ? id = 26040203 [ 3 ] https :// news.ycombinator.com / item ? id = 26040101 [ 4 ] https :// news.ycombinator.com / item ? id = 26038506\n",
      "Span[0:1]: \"Nand2Tetris\" → PRODUCT (0.7302)\n",
      "Span[20:21]: \"three\" → CARDINAL (1.0)\n",
      "Span[29:34]: \"The Elements of Computing Systems\" → WORK_OF_ART (1.0)\n",
      "Span[35:36]: \"1\" → CARDINAL (1.0)\n",
      "Span[38:47]: \"Understanding Computation : From Simple Machines to Impossible Programs\" → WORK_OF_ART (1.0)\n",
      "Span[48:49]: \"2\" → CARDINAL (1.0)\n",
      "Span[51:58]: \"Computer Systems : A Programmer 's Perspective\" → WORK_OF_ART (1.0)\n",
      "Span[59:60]: \"3\" → CARDINAL (1.0)\n",
      "Span[62:72]: \"Code : The Hidden Language of Computer Hardware and Software\" → WORK_OF_ART (1.0)\n",
      "Span[73:74]: \"4\" → CARDINAL (1.0)\n",
      "Span[88:89]: \"2\" → CARDINAL (0.999)\n",
      "Span[100:101]: \"3\" → CARDINAL (0.9991)\n",
      "Span[112:113]: \"4\" → CARDINAL (0.9945)\n",
      "\n",
      "Seek out distributed systems research papers from real-world practitioners . A quick search lead me to this nice collection : https :// dancres.github.io / Pages /\n",
      "\n",
      "When We Cease to Understand the World by Benjamín Labatut , translated from the Spanish by Adrian Nathan West https :// www.nyrb.com / products / when-we-cease-to-understand-the-world ? variant = 37890166784168\n",
      "Span[8:10]: \"Benjamín Labatut\" → PERSON (1.0)\n",
      "Span[14:15]: \"Spanish\" → LANGUAGE (0.9998)\n",
      "Span[16:19]: \"Adrian Nathan West\" → PERSON (1.0)\n",
      "\n"
     ]
    }
   ],
   "source": [
    "for sentence in sentences:\n",
    "    print(sentence.text)\n",
    "    for entity in sentence.get_spans('ner'):\n",
    "        print(entity)\n",
    "    print()"
   ]
  }
 ],
 "metadata": {
  "kernelspec": {
   "display_name": "Python 3 (ipykernel)",
   "language": "python",
   "name": "python3"
  },
  "language_info": {
   "codemirror_mode": {
    "name": "ipython",
    "version": 3
   },
   "file_extension": ".py",
   "mimetype": "text/x-python",
   "name": "python",
   "nbconvert_exporter": "python",
   "pygments_lexer": "ipython3",
   "version": "3.8.10"
  },
  "toc": {
   "base_numbering": 1,
   "nav_menu": {},
   "number_sections": true,
   "sideBar": true,
   "skip_h1_title": false,
   "title_cell": "Table of Contents",
   "title_sidebar": "Contents",
   "toc_cell": false,
   "toc_position": {},
   "toc_section_display": true,
   "toc_window_display": false
  }
 },
 "nbformat": 4,
 "nbformat_minor": 5
}
