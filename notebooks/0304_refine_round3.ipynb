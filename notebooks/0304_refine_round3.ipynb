{
 "cells": [
  {
   "cell_type": "markdown",
   "id": "33933dbb-a304-4cab-a850-ed0925712541",
   "metadata": {},
   "source": [
    "# Refine Round 3\n",
    "\n",
    "Now we've done a couple of rounds of annotation let's create a dataset to test accuracy."
   ]
  },
  {
   "cell_type": "code",
   "execution_count": 1,
   "id": "420c8379-9cd6-401c-9706-9f46fff8e221",
   "metadata": {},
   "outputs": [
    {
     "name": "stdout",
     "output_type": "stream",
     "text": [
      "/home/bookfinder\n"
     ]
    }
   ],
   "source": [
    "%cd .."
   ]
  },
  {
   "cell_type": "code",
   "execution_count": 2,
   "id": "d4e260a5-dcdb-4f75-9ca7-0c6d997853f1",
   "metadata": {},
   "outputs": [],
   "source": [
    "import numpy as np\n",
    "import pandas as pd\n",
    "\n",
    "from datasets import Dataset\n",
    "\n",
    "from sentence_transformers.losses import CosineSimilarityLoss\n",
    "\n",
    "from setfit import SetFitModel, SetFitTrainer\n",
    "\n",
    "from pathlib import Path"
   ]
  },
  {
   "cell_type": "markdown",
   "id": "d0dc15dc-426f-4dd2-ac41-48750e8b3aa3",
   "metadata": {},
   "source": [
    "# Train the model\n",
    "\n",
    "## Read in existing annotations"
   ]
  },
  {
   "cell_type": "code",
   "execution_count": 3,
   "id": "b912dbb5-196d-4b7a-9929-93424b3a9756",
   "metadata": {},
   "outputs": [
    {
     "data": {
      "text/plain": [
       "['hnbook_classify.jsonl', 'hnbook_binary_02.jsonl', 'hnbook_binary_03.jsonl']"
      ]
     },
     "execution_count": 3,
     "metadata": {},
     "output_type": "execute_result"
    }
   ],
   "source": [
    "dir_annotations = Path('data/00_annotations/03_book_binary/')\n",
    "\n",
    "[x.name for x in dir_annotations.glob('*.jsonl')]"
   ]
  },
  {
   "cell_type": "code",
   "execution_count": 4,
   "id": "2bad9080-4c98-455d-830f-3615410b1111",
   "metadata": {},
   "outputs": [],
   "source": [
    "df_in = pd.concat([\n",
    "    pd.read_json(path, lines=True)\n",
    "    for path in dir_annotations.glob('*.jsonl')])"
   ]
  },
  {
   "cell_type": "code",
   "execution_count": 5,
   "id": "985b95f2-1032-4cab-aed9-0778d1a41791",
   "metadata": {},
   "outputs": [
    {
     "data": {
      "text/plain": [
       "reject    312\n",
       "accept     60\n",
       "ignore     16\n",
       "Name: answer, dtype: int64"
      ]
     },
     "execution_count": 5,
     "metadata": {},
     "output_type": "execute_result"
    }
   ],
   "source": [
    "counts = df_in.answer.value_counts()\n",
    "counts"
   ]
  },
  {
   "cell_type": "markdown",
   "id": "b79d0d57-8b3d-4836-9891-23d9054d82dc",
   "metadata": {},
   "source": [
    "## Stratified Sample\n",
    "\n",
    "Create a 1:1 sample of reject and accept"
   ]
  },
  {
   "cell_type": "code",
   "execution_count": 6,
   "id": "2d3c1533-e493-42b7-ab98-4e21de9b2a03",
   "metadata": {},
   "outputs": [
    {
     "data": {
      "text/plain": [
       "60"
      ]
     },
     "execution_count": 6,
     "metadata": {},
     "output_type": "execute_result"
    }
   ],
   "source": [
    "n_sample = counts.loc[['reject', 'accept']].min()\n",
    "\n",
    "n_sample"
   ]
  },
  {
   "cell_type": "code",
   "execution_count": 7,
   "id": "eb17a14e-a146-4fc0-be07-4aaf5ae7b9a1",
   "metadata": {},
   "outputs": [
    {
     "data": {
      "text/plain": [
       "accept    60\n",
       "reject    60\n",
       "Name: answer, dtype: int64"
      ]
     },
     "execution_count": 7,
     "metadata": {},
     "output_type": "execute_result"
    }
   ],
   "source": [
    "df_train = (\n",
    "    df_in\n",
    "    .query('answer != \"ignore\"')\n",
    "    .groupby('answer', group_keys=False)\n",
    "    .apply(lambda x: x.sample(min(len(x), n_sample)))\n",
    ")\n",
    "\n",
    "df_train.answer.value_counts()"
   ]
  },
  {
   "cell_type": "markdown",
   "id": "ff31919d-3f3a-42dc-862c-48744aaa0057",
   "metadata": {},
   "source": [
    "## Train the model\n",
    "\n",
    "We'll use [SetFit](https://huggingface.co/blog/setfit) which is fast and good for few-shot text classification like this."
   ]
  },
  {
   "cell_type": "code",
   "execution_count": 8,
   "id": "cfcf04f6-97d6-48d8-9217-84e762b3dd7d",
   "metadata": {},
   "outputs": [
    {
     "data": {
      "text/plain": [
       "Dataset({\n",
       "    features: ['text', 'meta', '_input_hash', '_task_hash', 'label', '_view_id', 'answer', '_timestamp', '__index_level_0__'],\n",
       "    num_rows: 120\n",
       "})"
      ]
     },
     "execution_count": 8,
     "metadata": {},
     "output_type": "execute_result"
    }
   ],
   "source": [
    "train_dataset = Dataset.from_pandas(df_train)\n",
    "train_dataset"
   ]
  },
  {
   "cell_type": "markdown",
   "id": "a209e2ed-a409-4623-89ed-39cd8b50c001",
   "metadata": {},
   "source": [
    "Use `all-MiniLM-L6-v2` which is very fast, while still quite accurate (based on the SentenceTransformers [benchmarks](https://www.sbert.net/docs/pretrained_models.html))."
   ]
  },
  {
   "cell_type": "code",
   "execution_count": 9,
   "id": "c224e589-57a4-4ddf-b57f-06fae08c3432",
   "metadata": {},
   "outputs": [
    {
     "name": "stderr",
     "output_type": "stream",
     "text": [
      "model_head.pkl not found on HuggingFace Hub, initialising classification head with random weights. You should TRAIN this model on a downstream task to use it for predictions and inference.\n"
     ]
    }
   ],
   "source": [
    "model = SetFitModel.from_pretrained(\"sentence-transformers/all-MiniLM-L6-v2\")"
   ]
  },
  {
   "cell_type": "markdown",
   "id": "77098070-ee7a-492a-8f01-a5715530e8a8",
   "metadata": {},
   "source": [
    "We'll leave all these as their default"
   ]
  },
  {
   "cell_type": "code",
   "execution_count": 10,
   "id": "ae37002f-724c-444a-861f-6f0a011d15fe",
   "metadata": {},
   "outputs": [],
   "source": [
    "trainer = SetFitTrainer(\n",
    "    model=model,\n",
    "    train_dataset=train_dataset,\n",
    "    eval_dataset=None,\n",
    "    loss_class=CosineSimilarityLoss,\n",
    "    metric=\"accuracy\",\n",
    "    batch_size=16,\n",
    "    num_iterations=20, # The number of text pairs to generate for contrastive learning\n",
    "    num_epochs=1, # The number of epochs to use for constrastive learning\n",
    "    column_mapping={\"text\": \"text\", \"answer\": \"label\"} # Map dataset columns to text/label expected by trainer\n",
    "\n",
    ")"
   ]
  },
  {
   "cell_type": "code",
   "execution_count": 11,
   "id": "5c667ee0-87b2-4a41-be84-056566f01096",
   "metadata": {},
   "outputs": [
    {
     "name": "stderr",
     "output_type": "stream",
     "text": [
      "Applying column mapping to training dataset\n",
      "***** Running training *****\n",
      "  Num examples = 4800\n",
      "  Num epochs = 1\n",
      "  Total optimization steps = 300\n",
      "  Total train batch size = 16\n"
     ]
    },
    {
     "data": {
      "application/vnd.jupyter.widget-view+json": {
       "model_id": "f4778d5015bc4638a08284cd439aefe8",
       "version_major": 2,
       "version_minor": 0
      },
      "text/plain": [
       "Epoch:   0%|          | 0/1 [00:00<?, ?it/s]"
      ]
     },
     "metadata": {},
     "output_type": "display_data"
    },
    {
     "data": {
      "application/vnd.jupyter.widget-view+json": {
       "model_id": "6ef3f599b6c74d0eb0f6f90559a43e4e",
       "version_major": 2,
       "version_minor": 0
      },
      "text/plain": [
       "Iteration:   0%|          | 0/300 [00:00<?, ?it/s]"
      ]
     },
     "metadata": {},
     "output_type": "display_data"
    }
   ],
   "source": [
    "trainer.train()"
   ]
  },
  {
   "cell_type": "code",
   "execution_count": 12,
   "id": "12c94af2-0adf-40c3-807e-b2c769815eec",
   "metadata": {},
   "outputs": [],
   "source": [
    "model.save_pretrained('data/06_models/setfit_2')"
   ]
  },
  {
   "cell_type": "markdown",
   "id": "5bd0add5-f4d9-43dc-8d82-6507052fbfd2",
   "metadata": {},
   "source": [
    "# Predict\n",
    "\n",
    "Now let's evaluate our trained model on our data to evaluate.\n",
    "\n",
    "We'll use a bucket we haven't tried before, 3."
   ]
  },
  {
   "cell_type": "code",
   "execution_count": 13,
   "id": "9e740b1a-5ba5-4014-83ea-67c0c4c13f61",
   "metadata": {},
   "outputs": [
    {
     "data": {
      "text/plain": [
       "37049"
      ]
     },
     "execution_count": 13,
     "metadata": {},
     "output_type": "execute_result"
    }
   ],
   "source": [
    "df = (\n",
    "    pd.read_parquet('data/02_intermediate/hn_enriched.parquet')\n",
    "    .query('bucket==3 & text_length > 0')\n",
    ")\n",
    "\n",
    "len(df)"
   ]
  },
  {
   "cell_type": "code",
   "execution_count": 14,
   "id": "787d6836-cf98-4c65-8d63-c752c75bd78a",
   "metadata": {},
   "outputs": [],
   "source": [
    "text = df.clean_text.to_list()"
   ]
  },
  {
   "cell_type": "markdown",
   "id": "a36721e3-87cf-42a1-a7c1-5ad5a1463a90",
   "metadata": {},
   "source": [
    "Get the column corresponding to 'accept'"
   ]
  },
  {
   "cell_type": "code",
   "execution_count": 15,
   "id": "b173f566-d61f-40c7-a5f1-92946116fdd7",
   "metadata": {},
   "outputs": [
    {
     "data": {
      "text/plain": [
       "array(['accept', 'reject'], dtype='<U6')"
      ]
     },
     "execution_count": 15,
     "metadata": {},
     "output_type": "execute_result"
    }
   ],
   "source": [
    "model.model_head.classes_"
   ]
  },
  {
   "cell_type": "code",
   "execution_count": 16,
   "id": "bdd72bd4-e2d3-4ce2-8fe1-921a1886bb8e",
   "metadata": {},
   "outputs": [
    {
     "data": {
      "text/plain": [
       "0"
      ]
     },
     "execution_count": 16,
     "metadata": {},
     "output_type": "execute_result"
    }
   ],
   "source": [
    "accept_idx = list(model.model_head.classes_).index('accept')\n",
    "accept_idx"
   ]
  },
  {
   "cell_type": "markdown",
   "id": "6a6e6f81-3cca-4fe4-ba00-cbd002fd687c",
   "metadata": {},
   "source": [
    "Calculate the accept probabilities"
   ]
  },
  {
   "cell_type": "code",
   "execution_count": 17,
   "id": "672da089-0624-49d4-bf0c-1204c15e11e9",
   "metadata": {},
   "outputs": [
    {
     "name": "stdout",
     "output_type": "stream",
     "text": [
      "CPU times: user 48.4 s, sys: 2.73 s, total: 51.1 s\n",
      "Wall time: 26.6 s\n"
     ]
    }
   ],
   "source": [
    "%%time\n",
    "probs = model.predict_proba(text)[:,accept_idx]"
   ]
  },
  {
   "cell_type": "code",
   "execution_count": 18,
   "id": "bf590783-ca48-488a-b5b5-a07343c5e207",
   "metadata": {},
   "outputs": [],
   "source": [
    "df['prob'] = probs"
   ]
  },
  {
   "cell_type": "markdown",
   "id": "c7fc0d63-dfba-45bb-9426-8ea41a7d1135",
   "metadata": {},
   "source": [
    "## Check the results"
   ]
  },
  {
   "cell_type": "code",
   "execution_count": 19,
   "id": "f1df8a06-a38d-44df-879d-585efd7c417d",
   "metadata": {},
   "outputs": [],
   "source": [
    "pd.options.display.max_colwidth = 1000"
   ]
  },
  {
   "cell_type": "code",
   "execution_count": 20,
   "id": "4ad0d9a6-ff84-404f-8e0e-5c97ae3473c6",
   "metadata": {},
   "outputs": [
    {
     "data": {
      "text/html": [
       "<div>\n",
       "<style scoped>\n",
       "    .dataframe tbody tr th:only-of-type {\n",
       "        vertical-align: middle;\n",
       "    }\n",
       "\n",
       "    .dataframe tbody tr th {\n",
       "        vertical-align: top;\n",
       "    }\n",
       "\n",
       "    .dataframe thead th {\n",
       "        text-align: right;\n",
       "    }\n",
       "</style>\n",
       "<table border=\"1\" class=\"dataframe\">\n",
       "  <thead>\n",
       "    <tr style=\"text-align: right;\">\n",
       "      <th></th>\n",
       "      <th>clean_text</th>\n",
       "    </tr>\n",
       "    <tr>\n",
       "      <th>id</th>\n",
       "      <th></th>\n",
       "    </tr>\n",
       "  </thead>\n",
       "  <tbody>\n",
       "    <tr>\n",
       "      <th>28843194</th>\n",
       "      <td>For a good read on Lepanto and context, I recommend Empires of the Sea: The Siege of Malta, the Battle of Lepanto, and the Contest for the Center of the World: https://smile.amazon.com/Empires-Sea-Battle-Lepanto-Contest/dp/0812977645/ref=sr_1_4</td>\n",
       "    </tr>\n",
       "    <tr>\n",
       "      <th>27660098</th>\n",
       "      <td>&gt; 2) Elements of Information Theory by Joy Thomas and Thomas Cover is a thorough and engaging textbook.\\n\\nThomas &amp; Cover is THE textbook on information theory -- no doubt -- but you and I have very different definitions of engaging.\\n\\nFor a different kind of engaging, I would recommend Dave MacKay's \"Information Theory, Inference, and Learning Algorithms\", which can be found on his website:\\n\\nhttp://www.inference.org.uk/mackay/itila/book.html</td>\n",
       "    </tr>\n",
       "    <tr>\n",
       "      <th>29060561</th>\n",
       "      <td>This list is from my Steam library, however I haven't yet played all of them:\\n\\n   - Deponia  \\n   - The Detail\\n   - State of Mind\\n   - Black Mirror II\\n   - The Dark Eye: Chains of Satinav\\n   - Disturbed\\n   - Earthshine\\n   - Edge of Reality\\n   - Edna &amp; Harvey: Harvey's New Eyes\\n   - Fighting Fantasy Classics\\n   - The Forest of Doom\\n   - Jericho's Prophecies\\n   - Memoria\\n   - Mirt. Tales of the Cold Land\\n   - Scarlet Hollow - Episode 1\\n   - Agatha Christie - The ABC Murders\\n   - Life is Strange\\n   - Life is Strange: Before the Storm\\n   - The Lion's Song\\n   - Misadventures of Laura Silver\\n   - Omen Exitio: Plague\\n   - Syberia\\n   - Syberia II\\n   - Wonderlust</td>\n",
       "    </tr>\n",
       "    <tr>\n",
       "      <th>27643869</th>\n",
       "      <td>Written some 60 years ago, Information Theory and Coding by Abramson[1] is an absolute gem for those looking to get into info theory. The cover book [2] being the more complete resource (and somewhat of a grad level defacto standard text).\\n\\n[1] https://www.amazon.com/Information-Theory-Coding-Norman-Abramson/dp/B0000CHBOA\\n\\n[2]\\nhttps://www.amazon.com/Elements-Information-Theory-Telecommunications-Processing/dp/0471241954</td>\n",
       "    </tr>\n",
       "    <tr>\n",
       "      <th>29031635</th>\n",
       "      <td>Cf. 'The Myth of Mental Illness' by Thomas Szasz (1961): https://en.wikipedia.org/wiki/The_Myth_of_Mental_Illness</td>\n",
       "    </tr>\n",
       "    <tr>\n",
       "      <th>28631508</th>\n",
       "      <td>That's Adrian Carmack (no relation to John). He made most of the characters you see in the game out of clay before they were pixelated.\\n\\nCan't recommend Masters of Doom enough, the book that talks about the history of id Software. That all these guys came together in the same place is a miracle in itself.</td>\n",
       "    </tr>\n",
       "    <tr>\n",
       "      <th>27646808</th>\n",
       "      <td>Here is a list of books for those wishing to dig deeper:\\n\\n1) The Information by Gleick is a book covering everything from biographies of the key historical figures and contributors to contemporary applications of information theory in quantum mechanics.\\n\\n2) Elements of Information Theory by Joy Thomas and Thomas Cover is a thorough and engaging textbook.\\n\\n3) Quantum information and quantum computation by Nielsen and Chuang explaining both classical and quantum information with some practical examples.\\n\\n4) Entropy and Information by Volkenstein a Soviet popular science book with math-heavy examples from biology, chemistry and physics\\n\\nand as an aside I can also recommend \"Willful Ignorance: The Mismeasure of Uncertainty\" by Weisberg, which is an engaging history review of probability theory and its key inventors</td>\n",
       "    </tr>\n",
       "    <tr>\n",
       "      <th>27278092</th>\n",
       "      <td>Shameless plug but I put together some Jupyter notebooks that walk through several of the fantastic books recommended in this thread: https://github.com/khiner/notebooks\\n\\nI wanted to help myself and other folks develop better intuitions around the material, particularly focusing on short animations to develop better visual intuition along with working code examples of the material in the books.\\n\\nBooks covered (with a notebook for each chapter):\\n\\n* Musimathics volumes 1 &amp; 2 by Gareth Loy\\n\\n* Introduction to the DFT by Julius Smith\\n\\n* Introduction to Digital Filters by Julius Smith\\n\\n* Physical Audio Signal Processing by Julius Smith\\n\\nalso a couple not directly about audio but helpful for the domain:\\n\\n* Coding the Matrix by Philip Klein\\n\\n* Accelerated C++ by Andrew Koenig and Barbara Moo\\n\\nHope someone gets some value from these - have fun!</td>\n",
       "    </tr>\n",
       "    <tr>\n",
       "      <th>25709065</th>\n",
       "      <td>This reminded me about Kovrigin's chronicles, a story by Vadim Shefner that I read as a kid. It's somewhat musing on the soviet research atmosphere and all, but the background there was that a man invented a way to turn water into a special sort of ice which could be used as a universal unbreakable material, with a bold idea of building cities under the ocean because there is so much space on our planet.</td>\n",
       "    </tr>\n",
       "    <tr>\n",
       "      <th>25998716</th>\n",
       "      <td>There's a recent book about this, subtitled \"The Luddites Are Right About Why You Hate Your Job\": https://www.versobooks.com/books/3184-breaking-things-at-work\\n\\n&gt; In the nineteenth century, English textile workers responded to the introduction of new technologies on the factory floor by smashing them to bits. For years the Luddites roamed the English countryside, practicing drills and manoeuvres that they would later deploy on unsuspecting machines. The movement has been derided by scholars as a backwards-looking and ultimately ineffectual effort to stem the march of history; for Gavin Mueller, the movement gets at the heart of the antagonistic relationship between all workers, including us today, and the so-called progressive gains secured by new technologies. The luddites weren’t primitive and they are still a force, however unconsciously, in the workplaces of the twenty-first century world.</td>\n",
       "    </tr>\n",
       "  </tbody>\n",
       "</table>\n",
       "</div>"
      ],
      "text/plain": [
       "                                                                                                                                                                                                                                                                                                                                                                                                                                                                                                                                                                                                                                                                                                                                                                                                                                                                                                                                            clean_text\n",
       "id                                                                                                                                                                                                                                                                                                                                                                                                                                                                                                                                                                                                                                                                                                                                                                                                                                                                                                                                                    \n",
       "28843194                                                                                                                                                                                                                                                                                                                                                                                                                                                                                                                                                                                                                                                                                          For a good read on Lepanto and context, I recommend Empires of the Sea: The Siege of Malta, the Battle of Lepanto, and the Contest for the Center of the World: https://smile.amazon.com/Empires-Sea-Battle-Lepanto-Contest/dp/0812977645/ref=sr_1_4\n",
       "27660098                                                                                                                                                                                                                                                                                                                                                                                                                                                                             > 2) Elements of Information Theory by Joy Thomas and Thomas Cover is a thorough and engaging textbook.\\n\\nThomas & Cover is THE textbook on information theory -- no doubt -- but you and I have very different definitions of engaging.\\n\\nFor a different kind of engaging, I would recommend Dave MacKay's \"Information Theory, Inference, and Learning Algorithms\", which can be found on his website:\\n\\nhttp://www.inference.org.uk/mackay/itila/book.html\n",
       "29060561                                                                                                                                                                                                                                This list is from my Steam library, however I haven't yet played all of them:\\n\\n   - Deponia  \\n   - The Detail\\n   - State of Mind\\n   - Black Mirror II\\n   - The Dark Eye: Chains of Satinav\\n   - Disturbed\\n   - Earthshine\\n   - Edge of Reality\\n   - Edna & Harvey: Harvey's New Eyes\\n   - Fighting Fantasy Classics\\n   - The Forest of Doom\\n   - Jericho's Prophecies\\n   - Memoria\\n   - Mirt. Tales of the Cold Land\\n   - Scarlet Hollow - Episode 1\\n   - Agatha Christie - The ABC Murders\\n   - Life is Strange\\n   - Life is Strange: Before the Storm\\n   - The Lion's Song\\n   - Misadventures of Laura Silver\\n   - Omen Exitio: Plague\\n   - Syberia\\n   - Syberia II\\n   - Wonderlust\n",
       "27643869                                                                                                                                                                                                                                                                                                                                                                                                                                                                                                  Written some 60 years ago, Information Theory and Coding by Abramson[1] is an absolute gem for those looking to get into info theory. The cover book [2] being the more complete resource (and somewhat of a grad level defacto standard text).\\n\\n[1] https://www.amazon.com/Information-Theory-Coding-Norman-Abramson/dp/B0000CHBOA\\n\\n[2]\\nhttps://www.amazon.com/Elements-Information-Theory-Telecommunications-Processing/dp/0471241954\n",
       "29031635                                                                                                                                                                                                                                                                                                                                                                                                                                                                                                                                                                                                                                                                                                                                                                                                                             Cf. 'The Myth of Mental Illness' by Thomas Szasz (1961): https://en.wikipedia.org/wiki/The_Myth_of_Mental_Illness\n",
       "28631508                                                                                                                                                                                                                                                                                                                                                                                                                                                                                                                                                                                                                          That's Adrian Carmack (no relation to John). He made most of the characters you see in the game out of clay before they were pixelated.\\n\\nCan't recommend Masters of Doom enough, the book that talks about the history of id Software. That all these guys came together in the same place is a miracle in itself.\n",
       "27646808                                                                              Here is a list of books for those wishing to dig deeper:\\n\\n1) The Information by Gleick is a book covering everything from biographies of the key historical figures and contributors to contemporary applications of information theory in quantum mechanics.\\n\\n2) Elements of Information Theory by Joy Thomas and Thomas Cover is a thorough and engaging textbook.\\n\\n3) Quantum information and quantum computation by Nielsen and Chuang explaining both classical and quantum information with some practical examples.\\n\\n4) Entropy and Information by Volkenstein a Soviet popular science book with math-heavy examples from biology, chemistry and physics\\n\\nand as an aside I can also recommend \"Willful Ignorance: The Mismeasure of Uncertainty\" by Weisberg, which is an engaging history review of probability theory and its key inventors\n",
       "27278092                                           Shameless plug but I put together some Jupyter notebooks that walk through several of the fantastic books recommended in this thread: https://github.com/khiner/notebooks\\n\\nI wanted to help myself and other folks develop better intuitions around the material, particularly focusing on short animations to develop better visual intuition along with working code examples of the material in the books.\\n\\nBooks covered (with a notebook for each chapter):\\n\\n* Musimathics volumes 1 & 2 by Gareth Loy\\n\\n* Introduction to the DFT by Julius Smith\\n\\n* Introduction to Digital Filters by Julius Smith\\n\\n* Physical Audio Signal Processing by Julius Smith\\n\\nalso a couple not directly about audio but helpful for the domain:\\n\\n* Coding the Matrix by Philip Klein\\n\\n* Accelerated C++ by Andrew Koenig and Barbara Moo\\n\\nHope someone gets some value from these - have fun!\n",
       "25709065                                                                                                                                                                                                                                                                                                                                                                                                                                                                                                                       This reminded me about Kovrigin's chronicles, a story by Vadim Shefner that I read as a kid. It's somewhat musing on the soviet research atmosphere and all, but the background there was that a man invented a way to turn water into a special sort of ice which could be used as a universal unbreakable material, with a bold idea of building cities under the ocean because there is so much space on our planet.\n",
       "25998716  There's a recent book about this, subtitled \"The Luddites Are Right About Why You Hate Your Job\": https://www.versobooks.com/books/3184-breaking-things-at-work\\n\\n> In the nineteenth century, English textile workers responded to the introduction of new technologies on the factory floor by smashing them to bits. For years the Luddites roamed the English countryside, practicing drills and manoeuvres that they would later deploy on unsuspecting machines. The movement has been derided by scholars as a backwards-looking and ultimately ineffectual effort to stem the march of history; for Gavin Mueller, the movement gets at the heart of the antagonistic relationship between all workers, including us today, and the so-called progressive gains secured by new technologies. The luddites weren’t primitive and they are still a force, however unconsciously, in the workplaces of the twenty-first century world."
      ]
     },
     "execution_count": 20,
     "metadata": {},
     "output_type": "execute_result"
    }
   ],
   "source": [
    "df.sort_values('prob', ascending=False)[['clean_text']][:10]"
   ]
  },
  {
   "cell_type": "markdown",
   "id": "755474fb-f1d9-4ae4-af71-ab7e48a8f6b0",
   "metadata": {},
   "source": [
    "# Stratified sample for annotation.\n",
    "\n",
    "We want to get some interesting examples to annotate.\n",
    "\n",
    "If we pick at random, most won't have titles of books or works of art.\n",
    "Instead sample equally from each decile to get a mixture of positives, negatives and borderline cases."
   ]
  },
  {
   "cell_type": "code",
   "execution_count": 21,
   "id": "bc9f03dc-08ac-4998-8ed2-5da237ab2ed9",
   "metadata": {},
   "outputs": [
    {
     "data": {
      "text/plain": [
       "<AxesSubplot: >"
      ]
     },
     "execution_count": 21,
     "metadata": {},
     "output_type": "execute_result"
    },
    {
     "data": {
      "image/png": "[encoded data removed]",
      "text/plain": [
       "<Figure size 640x480 with 1 Axes>"
      ]
     },
     "metadata": {},
     "output_type": "display_data"
    }
   ],
   "source": [
    "df['prob'].hist(bins=20, log=True)"
   ]
  },
  {
   "cell_type": "code",
   "execution_count": 22,
   "id": "4317b787-37d7-41e7-b860-dd59a290a7fa",
   "metadata": {},
   "outputs": [],
   "source": [
    "df['bucket'] = (df['prob']*10).astype(int)"
   ]
  },
  {
   "cell_type": "code",
   "execution_count": 23,
   "id": "d1b39df3-5932-4781-adb8-c3c1afca7c3b",
   "metadata": {},
   "outputs": [],
   "source": [
    "n_sample = 20"
   ]
  },
  {
   "cell_type": "code",
   "execution_count": 26,
   "id": "1287972f-2123-4b90-855f-2e3e905a570b",
   "metadata": {},
   "outputs": [],
   "source": [
    "df_out = (\n",
    "    df\n",
    "    .groupby('bucket', group_keys=False)\n",
    "    .apply(lambda x: x.sample(min(len(x), n_sample)))\n",
    "    .sample(frac=1)\n",
    ")"
   ]
  },
  {
   "cell_type": "code",
   "execution_count": 27,
   "id": "be89ec90-db57-4af9-bcc8-709ca79e4684",
   "metadata": {},
   "outputs": [
    {
     "data": {
      "text/plain": [
       "200"
      ]
     },
     "execution_count": 27,
     "metadata": {},
     "output_type": "execute_result"
    }
   ],
   "source": [
    "len(df_out)"
   ]
  },
  {
   "cell_type": "code",
   "execution_count": 28,
   "id": "5ec834b1-e128-47a8-92c3-a57ccde3467e",
   "metadata": {},
   "outputs": [
    {
     "data": {
      "text/plain": [
       "2    20\n",
       "6    20\n",
       "3    20\n",
       "8    20\n",
       "5    20\n",
       "7    20\n",
       "1    20\n",
       "9    20\n",
       "4    20\n",
       "0    20\n",
       "Name: bucket, dtype: int64"
      ]
     },
     "execution_count": 28,
     "metadata": {},
     "output_type": "execute_result"
    }
   ],
   "source": [
    "df_out.bucket.value_counts()"
   ]
  },
  {
   "cell_type": "markdown",
   "id": "4375eaed-357d-4792-bccd-b9d025d4d5b7",
   "metadata": {},
   "source": [
    "Save to JSON"
   ]
  },
  {
   "cell_type": "code",
   "execution_count": 29,
   "id": "aefc52a6-75d9-4d98-95eb-e19e6d4b7d2a",
   "metadata": {},
   "outputs": [
    {
     "data": {
      "text/html": [
       "<div>\n",
       "<style scoped>\n",
       "    .dataframe tbody tr th:only-of-type {\n",
       "        vertical-align: middle;\n",
       "    }\n",
       "\n",
       "    .dataframe tbody tr th {\n",
       "        vertical-align: top;\n",
       "    }\n",
       "\n",
       "    .dataframe thead th {\n",
       "        text-align: right;\n",
       "    }\n",
       "</style>\n",
       "<table border=\"1\" class=\"dataframe\">\n",
       "  <thead>\n",
       "    <tr style=\"text-align: right;\">\n",
       "      <th></th>\n",
       "      <th>title</th>\n",
       "      <th>url</th>\n",
       "      <th>text</th>\n",
       "      <th>dead</th>\n",
       "      <th>by</th>\n",
       "      <th>score</th>\n",
       "      <th>time</th>\n",
       "      <th>timestamp</th>\n",
       "      <th>type</th>\n",
       "      <th>parent</th>\n",
       "      <th>descendants</th>\n",
       "      <th>ranking</th>\n",
       "      <th>deleted</th>\n",
       "      <th>root</th>\n",
       "      <th>clean_text</th>\n",
       "      <th>bucket</th>\n",
       "      <th>text_length</th>\n",
       "      <th>prob</th>\n",
       "    </tr>\n",
       "    <tr>\n",
       "      <th>id</th>\n",
       "      <th></th>\n",
       "      <th></th>\n",
       "      <th></th>\n",
       "      <th></th>\n",
       "      <th></th>\n",
       "      <th></th>\n",
       "      <th></th>\n",
       "      <th></th>\n",
       "      <th></th>\n",
       "      <th></th>\n",
       "      <th></th>\n",
       "      <th></th>\n",
       "      <th></th>\n",
       "      <th></th>\n",
       "      <th></th>\n",
       "      <th></th>\n",
       "      <th></th>\n",
       "      <th></th>\n",
       "    </tr>\n",
       "  </thead>\n",
       "  <tbody>\n",
       "    <tr>\n",
       "      <th>27783556</th>\n",
       "      <td>None</td>\n",
       "      <td>None</td>\n",
       "      <td>&amp;gt; I terms of providing value to the world at large they should have gone with Wozniak.&lt;p&gt;As a personality, I like Wozniak more.  If I ever had a chance to meet Jobs and Wozniak in person, I suspect that I would find Wozniak to be a much better person than Jobs.  That being said, I think that Jobs provided much more value to the world.&lt;p&gt;Wozniak&amp;#x27;s chief contribution to the world is the Apple II.  It is a wonderful computer with fun stories behind its development, but the computer industry would have gone on without it.  Apple&amp;#x27;s early years are culturally significant since it was one of the few success stories that wasn&amp;#x27;t corporate (in contrast to the Commodore PET and Tandy TRS-80), but that story is probably the most significant part about the company.&lt;p&gt;Contrast that to Jobs.  As a minimum, the Apple II and Macintosh can be contributed to him.  Without his drive, the Apple II would likely be remembered as one of the multitude of personal computers that didn&amp;#x27;...</td>\n",
       "      <td>None</td>\n",
       "      <td>II2II</td>\n",
       "      <td>NaN</td>\n",
       "      <td>1625838141</td>\n",
       "      <td>2021-07-09 13:42:21+00:00</td>\n",
       "      <td>comment</td>\n",
       "      <td>27781653</td>\n",
       "      <td>NaN</td>\n",
       "      <td>NaN</td>\n",
       "      <td>None</td>\n",
       "      <td>27779907</td>\n",
       "      <td>&gt; I terms of providing value to the world at large they should have gone with Wozniak.\\n\\nAs a personality, I like Wozniak more.  If I ever had a chance to meet Jobs and Wozniak in person, I suspect that I would find Wozniak to be a much better person than Jobs.  That being said, I think that Jobs provided much more value to the world.\\n\\nWozniak's chief contribution to the world is the Apple II.  It is a wonderful computer with fun stories behind its development, but the computer industry would have gone on without it.  Apple's early years are culturally significant since it was one of the few success stories that wasn't corporate (in contrast to the Commodore PET and Tandy TRS-80), but that story is probably the most significant part about the company.\\n\\nContrast that to Jobs.  As a minimum, the Apple II and Macintosh can be contributed to him.  Without his drive, the Apple II would likely be remembered as one of the multitude of personal computers that didn't make it in the mar...</td>\n",
       "      <td>2</td>\n",
       "      <td>1550</td>\n",
       "      <td>0.260213</td>\n",
       "    </tr>\n",
       "    <tr>\n",
       "      <th>27915310</th>\n",
       "      <td>None</td>\n",
       "      <td>None</td>\n",
       "      <td>From 2014.  A classic.</td>\n",
       "      <td>None</td>\n",
       "      <td>emmelaich</td>\n",
       "      <td>NaN</td>\n",
       "      <td>1626927690</td>\n",
       "      <td>2021-07-22 04:21:30+00:00</td>\n",
       "      <td>comment</td>\n",
       "      <td>27915173</td>\n",
       "      <td>NaN</td>\n",
       "      <td>NaN</td>\n",
       "      <td>None</td>\n",
       "      <td>27915173</td>\n",
       "      <td>From 2014.  A classic.</td>\n",
       "      <td>2</td>\n",
       "      <td>22</td>\n",
       "      <td>0.210275</td>\n",
       "    </tr>\n",
       "    <tr>\n",
       "      <th>29058228</th>\n",
       "      <td>None</td>\n",
       "      <td>None</td>\n",
       "      <td>I would add that there is a trade-off in games between agency and a good story.&lt;p&gt;The more effort you make to integrate player actions, the less resources you have to make a compelling story. In the most obvious case: story branching, you have double the work for each branch, some of them may be hard to make interesting.&lt;p&gt;Some Japanese visual novels may have great stories, but they are games in name only. For example the &amp;quot;when they cry&amp;quot; series are literally visual novels (or sound novels as they like to call them), there are zero gameplay elements, and no branching, you are basically reading a book with a few illustrations and (very good) background music.&lt;p&gt;On the other side, some games focus so much on action that the only goal of the story is to tell you who the bad guys are and not get in the way of shooting them.</td>\n",
       "      <td>None</td>\n",
       "      <td>GuB-42</td>\n",
       "      <td>NaN</td>\n",
       "      <td>1635698430</td>\n",
       "      <td>2021-10-31 16:40:30+00:00</td>\n",
       "      <td>comment</td>\n",
       "      <td>29056751</td>\n",
       "      <td>NaN</td>\n",
       "      <td>NaN</td>\n",
       "      <td>None</td>\n",
       "      <td>29055167</td>\n",
       "      <td>I would add that there is a trade-off in games between agency and a good story.\\n\\nThe more effort you make to integrate player actions, the less resources you have to make a compelling story. In the most obvious case: story branching, you have double the work for each branch, some of them may be hard to make interesting.\\n\\nSome Japanese visual novels may have great stories, but they are games in name only. For example the \"when they cry\" series are literally visual novels (or sound novels as they like to call them), there are zero gameplay elements, and no branching, you are basically reading a book with a few illustrations and (very good) background music.\\n\\nOn the other side, some games focus so much on action that the only goal of the story is to tell you who the bad guys are and not get in the way of shooting them.</td>\n",
       "      <td>2</td>\n",
       "      <td>827</td>\n",
       "      <td>0.201436</td>\n",
       "    </tr>\n",
       "    <tr>\n",
       "      <th>25996400</th>\n",
       "      <td>None</td>\n",
       "      <td>None</td>\n",
       "      <td>Reading the 3 categories the judge put together, I&amp;#x27;d have to say that the win does go to Sales.\\nEconomic Collapse: Kelly, the &amp;quot;economy&amp;quot; is doing just fine if you&amp;#x27;re in an upper percentile. For most people the economy is not working for them. \\nGlobal Environmental Disaster: Sales, many signs point to more chaotic and worse environmental conditions to come.\\nThe War Between Rich and Poor: Much like question one this one is occurring, and it&amp;#x27;s getting worse not better. Economic inequality has increased and the trend is increasing.&lt;p&gt;Sale is correct on many points, his timeline just isn&amp;#x27;t accurate.</td>\n",
       "      <td>None</td>\n",
       "      <td>helios_invictus</td>\n",
       "      <td>NaN</td>\n",
       "      <td>1612228499</td>\n",
       "      <td>2021-02-02 01:14:59+00:00</td>\n",
       "      <td>comment</td>\n",
       "      <td>25995839</td>\n",
       "      <td>NaN</td>\n",
       "      <td>NaN</td>\n",
       "      <td>None</td>\n",
       "      <td>25995839</td>\n",
       "      <td>Reading the 3 categories the judge put together, I'd have to say that the win does go to Sales.\\nEconomic Collapse: Kelly, the \"economy\" is doing just fine if you're in an upper percentile. For most people the economy is not working for them. \\nGlobal Environmental Disaster: Sales, many signs point to more chaotic and worse environmental conditions to come.\\nThe War Between Rich and Poor: Much like question one this one is occurring, and it's getting worse not better. Economic inequality has increased and the trend is increasing.\\n\\nSale is correct on many points, his timeline just isn't accurate.</td>\n",
       "      <td>6</td>\n",
       "      <td>599</td>\n",
       "      <td>0.632479</td>\n",
       "    </tr>\n",
       "    <tr>\n",
       "      <th>28182742</th>\n",
       "      <td>None</td>\n",
       "      <td>None</td>\n",
       "      <td>In the US, we can look back at 1975-2000 as a period when nothing really bad happened. 1900-1950 was far worse.&lt;p&gt;&amp;quot;There’s a big tradition on the left ... insisting that building a zero-carbon future requires the adoption of radical anti-capitalist politics. But it’s completely absurd.&amp;quot; Yes. We&amp;#x27;re in a good position on energy. As the fossil fuel sources are running out, we now have good alternatives. That wasn&amp;#x27;t true 20 years ago. 20 years ago, solar panels cost too much, and wind turbines were not big enough.&lt;p&gt;2022 will probably be the year that perception of this turns around in the US. That&amp;#x27;s when all the good electric work vehicles ship. The electric Ford F-150, the electric Ford Transit, and the big electric Freightliner trucks are all starting volume production. A year from now, most American blue-collar workers will have ridden in an electric vehicle at least once.</td>\n",
       "      <td>None</td>\n",
       "      <td>Animats</td>\n",
       "      <td>NaN</td>\n",
       "      <td>1628964445</td>\n",
       "      <td>2021-08-14 18:07:25+00:00</td>\n",
       "      <td>comment</td>\n",
       "      <td>28168777</td>\n",
       "      <td>NaN</td>\n",
       "      <td>NaN</td>\n",
       "      <td>None</td>\n",
       "      <td>28168777</td>\n",
       "      <td>In the US, we can look back at 1975-2000 as a period when nothing really bad happened. 1900-1950 was far worse.\\n\\n\"There’s a big tradition on the left ... insisting that building a zero-carbon future requires the adoption of radical anti-capitalist politics. But it’s completely absurd.\" Yes. We're in a good position on energy. As the fossil fuel sources are running out, we now have good alternatives. That wasn't true 20 years ago. 20 years ago, solar panels cost too much, and wind turbines were not big enough.\\n\\n2022 will probably be the year that perception of this turns around in the US. That's when all the good electric work vehicles ship. The electric Ford F-150, the electric Ford Transit, and the big electric Freightliner trucks are all starting volume production. A year from now, most American blue-collar workers will have ridden in an electric vehicle at least once.</td>\n",
       "      <td>3</td>\n",
       "      <td>883</td>\n",
       "      <td>0.340506</td>\n",
       "    </tr>\n",
       "    <tr>\n",
       "      <th>...</th>\n",
       "      <td>...</td>\n",
       "      <td>...</td>\n",
       "      <td>...</td>\n",
       "      <td>...</td>\n",
       "      <td>...</td>\n",
       "      <td>...</td>\n",
       "      <td>...</td>\n",
       "      <td>...</td>\n",
       "      <td>...</td>\n",
       "      <td>...</td>\n",
       "      <td>...</td>\n",
       "      <td>...</td>\n",
       "      <td>...</td>\n",
       "      <td>...</td>\n",
       "      <td>...</td>\n",
       "      <td>...</td>\n",
       "      <td>...</td>\n",
       "      <td>...</td>\n",
       "    </tr>\n",
       "    <tr>\n",
       "      <th>25741321</th>\n",
       "      <td>None</td>\n",
       "      <td>None</td>\n",
       "      <td>Sounds like you might be interested in the IndieWeb project: &lt;a href=\"https:&amp;#x2F;&amp;#x2F;indieweb.org&amp;#x2F;\" rel=\"nofollow\"&gt;https:&amp;#x2F;&amp;#x2F;indieweb.org&amp;#x2F;&lt;/a&gt;</td>\n",
       "      <td>None</td>\n",
       "      <td>icy</td>\n",
       "      <td>NaN</td>\n",
       "      <td>1610416950</td>\n",
       "      <td>2021-01-12 02:02:30+00:00</td>\n",
       "      <td>comment</td>\n",
       "      <td>25741237</td>\n",
       "      <td>NaN</td>\n",
       "      <td>NaN</td>\n",
       "      <td>None</td>\n",
       "      <td>25731419</td>\n",
       "      <td>Sounds like you might be interested in the IndieWeb project: https://indieweb.org/</td>\n",
       "      <td>1</td>\n",
       "      <td>82</td>\n",
       "      <td>0.164963</td>\n",
       "    </tr>\n",
       "    <tr>\n",
       "      <th>29315060</th>\n",
       "      <td>None</td>\n",
       "      <td>None</td>\n",
       "      <td>Fair criticism. I&amp;#x27;m the author, and I hate using interfaces like this, but didn&amp;#x27;t comment on it probably because I got used to it for this kind of thing.&lt;p&gt;The only reason why I defined inventory.DB (&lt;a href=\"https:&amp;#x2F;&amp;#x2F;github.com&amp;#x2F;henvic&amp;#x2F;pgxtutorial&amp;#x2F;blob&amp;#x2F;main&amp;#x2F;internal&amp;#x2F;inventory&amp;#x2F;service.go#L18-L50\" rel=\"nofollow\"&gt;https:&amp;#x2F;&amp;#x2F;github.com&amp;#x2F;henvic&amp;#x2F;pgxtutorial&amp;#x2F;blob&amp;#x2F;main&amp;#x2F;internal&amp;#x2F;inv...&lt;/a&gt;) is to be able to test. Otherwise, I&amp;#x27;d have skipped it.&lt;p&gt;I haven&amp;#x27;t read your article yet, but will do so later and get back to this subject and tell my opinion by the end of the day (on vacation, and need to hurry to catch the train!).</td>\n",
       "      <td>None</td>\n",
       "      <td>henvic</td>\n",
       "      <td>NaN</td>\n",
       "      <td>1637648268</td>\n",
       "      <td>2021-11-23 06:17:48+00:00</td>\n",
       "      <td>comment</td>\n",
       "      <td>29314941</td>\n",
       "      <td>NaN</td>\n",
       "      <td>NaN</td>\n",
       "      <td>None</td>\n",
       "      <td>29311632</td>\n",
       "      <td>Fair criticism. I'm the author, and I hate using interfaces like this, but didn't comment on it probably because I got used to it for this kind of thing.\\n\\nThe only reason why I defined inventory.DB (https://github.com/henvic/pgxtutorial/blob/main/internal/inventory/service.go#L18-L50) is to be able to test. Otherwise, I'd have skipped it.\\n\\nI haven't read your article yet, but will do so later and get back to this subject and tell my opinion by the end of the day (on vacation, and need to hurry to catch the train!).</td>\n",
       "      <td>3</td>\n",
       "      <td>520</td>\n",
       "      <td>0.363639</td>\n",
       "    </tr>\n",
       "    <tr>\n",
       "      <th>26074398</th>\n",
       "      <td>None</td>\n",
       "      <td>None</td>\n",
       "      <td>It&amp;#x27;s highly relevant from a perspective of philosophical and scientific curiosity, and mostly (seemingly) irrelevant from a perspective of practical impact on our lives.&lt;p&gt;I&amp;#x27;m also cautious to jump to such conclusions given how nascent we are technologically, even though the light speed barrier does seem absolute. Our recent ancestors probably would&amp;#x27;ve thought a similar thing about life orbiting a nearby star, and it&amp;#x27;s only with the hindsight of recent advances that we&amp;#x27;re able to conclude that that&amp;#x27;s not as far out of our reach as once believed. Who knows what one million years of additional technological advances will make us capable of?</td>\n",
       "      <td>None</td>\n",
       "      <td>hntrader</td>\n",
       "      <td>NaN</td>\n",
       "      <td>1612850797</td>\n",
       "      <td>2021-02-09 06:06:37+00:00</td>\n",
       "      <td>comment</td>\n",
       "      <td>26072100</td>\n",
       "      <td>NaN</td>\n",
       "      <td>NaN</td>\n",
       "      <td>None</td>\n",
       "      <td>26067326</td>\n",
       "      <td>It's highly relevant from a perspective of philosophical and scientific curiosity, and mostly (seemingly) irrelevant from a perspective of practical impact on our lives.\\n\\nI'm also cautious to jump to such conclusions given how nascent we are technologically, even though the light speed barrier does seem absolute. Our recent ancestors probably would've thought a similar thing about life orbiting a nearby star, and it's only with the hindsight of recent advances that we're able to conclude that that's not as far out of our reach as once believed. Who knows what one million years of additional technological advances will make us capable of?</td>\n",
       "      <td>4</td>\n",
       "      <td>645</td>\n",
       "      <td>0.448213</td>\n",
       "    </tr>\n",
       "    <tr>\n",
       "      <th>29056377</th>\n",
       "      <td>None</td>\n",
       "      <td>None</td>\n",
       "      <td>&amp;gt;I’m going to get skewered for saying this … but the story feels like it’s pandering to current social political trends - i.e. the obsession with diversity&lt;p&gt;How so? I didn&amp;#x27;t get that feeling at all from Horizon Zero Dawn.&lt;p&gt;If someone told me HZD had an obsession with diversity I&amp;#x27;d react with a standard &amp;quot;wat?&amp;quot;. I do agree that some of the forced diversity in modern stories is annoying, mind you. I just didn&amp;#x27;t get that vibe from that one story.</td>\n",
       "      <td>None</td>\n",
       "      <td>dudeman13</td>\n",
       "      <td>NaN</td>\n",
       "      <td>1635681726</td>\n",
       "      <td>2021-10-31 12:02:06+00:00</td>\n",
       "      <td>comment</td>\n",
       "      <td>29055701</td>\n",
       "      <td>NaN</td>\n",
       "      <td>NaN</td>\n",
       "      <td>None</td>\n",
       "      <td>29055167</td>\n",
       "      <td>&gt;I’m going to get skewered for saying this … but the story feels like it’s pandering to current social political trends - i.e. the obsession with diversity\\n\\nHow so? I didn't get that feeling at all from Horizon Zero Dawn.\\n\\nIf someone told me HZD had an obsession with diversity I'd react with a standard \"wat?\". I do agree that some of the forced diversity in modern stories is annoying, mind you. I just didn't get that vibe from that one story.</td>\n",
       "      <td>4</td>\n",
       "      <td>446</td>\n",
       "      <td>0.418401</td>\n",
       "    </tr>\n",
       "    <tr>\n",
       "      <th>29219034</th>\n",
       "      <td>None</td>\n",
       "      <td>None</td>\n",
       "      <td>You&amp;#x27;re right on two accounts:\\n- Google gets paid no matter who pays, so they don&amp;#x27;t care\\n- Tinder still gets the revenue (and at better margins bc they&amp;#x27;re not actually have to pay for that user anymore - Apple is paying)&lt;p&gt;And even your last point is not wrong: at some point Apple may stop doing this. But that could be year&amp;#x27;s away, and in the meantime, they&amp;#x27;re throwing their big stack around to make it too costly for developers - who Apple supposedly partners with - to build businesses that are less dependent on Apple’s whims. Plus, Apple uses the fact that most subscribers to app store products subscribe on the app store itself to bolster their case with regulators that no reform is needed bc consumers are overwhelmingly happy to use Apple’s IAP systems. But if Apple is putting it&amp;#x27;s finger on the scales in order to actively drive users away from web subscriptions, then they heavily misleading these regulators about the true “choices” consumers are ma...</td>\n",
       "      <td>None</td>\n",
       "      <td>offtotheraces</td>\n",
       "      <td>NaN</td>\n",
       "      <td>1636912923</td>\n",
       "      <td>2021-11-14 18:02:03+00:00</td>\n",
       "      <td>comment</td>\n",
       "      <td>29218763</td>\n",
       "      <td>NaN</td>\n",
       "      <td>NaN</td>\n",
       "      <td>None</td>\n",
       "      <td>29217277</td>\n",
       "      <td>You're right on two accounts:\\n- Google gets paid no matter who pays, so they don't care\\n- Tinder still gets the revenue (and at better margins bc they're not actually have to pay for that user anymore - Apple is paying)\\n\\nAnd even your last point is not wrong: at some point Apple may stop doing this. But that could be year's away, and in the meantime, they're throwing their big stack around to make it too costly for developers - who Apple supposedly partners with - to build businesses that are less dependent on Apple’s whims. Plus, Apple uses the fact that most subscribers to app store products subscribe on the app store itself to bolster their case with regulators that no reform is needed bc consumers are overwhelmingly happy to use Apple’s IAP systems. But if Apple is putting it's finger on the scales in order to actively drive users away from web subscriptions, then they heavily misleading these regulators about the true “choices” consumers are making.</td>\n",
       "      <td>0</td>\n",
       "      <td>968</td>\n",
       "      <td>0.045453</td>\n",
       "    </tr>\n",
       "  </tbody>\n",
       "</table>\n",
       "<p>200 rows × 18 columns</p>\n",
       "</div>"
      ],
      "text/plain": [
       "         title   url  \\\n",
       "id                     \n",
       "27783556  None  None   \n",
       "27915310  None  None   \n",
       "29058228  None  None   \n",
       "25996400  None  None   \n",
       "28182742  None  None   \n",
       "...        ...   ...   \n",
       "25741321  None  None   \n",
       "29315060  None  None   \n",
       "26074398  None  None   \n",
       "29056377  None  None   \n",
       "29219034  None  None   \n",
       "\n",
       "                                                                                                                                                                                                                                                                                                                                                                                                                                                                                                                                                                                                                                                                                                                                                                                                                                                                                                                                                                                                                                             text  \\\n",
       "id                                                                                                                                                                                                                                                                                                                                                                                                                                                                                                                                                                                                                                                                                                                                                                                                                                                                                                                                                                                                                                                  \n",
       "27783556  &gt; I terms of providing value to the world at large they should have gone with Wozniak.<p>As a personality, I like Wozniak more.  If I ever had a chance to meet Jobs and Wozniak in person, I suspect that I would find Wozniak to be a much better person than Jobs.  That being said, I think that Jobs provided much more value to the world.<p>Wozniak&#x27;s chief contribution to the world is the Apple II.  It is a wonderful computer with fun stories behind its development, but the computer industry would have gone on without it.  Apple&#x27;s early years are culturally significant since it was one of the few success stories that wasn&#x27;t corporate (in contrast to the Commodore PET and Tandy TRS-80), but that story is probably the most significant part about the company.<p>Contrast that to Jobs.  As a minimum, the Apple II and Macintosh can be contributed to him.  Without his drive, the Apple II would likely be remembered as one of the multitude of personal computers that didn&#x27;...   \n",
       "27915310                                                                                                                                                                                                                                                                                                                                                                                                                                                                                                                                                                                                                                                                                                                                                                                                                                                                                                                                                                                                                   From 2014.  A classic.   \n",
       "29058228                                                                                                                                                                 I would add that there is a trade-off in games between agency and a good story.<p>The more effort you make to integrate player actions, the less resources you have to make a compelling story. In the most obvious case: story branching, you have double the work for each branch, some of them may be hard to make interesting.<p>Some Japanese visual novels may have great stories, but they are games in name only. For example the &quot;when they cry&quot; series are literally visual novels (or sound novels as they like to call them), there are zero gameplay elements, and no branching, you are basically reading a book with a few illustrations and (very good) background music.<p>On the other side, some games focus so much on action that the only goal of the story is to tell you who the bad guys are and not get in the way of shooting them.   \n",
       "25996400                                                                                                                                                                                                                                                                                                                                                                                Reading the 3 categories the judge put together, I&#x27;d have to say that the win does go to Sales.\\nEconomic Collapse: Kelly, the &quot;economy&quot; is doing just fine if you&#x27;re in an upper percentile. For most people the economy is not working for them. \\nGlobal Environmental Disaster: Sales, many signs point to more chaotic and worse environmental conditions to come.\\nThe War Between Rich and Poor: Much like question one this one is occurring, and it&#x27;s getting worse not better. Economic inequality has increased and the trend is increasing.<p>Sale is correct on many points, his timeline just isn&#x27;t accurate.   \n",
       "28182742                                                                                           In the US, we can look back at 1975-2000 as a period when nothing really bad happened. 1900-1950 was far worse.<p>&quot;There’s a big tradition on the left ... insisting that building a zero-carbon future requires the adoption of radical anti-capitalist politics. But it’s completely absurd.&quot; Yes. We&#x27;re in a good position on energy. As the fossil fuel sources are running out, we now have good alternatives. That wasn&#x27;t true 20 years ago. 20 years ago, solar panels cost too much, and wind turbines were not big enough.<p>2022 will probably be the year that perception of this turns around in the US. That&#x27;s when all the good electric work vehicles ship. The electric Ford F-150, the electric Ford Transit, and the big electric Freightliner trucks are all starting volume production. A year from now, most American blue-collar workers will have ridden in an electric vehicle at least once.   \n",
       "...                                                                                                                                                                                                                                                                                                                                                                                                                                                                                                                                                                                                                                                                                                                                                                                                                                                                                                                                                                                                                                           ...   \n",
       "25741321                                                                                                                                                                                                                                                                                                                                                                                                                                                                                                                                                                                                                                                                                                                                                                                                                                                                      Sounds like you might be interested in the IndieWeb project: <a href=\"https:&#x2F;&#x2F;indieweb.org&#x2F;\" rel=\"nofollow\">https:&#x2F;&#x2F;indieweb.org&#x2F;</a>   \n",
       "29315060                                                                                                                                                                                                                                                                                         Fair criticism. I&#x27;m the author, and I hate using interfaces like this, but didn&#x27;t comment on it probably because I got used to it for this kind of thing.<p>The only reason why I defined inventory.DB (<a href=\"https:&#x2F;&#x2F;github.com&#x2F;henvic&#x2F;pgxtutorial&#x2F;blob&#x2F;main&#x2F;internal&#x2F;inventory&#x2F;service.go#L18-L50\" rel=\"nofollow\">https:&#x2F;&#x2F;github.com&#x2F;henvic&#x2F;pgxtutorial&#x2F;blob&#x2F;main&#x2F;internal&#x2F;inv...</a>) is to be able to test. Otherwise, I&#x27;d have skipped it.<p>I haven&#x27;t read your article yet, but will do so later and get back to this subject and tell my opinion by the end of the day (on vacation, and need to hurry to catch the train!).   \n",
       "26074398                                                                                                                                                                                                                                                                                                                                     It&#x27;s highly relevant from a perspective of philosophical and scientific curiosity, and mostly (seemingly) irrelevant from a perspective of practical impact on our lives.<p>I&#x27;m also cautious to jump to such conclusions given how nascent we are technologically, even though the light speed barrier does seem absolute. Our recent ancestors probably would&#x27;ve thought a similar thing about life orbiting a nearby star, and it&#x27;s only with the hindsight of recent advances that we&#x27;re able to conclude that that&#x27;s not as far out of our reach as once believed. Who knows what one million years of additional technological advances will make us capable of?   \n",
       "29056377                                                                                                                                                                                                                                                                                                                                                                                                                                                                                                                                             &gt;I’m going to get skewered for saying this … but the story feels like it’s pandering to current social political trends - i.e. the obsession with diversity<p>How so? I didn&#x27;t get that feeling at all from Horizon Zero Dawn.<p>If someone told me HZD had an obsession with diversity I&#x27;d react with a standard &quot;wat?&quot;. I do agree that some of the forced diversity in modern stories is annoying, mind you. I just didn&#x27;t get that vibe from that one story.   \n",
       "29219034  You&#x27;re right on two accounts:\\n- Google gets paid no matter who pays, so they don&#x27;t care\\n- Tinder still gets the revenue (and at better margins bc they&#x27;re not actually have to pay for that user anymore - Apple is paying)<p>And even your last point is not wrong: at some point Apple may stop doing this. But that could be year&#x27;s away, and in the meantime, they&#x27;re throwing their big stack around to make it too costly for developers - who Apple supposedly partners with - to build businesses that are less dependent on Apple’s whims. Plus, Apple uses the fact that most subscribers to app store products subscribe on the app store itself to bolster their case with regulators that no reform is needed bc consumers are overwhelmingly happy to use Apple’s IAP systems. But if Apple is putting it&#x27;s finger on the scales in order to actively drive users away from web subscriptions, then they heavily misleading these regulators about the true “choices” consumers are ma...   \n",
       "\n",
       "          dead               by  score        time                 timestamp  \\\n",
       "id                                                                             \n",
       "27783556  None            II2II    NaN  1625838141 2021-07-09 13:42:21+00:00   \n",
       "27915310  None        emmelaich    NaN  1626927690 2021-07-22 04:21:30+00:00   \n",
       "29058228  None           GuB-42    NaN  1635698430 2021-10-31 16:40:30+00:00   \n",
       "25996400  None  helios_invictus    NaN  1612228499 2021-02-02 01:14:59+00:00   \n",
       "28182742  None          Animats    NaN  1628964445 2021-08-14 18:07:25+00:00   \n",
       "...        ...              ...    ...         ...                       ...   \n",
       "25741321  None              icy    NaN  1610416950 2021-01-12 02:02:30+00:00   \n",
       "29315060  None           henvic    NaN  1637648268 2021-11-23 06:17:48+00:00   \n",
       "26074398  None         hntrader    NaN  1612850797 2021-02-09 06:06:37+00:00   \n",
       "29056377  None        dudeman13    NaN  1635681726 2021-10-31 12:02:06+00:00   \n",
       "29219034  None    offtotheraces    NaN  1636912923 2021-11-14 18:02:03+00:00   \n",
       "\n",
       "             type    parent  descendants  ranking deleted      root  \\\n",
       "id                                                                    \n",
       "27783556  comment  27781653          NaN      NaN    None  27779907   \n",
       "27915310  comment  27915173          NaN      NaN    None  27915173   \n",
       "29058228  comment  29056751          NaN      NaN    None  29055167   \n",
       "25996400  comment  25995839          NaN      NaN    None  25995839   \n",
       "28182742  comment  28168777          NaN      NaN    None  28168777   \n",
       "...           ...       ...          ...      ...     ...       ...   \n",
       "25741321  comment  25741237          NaN      NaN    None  25731419   \n",
       "29315060  comment  29314941          NaN      NaN    None  29311632   \n",
       "26074398  comment  26072100          NaN      NaN    None  26067326   \n",
       "29056377  comment  29055701          NaN      NaN    None  29055167   \n",
       "29219034  comment  29218763          NaN      NaN    None  29217277   \n",
       "\n",
       "                                                                                                                                                                                                                                                                                                                                                                                                                                                                                                                                                                                                                                                                                                                                                                                                                                                                                                                                                                                                                                       clean_text  \\\n",
       "id                                                                                                                                                                                                                                                                                                                                                                                                                                                                                                                                                                                                                                                                                                                                                                                                                                                                                                                                                                                                                                                  \n",
       "27783556  > I terms of providing value to the world at large they should have gone with Wozniak.\\n\\nAs a personality, I like Wozniak more.  If I ever had a chance to meet Jobs and Wozniak in person, I suspect that I would find Wozniak to be a much better person than Jobs.  That being said, I think that Jobs provided much more value to the world.\\n\\nWozniak's chief contribution to the world is the Apple II.  It is a wonderful computer with fun stories behind its development, but the computer industry would have gone on without it.  Apple's early years are culturally significant since it was one of the few success stories that wasn't corporate (in contrast to the Commodore PET and Tandy TRS-80), but that story is probably the most significant part about the company.\\n\\nContrast that to Jobs.  As a minimum, the Apple II and Macintosh can be contributed to him.  Without his drive, the Apple II would likely be remembered as one of the multitude of personal computers that didn't make it in the mar...   \n",
       "27915310                                                                                                                                                                                                                                                                                                                                                                                                                                                                                                                                                                                                                                                                                                                                                                                                                                                                                                                                                                                                                   From 2014.  A classic.   \n",
       "29058228                                                                                                                                                                        I would add that there is a trade-off in games between agency and a good story.\\n\\nThe more effort you make to integrate player actions, the less resources you have to make a compelling story. In the most obvious case: story branching, you have double the work for each branch, some of them may be hard to make interesting.\\n\\nSome Japanese visual novels may have great stories, but they are games in name only. For example the \"when they cry\" series are literally visual novels (or sound novels as they like to call them), there are zero gameplay elements, and no branching, you are basically reading a book with a few illustrations and (very good) background music.\\n\\nOn the other side, some games focus so much on action that the only goal of the story is to tell you who the bad guys are and not get in the way of shooting them.   \n",
       "25996400                                                                                                                                                                                                                                                                                                                                                                                                             Reading the 3 categories the judge put together, I'd have to say that the win does go to Sales.\\nEconomic Collapse: Kelly, the \"economy\" is doing just fine if you're in an upper percentile. For most people the economy is not working for them. \\nGlobal Environmental Disaster: Sales, many signs point to more chaotic and worse environmental conditions to come.\\nThe War Between Rich and Poor: Much like question one this one is occurring, and it's getting worse not better. Economic inequality has increased and the trend is increasing.\\n\\nSale is correct on many points, his timeline just isn't accurate.   \n",
       "28182742                                                                                                                  In the US, we can look back at 1975-2000 as a period when nothing really bad happened. 1900-1950 was far worse.\\n\\n\"There’s a big tradition on the left ... insisting that building a zero-carbon future requires the adoption of radical anti-capitalist politics. But it’s completely absurd.\" Yes. We're in a good position on energy. As the fossil fuel sources are running out, we now have good alternatives. That wasn't true 20 years ago. 20 years ago, solar panels cost too much, and wind turbines were not big enough.\\n\\n2022 will probably be the year that perception of this turns around in the US. That's when all the good electric work vehicles ship. The electric Ford F-150, the electric Ford Transit, and the big electric Freightliner trucks are all starting volume production. A year from now, most American blue-collar workers will have ridden in an electric vehicle at least once.   \n",
       "...                                                                                                                                                                                                                                                                                                                                                                                                                                                                                                                                                                                                                                                                                                                                                                                                                                                                                                                                                                                                                                           ...   \n",
       "25741321                                                                                                                                                                                                                                                                                                                                                                                                                                                                                                                                                                                                                                                                                                                                                                                                                                                                                                                                                       Sounds like you might be interested in the IndieWeb project: https://indieweb.org/   \n",
       "29315060                                                                                                                                                                                                                                                                                                                                                                                                                                                                                             Fair criticism. I'm the author, and I hate using interfaces like this, but didn't comment on it probably because I got used to it for this kind of thing.\\n\\nThe only reason why I defined inventory.DB (https://github.com/henvic/pgxtutorial/blob/main/internal/inventory/service.go#L18-L50) is to be able to test. Otherwise, I'd have skipped it.\\n\\nI haven't read your article yet, but will do so later and get back to this subject and tell my opinion by the end of the day (on vacation, and need to hurry to catch the train!).   \n",
       "26074398                                                                                                                                                                                                                                                                                                                                                                  It's highly relevant from a perspective of philosophical and scientific curiosity, and mostly (seemingly) irrelevant from a perspective of practical impact on our lives.\\n\\nI'm also cautious to jump to such conclusions given how nascent we are technologically, even though the light speed barrier does seem absolute. Our recent ancestors probably would've thought a similar thing about life orbiting a nearby star, and it's only with the hindsight of recent advances that we're able to conclude that that's not as far out of our reach as once believed. Who knows what one million years of additional technological advances will make us capable of?   \n",
       "29056377                                                                                                                                                                                                                                                                                                                                                                                                                                                                                                                                                                       >I’m going to get skewered for saying this … but the story feels like it’s pandering to current social political trends - i.e. the obsession with diversity\\n\\nHow so? I didn't get that feeling at all from Horizon Zero Dawn.\\n\\nIf someone told me HZD had an obsession with diversity I'd react with a standard \"wat?\". I do agree that some of the forced diversity in modern stories is annoying, mind you. I just didn't get that vibe from that one story.   \n",
       "29219034                             You're right on two accounts:\\n- Google gets paid no matter who pays, so they don't care\\n- Tinder still gets the revenue (and at better margins bc they're not actually have to pay for that user anymore - Apple is paying)\\n\\nAnd even your last point is not wrong: at some point Apple may stop doing this. But that could be year's away, and in the meantime, they're throwing their big stack around to make it too costly for developers - who Apple supposedly partners with - to build businesses that are less dependent on Apple’s whims. Plus, Apple uses the fact that most subscribers to app store products subscribe on the app store itself to bolster their case with regulators that no reform is needed bc consumers are overwhelmingly happy to use Apple’s IAP systems. But if Apple is putting it's finger on the scales in order to actively drive users away from web subscriptions, then they heavily misleading these regulators about the true “choices” consumers are making.   \n",
       "\n",
       "          bucket  text_length      prob  \n",
       "id                                       \n",
       "27783556       2         1550  0.260213  \n",
       "27915310       2           22  0.210275  \n",
       "29058228       2          827  0.201436  \n",
       "25996400       6          599  0.632479  \n",
       "28182742       3          883  0.340506  \n",
       "...          ...          ...       ...  \n",
       "25741321       1           82  0.164963  \n",
       "29315060       3          520  0.363639  \n",
       "26074398       4          645  0.448213  \n",
       "29056377       4          446  0.418401  \n",
       "29219034       0          968  0.045453  \n",
       "\n",
       "[200 rows x 18 columns]"
      ]
     },
     "execution_count": 29,
     "metadata": {},
     "output_type": "execute_result"
    }
   ],
   "source": [
    "df_out"
   ]
  },
  {
   "cell_type": "code",
   "execution_count": 30,
   "id": "10a69011-8e0d-46b1-9c00-7c2325cba4d3",
   "metadata": {},
   "outputs": [],
   "source": [
    "import json\n",
    "\n",
    "with open('data/02_intermediate/hn_sample_eval_bucket_3.jsonl', 'w') as f:\n",
    "    for id, row in df_out.iterrows():\n",
    "        data = {\"text\": row[\"clean_text\"], \"meta\": {\"id\": id,\n",
    "                                                    \"prob_group\": row.bucket,\n",
    "                                                    \"prob\": row.prob}}\n",
    "        print(json.dumps(data), file=f)"
   ]
  }
 ],
 "metadata": {
  "kernelspec": {
   "display_name": "Python 3 (ipykernel)",
   "language": "python",
   "name": "python3"
  },
  "language_info": {
   "codemirror_mode": {
    "name": "ipython",
    "version": 3
   },
   "file_extension": ".py",
   "mimetype": "text/x-python",
   "name": "python",
   "nbconvert_exporter": "python",
   "pygments_lexer": "ipython3",
   "version": "3.8.12"
  }
 },
 "nbformat": 4,
 "nbformat_minor": 5
}
