{
 "cells": [
  {
   "cell_type": "markdown",
   "id": "ab5495ae",
   "metadata": {},
   "source": [
    "# Open Library EDA\n",
    "\n",
    "Using some [Open Library data dumps](https://openlibrary.org/developers/dumps) we'll go through and understand the metadata that's in the files.\n",
    "\n",
    "## Editions\n",
    "\n",
    "* 70% of the editions have been automatically imported from one of MARC, Better World Books, Internet Archive, or Amazon (listed in `source_records`)\n",
    "* 64% of editions have at least one ISBN 10 or ISBN 13\n",
    "* Almost always have a `title`, and sometimes a `subtitle` a `full_title` (which is often the concatenation of the `title` and `subtitle`), an `edition_name`, and occasionally `other_titles`\n",
    "* Generally have `authors`, and sometimes a `by_statement` which is how the authors are listed as text in the book\n",
    "* Editions often contain a `publisher`, `publish_date` and locations in `publish_places` and `publish_country` (the latter of which is often a US state)\n",
    "* What the book is about is in `subjects`, `subject_places`, `subject_people`, `subject_time`, `lc_classifications`, `dewey_decimal_class`, and `genres`\n",
    "* It can be connected to other databases using things like `lccn`, `oclc_numbers`, `identifiers`, `ocaid`, \n",
    "* Sometimes more information is in `notes`, a `table_of_contents`, `description`, or a `first_sentence`\n",
    "* There are sometimes a `cover` image hosted on Open Library\n",
    "\n",
    "## Works\n",
    "\n",
    "* Works largely have a subset of the fields of editions, not always consistent with the editions\n",
    "* The authors are normally a superset of the authors of the editions, typically there's only one author (89% of the time), and 5% of the time no author. \n",
    "* On average there's 1.3 editions per work\n",
    "\n",
    "## Authors\n",
    "\n",
    "* On average there's 1.1 works per author\n",
    "* Most authors have a `name`, many a `personal_name`, and some `alternate_names` (and sometimes a `title`). They're often inconsistent with format (e.g. `Surname, Firstname` or `Firstname Surname`)\n",
    "* Some have a `birth_date` and `death_date` which could be useful for disambiguation\n",
    "* There are often `remote_ids` linking to wikidata, VIAF and ISNI where additional information can be obtained\n",
    "* Sometimes there's a `bio`, `photos`"
   ]
  },
  {
   "cell_type": "markdown",
   "id": "da4c19fa",
   "metadata": {},
   "source": [
    "## Imports"
   ]
  },
  {
   "cell_type": "code",
   "execution_count": 1,
   "id": "e5f3ce0e",
   "metadata": {},
   "outputs": [],
   "source": [
    "from pathlib import Path\n",
    "\n",
    "from collections import Counter\n",
    "\n",
    "import xxhash\n",
    "\n",
    "import gzip\n",
    "import json\n",
    "\n",
    "from tqdm.auto import tqdm"
   ]
  },
  {
   "cell_type": "markdown",
   "id": "0bc3917b",
   "metadata": {},
   "source": [
    "# Extracting a sample"
   ]
  },
  {
   "cell_type": "markdown",
   "id": "7fe31260",
   "metadata": {},
   "source": [
    "We'll take a deterministic sample of the data we can keep in memory.\n",
    "\n",
    "We'll sample on *work* and then collect all authors and editions for that work."
   ]
  },
  {
   "cell_type": "code",
   "execution_count": 2,
   "id": "67bcd37c",
   "metadata": {},
   "outputs": [
    {
     "data": {
      "text/plain": [
       "2016000756"
      ]
     },
     "execution_count": 2,
     "metadata": {},
     "output_type": "execute_result"
    }
   ],
   "source": [
    "salt = b'openlibrary'\n",
    "\n",
    "def intdigest(key: str) -> int:\n",
    "    return xxhash.xxh32_intdigest(key.encode() + salt)\n",
    "\n",
    "intdigest('/work/V1235M')"
   ]
  },
  {
   "cell_type": "markdown",
   "id": "8b7509bc",
   "metadata": {},
   "source": [
    "We'll use the hash to select 1 in N works."
   ]
  },
  {
   "cell_type": "code",
   "execution_count": 3,
   "id": "c5dd4d27",
   "metadata": {},
   "outputs": [],
   "source": [
    "works_per_sample = 100\n",
    "\n",
    "def in_sample(key: str) -> bool:\n",
    "    return intdigest(key) % works_per_sample == 0"
   ]
  },
  {
   "cell_type": "markdown",
   "id": "e32cadc4",
   "metadata": {},
   "source": [
    "We can read in each of the data files."
   ]
  },
  {
   "cell_type": "code",
   "execution_count": 4,
   "id": "4a3b4906",
   "metadata": {},
   "outputs": [],
   "source": [
    "ol_dump_date = '2022-06-06'\n",
    "data_path = Path('../data/01_raw')\n",
    "\n",
    "def ol_path(segment):\n",
    "    return data_path / f'ol_dump_{segment}_{ol_dump_date}.txt.gz'\n",
    "\n",
    "def ol_data(segment):\n",
    "    with gzip.open(ol_path(segment), 'rt') as f:\n",
    "        for line in f:\n",
    "            yield tuple(line.split('\\t', 5))"
   ]
  },
  {
   "cell_type": "markdown",
   "id": "b2999728",
   "metadata": {},
   "source": [
    "## Sampling works"
   ]
  },
  {
   "cell_type": "markdown",
   "id": "5c7e413b",
   "metadata": {},
   "source": [
    "And sample them."
   ]
  },
  {
   "cell_type": "code",
   "execution_count": 5,
   "id": "1be170e7",
   "metadata": {},
   "outputs": [
    {
     "data": {
      "application/vnd.jupyter.widget-view+json": {
       "model_id": "01918739267142d39318f960792f47bc",
       "version_major": 2,
       "version_minor": 0
      },
      "text/plain": [
       "0it [00:00, ?it/s]"
      ]
     },
     "metadata": {},
     "output_type": "display_data"
    }
   ],
   "source": [
    "work_metadata = {}\n",
    "\n",
    "for record_type, key, revision, last_modified, json_metadata in tqdm(ol_data('works')):\n",
    "    if in_sample(key):\n",
    "        metadata = json.loads(json_metadata)\n",
    "        work_metadata[key] = metadata"
   ]
  },
  {
   "cell_type": "code",
   "execution_count": 6,
   "id": "a9f6c91e",
   "metadata": {},
   "outputs": [
    {
     "data": {
      "text/plain": [
       "252476"
      ]
     },
     "execution_count": 6,
     "metadata": {},
     "output_type": "execute_result"
    }
   ],
   "source": [
    "len(work_metadata)"
   ]
  },
  {
   "cell_type": "markdown",
   "id": "16d3248c",
   "metadata": {},
   "source": [
    "## Extracting the authors"
   ]
  },
  {
   "cell_type": "markdown",
   "id": "624ba17c",
   "metadata": {},
   "source": [
    "Each work contains a list of `authors` with different roles (e.g. whether they wrote the text or the forward)."
   ]
  },
  {
   "cell_type": "code",
   "execution_count": 7,
   "id": "c1eed8e3",
   "metadata": {},
   "outputs": [
    {
     "data": {
      "text/plain": [
       "{'title': 'Handbuch Handlungskompetenz. Einführung in die Selbst-, Sozial- und Methodenkompetenz',\n",
       " 'created': {'type': '/type/datetime', 'value': '2009-12-11T01:59:46.639055'},\n",
       " 'covers': [3165466],\n",
       " 'last_modified': {'type': '/type/datetime',\n",
       "  'value': '2010-04-28T06:54:19.472104'},\n",
       " 'latest_revision': 3,\n",
       " 'key': '/works/OL10015001W',\n",
       " 'authors': [{'type': '/type/author_role',\n",
       "   'author': {'key': '/authors/OL3981876A'}}],\n",
       " 'type': {'key': '/type/work'},\n",
       " 'revision': 3}"
      ]
     },
     "execution_count": 7,
     "metadata": {},
     "output_type": "execute_result"
    }
   ],
   "source": [
    "work = next(iter(work_metadata.values()))\n",
    "work"
   ]
  },
  {
   "cell_type": "code",
   "execution_count": 8,
   "id": "43f0e8ad",
   "metadata": {},
   "outputs": [
    {
     "data": {
      "text/plain": [
       "['/authors/OL3981876A']"
      ]
     },
     "execution_count": 8,
     "metadata": {},
     "output_type": "execute_result"
    }
   ],
   "source": [
    "authors = [author['author']['key'] for author in work['authors']]\n",
    "authors"
   ]
  },
  {
   "cell_type": "markdown",
   "id": "40a149cb",
   "metadata": {},
   "source": [
    "We can iterate over all the works to get a set of relevant authors."
   ]
  },
  {
   "cell_type": "code",
   "execution_count": 9,
   "id": "26134678",
   "metadata": {},
   "outputs": [
    {
     "data": {
      "application/vnd.jupyter.widget-view+json": {
       "model_id": "df5c36e102604794bd85b485dd93a8c7",
       "version_major": 2,
       "version_minor": 0
      },
      "text/plain": [
       "  0%|          | 0/252476 [00:00<?, ?it/s]"
      ]
     },
     "metadata": {},
     "output_type": "display_data"
    }
   ],
   "source": [
    "authors = set()\n",
    "\n",
    "for work in tqdm(work_metadata.values(), total=len(work_metadata)):\n",
    "    if 'authors' in work:\n",
    "        work_authors = [author['author']['key'] for author in work['authors'] if 'author' in author]\n",
    "        authors.update(work_authors)"
   ]
  },
  {
   "cell_type": "code",
   "execution_count": 10,
   "id": "46bdf520",
   "metadata": {},
   "outputs": [
    {
     "data": {
      "text/plain": [
       "230850"
      ]
     },
     "execution_count": 10,
     "metadata": {},
     "output_type": "execute_result"
    }
   ],
   "source": [
    "len(authors)"
   ]
  },
  {
   "cell_type": "code",
   "execution_count": 11,
   "id": "9fa91ab6",
   "metadata": {},
   "outputs": [
    {
     "data": {
      "application/vnd.jupyter.widget-view+json": {
       "model_id": "afe856021e214b94b1bf6430e562e970",
       "version_major": 2,
       "version_minor": 0
      },
      "text/plain": [
       "0it [00:00, ?it/s]"
      ]
     },
     "metadata": {},
     "output_type": "display_data"
    }
   ],
   "source": [
    "author_metadata = {}\n",
    "\n",
    "for record_type, key, revision, last_modified, json_metadata in tqdm(ol_data('authors')):\n",
    "    if key in authors:\n",
    "        metadata = json.loads(json_metadata)\n",
    "        author_metadata[key] = metadata"
   ]
  },
  {
   "cell_type": "markdown",
   "id": "4af5ddc5",
   "metadata": {},
   "source": [
    "Apparently a few authors are missing"
   ]
  },
  {
   "cell_type": "code",
   "execution_count": 12,
   "id": "90da7de1",
   "metadata": {},
   "outputs": [
    {
     "data": {
      "text/plain": [
       "9"
      ]
     },
     "execution_count": 12,
     "metadata": {},
     "output_type": "execute_result"
    }
   ],
   "source": [
    "len(authors) - len(author_metadata)"
   ]
  },
  {
   "cell_type": "markdown",
   "id": "f5d9d8ef",
   "metadata": {},
   "source": [
    "On average there's 1.1 works per author"
   ]
  },
  {
   "cell_type": "code",
   "execution_count": 13,
   "id": "38cf80cf",
   "metadata": {},
   "outputs": [
    {
     "data": {
      "text/plain": [
       "1.093722518963269"
      ]
     },
     "execution_count": 13,
     "metadata": {},
     "output_type": "execute_result"
    }
   ],
   "source": [
    "len(work_metadata) / len(author_metadata)"
   ]
  },
  {
   "cell_type": "markdown",
   "id": "0c6f477b",
   "metadata": {},
   "source": [
    "## Editions\n",
    "\n",
    "Finally let's take all editions referring to these works"
   ]
  },
  {
   "cell_type": "code",
   "execution_count": 14,
   "id": "b0ca3ab7",
   "metadata": {},
   "outputs": [],
   "source": [
    "record_type, key, revision, last_modified, json_metadata = next(ol_data('editions'))\n",
    "metadata = json.loads(json_metadata)"
   ]
  },
  {
   "cell_type": "markdown",
   "id": "f2899146",
   "metadata": {},
   "source": [
    "We can extract the works"
   ]
  },
  {
   "cell_type": "code",
   "execution_count": 15,
   "id": "dee50c10",
   "metadata": {},
   "outputs": [
    {
     "data": {
      "text/plain": [
       "[{'key': '/works/OL14903292W'}]"
      ]
     },
     "execution_count": 15,
     "metadata": {},
     "output_type": "execute_result"
    }
   ],
   "source": [
    "metadata['works']"
   ]
  },
  {
   "cell_type": "code",
   "execution_count": 16,
   "id": "30e9cb0c",
   "metadata": {},
   "outputs": [
    {
     "data": {
      "text/plain": [
       "['/works/OL14903292W']"
      ]
     },
     "execution_count": 16,
     "metadata": {},
     "output_type": "execute_result"
    }
   ],
   "source": [
    "works = [w['key'] for w in metadata['works']]\n",
    "works"
   ]
  },
  {
   "cell_type": "markdown",
   "id": "e6c106b6",
   "metadata": {},
   "source": [
    "And then check whether it's in our sample"
   ]
  },
  {
   "cell_type": "code",
   "execution_count": 17,
   "id": "9516c805",
   "metadata": {},
   "outputs": [
    {
     "data": {
      "text/plain": [
       "False"
      ]
     },
     "execution_count": 17,
     "metadata": {},
     "output_type": "execute_result"
    }
   ],
   "source": [
    "any(w in work_metadata for w in works)"
   ]
  },
  {
   "cell_type": "markdown",
   "id": "760d979e",
   "metadata": {},
   "source": [
    "We can then get any edition with a work in the sample.\n",
    "\n",
    "This is the slowest step because we're JSON decoding the metadata for every edition.\n",
    "It would be faster to search for a key in the edition string using a regex, but to keep it simple we'll decode the JSON."
   ]
  },
  {
   "cell_type": "code",
   "execution_count": 18,
   "id": "356c5fd6",
   "metadata": {},
   "outputs": [
    {
     "data": {
      "application/vnd.jupyter.widget-view+json": {
       "model_id": "2b55091c3d584f9fa20b575574291391",
       "version_major": 2,
       "version_minor": 0
      },
      "text/plain": [
       "0it [00:00, ?it/s]"
      ]
     },
     "metadata": {},
     "output_type": "display_data"
    }
   ],
   "source": [
    "edition_metadata = {}\n",
    "\n",
    "for record_type, key, revision, last_modified, json_metadata in tqdm(ol_data('editions')):\n",
    "    metadata = json.loads(json_metadata)\n",
    "    if 'works' in metadata and any(w['key'] in work_metadata for w in metadata['works']):\n",
    "        edition_metadata[key] = metadata"
   ]
  },
  {
   "cell_type": "code",
   "execution_count": 19,
   "id": "1942611b",
   "metadata": {},
   "outputs": [
    {
     "data": {
      "text/plain": [
       "329009"
      ]
     },
     "execution_count": 19,
     "metadata": {},
     "output_type": "execute_result"
    }
   ],
   "source": [
    "len(edition_metadata)"
   ]
  },
  {
   "cell_type": "markdown",
   "id": "e65ba975",
   "metadata": {},
   "source": [
    "How many editions are there per work?"
   ]
  },
  {
   "cell_type": "code",
   "execution_count": 20,
   "id": "6a0cbbeb",
   "metadata": {},
   "outputs": [
    {
     "data": {
      "text/plain": [
       "1.3031298024366673"
      ]
     },
     "execution_count": 20,
     "metadata": {},
     "output_type": "execute_result"
    }
   ],
   "source": [
    "len(edition_metadata) / len(work_metadata)"
   ]
  },
  {
   "cell_type": "markdown",
   "id": "67a865c7",
   "metadata": {},
   "source": [
    "# Works Fields"
   ]
  },
  {
   "cell_type": "markdown",
   "id": "19087928",
   "metadata": {},
   "source": [
    "What are the frequently used fields?"
   ]
  },
  {
   "cell_type": "code",
   "execution_count": 21,
   "id": "f6edea1a",
   "metadata": {},
   "outputs": [
    {
     "data": {
      "application/vnd.jupyter.widget-view+json": {
       "model_id": "1e3a1347d440468499e6b4f60e7d1cfa",
       "version_major": 2,
       "version_minor": 0
      },
      "text/plain": [
       "  0%|          | 0/252476 [00:00<?, ?it/s]"
      ]
     },
     "metadata": {},
     "output_type": "display_data"
    },
    {
     "data": {
      "text/plain": [
       "{'title': 1.0,\n",
       " 'created': 1.0,\n",
       " 'last_modified': 1.0,\n",
       " 'latest_revision': 1.0,\n",
       " 'key': 1.0,\n",
       " 'type': 1.0,\n",
       " 'revision': 1.0,\n",
       " 'authors': 0.9551640551973257,\n",
       " 'subjects': 0.5822375196058239,\n",
       " 'covers': 0.3138278489836658,\n",
       " 'subject_places': 0.23616898239832698,\n",
       " 'first_publish_date': 0.17625041588111345,\n",
       " 'lc_classifications': 0.0943891696636512,\n",
       " 'subject_people': 0.07341291845561558,\n",
       " 'subject_times': 0.05751041683169886,\n",
       " 'dewey_number': 0.04612319586812212,\n",
       " 'description': 0.042697127647776424,\n",
       " 'subtitle': 0.02249322707900949}"
      ]
     },
     "execution_count": 21,
     "metadata": {},
     "output_type": "execute_result"
    }
   ],
   "source": [
    "work_key_counts = Counter()\n",
    "\n",
    "for m in tqdm(work_metadata.values()):\n",
    "    work_key_counts.update(m.keys())\n",
    "\n",
    "{k:v/len(work_metadata) for k,v in work_key_counts.most_common() if v/len(work_metadata) > 0.01}"
   ]
  },
  {
   "cell_type": "markdown",
   "id": "b87ebf7b",
   "metadata": {},
   "source": [
    "## Authors"
   ]
  },
  {
   "cell_type": "markdown",
   "id": "42edeb96",
   "metadata": {},
   "source": [
    "Authors can have different roles"
   ]
  },
  {
   "cell_type": "code",
   "execution_count": 22,
   "id": "6d9bd266",
   "metadata": {},
   "outputs": [
    {
     "data": {
      "text/plain": [
       "[[{'type': '/type/author_role', 'author': {'key': '/authors/OL3981876A'}}],\n",
       " [{'type': {'key': '/type/author_role'},\n",
       "   'author': {'key': '/authors/OL4094514A'}}],\n",
       " [{'type': '/type/author_role', 'author': {'key': '/authors/OL4146725A'}}],\n",
       " [{'type': '/type/author_role', 'author': {'key': '/authors/OL4153117A'}}],\n",
       " [{'type': {'key': '/type/author_role'},\n",
       "   'author': {'key': '/authors/OL4153276A'}}],\n",
       " [{'type': '/type/author_role', 'author': {'key': '/authors/OL4159451A'}}],\n",
       " [{'type': '/type/author_role', 'author': {'key': '/authors/OL4162437A'}}],\n",
       " [{'type': '/type/author_role', 'author': {'key': '/authors/OL4164231A'}}],\n",
       " [{'type': '/type/author_role', 'author': {'key': '/authors/OL4222275A'}}],\n",
       " [{'type': {'key': '/type/author_role'},\n",
       "   'author': {'key': '/authors/OL4225571A'}}]]"
      ]
     },
     "execution_count": 22,
     "metadata": {},
     "output_type": "execute_result"
    }
   ],
   "source": [
    "[m['authors'] for m in work_metadata.values() if 'authors' in m][:10]"
   ]
  },
  {
   "cell_type": "code",
   "execution_count": 23,
   "id": "c204377e",
   "metadata": {},
   "outputs": [
    {
     "data": {
      "application/vnd.jupyter.widget-view+json": {
       "model_id": "ad4e07d1dd3748139e14f78a4fb95a0e",
       "version_major": 2,
       "version_minor": 0
      },
      "text/plain": [
       "  0%|          | 0/252476 [00:00<?, ?it/s]"
      ]
     },
     "metadata": {},
     "output_type": "display_data"
    }
   ],
   "source": [
    "author_type_counts = Counter()\n",
    "for m in tqdm(work_metadata.values()):\n",
    "    author_types = [a['type'] for a in m.get('authors', [])]\n",
    "    author_types = [a['key'] if  isinstance(a, dict) else a for a in author_types]\n",
    "    author_type_counts.update(author_types)"
   ]
  },
  {
   "cell_type": "markdown",
   "id": "64b7e786",
   "metadata": {},
   "source": [
    "It seems like we only ever get the author role."
   ]
  },
  {
   "cell_type": "code",
   "execution_count": 24,
   "id": "3c725973",
   "metadata": {},
   "outputs": [
    {
     "data": {
      "text/plain": [
       "Counter({'/type/author_role': 265058})"
      ]
     },
     "execution_count": 24,
     "metadata": {},
     "output_type": "execute_result"
    }
   ],
   "source": [
    "author_type_counts"
   ]
  },
  {
   "cell_type": "markdown",
   "id": "8137f912",
   "metadata": {},
   "source": [
    "How many authors are there?"
   ]
  },
  {
   "cell_type": "code",
   "execution_count": 25,
   "id": "7a2b0a72",
   "metadata": {},
   "outputs": [
    {
     "data": {
      "text/plain": [
       "{0: ('4.5%', 11320),\n",
       " 1: ('89.2%', 225209),\n",
       " 2: ('4.3%', 10940),\n",
       " 3: ('1.3%', 3352),\n",
       " 4: ('0.4%', 968),\n",
       " 5: ('0.2%', 509),\n",
       " 6: ('0.0%', 60),\n",
       " 7: ('0.0%', 28),\n",
       " 8: ('0.0%', 23),\n",
       " 9: ('0.0%', 17),\n",
       " 10: ('0.0%', 20),\n",
       " 11: ('0.0%', 9),\n",
       " 12: ('0.0%', 7),\n",
       " 13: ('0.0%', 3),\n",
       " 14: ('0.0%', 2),\n",
       " 15: ('0.0%', 3),\n",
       " 17: ('0.0%', 3),\n",
       " 18: ('0.0%', 1),\n",
       " 19: ('0.0%', 1),\n",
       " 20: ('0.0%', 1)}"
      ]
     },
     "execution_count": 25,
     "metadata": {},
     "output_type": "execute_result"
    }
   ],
   "source": [
    "author_num_counts = Counter(len(m.get('authors', [])) for m in work_metadata.values())\n",
    "\n",
    "{k:(f'{v/len(work_metadata):0.1%}', v) for k, v in sorted(author_num_counts.items())}"
   ]
  },
  {
   "cell_type": "markdown",
   "id": "226ed083",
   "metadata": {},
   "source": [
    "## Subjects"
   ]
  },
  {
   "cell_type": "markdown",
   "id": "c9c93cb7",
   "metadata": {},
   "source": [
    "Note the subjects are in many languages"
   ]
  },
  {
   "cell_type": "code",
   "execution_count": 26,
   "id": "04b63938",
   "metadata": {},
   "outputs": [
    {
     "data": {
      "text/plain": [
       "[['San xian', 'Method', 'Music', 'Instruction and study'],\n",
       " ['Post-traumatic stress disorder',\n",
       "  'Psychic trauma',\n",
       "  'Treatment',\n",
       "  'Eclectic psychotherapy'],\n",
       " ['Indonesia. Departemen Dalam Negeri', 'Indonesia'],\n",
       " ['South African literature (English)'],\n",
       " ['Arsène Lupin (Fictitious character)', 'Fiction'],\n",
       " ['Histoire',\n",
       "  'Berbères',\n",
       "  'Philosophie',\n",
       "  'Early works to 1800',\n",
       "  'Philosophy',\n",
       "  'History'],\n",
       " ['Banks and banking', 'Budget'],\n",
       " ['Procurement',\n",
       "  'Defenses',\n",
       "  'Strategic materials',\n",
       "  'Law and legislation',\n",
       "  'Armed Forces'],\n",
       " ['Appropriations and expenditures',\n",
       "  'Harbors',\n",
       "  'Management',\n",
       "  'Prevention',\n",
       "  'Security measures',\n",
       "  'Shipping',\n",
       "  'Terrorism',\n",
       "  'United States',\n",
       "  'United States. Coast Guard'],\n",
       " ['Real property', 'Study and teaching', 'Valuation']]"
      ]
     },
     "execution_count": 26,
     "metadata": {},
     "output_type": "execute_result"
    }
   ],
   "source": [
    "[m['subjects'] for m in work_metadata.values() if 'subjects' in m][:10]"
   ]
  },
  {
   "cell_type": "code",
   "execution_count": 27,
   "id": "e59722a3",
   "metadata": {},
   "outputs": [
    {
     "data": {
      "application/vnd.jupyter.widget-view+json": {
       "model_id": "8f760ecb2b82464eba2b4896034da517",
       "version_major": 2,
       "version_minor": 0
      },
      "text/plain": [
       "  0%|          | 0/252476 [00:00<?, ?it/s]"
      ]
     },
     "metadata": {},
     "output_type": "display_data"
    }
   ],
   "source": [
    "subject_counts = Counter()\n",
    "\n",
    "for m in tqdm(work_metadata.values()):\n",
    "    subject_counts.update(m.get('subjects', []))"
   ]
  },
  {
   "cell_type": "code",
   "execution_count": 28,
   "id": "aac93dc9",
   "metadata": {},
   "outputs": [
    {
     "data": {
      "text/plain": [
       "[('History', 16409),\n",
       " ('Biography', 6392),\n",
       " ('Fiction', 5522),\n",
       " ('Congresses', 4560),\n",
       " ('Politics and government', 4029),\n",
       " ('History and criticism', 3486),\n",
       " ('Juvenile literature', 2639),\n",
       " ('Law and legislation', 2424),\n",
       " ('Economic conditions', 1814),\n",
       " ('Catalogs', 1794),\n",
       " ('United States', 1733),\n",
       " ('Bibliography', 1699),\n",
       " ('Description and travel', 1627),\n",
       " ('Criticism and interpretation', 1614),\n",
       " ('Social conditions', 1545),\n",
       " ('Exhibitions', 1541),\n",
       " ('Education', 1515),\n",
       " ('Social life and customs', 1498),\n",
       " ('Juvenile fiction', 1449),\n",
       " (\"Children's fiction\", 1432)]"
      ]
     },
     "execution_count": 28,
     "metadata": {},
     "output_type": "execute_result"
    }
   ],
   "source": [
    "subject_counts.most_common(20)"
   ]
  },
  {
   "cell_type": "markdown",
   "id": "e9ad6cb0",
   "metadata": {},
   "source": [
    "They get pretty broad further down the list"
   ]
  },
  {
   "cell_type": "code",
   "execution_count": 29,
   "id": "662da24d",
   "metadata": {},
   "outputs": [
    {
     "data": {
      "text/plain": [
       "('Health Promotion', 3)"
      ]
     },
     "execution_count": 29,
     "metadata": {},
     "output_type": "execute_result"
    }
   ],
   "source": [
    "subject_counts.most_common(20000)[-1]"
   ]
  },
  {
   "cell_type": "markdown",
   "id": "27e5ac6d",
   "metadata": {},
   "source": [
    "## Covers"
   ]
  },
  {
   "cell_type": "code",
   "execution_count": 30,
   "id": "af2f4403",
   "metadata": {},
   "outputs": [
    {
     "data": {
      "text/plain": [
       "[('Handbuch Handlungskompetenz. Einführung in die Selbst-, Sozial- und Methodenkompetenz',\n",
       "  [3165466]),\n",
       " ('San xian yan zou yi shu', [5235169]),\n",
       " ('Trauma, Culpa y Duelo', [3326754]),\n",
       " ('Las misiones del Paraguay/the Missions Of Paraguay', [5267844]),\n",
       " ('Joseph and His Brothers (Bible Stories)', [5061720]),\n",
       " ('The English Auden', [4413353]),\n",
       " ('A stranger and afraid', [4237710]),\n",
       " (\"La fiction de l'Occident : Thomas Mann, Franz Kafka, Albert Cohen\",\n",
       "  [3707254]),\n",
       " ('Evenings with Idries Shah', [8543925]),\n",
       " ('Life of Tecumseh, and His Brother the Prophet', [6017579])]"
      ]
     },
     "execution_count": 30,
     "metadata": {},
     "output_type": "execute_result"
    }
   ],
   "source": [
    "[(m['title'], m['covers']) for m in work_metadata.values() if 'covers' in m][:10]"
   ]
  },
  {
   "cell_type": "markdown",
   "id": "370c7059",
   "metadata": {},
   "source": [
    "Each cover identifier can be used to obtain the image from Open Library (e.g. below the size can be S, M, L for small, medium and large)."
   ]
  },
  {
   "cell_type": "code",
   "execution_count": 31,
   "id": "0781bccc",
   "metadata": {},
   "outputs": [
    {
     "data": {
      "image/jpeg": "[encoded data removed]",
      "text/plain": [
       "<IPython.core.display.Image object>"
      ]
     },
     "execution_count": 31,
     "metadata": {},
     "output_type": "execute_result"
    }
   ],
   "source": [
    "import requests\n",
    "from IPython.display import Image\n",
    "\n",
    "Image(requests.get('https://covers.openlibrary.org/b/id/3165466-M.jpg').content)"
   ]
  },
  {
   "cell_type": "markdown",
   "id": "0ce25935",
   "metadata": {},
   "source": [
    "## Subject Places"
   ]
  },
  {
   "cell_type": "markdown",
   "id": "622282b6",
   "metadata": {},
   "source": [
    "Sometimes a book is about a place"
   ]
  },
  {
   "cell_type": "code",
   "execution_count": 32,
   "id": "38ff3025",
   "metadata": {},
   "outputs": [
    {
     "data": {
      "text/plain": [
       "[('Peuples et nations du monde', ['Afrique du Nord']),\n",
       " ('Force and salaries, sub-treasury, New York. Letter from the Acting Secretary of the Treasury transmitting estimates of force and salaries of office of Assistant Treasurer at New York, in lieu of estimates heretofore submitted for the next fiscal year',\n",
       "  ['United States', 'New York (N.Y.)']),\n",
       " ('H.R. 5074 and H.R. 5076', ['United States']),\n",
       " ('Maritime Transportation Amendments of 2004', ['United States']),\n",
       " ('An introduction to appraising real property', ['United States']),\n",
       " (\"China's criminal justice system\", ['China']),\n",
       " ('Employment promotion in the South Pacific region', ['Oceania']),\n",
       " ('A brief bibliography of Maryland folksong and dance', ['Maryland']),\n",
       " ('The evolution of industries in Peoria, Illinois',\n",
       "  ['Peoria', 'Peoria (Ill.)', 'Illinois']),\n",
       " (\"China's industrialization\", ['China'])]"
      ]
     },
     "execution_count": 32,
     "metadata": {},
     "output_type": "execute_result"
    }
   ],
   "source": [
    "[(m['title'], m['subject_places']) for m in work_metadata.values() if 'subject_places' in m][:10]"
   ]
  },
  {
   "cell_type": "code",
   "execution_count": 33,
   "id": "648554aa",
   "metadata": {},
   "outputs": [
    {
     "data": {
      "application/vnd.jupyter.widget-view+json": {
       "model_id": "686b75016f454b888f74e8c2d38ce618",
       "version_major": 2,
       "version_minor": 0
      },
      "text/plain": [
       "  0%|          | 0/252476 [00:00<?, ?it/s]"
      ]
     },
     "metadata": {},
     "output_type": "display_data"
    },
    {
     "data": {
      "text/plain": [
       "[('United States', 8699),\n",
       " ('Great Britain', 2249),\n",
       " ('China', 2243),\n",
       " ('France', 2228),\n",
       " ('Germany', 1968),\n",
       " ('Italy', 1762),\n",
       " ('Japan', 1593),\n",
       " ('India', 1518),\n",
       " ('Canada', 1255),\n",
       " ('England', 1084)]"
      ]
     },
     "execution_count": 33,
     "metadata": {},
     "output_type": "execute_result"
    }
   ],
   "source": [
    "subject_places_counts = Counter()\n",
    "\n",
    "for m in tqdm(work_metadata.values()):\n",
    "    subject_places_counts.update(m.get('subject_places', []))\n",
    "    \n",
    "subject_places_counts.most_common(10)"
   ]
  },
  {
   "cell_type": "markdown",
   "id": "c14bff7b",
   "metadata": {},
   "source": [
    "## First Publish Date"
   ]
  },
  {
   "cell_type": "markdown",
   "id": "ad63b82b",
   "metadata": {},
   "source": [
    "Sometimes we have a date of first publication"
   ]
  },
  {
   "cell_type": "code",
   "execution_count": 34,
   "id": "45c7057f",
   "metadata": {},
   "outputs": [
    {
     "data": {
      "text/plain": [
       "[('Sources of weapon systems innovation in the Department of Defense', '2008'),\n",
       " ('Abstracts', '1996'),\n",
       " ('Councillors, committees, officers and calendar of meetings for 1994/95',\n",
       "  '1994'),\n",
       " ('A stranger and afraid', '1983'),\n",
       " ('Lai zi hai yang de tiao zhan', '2004'),\n",
       " ('Diseases of cereal crops in Washington', '1964'),\n",
       " ('Household insects and their control', '1958'),\n",
       " ('Report from the Committee on the Woollen Manufacture of England', '1968'),\n",
       " ('Prameyaratnamala', '1964'),\n",
       " ('Nihon geinō yukue fumei', '1987')]"
      ]
     },
     "execution_count": 34,
     "metadata": {},
     "output_type": "execute_result"
    }
   ],
   "source": [
    "[(m['title'], m['first_publish_date']) for m in work_metadata.values() if 'first_publish_date' in m][:10]"
   ]
  },
  {
   "cell_type": "markdown",
   "id": "6dc26771",
   "metadata": {},
   "source": [
    "## Library of Congress Classifications\n",
    "\n",
    "Library of Congress has a [classification system](https://www.loc.gov/catdir/cpso/lcc.html) with a [public outline](https://www.loc.gov/catdir/cpso/lcco/)\n",
    "\n",
    "For example `U393 .L378 2008` means\n",
    "\n",
    "* U3 - Military Science (General), weapons\n",
    "* .L3 - Education (Reports)\n",
    "* 2008 Publication Date \n",
    "\n",
    "Or `PR6011.R293 Z477 1983`\n",
    "\n",
    "* PR6011 - English Literature 1900-1960\n",
    "* .R293 - (subtopic) History of medicine. Medical expeditions\n",
    "* Z477 - Book industries and trade - Bookselling and publishing\n",
    "* 1983 - Publication year"
   ]
  },
  {
   "cell_type": "code",
   "execution_count": 35,
   "id": "9cfc4a26",
   "metadata": {},
   "outputs": [
    {
     "data": {
      "text/plain": [
       "[('Sources of weapon systems innovation in the Department of Defense',\n",
       "  ['U393 .L378 2008']),\n",
       " ('A stranger and afraid', ['PR6011.R293 Z477 1983']),\n",
       " ('Lai zi hai yang de tiao zhan', ['HF1604 .Z243 2004']),\n",
       " ('Prameyaratnamala', ['B132 N8 M4 1964']),\n",
       " ('Nihon geinō yukue fumei', ['PN2923 .N3 1987 <Orien Japan>']),\n",
       " ('La brousse, le champ et la jachère au Burkina Faso',\n",
       "  ['HN828.A8 D86 2007']),\n",
       " ('Hombre a la par', ['PQ7798.17 U4 H6']),\n",
       " ('Die politische Entwicklung des ungarländischen Deutschtums während der Revolution 1918/19',\n",
       "  ['DB926.5 G3 S26']),\n",
       " ('Effects of an increase in the tax base for unemployment compensation in Illinois',\n",
       "  ['HD7096.U6 I32 1967']),\n",
       " ('ʻĀšūrāʾ-Feiern im Libanon', ['DS80.4 .R56 1993'])]"
      ]
     },
     "execution_count": 35,
     "metadata": {},
     "output_type": "execute_result"
    }
   ],
   "source": [
    "[(m['title'], m['lc_classifications']) for m in work_metadata.values() if 'lc_classifications' in m][:10]"
   ]
  },
  {
   "cell_type": "markdown",
   "id": "af323292",
   "metadata": {},
   "source": [
    "## Subject Times"
   ]
  },
  {
   "cell_type": "markdown",
   "id": "69d7474c",
   "metadata": {},
   "source": [
    "A period to which the work applies"
   ]
  },
  {
   "cell_type": "code",
   "execution_count": 36,
   "id": "835ad77f",
   "metadata": {},
   "outputs": [
    {
     "data": {
      "text/plain": [
       "[('Peuples et nations du monde', ['647-1517']),\n",
       " ('Sources of weapon systems innovation in the Department of Defense',\n",
       "  ['20th century']),\n",
       " ('A stranger and afraid', ['20th century']),\n",
       " ('Lai zi hai yang de tiao zhan', ['1368-1644']),\n",
       " ('Nihon geinō yukue fumei', ['19th century']),\n",
       " ('Die politische Entwicklung des ungarländischen Deutschtums während der Revolution 1918/19',\n",
       "  ['Revolution, 1918-1919']),\n",
       " (\"La fiction de l'Occident : Thomas Mann, Franz Kafka, Albert Cohen\",\n",
       "  ['20th century']),\n",
       " ('A nagy év sodrában', ['Uprising of 1848-1849']),\n",
       " ('Le nouveau Chili sous le gouvernement Frei, 1964-1970', ['1920-1970']),\n",
       " ('Deutschland in Ketten', ['1918-1945', 'Revolution, 1918'])]"
      ]
     },
     "execution_count": 36,
     "metadata": {},
     "output_type": "execute_result"
    }
   ],
   "source": [
    "[(m['title'], m['subject_times']) for m in work_metadata.values() if 'subject_times' in m][:10]"
   ]
  },
  {
   "cell_type": "markdown",
   "id": "2575c169",
   "metadata": {},
   "source": [
    "Often a century"
   ]
  },
  {
   "cell_type": "code",
   "execution_count": 37,
   "id": "23ef117c",
   "metadata": {},
   "outputs": [
    {
     "data": {
      "application/vnd.jupyter.widget-view+json": {
       "model_id": "16dd98e203924761bb3e2583e4a45611",
       "version_major": 2,
       "version_minor": 0
      },
      "text/plain": [
       "  0%|          | 0/252476 [00:00<?, ?it/s]"
      ]
     },
     "metadata": {},
     "output_type": "display_data"
    },
    {
     "data": {
      "text/plain": [
       "[('20th century', 4212),\n",
       " ('19th century', 1397),\n",
       " ('18th century', 548),\n",
       " ('21st century', 488),\n",
       " ('1945-', 423),\n",
       " ('17th century', 326),\n",
       " ('16th century', 234),\n",
       " ('Civil War, 1861-1865', 201),\n",
       " ('1991-', 166),\n",
       " ('To 1500', 157)]"
      ]
     },
     "execution_count": 37,
     "metadata": {},
     "output_type": "execute_result"
    }
   ],
   "source": [
    "subject_places_counts = Counter()\n",
    "\n",
    "for m in tqdm(work_metadata.values()):\n",
    "    subject_places_counts.update(m.get('subject_times', []))\n",
    "    \n",
    "subject_places_counts.most_common(10)"
   ]
  },
  {
   "cell_type": "markdown",
   "id": "220191bd",
   "metadata": {},
   "source": [
    "## Dewey Number"
   ]
  },
  {
   "cell_type": "markdown",
   "id": "7fdee87e",
   "metadata": {},
   "source": [
    "We can look up the top level [Dewey Decimal Classes](https://en.wikipedia.org/wiki/List_of_Dewey_Decimal_classes)\n",
    "\n",
    "e.g. 355 is Social sciences > Public administration and military science > Military science"
   ]
  },
  {
   "cell_type": "code",
   "execution_count": 38,
   "id": "3660c9de",
   "metadata": {},
   "outputs": [
    {
     "data": {
      "text/plain": [
       "[('Sources of weapon systems innovation in the Department of Defense',\n",
       "  ['355/.07097309045']),\n",
       " ('A stranger and afraid', ['821/.914', 'B']),\n",
       " ('Report from the Committee on the Woollen Manufacture of England',\n",
       "  ['338.47/677310942073']),\n",
       " ('Effects of an increase in the tax base for unemployment compensation in Illinois',\n",
       "  ['368.4/4']),\n",
       " ('Municipal water systems in Washington State', ['628.1']),\n",
       " (\"La fiction de l'Occident : Thomas Mann, Franz Kafka, Albert Cohen\",\n",
       "  ['809.3/041']),\n",
       " ('Ferrocement--materials and applications', ['620.1/37']),\n",
       " ('La coopération militaire française en question', ['355/.031/0944']),\n",
       " (\"Mother West Wind's children\", ['823/.9/1']),\n",
       " ('Antonio Tabucchi', ['853'])]"
      ]
     },
     "execution_count": 38,
     "metadata": {},
     "output_type": "execute_result"
    }
   ],
   "source": [
    "[(m['title'], m['dewey_number']) for m in work_metadata.values() if 'dewey_number' in m][:10]"
   ]
  },
  {
   "cell_type": "markdown",
   "id": "b8b9326d",
   "metadata": {},
   "source": [
    "## Description"
   ]
  },
  {
   "cell_type": "markdown",
   "id": "5ed1141a",
   "metadata": {},
   "source": [
    "The description is sometimes a subject summary, other times a blurb."
   ]
  },
  {
   "cell_type": "code",
   "execution_count": 39,
   "id": "ec09cc21",
   "metadata": {},
   "outputs": [
    {
     "data": {
      "text/plain": [
       "[('Jabal Nafūsah',\n",
       "  {'type': '/type/text',\n",
       "   'value': 'Nefusa mountain (Morocco); history; 442-1053.'}),\n",
       " ('Life of Tecumseh, and His Brother the Prophet',\n",
       "  {'type': '/type/text',\n",
       "   'value': 'Benjamin Drake was an early settler in Cincinnati and a newspaper editor, who also wrote books on Cincinnati, Black Hawk and William Henry Harrison. Although the publication date of this book was 1853, the author had finished the book in 1841 and conducted his research in the 1820s and 1830s, interviewing a number of people who were personally acquainted with both Tecumseh and the Prophet. The anecdotes he heard are included here.'}),\n",
       " ('Border crossing',\n",
       "  {'type': '/type/text',\n",
       "   'value': \"Manz, a troubled fifteen-year-old, ruminates over his Mexican father's death, his mother's drinking, and his stillborn stepbrother until the voices he hears in his head take over and he cannot tell reality from delusion.\"}),\n",
       " ('al-Milkīyah al-fikrīyah',\n",
       "  {'type': '/type/text', 'value': 'Intellectual property; Sudan.'}),\n",
       " ('Daddy is a cozy hug',\n",
       "  {'type': '/type/text',\n",
       "   'value': 'A child celebrates all of the wonderful things a father can be throughout the year, from a wiggling fish in summer to a warm blanket in winter.'}),\n",
       " ('Crown of Shadows (The Coldfire Trilogy, Book 3)',\n",
       "  {'type': '/type/text',\n",
       "   'value': 'The stunning conclusion of the Coldfire trilogy. Warrior-priest Damien Vryce must once again unite with his unlikely ally, undead sorcerer Gerald Tarrant, to degfeat a genocidal demon who may prove to be invulnerable. If they lose this epic struggle which will take them from the depths of Hell to the birthplace of demons and beyond, they will sacrifice not only their lives, but the very soul of all mankind.'}),\n",
       " (\"The Rich Man's Blackmailed Mistress\",\n",
       "  {'type': '/type/text',\n",
       "   'value': \"Kain Gerrard—mesmerizing, sexy and filthy rich—can have any woman he wants! So taming Sable Martin shouldn't be a problem. The scandalous gold digger has used her sensual charms to blackmail his cousin, and Kain is set on revenge.His plan is perfect—until he comes face-to-face with Sable. The scheming temptress is in his sights, but as she looks up at him with those enchanting doe eyes, he realizes she isn't quite the seductress he thought—he's blackmailed an innocent into his bed!\"}),\n",
       " ('Những gương mặt thân yêu',\n",
       "  {'type': '/type/text',\n",
       "   'value': \"Author's personal narrative about the famous writers in Vietnam.\"}),\n",
       " ('Horse whispers',\n",
       "  {'type': '/type/text',\n",
       "   'value': 'When Carole rides a new mare at the Bar None Ranch, she discovers that although the mare is well-trained, she still has something wild in her. When the mare disappear, the Saddle Club must find her, and when they do, they must decide whether to give her the freedom she wants or find a way to make her give up the wild life.'}),\n",
       " ('London labour and the London poor',\n",
       "  {'type': '/type/text',\n",
       "   'value': \"An extraordinary work of investigative journalism, literature, and sociology, London Labour and the London Poor originated in a series of articles for a local newspaper and grew into a massive record of the daily life of Victorian London's underclass. By turns alarming, touching, and funny, the pages of London Labour and the London Poor exposed a previously hidden world. Henry Mayhew conducted hundreds of interviews that provided a first-hand account of costermongers and street-sellers, of sewer-scavengers and chimney-sweeps, creating an intimate and detailed portrait that offered unprecedented insight into their day-to-day struggle for survival. Combined with Mayhew's comprehensive data gathering, these stories have an immediacy that owes much to his sympathetic understanding and effective literary style. This new selection offers a cross-section of the original volumes and their evocative illustrations, including among other features an introduction by Robert Douglas-Fairhurst that illuminates Mayhew's life and career, the genesis and development of the book, and its influence on contemporaries such as Dickens and Kingsley. - Publisher.\"})]"
      ]
     },
     "execution_count": 39,
     "metadata": {},
     "output_type": "execute_result"
    }
   ],
   "source": [
    "[(m['title'], m['description']) for m in work_metadata.values() if 'description' in m][:10]"
   ]
  },
  {
   "cell_type": "code",
   "execution_count": 40,
   "id": "e87372d9",
   "metadata": {},
   "outputs": [
    {
     "data": {
      "application/vnd.jupyter.widget-view+json": {
       "model_id": "227b8a65287244ce99319c275ef25815",
       "version_major": 2,
       "version_minor": 0
      },
      "text/plain": [
       "  0%|          | 0/252476 [00:00<?, ?it/s]"
      ]
     },
     "metadata": {},
     "output_type": "display_data"
    },
    {
     "data": {
      "text/plain": [
       "[('/type/text', 10472), (None, 308)]"
      ]
     },
     "execution_count": 40,
     "metadata": {},
     "output_type": "execute_result"
    }
   ],
   "source": [
    "description_type_counts = Counter()\n",
    "\n",
    "for m in tqdm(work_metadata.values()):\n",
    "    if 'description' in m:\n",
    "        if isinstance(m['description'], dict):\n",
    "            description_type_counts.update([m['description']['type']])\n",
    "        else:\n",
    "            description_type_counts.update([None])\n",
    "    \n",
    "description_type_counts.most_common(10)"
   ]
  },
  {
   "cell_type": "markdown",
   "id": "0cde3c49",
   "metadata": {},
   "source": [
    "## Subtitle"
   ]
  },
  {
   "cell_type": "markdown",
   "id": "0388e1c8",
   "metadata": {},
   "source": [
    "What it says on the tin"
   ]
  },
  {
   "cell_type": "code",
   "execution_count": 41,
   "id": "75042ce6",
   "metadata": {},
   "outputs": [
    {
     "data": {
      "text/plain": [
       "[('Guan cai dao =', \"L'île aux trente cercueils\"),\n",
       " ('Peuples et nations du monde',\n",
       "  \"la conception de l'histoire, les Arabes du Machrek et leurs contemporains, les Arabes du Maghrib et les Berbères\"),\n",
       " ('Employment promotion in the South Pacific region',\n",
       "  'some problems and perspectives'),\n",
       " ('A stranger and afraid', 'the autobiography of an intellectual'),\n",
       " ('Life of Tecumseh, and His Brother the Prophet',\n",
       "  'And of His Brother the ..'),\n",
       " ('Für Recht und Gestz', 'bedeutende Rechtsgestalter aus Bamberg'),\n",
       " ('Constitution',\n",
       "  'As approved by the All India Congress Committee at its session held on August 31, September 1 & 2, 1957.'),\n",
       " ('The government reply to the First report from the Home Affairs Committee, session 1982-83, H.C. 32-I',\n",
       "  'Representation of the People Acts'),\n",
       " ('Climate crisis', 'the science of global warming'),\n",
       " ('Two for the road', 'in the wagon-tracks of de Mist and Lichtenstein')]"
      ]
     },
     "execution_count": 41,
     "metadata": {},
     "output_type": "execute_result"
    }
   ],
   "source": [
    "[(m['title'], m['subtitle']) for m in work_metadata.values() if 'subtitle' in m][:10]"
   ]
  },
  {
   "cell_type": "markdown",
   "id": "93f122a1",
   "metadata": {},
   "source": [
    "# Edition Keys"
   ]
  },
  {
   "cell_type": "code",
   "execution_count": 42,
   "id": "f889bfb6",
   "metadata": {},
   "outputs": [
    {
     "data": {
      "application/vnd.jupyter.widget-view+json": {
       "model_id": "86894eee5181468089e2cbf402417ca8",
       "version_major": 2,
       "version_minor": 0
      },
      "text/plain": [
       "  0%|          | 0/329009 [00:00<?, ?it/s]"
      ]
     },
     "metadata": {},
     "output_type": "display_data"
    },
    {
     "data": {
      "text/plain": [
       "{'last_modified': 1.0,\n",
       " 'key': 1.0,\n",
       " 'latest_revision': 1.0,\n",
       " 'works': 1.0,\n",
       " 'type': 1.0,\n",
       " 'revision': 1.0,\n",
       " 'title': 0.9999422508198864,\n",
       " 'publish_date': 0.9751131428015647,\n",
       " 'publishers': 0.9627700154099128,\n",
       " 'created': 0.919300079937023,\n",
       " 'authors': 0.8851611961982803,\n",
       " 'languages': 0.8592713269241875,\n",
       " 'number_of_pages': 0.719560863076694,\n",
       " 'source_records': 0.7063332614001441,\n",
       " 'pagination': 0.6173235382618713,\n",
       " 'subjects': 0.6041172125990475,\n",
       " 'publish_places': 0.5778686905221437,\n",
       " 'publish_country': 0.5676470856420341,\n",
       " 'lc_classifications': 0.48772829922585703,\n",
       " 'isbn_13': 0.462154530727123,\n",
       " 'isbn_10': 0.4474284897981514,\n",
       " 'by_statement': 0.4308119230780921,\n",
       " 'notes': 0.42326501706640246,\n",
       " 'subtitle': 0.417602557984736,\n",
       " 'lccn': 0.35771969763745065,\n",
       " 'covers': 0.32590901768644626,\n",
       " 'identifiers': 0.2548592895635074,\n",
       " 'physical_format': 0.24709962341455705,\n",
       " 'oclc_numbers': 0.2408262387958992,\n",
       " 'contributions': 0.2276867806047859,\n",
       " 'series': 0.2032588774167272,\n",
       " 'full_title': 0.19777270530593388,\n",
       " 'dewey_decimal_class': 0.18325030622262614,\n",
       " 'ocaid': 0.1511478409405214,\n",
       " 'edition_name': 0.14276509153245048,\n",
       " 'weight': 0.13140370020273,\n",
       " 'subject_place': 0.09214337601706944,\n",
       " 'other_titles': 0.08031999124644007,\n",
       " 'physical_dimensions': 0.0780161029029601,\n",
       " 'subject_places': 0.04122379630952345,\n",
       " 'genres': 0.038059749125403865,\n",
       " 'description': 0.03589263515587719,\n",
       " 'local_id': 0.03410545000288746,\n",
       " 'title_prefix': 0.03379238865806103,\n",
       " 'table_of_contents': 0.030701287806716535,\n",
       " 'classifications': 0.025354929500408803,\n",
       " 'subject_time': 0.020376342288508827,\n",
       " 'location': 0.017136309341081856,\n",
       " 'oclc_number': 0.01711199389682349,\n",
       " 'work_titles': 0.016902273190095105,\n",
       " 'url': 0.015112048606573072,\n",
       " 'first_sentence': 0.014963116510490595,\n",
       " 'ia_box_id': 0.014294441793385591,\n",
       " 'subject_people': 0.011917607117130535,\n",
       " 'subject_times': 0.01075958408432596}"
      ]
     },
     "execution_count": 42,
     "metadata": {},
     "output_type": "execute_result"
    }
   ],
   "source": [
    "edition_key_counts = Counter()\n",
    "\n",
    "for m in tqdm(edition_metadata.values()):\n",
    "    edition_key_counts.update(m.keys())\n",
    "\n",
    "{k:v/len(edition_metadata) for k,v in edition_key_counts.most_common() if v/len(edition_metadata) > 0.01}"
   ]
  },
  {
   "cell_type": "markdown",
   "id": "254126b6",
   "metadata": {},
   "source": [
    "## Works\n",
    "\n",
    "Number of works"
   ]
  },
  {
   "cell_type": "markdown",
   "id": "2920eb7b",
   "metadata": {},
   "source": [
    "Almost all editions have a single work"
   ]
  },
  {
   "cell_type": "code",
   "execution_count": 43,
   "id": "6c595b71",
   "metadata": {},
   "outputs": [
    {
     "data": {
      "application/vnd.jupyter.widget-view+json": {
       "model_id": "aaef9a3e3dd345ba9d695a9d31ee9498",
       "version_major": 2,
       "version_minor": 0
      },
      "text/plain": [
       "  0%|          | 0/329009 [00:00<?, ?it/s]"
      ]
     },
     "metadata": {},
     "output_type": "display_data"
    },
    {
     "data": {
      "text/plain": [
       "[(1, 329008), (2, 1)]"
      ]
     },
     "execution_count": 43,
     "metadata": {},
     "output_type": "execute_result"
    }
   ],
   "source": [
    "edition_work_freq_counts = Counter()\n",
    "\n",
    "for m in tqdm(edition_metadata.values()):\n",
    "    edition_work_freq_counts.update([len(m.get('works', []))])\n",
    "\n",
    "    \n",
    "edition_work_freq_counts.most_common(10)"
   ]
  },
  {
   "cell_type": "markdown",
   "id": "f6ef557f",
   "metadata": {},
   "source": [
    "## Missing title"
   ]
  },
  {
   "cell_type": "code",
   "execution_count": 44,
   "id": "4c38d6e2",
   "metadata": {},
   "outputs": [
    {
     "data": {
      "text/plain": [
       "{'covers': [6280228],\n",
       " 'isbn_13': ['9788466636803'],\n",
       " 'key': '/books/OL23978441M',\n",
       " 'type': {'key': '/type/edition'},\n",
       " 'works': [{'key': '/works/OL27712392W'}],\n",
       " 'ocaid': 'lamiradadelculpa0000elli',\n",
       " 'lc_classifications': ['PS3555.L59485 E9418 2008'],\n",
       " 'oclc_numbers': ['244068545'],\n",
       " 'source_records': ['ia:lamiradadelculpa0000elli'],\n",
       " 'latest_revision': 3,\n",
       " 'revision': 3,\n",
       " 'created': {'type': '/type/datetime', 'value': '2009-12-26T09:35:19.163069'},\n",
       " 'last_modified': {'type': '/type/datetime',\n",
       "  'value': '2022-04-08T06:37:55.510386'}}"
      ]
     },
     "execution_count": 44,
     "metadata": {},
     "output_type": "execute_result"
    }
   ],
   "source": [
    "[m for m in edition_metadata.values() if 'title' not in m][0]"
   ]
  },
  {
   "cell_type": "markdown",
   "id": "c356b75c",
   "metadata": {},
   "source": [
    "It looks sime kind of input error."
   ]
  },
  {
   "cell_type": "code",
   "execution_count": 45,
   "id": "1d510c10",
   "metadata": {},
   "outputs": [
    {
     "data": {
      "text/plain": [
       "{'type': {'key': '/type/work'},\n",
       " 'title': 'La mirada del culpable',\n",
       " 'subjects': ['Serial murder investigation',\n",
       "  'Fiction',\n",
       "  'Songs',\n",
       "  'Texts',\n",
       "  'Trials (Murder)',\n",
       "  'Judicial error'],\n",
       " 'covers': [6280228],\n",
       " 'key': '/works/OL27712392W',\n",
       " 'authors': [{'type': {'key': '/type/author_role'},\n",
       "   'author': {'key': '/authors/OL3288848A'}}],\n",
       " 'latest_revision': 1,\n",
       " 'revision': 1,\n",
       " 'created': {'type': '/type/datetime', 'value': '2022-04-08T06:37:55.510386'},\n",
       " 'last_modified': {'type': '/type/datetime',\n",
       "  'value': '2022-04-08T06:37:55.510386'}}"
      ]
     },
     "execution_count": 45,
     "metadata": {},
     "output_type": "execute_result"
    }
   ],
   "source": [
    "work_metadata['/works/OL27712392W']"
   ]
  },
  {
   "cell_type": "markdown",
   "id": "a1676b98",
   "metadata": {},
   "source": [
    "## Publish Date"
   ]
  },
  {
   "cell_type": "markdown",
   "id": "4e7a6f70",
   "metadata": {},
   "source": [
    "The publish date is in a human readable format."
   ]
  },
  {
   "cell_type": "code",
   "execution_count": 46,
   "id": "05ddc96c",
   "metadata": {},
   "outputs": [
    {
     "data": {
      "text/plain": [
       "['June 7, 1999',\n",
       " 'December 31, 1992',\n",
       " 'December 31, 1983',\n",
       " 'December 1980',\n",
       " 'June 1999',\n",
       " 'June 1999',\n",
       " '2000',\n",
       " 'December 30, 2006',\n",
       " '1992',\n",
       " 'January 1997']"
      ]
     },
     "execution_count": 46,
     "metadata": {},
     "output_type": "execute_result"
    }
   ],
   "source": [
    "[m['publish_date'] for m in edition_metadata.values() if 'publish_date' in m][:10]"
   ]
  },
  {
   "cell_type": "markdown",
   "id": "f945129c",
   "metadata": {},
   "source": [
    "There are a *lot* of records for things published in 2021. There's a long decay"
   ]
  },
  {
   "cell_type": "code",
   "execution_count": 47,
   "id": "4838821f",
   "metadata": {},
   "outputs": [],
   "source": [
    "import re"
   ]
  },
  {
   "cell_type": "code",
   "execution_count": 48,
   "id": "bf20f9ad",
   "metadata": {},
   "outputs": [
    {
     "data": {
      "text/plain": [
       "[('2021', 12089),\n",
       " ('2020', 7689),\n",
       " ('2007', 7215),\n",
       " ('2018', 7016),\n",
       " ('2006', 6730),\n",
       " ('2005', 6538),\n",
       " ('2000', 6494),\n",
       " ('2003', 6219),\n",
       " ('2004', 6094),\n",
       " ('2001', 6036),\n",
       " ('2002', 5995),\n",
       " ('2019', 5948),\n",
       " ('2012', 5916),\n",
       " ('1999', 5652),\n",
       " ('2013', 5648),\n",
       " ('2009', 5622),\n",
       " ('2010', 5576),\n",
       " ('2011', 5545),\n",
       " ('2008', 5355),\n",
       " ('1998', 5277)]"
      ]
     },
     "execution_count": 48,
     "metadata": {},
     "output_type": "execute_result"
    }
   ],
   "source": [
    "year_matches = [re.search(r'\\b[12][0-9]{3}\\b', m.get('publish_date', '')) for m in edition_metadata.values() if 'publish_date' in m]\n",
    "years = Counter([match.group(0) for match in year_matches if match])\n",
    "years.most_common(20)"
   ]
  },
  {
   "cell_type": "code",
   "execution_count": 49,
   "id": "109c551d",
   "metadata": {},
   "outputs": [],
   "source": [
    "import matplotlib.pyplot as plt"
   ]
  },
  {
   "cell_type": "code",
   "execution_count": 50,
   "id": "0f819270",
   "metadata": {},
   "outputs": [
    {
     "data": {
      "image/png": "[encoded data removed]",
      "text/plain": [
       "<Figure size 432x288 with 1 Axes>"
      ]
     },
     "metadata": {
      "needs_background": "light"
     },
     "output_type": "display_data"
    }
   ],
   "source": [
    "plt.scatter([float(y) for y in years], years.values())\n",
    "plt.yscale('log')"
   ]
  },
  {
   "cell_type": "code",
   "execution_count": 51,
   "id": "79c17b4f",
   "metadata": {},
   "outputs": [
    {
     "data": {
      "text/plain": [
       "'1039'"
      ]
     },
     "execution_count": 51,
     "metadata": {},
     "output_type": "execute_result"
    }
   ],
   "source": [
    "min(years)"
   ]
  },
  {
   "cell_type": "code",
   "execution_count": 52,
   "id": "80dd31da",
   "metadata": {},
   "outputs": [
    {
     "data": {
      "text/plain": [
       "[{'publishers': ['E. Droz'],\n",
       "  'series': ['Societe des Textes francais modernes'],\n",
       "  'covers': [9760480],\n",
       "  'full_title': \"Reveries sur la nature primitive de l'homme\",\n",
       "  'last_modified': {'type': '/type/datetime',\n",
       "   'value': '2020-05-19T06:55:44.565733'},\n",
       "  'latest_revision': 3,\n",
       "  'key': '/books/OL26548376M',\n",
       "  'authors': [{'key': '/authors/OL127408A'}],\n",
       "  'ocaid': 'reveriessurlanat0001sena',\n",
       "  'publish_places': ['Paris'],\n",
       "  'edition_name': '[2 ed.] ; ed. critique par Joachim Merlant.',\n",
       "  'pagination': '2 v.',\n",
       "  'source_records': ['marc:OpenLibraries-Trent-MARCs/tier1.mrc:21119709:627',\n",
       "   'ia:reveriessurlanat0001sena'],\n",
       "  'title': \"Reveries sur la nature primitive de l'homme\",\n",
       "  'notes': {'type': '/type/text', 'value': 'Vol. 2 edited by G. Saintville.'},\n",
       "  'created': {'type': '/type/datetime', 'value': '2018-11-15T12:04:43.459477'},\n",
       "  'languages': [{'key': '/languages/fre'}],\n",
       "  'local_id': ['urn:trent:0116302388214'],\n",
       "  'subject_people': ['Joachim Merlant (1875-1919)'],\n",
       "  'publish_country': 'fr',\n",
       "  'publish_date': '1039',\n",
       "  'works': [{'key': '/works/OL17955603W'}],\n",
       "  'type': {'key': '/type/edition'},\n",
       "  'revision': 3}]"
      ]
     },
     "execution_count": 52,
     "metadata": {},
     "output_type": "execute_result"
    }
   ],
   "source": [
    "[m for m in edition_metadata.values() if '1039' in m.get('publish_date','')]"
   ]
  },
  {
   "cell_type": "markdown",
   "id": "db6f437a",
   "metadata": {},
   "source": [
    "## Publishers"
   ]
  },
  {
   "cell_type": "markdown",
   "id": "9589d23e",
   "metadata": {},
   "source": [
    "The publishers is a list of names"
   ]
  },
  {
   "cell_type": "code",
   "execution_count": 53,
   "id": "ebcdce11",
   "metadata": {},
   "outputs": [
    {
     "data": {
      "text/plain": [
       "[['Stationery Office Books'],\n",
       " ['Stationery Office Books'],\n",
       " ['Elsevier'],\n",
       " ['Academic Press Inc.,U.S.'],\n",
       " ['Penguin UK'],\n",
       " ['Holt Rinehart & Winston'],\n",
       " ['[U.S. G.P.O., Supt. of Docs., Congressional Sales Office, distributor]'],\n",
       " ['Praeger Publishers'],\n",
       " ['Izd-vo MGU'],\n",
       " ['Random House Trade']]"
      ]
     },
     "execution_count": 53,
     "metadata": {},
     "output_type": "execute_result"
    }
   ],
   "source": [
    "[m['publishers'] for m in edition_metadata.values() if 'publishers' in m][:10]"
   ]
  },
  {
   "cell_type": "code",
   "execution_count": 54,
   "id": "9762970b",
   "metadata": {},
   "outputs": [
    {
     "data": {
      "application/vnd.jupyter.widget-view+json": {
       "model_id": "82fbf4a210454a0f8cdb4b19a63babf4",
       "version_major": 2,
       "version_minor": 0
      },
      "text/plain": [
       "  0%|          | 0/329009 [00:00<?, ?it/s]"
      ]
     },
     "metadata": {},
     "output_type": "display_data"
    },
    {
     "data": {
      "text/plain": [
       "[('Independently Published', 11962),\n",
       " ('Taylor & Francis Group', 6102),\n",
       " ('Springer', 2780),\n",
       " ('CreateSpace Independent Publishing Platform', 2113),\n",
       " ('[s.n.]', 2064),\n",
       " ('U.S. G.P.O.', 1688),\n",
       " ('Cambridge University Press', 1444),\n",
       " ('s.n.', 1439),\n",
       " ('Oxford University Press', 1386),\n",
       " ('Independently published', 1201)]"
      ]
     },
     "execution_count": 54,
     "metadata": {},
     "output_type": "execute_result"
    }
   ],
   "source": [
    "publishers_counts = Counter()\n",
    "\n",
    "for m in tqdm(edition_metadata.values()):\n",
    "    publishers_counts.update(m.get('publishers', []))\n",
    "    \n",
    "publishers_counts.most_common(10)"
   ]
  },
  {
   "cell_type": "markdown",
   "id": "791b37ac",
   "metadata": {},
   "source": [
    "Publishers are very long tailed; many publishers occur only once"
   ]
  },
  {
   "cell_type": "code",
   "execution_count": 55,
   "id": "74018755",
   "metadata": {},
   "outputs": [
    {
     "data": {
      "text/plain": [
       "[(1, 86775),\n",
       " (2, 13413),\n",
       " (3, 5049),\n",
       " (4, 2772),\n",
       " (5, 1639),\n",
       " (6, 1090),\n",
       " (7, 735),\n",
       " (8, 597),\n",
       " (9, 495),\n",
       " (10, 341),\n",
       " (11, 318),\n",
       " (12, 266),\n",
       " (13, 220),\n",
       " (14, 178),\n",
       " (15, 164),\n",
       " (16, 128),\n",
       " (17, 113),\n",
       " (18, 113),\n",
       " (19, 100),\n",
       " (20, 98)]"
      ]
     },
     "execution_count": 55,
     "metadata": {},
     "output_type": "execute_result"
    }
   ],
   "source": [
    "Counter(publishers_counts.values()).most_common(20)"
   ]
  },
  {
   "cell_type": "markdown",
   "id": "54f1f57c",
   "metadata": {},
   "source": [
    "And there are many variations of a publishers name; they're not unique."
   ]
  },
  {
   "cell_type": "code",
   "execution_count": 56,
   "id": "63619405",
   "metadata": {},
   "outputs": [
    {
     "data": {
      "text/plain": [
       "[('Taylor & Francis Group', 6102),\n",
       " ('Taylor & Francis', 108),\n",
       " ('Taylor & Francis Books Ltd', 8),\n",
       " ('Taylor & Francis Inc', 14),\n",
       " ('Taylor & Francis Ltd', 19),\n",
       " ('Taylor&Francis', 2),\n",
       " ('CRC Press, Taylor & Francis Group', 3),\n",
       " ('CRC/Taylor & Francis', 5),\n",
       " ('Taylor and Francis', 4),\n",
       " ('Routledge,an imprint of Taylor & Francis Books Ltd', 2),\n",
       " ('CRC Press/Taylor & Francis', 1),\n",
       " ('Printed by Taylor and Francis, pub. by the author', 1),\n",
       " ('Distributed by Taylor & Francis in USA', 1),\n",
       " ('Taylor & Francis A CRC title, part of the Taylor & Francis imprint, a member of the Taylor & Francis Group, the academic division of T&F Informa, plc',\n",
       "  1),\n",
       " ('Taylor & Francis Group Plc', 8),\n",
       " ('Routledge, Taylor and Francis Group', 2),\n",
       " ('Lawrence Erlbaum Associates /Taylor & Francis Group', 1),\n",
       " ('Taylor and Francise', 1),\n",
       " ('CRC Press,Taylor & Francis', 1),\n",
       " ('CRC Press/Taylor & Francis Group', 1),\n",
       " ('Taylor & Francis Publishing', 1),\n",
       " ('Taylor & Francis, Inc.', 2),\n",
       " ('Distributed in North and South America by Taylor & Francis', 1),\n",
       " ('Printed by Richard Taylor and William Francis', 1)]"
      ]
     },
     "execution_count": 56,
     "metadata": {},
     "output_type": "execute_result"
    }
   ],
   "source": [
    "[(a, c) for a,c in publishers_counts.items() if 'Francis' in a and 'Taylor' in a]"
   ]
  },
  {
   "cell_type": "code",
   "execution_count": 57,
   "id": "0c113ef5",
   "metadata": {},
   "outputs": [
    {
     "data": {
      "text/plain": [
       "[('Oxford University Press', 1386),\n",
       " ('Oxford University Press, Incorporated', 137),\n",
       " ('Oxford University Press, USA', 297),\n",
       " ('H. Milford, Oxford University Press', 11),\n",
       " ('Oxford Brookes University', 41),\n",
       " ('Oxford University Press Australia & New Zealand', 18),\n",
       " ('Oxford university press', 12),\n",
       " ('Oxford U.P.', 19)]"
      ]
     },
     "execution_count": 57,
     "metadata": {},
     "output_type": "execute_result"
    }
   ],
   "source": [
    "[(a, c) for a,c in publishers_counts.items() if 'Oxford' in a and c>10]"
   ]
  },
  {
   "cell_type": "markdown",
   "id": "6aef921a",
   "metadata": {},
   "source": [
    "## Created"
   ]
  },
  {
   "cell_type": "markdown",
   "id": "981b0bad",
   "metadata": {},
   "source": [
    "I *suspect* this was when the record was first created"
   ]
  },
  {
   "cell_type": "code",
   "execution_count": 58,
   "id": "99560441",
   "metadata": {},
   "outputs": [
    {
     "data": {
      "text/plain": [
       "[({'type': '/type/datetime', 'value': '2008-04-30T09:38:13.731961'},\n",
       "  'June 7, 1999'),\n",
       " ({'type': '/type/datetime', 'value': '2008-04-30T09:38:13.731961'},\n",
       "  'December 31, 1992'),\n",
       " ({'type': '/type/datetime', 'value': '2008-04-30T09:38:13.731961'},\n",
       "  'December 31, 1983'),\n",
       " ({'type': '/type/datetime', 'value': '2008-04-30T09:38:13.731961'},\n",
       "  'December 1980'),\n",
       " ({'type': '/type/datetime', 'value': '2008-04-30T09:38:13.731961'},\n",
       "  'June 1999'),\n",
       " ({'type': '/type/datetime', 'value': '2008-04-30T09:38:13.731961'}, '2000'),\n",
       " ({'type': '/type/datetime', 'value': '2008-04-30T09:38:13.731961'},\n",
       "  'December 30, 2006'),\n",
       " ({'type': '/type/datetime', 'value': '2008-04-01T03:28:50.625462'}, '1992'),\n",
       " ({'type': '/type/datetime', 'value': '2008-04-30T09:38:13.731961'},\n",
       "  'June 1984'),\n",
       " ({'type': '/type/datetime', 'value': '2008-04-30T09:38:13.731961'}, '1980')]"
      ]
     },
     "execution_count": 58,
     "metadata": {},
     "output_type": "execute_result"
    }
   ],
   "source": [
    "[(m['created'], m.get('publish_date')) for m in edition_metadata.values() if 'created' in m][:10]"
   ]
  },
  {
   "cell_type": "markdown",
   "id": "740b2db2",
   "metadata": {},
   "source": [
    "## Authors"
   ]
  },
  {
   "cell_type": "code",
   "execution_count": 59,
   "id": "22299e4f",
   "metadata": {},
   "outputs": [
    {
     "data": {
      "text/plain": [
       "[[{'key': '/authors/OL46053A'}],\n",
       " [{'key': '/authors/OL46053A'}],\n",
       " [{'key': '/authors/OL3365058A'}],\n",
       " [{'key': '/authors/OL2657364A'}],\n",
       " [{'key': '/authors/OL2661014A'}],\n",
       " [{'key': '/authors/OL18485A'}],\n",
       " [{'key': '/authors/OL371815A'}],\n",
       " [{'key': '/authors/OL1127220A'}],\n",
       " [{'key': '/authors/OL3434419A'}],\n",
       " [{'key': '/authors/OL894056A'}]]"
      ]
     },
     "execution_count": 59,
     "metadata": {},
     "output_type": "execute_result"
    }
   ],
   "source": [
    "[m['authors'] for m in edition_metadata.values() if 'authors' in m][:10]"
   ]
  },
  {
   "cell_type": "code",
   "execution_count": 60,
   "id": "76676aba",
   "metadata": {},
   "outputs": [
    {
     "data": {
      "application/vnd.jupyter.widget-view+json": {
       "model_id": "22a0421cea9f401c8375303ecda52939",
       "version_major": 2,
       "version_minor": 0
      },
      "text/plain": [
       "  0%|          | 0/329009 [00:00<?, ?it/s]"
      ]
     },
     "metadata": {},
     "output_type": "display_data"
    },
    {
     "data": {
      "text/plain": [
       "[('key', 325419)]"
      ]
     },
     "execution_count": 60,
     "metadata": {},
     "output_type": "execute_result"
    }
   ],
   "source": [
    "edition_author_key_counts = Counter()\n",
    "\n",
    "for m in tqdm(edition_metadata.values()):\n",
    "    for author in m.get('authors', []):\n",
    "        edition_author_key_counts.update(list(author))\n",
    "    \n",
    "edition_author_key_counts.most_common(10)"
   ]
  },
  {
   "cell_type": "markdown",
   "id": "2304ba9f",
   "metadata": {},
   "source": [
    "What's the frequency of number of authors"
   ]
  },
  {
   "cell_type": "code",
   "execution_count": 61,
   "id": "940b71eb",
   "metadata": {},
   "outputs": [
    {
     "data": {
      "application/vnd.jupyter.widget-view+json": {
       "model_id": "dd2fa783d7154de4a394be3f1e59cd21",
       "version_major": 2,
       "version_minor": 0
      },
      "text/plain": [
       "  0%|          | 0/329009 [00:00<?, ?it/s]"
      ]
     },
     "metadata": {},
     "output_type": "display_data"
    },
    {
     "data": {
      "text/plain": [
       "[(1, 268703),\n",
       " (0, 37783),\n",
       " (2, 15146),\n",
       " (3, 4800),\n",
       " (4, 1499),\n",
       " (5, 863),\n",
       " (6, 85),\n",
       " (8, 34),\n",
       " (7, 30),\n",
       " (10, 24)]"
      ]
     },
     "execution_count": 61,
     "metadata": {},
     "output_type": "execute_result"
    }
   ],
   "source": [
    "edition_author_freq_counts = Counter()\n",
    "\n",
    "for m in tqdm(edition_metadata.values()):\n",
    "    edition_author_freq_counts.update([len(m.get('authors', []))])\n",
    "\n",
    "    \n",
    "edition_author_freq_counts.most_common(10)"
   ]
  },
  {
   "cell_type": "code",
   "execution_count": 62,
   "id": "6cc11ac3",
   "metadata": {},
   "outputs": [
    {
     "data": {
      "text/plain": [
       "20"
      ]
     },
     "execution_count": 62,
     "metadata": {},
     "output_type": "execute_result"
    }
   ],
   "source": [
    "max(edition_author_freq_counts.keys())"
   ]
  },
  {
   "cell_type": "code",
   "execution_count": 63,
   "id": "37144de2",
   "metadata": {},
   "outputs": [],
   "source": [
    "m = next(iter(edition_metadata.values()))"
   ]
  },
  {
   "cell_type": "code",
   "execution_count": 64,
   "id": "9ff6245d",
   "metadata": {},
   "outputs": [
    {
     "data": {
      "text/plain": [
       "['/authors/OL2656742A']"
      ]
     },
     "execution_count": 64,
     "metadata": {},
     "output_type": "execute_result"
    }
   ],
   "source": [
    "[a['author']['key'] for a in work_metadata[m['works'][0]['key']]['authors']]"
   ]
  },
  {
   "cell_type": "code",
   "execution_count": 65,
   "id": "46cab4de",
   "metadata": {},
   "outputs": [
    {
     "data": {
      "text/plain": [
       "['/authors/OL46053A']"
      ]
     },
     "execution_count": 65,
     "metadata": {},
     "output_type": "execute_result"
    }
   ],
   "source": [
    "[a['key'] for a in m['authors']]"
   ]
  },
  {
   "cell_type": "code",
   "execution_count": 66,
   "id": "e27a9073",
   "metadata": {},
   "outputs": [],
   "source": [
    "a = set()"
   ]
  },
  {
   "cell_type": "code",
   "execution_count": 67,
   "id": "0bbab372",
   "metadata": {},
   "outputs": [
    {
     "data": {
      "text/plain": [
       "<function set.issubset>"
      ]
     },
     "execution_count": 67,
     "metadata": {},
     "output_type": "execute_result"
    }
   ],
   "source": [
    "a.issubset"
   ]
  },
  {
   "cell_type": "markdown",
   "id": "e0b2b58f",
   "metadata": {},
   "source": [
    "Most of the time the work contains at least the authors from the edition"
   ]
  },
  {
   "cell_type": "code",
   "execution_count": 68,
   "id": "4d1c89e7",
   "metadata": {},
   "outputs": [
    {
     "data": {
      "application/vnd.jupyter.widget-view+json": {
       "model_id": "d809caebb5b44b7f98f7e33bb3467c97",
       "version_major": 2,
       "version_minor": 0
      },
      "text/plain": [
       "  0%|          | 0/329009 [00:00<?, ?it/s]"
      ]
     },
     "metadata": {},
     "output_type": "display_data"
    },
    {
     "data": {
      "text/plain": [
       "{'edition_subset': 30640,\n",
       " 'edition_superset': 4095,\n",
       " 'disjoint': 3101,\n",
       " 'equal': 291173}"
      ]
     },
     "execution_count": 68,
     "metadata": {},
     "output_type": "execute_result"
    }
   ],
   "source": [
    "author_work_relationships = {'edition_subset': 0, 'edition_superset': 0, 'disjoint': 0, 'equal': 0}\n",
    "\n",
    "for m in tqdm(edition_metadata.values()):\n",
    "    edition_authors = set(a['key'] for a in m.get('authors', []))\n",
    "    work_authors = set(a['author']['key'] for a in work_metadata[m['works'][0]['key']].get('authors', []) if 'author' in a)\n",
    "    \n",
    "    if edition_authors == work_authors:\n",
    "        relation = 'equal'\n",
    "    elif edition_authors.issubset(work_authors):\n",
    "        relation = 'edition_subset'\n",
    "    elif edition_authors.issuperset(work_authors):\n",
    "        relation = 'edition_superset'\n",
    "    else:\n",
    "        relation = 'disjoint'\n",
    "        \n",
    "    author_work_relationships[relation] += 1\n",
    "        \n",
    "    \n",
    "author_work_relationships"
   ]
  },
  {
   "cell_type": "code",
   "execution_count": 69,
   "id": "a7fe781d",
   "metadata": {},
   "outputs": [
    {
     "data": {
      "application/vnd.jupyter.widget-view+json": {
       "model_id": "93bb621607b44e62ac4301248d2be003",
       "version_major": 2,
       "version_minor": 0
      },
      "text/plain": [
       "  0%|          | 0/329009 [00:00<?, ?it/s]"
      ]
     },
     "metadata": {},
     "output_type": "display_data"
    }
   ],
   "source": [
    "examples = []\n",
    "\n",
    "for m in tqdm(edition_metadata.values()):\n",
    "    edition_authors = set(a['key'] for a in m.get('authors', []))\n",
    "    work_authors = set(a['author']['key'] for a in work_metadata[m['works'][0]['key']].get('authors', []) if 'author' in a)\n",
    "    \n",
    "    \n",
    "    \n",
    "    if edition_authors == work_authors:\n",
    "        relation = 'equal'\n",
    "    elif edition_authors.issubset(work_authors):\n",
    "        relation = 'edition_subset'\n",
    "    elif edition_authors.issuperset(work_authors):\n",
    "        relation = 'edition_superset'\n",
    "    else:\n",
    "        examples.append((m, edition_authors, work_authors))\n",
    "     \n",
    "    if len(examples) >= 10:\n",
    "        break"
   ]
  },
  {
   "cell_type": "markdown",
   "id": "602d983d",
   "metadata": {},
   "source": [
    "In this example the edition has 2 authors; one is a duplicate of the work author, the other doesn't exist anymore."
   ]
  },
  {
   "cell_type": "code",
   "execution_count": 70,
   "id": "d0ef532c",
   "metadata": {},
   "outputs": [
    {
     "data": {
      "text/plain": [
       "({'publishers': ['M P Ediciones S.A.'],\n",
       "  'number_of_pages': 248,\n",
       "  'subtitle': 'Manuales Users, en Espanol / Spanish (Manuales Users)',\n",
       "  'weight': '1 pounds',\n",
       "  'covers': [3361044],\n",
       "  'physical_format': 'Paperback',\n",
       "  'last_modified': {'type': '/type/datetime',\n",
       "   'value': '2018-08-08T09:23:12.651085'},\n",
       "  'latest_revision': 6,\n",
       "  'key': '/books/OL13200210M',\n",
       "  'authors': [{'key': '/authors/OL4213926A'}, {'key': '/authors/OL3228916A'}],\n",
       "  'ocaid': 'microsoftaccessx00mari',\n",
       "  'subjects': ['Desktop Applications - MS Access',\n",
       "   'General',\n",
       "   'Operating Systems - General',\n",
       "   'Database Management - General',\n",
       "   'Programming Languages - SQL',\n",
       "   'Programming Languages - Visual BASIC',\n",
       "   'Computers',\n",
       "   'Computers - Operating Systems',\n",
       "   'Spanish: Adult Nonfiction'],\n",
       "  'isbn_13': ['9789875261082'],\n",
       "  'source_records': ['ia:microsoftaccessx00mari'],\n",
       "  'title': 'Microsoft Access XP Manual del Usuario',\n",
       "  'identifiers': {'goodreads': ['3097572']},\n",
       "  'created': {'type': '/type/datetime', 'value': '2008-04-30T20:50:18.033121'},\n",
       "  'languages': [{'key': '/languages/spa'}],\n",
       "  'isbn_10': ['9875261084'],\n",
       "  'publish_date': 'August 14, 2002',\n",
       "  'oclc_numbers': ['52527799'],\n",
       "  'works': [{'key': '/works/OL17903991W'}],\n",
       "  'type': {'key': '/type/edition'},\n",
       "  'physical_dimensions': '9.4 x 6.6 x 0.6 inches',\n",
       "  'revision': 6},\n",
       " {'/authors/OL3228916A', '/authors/OL4213926A'},\n",
       " {'/authors/OL3228924A'})"
      ]
     },
     "execution_count": 70,
     "metadata": {},
     "output_type": "execute_result"
    }
   ],
   "source": [
    "examples[3]"
   ]
  },
  {
   "cell_type": "markdown",
   "id": "2de6c9d2",
   "metadata": {},
   "source": [
    "The work is \"Rand McNally\", the edition is \"Great Britain.\". A strange attribution."
   ]
  },
  {
   "cell_type": "code",
   "execution_count": 71,
   "id": "8d825c1a",
   "metadata": {},
   "outputs": [
    {
     "data": {
      "text/plain": [
       "({'publishers': ['Stationery Office Books'],\n",
       "  'physical_format': 'Paperback',\n",
       "  'last_modified': {'type': '/type/datetime',\n",
       "   'value': '2011-04-25T18:22:00.937363'},\n",
       "  'title': 'The Local Authority (Stocks and Bonds) (Amendment) Regulations 1999 (Statutory Instruments: 1999: 1409)',\n",
       "  'number_of_pages': 2,\n",
       "  'created': {'type': '/type/datetime', 'value': '2008-04-30T09:38:13.731961'},\n",
       "  'isbn_13': ['9780110826684'],\n",
       "  'isbn_10': ['011082668X'],\n",
       "  'publish_date': 'June 7, 1999',\n",
       "  'key': '/books/OL10021723M',\n",
       "  'authors': [{'key': '/authors/OL46053A'}],\n",
       "  'latest_revision': 3,\n",
       "  'oclc_numbers': ['44845380'],\n",
       "  'works': [{'key': '/works/OL14889469W'}],\n",
       "  'type': {'key': '/type/edition'},\n",
       "  'subjects': ['English Law'],\n",
       "  'revision': 3},\n",
       " {'/authors/OL46053A'},\n",
       " {'/authors/OL2656742A'})"
      ]
     },
     "execution_count": 71,
     "metadata": {},
     "output_type": "execute_result"
    }
   ],
   "source": [
    "examples[0]"
   ]
  },
  {
   "cell_type": "code",
   "execution_count": 72,
   "id": "125617d2",
   "metadata": {},
   "outputs": [
    {
     "data": {
      "application/vnd.jupyter.widget-view+json": {
       "model_id": "753bb8d5e2ea410398cdb44f8d2cb729",
       "version_major": 2,
       "version_minor": 0
      },
      "text/plain": [
       "  0%|          | 0/329009 [00:00<?, ?it/s]"
      ]
     },
     "metadata": {},
     "output_type": "display_data"
    }
   ],
   "source": [
    "examples = []\n",
    "\n",
    "for m in tqdm(edition_metadata.values()):\n",
    "    edition_authors = set(a['key'] for a in m.get('authors', []))\n",
    "    work_authors = set(a['author']['key'] for a in work_metadata[m['works'][0]['key']].get('authors', []) if 'author' in a)\n",
    "    \n",
    "    \n",
    "    \n",
    "    if edition_authors == work_authors:\n",
    "        relation = 'equal'\n",
    "    elif edition_authors.issuperset(work_authors):\n",
    "        examples.append((m, edition_authors, work_authors))\n",
    " \n",
    "    if len(examples) >= 10:\n",
    "        break"
   ]
  },
  {
   "cell_type": "markdown",
   "id": "0de7ad9b",
   "metadata": {},
   "source": [
    "Some times the work only contains the main author, and the edition contains secondary authors"
   ]
  },
  {
   "cell_type": "code",
   "execution_count": 73,
   "id": "95a75f92",
   "metadata": {},
   "outputs": [
    {
     "data": {
      "text/plain": [
       "({'publishers': ['Taylor & Francis Group'],\n",
       "  'last_modified': {'type': '/type/datetime',\n",
       "   'value': '2020-08-25T16:22:46.525595'},\n",
       "  'source_records': ['bwb:9780429661754'],\n",
       "  'title': 'Community Psychology',\n",
       "  'number_of_pages': 558,\n",
       "  'isbn_13': ['9780429661754'],\n",
       "  'created': {'type': '/type/datetime', 'value': '2020-08-25T16:22:46.525595'},\n",
       "  'languages': [{'key': '/languages/eng'}],\n",
       "  'full_title': 'Community Psychology',\n",
       "  'lc_classifications': [''],\n",
       "  'publish_date': '2019',\n",
       "  'key': '/books/OL29419511M',\n",
       "  'authors': [{'key': '/authors/OL6601753A'},\n",
       "   {'key': '/authors/OL8082512A'},\n",
       "   {'key': '/authors/OL2672695A'},\n",
       "   {'key': '/authors/OL589289A'}],\n",
       "  'latest_revision': 1,\n",
       "  'works': [{'key': '/works/OL13759866W'}],\n",
       "  'type': {'key': '/type/edition'},\n",
       "  'subjects': ['Community psychology'],\n",
       "  'revision': 1},\n",
       " {'/authors/OL2672695A',\n",
       "  '/authors/OL589289A',\n",
       "  '/authors/OL6601753A',\n",
       "  '/authors/OL8082512A'},\n",
       " {'/authors/OL6601753A'})"
      ]
     },
     "execution_count": 73,
     "metadata": {},
     "output_type": "execute_result"
    }
   ],
   "source": [
    "examples[4]"
   ]
  },
  {
   "cell_type": "markdown",
   "id": "964ed883",
   "metadata": {},
   "source": [
    "## Languages"
   ]
  },
  {
   "cell_type": "code",
   "execution_count": 74,
   "id": "d642818a",
   "metadata": {},
   "outputs": [
    {
     "data": {
      "text/plain": [
       "[[{'key': '/languages/eng'}],\n",
       " [{'key': '/languages/eng'}],\n",
       " [{'key': '/languages/eng'}],\n",
       " [{'key': '/languages/eng'}],\n",
       " [{'key': '/languages/eng'}],\n",
       " [{'key': '/languages/rus'}],\n",
       " [{'key': '/languages/eng'}],\n",
       " [{'key': '/languages/eng'}],\n",
       " [{'key': '/languages/eng'}],\n",
       " [{'key': '/languages/eng'}]]"
      ]
     },
     "execution_count": 74,
     "metadata": {},
     "output_type": "execute_result"
    }
   ],
   "source": [
    "[m['languages'] for m in edition_metadata.values() if 'languages' in m][:10]"
   ]
  },
  {
   "cell_type": "code",
   "execution_count": 75,
   "id": "f9411bfc",
   "metadata": {},
   "outputs": [
    {
     "data": {
      "application/vnd.jupyter.widget-view+json": {
       "model_id": "44c28d7006af4471aae042f49c778f27",
       "version_major": 2,
       "version_minor": 0
      },
      "text/plain": [
       "  0%|          | 0/329009 [00:00<?, ?it/s]"
      ]
     },
     "metadata": {},
     "output_type": "display_data"
    },
    {
     "data": {
      "text/plain": [
       "[(1, 282572), (0, 46301), (2, 126), (4, 7), (5, 2), (3, 1)]"
      ]
     },
     "execution_count": 75,
     "metadata": {},
     "output_type": "execute_result"
    }
   ],
   "source": [
    "language_freq_counts = Counter()\n",
    "\n",
    "for m in tqdm(edition_metadata.values()):\n",
    "    language_freq_counts.update([len(m.get('languages', []))])\n",
    "\n",
    "    \n",
    "language_freq_counts.most_common(10)"
   ]
  },
  {
   "cell_type": "markdown",
   "id": "6f19992d",
   "metadata": {},
   "source": [
    "Multilingual texts"
   ]
  },
  {
   "cell_type": "code",
   "execution_count": 76,
   "id": "0a5dc741",
   "metadata": {},
   "outputs": [
    {
     "data": {
      "application/vnd.jupyter.widget-view+json": {
       "model_id": "adf95ed159ac491aa59f648e099d89b9",
       "version_major": 2,
       "version_minor": 0
      },
      "text/plain": [
       "  0%|          | 0/329009 [00:00<?, ?it/s]"
      ]
     },
     "metadata": {},
     "output_type": "display_data"
    },
    {
     "data": {
      "text/plain": [
       "[['Basenjis 2008 Square Wall Calendar',\n",
       "  [{'key': '/languages/ger'},\n",
       "   {'key': '/languages/fre'},\n",
       "   {'key': '/languages/spa'},\n",
       "   {'key': '/languages/eng'}]],\n",
       " ['Poema del Cid', [{'key': '/languages/eng'}, {'key': '/languages/spa'}]],\n",
       " ['Pride and Prejudice',\n",
       "  [{'key': '/languages/chi'}, {'key': '/languages/eng'}]],\n",
       " ['Chonguk toro kwangwang chido =: Road maps to tourist attractions in Korea ',\n",
       "  [{'key': '/languages/kor'}, {'key': '/languages/eng'}]],\n",
       " ['Chagall and the Bible',\n",
       "  [{'key': '/languages/eng'}, {'key': '/languages/ita'}]],\n",
       " ['Spanish Berlitz Compact Dictionary (Berlitz Compact Dictionaries)',\n",
       "  [{'key': '/languages/eng'}, {'key': '/languages/spa'}]],\n",
       " ['Griechische und süditalienische Gebete, Beschwörungen und Rezepte des Mittelalters',\n",
       "  [{'key': '/languages/ger'}, {'key': '/languages/grc'}]],\n",
       " ['Tragedias', [{'key': '/languages/spa'}, {'key': '/languages/grc'}]],\n",
       " ['傲慢与偏见', [{'key': '/languages/chi'}, {'key': '/languages/eng'}]],\n",
       " ['A vocabulary, English and Greek',\n",
       "  [{'key': '/languages/eng'}, {'key': '/languages/grc'}]]]"
      ]
     },
     "execution_count": 76,
     "metadata": {},
     "output_type": "execute_result"
    }
   ],
   "source": [
    "examples = []\n",
    "\n",
    "for m in tqdm(edition_metadata.values()):\n",
    "    if len(m.get('languages', [])) > 1:\n",
    "        examples.append([m['title'], m['languages']])\n",
    "    if len(examples) >= 10:\n",
    "        break\n",
    "\n",
    "examples"
   ]
  },
  {
   "cell_type": "markdown",
   "id": "837e31ec",
   "metadata": {},
   "source": [
    "Most common languages; includes latin (`lat`)"
   ]
  },
  {
   "cell_type": "code",
   "execution_count": 77,
   "id": "9afa2a0b",
   "metadata": {},
   "outputs": [
    {
     "data": {
      "application/vnd.jupyter.widget-view+json": {
       "model_id": "704b572dd881404a9ea9481f12d6087e",
       "version_major": 2,
       "version_minor": 0
      },
      "text/plain": [
       "  0%|          | 0/329009 [00:00<?, ?it/s]"
      ]
     },
     "metadata": {},
     "output_type": "display_data"
    },
    {
     "data": {
      "text/plain": [
       "[('/languages/eng', 189369),\n",
       " ('/languages/ger', 16483),\n",
       " ('/languages/fre', 14165),\n",
       " ('/languages/spa', 12451),\n",
       " ('/languages/rus', 6089),\n",
       " ('/languages/chi', 5265),\n",
       " ('/languages/ita', 5104),\n",
       " ('/languages/jpn', 3852),\n",
       " ('/languages/por', 2550),\n",
       " ('/languages/ara', 2477),\n",
       " ('/languages/pol', 1583),\n",
       " ('/languages/kor', 1527),\n",
       " ('/languages/dut', 1363),\n",
       " ('/languages/heb', 1278),\n",
       " ('/languages/lat', 1178)]"
      ]
     },
     "execution_count": 77,
     "metadata": {},
     "output_type": "execute_result"
    }
   ],
   "source": [
    "language_count = Counter()\n",
    "\n",
    "for m in tqdm(edition_metadata.values()):\n",
    "    language_count.update([a['key'] for a in m.get('languages', [])])\n",
    "\n",
    "    \n",
    "language_count.most_common(15)"
   ]
  },
  {
   "cell_type": "code",
   "execution_count": 78,
   "id": "6bdfdfe6",
   "metadata": {},
   "outputs": [
    {
     "data": {
      "text/plain": [
       "252"
      ]
     },
     "execution_count": 78,
     "metadata": {},
     "output_type": "execute_result"
    }
   ],
   "source": [
    "len(language_count)"
   ]
  },
  {
   "cell_type": "markdown",
   "id": "3b62d89e",
   "metadata": {},
   "source": [
    "## Number of Pages"
   ]
  },
  {
   "cell_type": "code",
   "execution_count": 79,
   "id": "c624c08f",
   "metadata": {},
   "outputs": [
    {
     "data": {
      "text/plain": [
       "[2, 396, 99, 32, 119, 1400, 238, 164, 96, 584]"
      ]
     },
     "execution_count": 79,
     "metadata": {},
     "output_type": "execute_result"
    }
   ],
   "source": [
    "[m['number_of_pages'] for m in edition_metadata.values() if 'number_of_pages' in m][:10]"
   ]
  },
  {
   "cell_type": "markdown",
   "id": "9c451c6d",
   "metadata": {},
   "source": [
    "## Source Records"
   ]
  },
  {
   "cell_type": "code",
   "execution_count": 80,
   "id": "4b084653",
   "metadata": {},
   "outputs": [
    {
     "data": {
      "text/plain": [
       "[['bwb:9780120812004'],\n",
       " ['ia:interferon0000unse'],\n",
       " ['ia:rajincharge0000davi'],\n",
       " ['amazon:0160612519'],\n",
       " ['marc:marc_claremont_school_theology/CSTMARC2_barcode.mrc:53646163:8461',\n",
       "  'marc:marc_loc_2016/BooksAll.2016.part33.utf8:130303161:1643',\n",
       "  'marc:marc_claremont_school_theology/CSTMARC2_multibarcode.mrc:53667752:8573',\n",
       "  'ia:voicesofislam0000unse_r7b1',\n",
       "  'ia:voicesofislam0001unse',\n",
       "  'ia:voicesofislam0004unse',\n",
       "  'ia:voicesofislam0000unse',\n",
       "  'ia:voicesofislam0003unse',\n",
       "  'bwb:9780275987329'],\n",
       " ['marc:marc_loc_2016/BooksAll.2016.part23.utf8:71148954:660'],\n",
       " ['bwb:9780318424460'],\n",
       " ['marc:talis_openlibrary_contribution/talis-openlibrary-contribution.mrc:619778603:547',\n",
       "  'ia:philipsconciseat0000unse'],\n",
       " ['marc:marc_loc_2016/BooksAll.2016.part23.utf8:119547990:732'],\n",
       " ['bwb:9780757505621']]"
      ]
     },
     "execution_count": 80,
     "metadata": {},
     "output_type": "execute_result"
    }
   ],
   "source": [
    "[m['source_records'] for m in edition_metadata.values() if 'source_records' in m][:10]"
   ]
  },
  {
   "cell_type": "markdown",
   "id": "dc8d8599",
   "metadata": {},
   "source": [
    "I would guess the sources are:\n",
    "\n",
    "* `marc` is MARC 21 exports (from where?)\n",
    "* `bwb` is Better World Books\n",
    "* `ia` is Internet Archive\n",
    "* `amazon` is from an Amazon listing page"
   ]
  },
  {
   "cell_type": "code",
   "execution_count": 81,
   "id": "02714cb1",
   "metadata": {},
   "outputs": [
    {
     "data": {
      "application/vnd.jupyter.widget-view+json": {
       "model_id": "9a7b7b7a98014cefaf435186efb41dd6",
       "version_major": 2,
       "version_minor": 0
      },
      "text/plain": [
       "  0%|          | 0/329009 [00:00<?, ?it/s]"
      ]
     },
     "metadata": {},
     "output_type": "display_data"
    },
    {
     "data": {
      "text/plain": [
       "[('marc', 126485),\n",
       " ('bwb', 75873),\n",
       " ('ia', 46612),\n",
       " ('amazon', 27853),\n",
       " ('marc_overdrive/InternetArchiveCrMarc-2010-06-11c.mrc', 36)]"
      ]
     },
     "execution_count": 81,
     "metadata": {},
     "output_type": "execute_result"
    }
   ],
   "source": [
    "source_count = Counter()\n",
    "\n",
    "for m in tqdm(edition_metadata.values()):\n",
    "    sources = set(a.split(':')[0] for a in m.get('source_records', []) if ':' in a)\n",
    "    source_count.update(sources)\n",
    "    \n",
    "    \n",
    "source_count.most_common(5)"
   ]
  },
  {
   "cell_type": "code",
   "execution_count": 82,
   "id": "5df98b21",
   "metadata": {},
   "outputs": [
    {
     "data": {
      "application/vnd.jupyter.widget-view+json": {
       "model_id": "b6edac41e3e44c5c9370cde4d52d7741",
       "version_major": 2,
       "version_minor": 0
      },
      "text/plain": [
       "  0%|          | 0/329009 [00:00<?, ?it/s]"
      ]
     },
     "metadata": {},
     "output_type": "display_data"
    },
    {
     "data": {
      "text/plain": [
       "[('marc', 126485),\n",
       " ('bwb', 75873),\n",
       " ('ia', 46612),\n",
       " ('amazon', 27853),\n",
       " ('marc_overdrive/InternetArchiveCrMarc-2010-06-11c.mrc', 36)]"
      ]
     },
     "execution_count": 82,
     "metadata": {},
     "output_type": "execute_result"
    }
   ],
   "source": [
    "source_count = Counter()\n",
    "\n",
    "for m in tqdm(edition_metadata.values()):\n",
    "    sources = set(a.split(':')[0] for a in m.get('source_records', []) if ':' in a)\n",
    "    source_count.update(sources)\n",
    "    \n",
    "    \n",
    "source_count.most_common(5)"
   ]
  },
  {
   "cell_type": "markdown",
   "id": "64667a62",
   "metadata": {},
   "source": [
    "I would expect they would cover different periods; for example Internet Archive would mainly be public domain works"
   ]
  },
  {
   "cell_type": "code",
   "execution_count": 83,
   "id": "f6a476ca",
   "metadata": {},
   "outputs": [
    {
     "data": {
      "application/vnd.jupyter.widget-view+json": {
       "model_id": "1c98c527752b4e89b463b50af7e59fa6",
       "version_major": 2,
       "version_minor": 0
      },
      "text/plain": [
       "  0%|          | 0/329009 [00:00<?, ?it/s]"
      ]
     },
     "metadata": {},
     "output_type": "display_data"
    }
   ],
   "source": [
    "source_years = {k: Counter() for k in ['marc', 'bwb', 'ia', 'amazon']}\n",
    "\n",
    "for m in tqdm(edition_metadata.values()):\n",
    "    for source in set(a.split(':')[0] for a in m.get('source_records', []) if ':' in a):\n",
    "        year_match = re.search(r'\\b[12][0-9]{3}\\b', m.get('publish_date', ''))\n",
    "        if year_match and source in source_years:\n",
    "            source_years[source].update([int(year_match.group(0))])"
   ]
  },
  {
   "cell_type": "markdown",
   "id": "418e9293",
   "metadata": {},
   "source": [
    "Marc doesn't contain many publications after 2009"
   ]
  },
  {
   "cell_type": "code",
   "execution_count": 84,
   "id": "ce3e50d6",
   "metadata": {},
   "outputs": [
    {
     "data": {
      "text/plain": [
       "[(2009, 3333), (2008, 3082), (2007, 2941), (2010, 2935), (2005, 2698)]"
      ]
     },
     "execution_count": 84,
     "metadata": {},
     "output_type": "execute_result"
    }
   ],
   "source": [
    "source_years['marc'].most_common(5)"
   ]
  },
  {
   "cell_type": "code",
   "execution_count": 85,
   "id": "aeae38ce",
   "metadata": {},
   "outputs": [
    {
     "data": {
      "text/plain": [
       "<matplotlib.collections.PathCollection at 0x7fae824594c0>"
      ]
     },
     "execution_count": 85,
     "metadata": {},
     "output_type": "execute_result"
    },
    {
     "data": {
      "image/png": "[encoded data removed]",
      "text/plain": [
       "<Figure size 432x288 with 1 Axes>"
      ]
     },
     "metadata": {
      "needs_background": "light"
     },
     "output_type": "display_data"
    }
   ],
   "source": [
    "plt.scatter(source_years['marc'].keys(), source_years['marc'].values())"
   ]
  },
  {
   "cell_type": "markdown",
   "id": "0b6dacfb",
   "metadata": {},
   "source": [
    "Better world books contains some books published from the future (data errors?), but most of the most current items."
   ]
  },
  {
   "cell_type": "code",
   "execution_count": 86,
   "id": "b2f02db4",
   "metadata": {},
   "outputs": [
    {
     "data": {
      "text/plain": [
       "[(2021, 11296), (2020, 6777), (2019, 4001), (2018, 3425), (2013, 3413)]"
      ]
     },
     "execution_count": 86,
     "metadata": {},
     "output_type": "execute_result"
    }
   ],
   "source": [
    "source_years['bwb'].most_common(5)"
   ]
  },
  {
   "cell_type": "code",
   "execution_count": 87,
   "id": "76de258d",
   "metadata": {},
   "outputs": [
    {
     "data": {
      "text/plain": [
       "<matplotlib.collections.PathCollection at 0x7fae823bf5b0>"
      ]
     },
     "execution_count": 87,
     "metadata": {},
     "output_type": "execute_result"
    },
    {
     "data": {
      "image/png": "[encoded data removed]",
      "text/plain": [
       "<Figure size 432x288 with 1 Axes>"
      ]
     },
     "metadata": {
      "needs_background": "light"
     },
     "output_type": "display_data"
    }
   ],
   "source": [
    "plt.scatter(source_years['bwb'].keys(), source_years['bwb'].values())"
   ]
  },
  {
   "cell_type": "markdown",
   "id": "9b50f77f",
   "metadata": {},
   "source": [
    "Internet Archive peaks around 2007"
   ]
  },
  {
   "cell_type": "code",
   "execution_count": 88,
   "id": "b4da074f",
   "metadata": {},
   "outputs": [
    {
     "data": {
      "text/plain": [
       "[(2007, 1093), (2006, 1080), (2008, 1037), (2005, 1031), (2003, 1000)]"
      ]
     },
     "execution_count": 88,
     "metadata": {},
     "output_type": "execute_result"
    }
   ],
   "source": [
    "source_years['ia'].most_common(5)"
   ]
  },
  {
   "cell_type": "code",
   "execution_count": 89,
   "id": "d8f98ab8",
   "metadata": {},
   "outputs": [
    {
     "data": {
      "text/plain": [
       "<matplotlib.collections.PathCollection at 0x7fae8231ca60>"
      ]
     },
     "execution_count": 89,
     "metadata": {},
     "output_type": "execute_result"
    },
    {
     "data": {
      "image/png": "[encoded data removed]",
      "text/plain": [
       "<Figure size 432x288 with 1 Axes>"
      ]
     },
     "metadata": {
      "needs_background": "light"
     },
     "output_type": "display_data"
    }
   ],
   "source": [
    "plt.scatter(source_years['ia'].keys(), source_years['ia'].values())"
   ]
  },
  {
   "cell_type": "code",
   "execution_count": 90,
   "id": "996e6301",
   "metadata": {},
   "outputs": [
    {
     "data": {
      "text/plain": [
       "<matplotlib.collections.PathCollection at 0x7fae822fcd30>"
      ]
     },
     "execution_count": 90,
     "metadata": {},
     "output_type": "execute_result"
    },
    {
     "data": {
      "image/png": "[encoded data removed]",
      "text/plain": [
       "<Figure size 432x288 with 1 Axes>"
      ]
     },
     "metadata": {
      "needs_background": "light"
     },
     "output_type": "display_data"
    }
   ],
   "source": [
    "plt.scatter(source_years['amazon'].keys(), source_years['amazon'].values())"
   ]
  },
  {
   "cell_type": "markdown",
   "id": "32076b54",
   "metadata": {},
   "source": [
    "## Pagination"
   ]
  },
  {
   "cell_type": "markdown",
   "id": "485ee642",
   "metadata": {},
   "source": [
    "Pages with frontmatter"
   ]
  },
  {
   "cell_type": "code",
   "execution_count": 91,
   "id": "c125e9b3",
   "metadata": {},
   "outputs": [
    {
     "data": {
      "text/plain": [
       "['238, [1] p. ;',\n",
       " 'v, 126 p. :',\n",
       " '224 p. ;',\n",
       " '452 p. ;',\n",
       " '33 p. ;',\n",
       " 'iv, 63 p. :',\n",
       " '111 p. ;',\n",
       " '244 p. ;',\n",
       " '5 p. l., 3-268 p.',\n",
       " '3 v. ;']"
      ]
     },
     "execution_count": 91,
     "metadata": {},
     "output_type": "execute_result"
    }
   ],
   "source": [
    "[m['pagination'] for m in edition_metadata.values() if 'pagination' in m][:10]"
   ]
  },
  {
   "cell_type": "markdown",
   "id": "d51c440c",
   "metadata": {},
   "source": [
    "## Publish Places, Publish Country"
   ]
  },
  {
   "cell_type": "markdown",
   "id": "3c038615",
   "metadata": {},
   "source": [
    "I guess where the edition was published"
   ]
  },
  {
   "cell_type": "code",
   "execution_count": 92,
   "id": "b1fab094",
   "metadata": {},
   "outputs": [
    {
     "data": {
      "text/plain": [
       "[['Moskva'],\n",
       " ['Plano, Tex'],\n",
       " ['Minneapolis, Minn'],\n",
       " ['Buenos Aires'],\n",
       " ['[New Zealand]'],\n",
       " ['[Des Moines]'],\n",
       " ['[Augusta, Me.]'],\n",
       " ['[Jaén]'],\n",
       " ['New York'],\n",
       " ['Albany, N.Y']]"
      ]
     },
     "execution_count": 92,
     "metadata": {},
     "output_type": "execute_result"
    }
   ],
   "source": [
    "[m['publish_places'] for m in edition_metadata.values() if 'publish_places' in m][:10]"
   ]
  },
  {
   "cell_type": "markdown",
   "id": "95f5fcc1",
   "metadata": {},
   "source": [
    "Apparently `nyu` is New York (state), `txu` is Texas, `mnu` is Minnesota; it seems a US state is considered a country... https://www.loc.gov/marc/countries/countries_code.html\n",
    "\n",
    "`ag` is Argentina, `sp` is Spain"
   ]
  },
  {
   "cell_type": "code",
   "execution_count": 93,
   "id": "2298df8e",
   "metadata": {},
   "outputs": [
    {
     "data": {
      "text/plain": [
       "['ru ', 'txu', 'mnu', 'ag ', 'xxu', 'iau', 'meu', 'sp ', 'nyu', 'nyu']"
      ]
     },
     "execution_count": 93,
     "metadata": {},
     "output_type": "execute_result"
    }
   ],
   "source": [
    "[m['publish_country'] for m in edition_metadata.values() if 'publish_country' in m][:10]"
   ]
  },
  {
   "cell_type": "markdown",
   "id": "215bc089",
   "metadata": {},
   "source": [
    "## Subjects, Subject Places, Subject Time, LC Classifications, Covers"
   ]
  },
  {
   "cell_type": "markdown",
   "id": "08d22076",
   "metadata": {},
   "source": [
    "Same as subjects for works. We could check how they relate to works as we did for Authors, and how they change between editions for the same work."
   ]
  },
  {
   "cell_type": "markdown",
   "id": "744a378a",
   "metadata": {},
   "source": [
    "## isbn_13, isbn_10"
   ]
  },
  {
   "cell_type": "markdown",
   "id": "600ed653",
   "metadata": {},
   "source": [
    "What it says on the tin; we can convert an ISBN13 to an ISBN10 and vice versa"
   ]
  },
  {
   "cell_type": "code",
   "execution_count": 94,
   "id": "c6d09b9e",
   "metadata": {},
   "outputs": [
    {
     "data": {
      "text/plain": [
       "[(['9780110826684'], ['011082668X']),\n",
       " (['9780117293557'], ['0117293555']),\n",
       " (['9780120812004'], ['0120812002']),\n",
       " (['9780123022516'], ['0123022517']),\n",
       " (['9780140381597'], ['0140381597']),\n",
       " (['9780155128460'], ['0155128469']),\n",
       " (['9780160612510'], ['0160612519']),\n",
       " (['9780275987329'], ['0275987329']),\n",
       " (None, ['5211022351']),\n",
       " (['9780517701003'], ['0517701006'])]"
      ]
     },
     "execution_count": 94,
     "metadata": {},
     "output_type": "execute_result"
    }
   ],
   "source": [
    "[(m.get('isbn_13'), m.get('isbn_10')) for m in edition_metadata.values() if 'isbn_13' in m or 'isbn_10' in m][:10]"
   ]
  },
  {
   "cell_type": "markdown",
   "id": "1f728b26",
   "metadata": {},
   "source": [
    "There are a large proportion of cases where we could fill in the ISBN 13 or ISBN 10"
   ]
  },
  {
   "cell_type": "code",
   "execution_count": 95,
   "id": "72adb107",
   "metadata": {},
   "outputs": [
    {
     "data": {
      "text/plain": [
       "{'none': 0.35705102292075075,\n",
       " 'both': 0.2666340434454596,\n",
       " '10': 0.18079444635246605,\n",
       " '13': 0.19552048728139523}"
      ]
     },
     "execution_count": 95,
     "metadata": {},
     "output_type": "execute_result"
    }
   ],
   "source": [
    "isbn_count = {'none':0, 'both': 0, '10': 0, '13': 0}\n",
    "\n",
    "for m in edition_metadata.values():\n",
    "    if 'isbn_13' in m and 'isbn_10' in m:\n",
    "        isbn_count['both'] += 1 / len(edition_metadata)\n",
    "    elif 'isbn_13' in m:\n",
    "        isbn_count['13'] +=  1 / len(edition_metadata)\n",
    "    elif 'isbn_10' in m:\n",
    "        isbn_count['10'] += 1 / len(edition_metadata)\n",
    "    else:\n",
    "        isbn_count['none'] += 1 / len(edition_metadata)\n",
    "\n",
    "isbn_count"
   ]
  },
  {
   "cell_type": "markdown",
   "id": "e746f122",
   "metadata": {},
   "source": [
    "## By Statement"
   ]
  },
  {
   "cell_type": "markdown",
   "id": "7d30a36a",
   "metadata": {},
   "source": [
    "The specifics of how it's attributed"
   ]
  },
  {
   "cell_type": "code",
   "execution_count": 96,
   "id": "9728c574",
   "metadata": {},
   "outputs": [
    {
     "data": {
      "text/plain": [
       "['N.N. Kokhtev.',\n",
       " 'Eugene W. Teglovic.',\n",
       " 'Kay Arthur, Jill Briscoe, Carole Mayhall.',\n",
       " 'Elena I. Highton ... [et al.].',\n",
       " 'principal researcher and author, David Huff.',\n",
       " 'Maine State Housing Authority.',\n",
       " 'Carmelo Medina Casado, Concepción Soto Palomo, editores ; [prólogo, Adolfo Sánchez Rodrigo].',\n",
       " 'translated with an introduction by Edwin Björkman.',\n",
       " 'by William Lansing.',\n",
       " 'Published by the Bureau of Statistics, Agriculture and Immigration.']"
      ]
     },
     "execution_count": 96,
     "metadata": {},
     "output_type": "execute_result"
    }
   ],
   "source": [
    "[m['by_statement'] for m in edition_metadata.values() if 'by_statement' in m][:10]"
   ]
  },
  {
   "cell_type": "markdown",
   "id": "32141be3",
   "metadata": {},
   "source": [
    "## Notes"
   ]
  },
  {
   "cell_type": "code",
   "execution_count": 97,
   "id": "b5b8adcd",
   "metadata": {},
   "outputs": [
    {
     "data": {
      "text/plain": [
       "[{'type': '/type/text', 'value': 'First Young Puffin'},\n",
       " {'type': '/type/text',\n",
       "  'value': 'Includes bibliographical references (p. 236-[239]).'},\n",
       " {'type': '/type/text', 'value': 'World Country Study Guide Library'},\n",
       " {'type': '/type/text', 'value': 'Includes index.'},\n",
       " {'type': '/type/text', 'value': 'Diskette for Macintosh'},\n",
       " {'type': '/type/text',\n",
       "  'value': 'Includes bibliographical references (p. [447]-452).\\nRev. ed. of: Nuevas formas de dominio / Elena I. Highton, Luis Alvarez Juliá, Susana Lambois. 1. ed. 1987.'},\n",
       " {'type': '/type/text', 'value': '\"December, 1992\"--Cover.'},\n",
       " {'type': '/type/text',\n",
       "  'value': 'At head of title: State of Maine.\\n\"December 1993.\"'},\n",
       " {'type': '/type/text', 'value': 'Ueda Kaoru chosakushu'},\n",
       " {'type': '/type/text', 'value': 'Lernmaterialien'}]"
      ]
     },
     "execution_count": 97,
     "metadata": {},
     "output_type": "execute_result"
    }
   ],
   "source": [
    "[m['notes'] for m in edition_metadata.values() if 'notes' in m][:10]"
   ]
  },
  {
   "cell_type": "markdown",
   "id": "9ab8b17e",
   "metadata": {},
   "source": [
    "Sometimes notes is a string"
   ]
  },
  {
   "cell_type": "code",
   "execution_count": 98,
   "id": "e9118188",
   "metadata": {},
   "outputs": [
    {
     "data": {
      "text/plain": [
       "Counter({dict: 137971, str: 1287})"
      ]
     },
     "execution_count": 98,
     "metadata": {},
     "output_type": "execute_result"
    }
   ],
   "source": [
    "Counter(type(m['notes']) for m in edition_metadata.values() if 'notes' in m)"
   ]
  },
  {
   "cell_type": "markdown",
   "id": "9ba49022",
   "metadata": {},
   "source": [
    "They're all text"
   ]
  },
  {
   "cell_type": "code",
   "execution_count": 99,
   "id": "56303518",
   "metadata": {},
   "outputs": [
    {
     "data": {
      "text/plain": [
       "[('/type/text', 137971)]"
      ]
     },
     "execution_count": 99,
     "metadata": {},
     "output_type": "execute_result"
    }
   ],
   "source": [
    "c = Counter()\n",
    "\n",
    "for m in edition_metadata.values():\n",
    "    if 'notes' in m and isinstance(m['notes'], dict):\n",
    "        c.update([m['notes']['type']])\n",
    "        \n",
    "c.most_common(10)"
   ]
  },
  {
   "cell_type": "markdown",
   "id": "6438972a",
   "metadata": {},
   "source": [
    "## Subtitle, Full Title, Other Titles, Title Prefix, Work Titles"
   ]
  },
  {
   "cell_type": "code",
   "execution_count": 100,
   "id": "2ac3605e",
   "metadata": {},
   "outputs": [
    {
     "data": {
      "text/plain": [
       "[('Defense Security Service oversight',\n",
       "  'Hearing before the Subcommittee on National Security, Veterans Affairs, and International Relations of the Committee ... Congress, second session, February 16, 2000',\n",
       "  None,\n",
       "  None,\n",
       "  None,\n",
       "  None),\n",
       " ('Folklore in Action',\n",
       "  'Essays for Discussion in Honor of MacEdward Leach',\n",
       "  None,\n",
       "  None,\n",
       "  None,\n",
       "  None),\n",
       " ('Electrical Papers',\n",
       "  'By Oliver Heaviside. In Two Volumes. Volume 1',\n",
       "  None,\n",
       "  None,\n",
       "  None,\n",
       "  None),\n",
       " ('Quattro Pro 5.0 at a glance',\n",
       "  'the fastest and easiest way to learn Quattro Pro 5.0 for DOS',\n",
       "  None,\n",
       "  None,\n",
       "  None,\n",
       "  None),\n",
       " ('Poetry Express: O Frabjous Day: Year 3 & 4',\n",
       "  \"Teacher's Handbook (Poetry Express)\",\n",
       "  None,\n",
       "  None,\n",
       "  None,\n",
       "  None),\n",
       " ('Can a busy Christian develop her spiritual life?',\n",
       "  'answers to questions women ask about spirituality',\n",
       "  None,\n",
       "  None,\n",
       "  None,\n",
       "  None),\n",
       " ('Games by Thiagi', 'More Instr Puz', None, None, None, None),\n",
       " ('Studies in Symbolic Interaction',\n",
       "  'A Research Annual 1986/Part A and Part B in 2 Volumes (Studies in Symbolic Interaction)',\n",
       "  None,\n",
       "  None,\n",
       "  None,\n",
       "  None),\n",
       " ('Warriors on the Front Line',\n",
       "  'A Workbook for Women on a Mission',\n",
       "  None,\n",
       "  None,\n",
       "  None,\n",
       "  None),\n",
       " ('In search of arts & crafts on the Internet',\n",
       "  'A quick pocket guide for finding arts & crafts resources on the Internet',\n",
       "  None,\n",
       "  None,\n",
       "  None,\n",
       "  None)]"
      ]
     },
     "execution_count": 100,
     "metadata": {},
     "output_type": "execute_result"
    }
   ],
   "source": [
    "[(m.get('title'), m.get('subtitle'), m.get('full_title'), m.get('other_titles'), m.get('title_prefix'), m.get('work_titles'))\n",
    " for m in edition_metadata.values() if 'subtitle' in m][:10]"
   ]
  },
  {
   "cell_type": "markdown",
   "id": "8618bf68",
   "metadata": {},
   "source": [
    "The full title is often the combination of title and subtitle"
   ]
  },
  {
   "cell_type": "code",
   "execution_count": 101,
   "id": "c06c084b",
   "metadata": {},
   "outputs": [
    {
     "data": {
      "text/plain": [
       "[('Traité des membranes en général et de diverses membranes en particulier',\n",
       "  None,\n",
       "  'Traité des membranes en général et de diverses membranes en particulier',\n",
       "  None,\n",
       "  None,\n",
       "  None),\n",
       " ('Wiedergefundenes Leben',\n",
       "  '20 Jahre in den Klauen von Alkohol und Tabletten',\n",
       "  'Wiedergefundenes Leben 20 Jahre in den Klauen von Alkohol und Tabletten',\n",
       "  None,\n",
       "  None,\n",
       "  None),\n",
       " ('Erinnerungen an Rudolf Steiner und die Fortbildungsschule am Goetheanum (1921 - 1928)',\n",
       "  None,\n",
       "  'Erinnerungen an Rudolf Steiner und die Fortbildungsschule am Goetheanum (1921 - 1928)',\n",
       "  None,\n",
       "  None,\n",
       "  None),\n",
       " ('Le 11e regiment de dragons portes dans les combats sur la position de couverture',\n",
       "  'bataille de la Petite Gette, 10 mai-13 mai 1940',\n",
       "  'Le 11e regiment de dragons portes dans les combats sur la position de couverture bataille de la Petite Gette, 10 mai-13 mai 1940',\n",
       "  None,\n",
       "  None,\n",
       "  None),\n",
       " ('Kommt!  Unsere karawane heisst nicht verzweiflung\"',\n",
       "  None,\n",
       "  'Kommt!  Unsere karawane heisst nicht verzweiflung\"',\n",
       "  None,\n",
       "  None,\n",
       "  None),\n",
       " ('Make your pet a present',\n",
       "  None,\n",
       "  'Make your pet a present',\n",
       "  None,\n",
       "  None,\n",
       "  None),\n",
       " (\"What's possible!\",\n",
       "  '50 true stories of people who dared to dream they could make a difference',\n",
       "  \"What's possible! 50 true stories of people who dared to dream they could make a difference\",\n",
       "  ['What is possible!'],\n",
       "  None,\n",
       "  None),\n",
       " ('La guerre irrégulière', None, 'La guerre irrégulière', None, None, None),\n",
       " ('Underground waters of southern Maine',\n",
       "  None,\n",
       "  'Underground waters of southern Maine',\n",
       "  None,\n",
       "  None,\n",
       "  None),\n",
       " ('The dynamics of interstate boundaries',\n",
       "  None,\n",
       "  'The dynamics of interstate boundaries',\n",
       "  None,\n",
       "  None,\n",
       "  None)]"
      ]
     },
     "execution_count": 101,
     "metadata": {},
     "output_type": "execute_result"
    }
   ],
   "source": [
    "[(m.get('title'), m.get('subtitle'), m.get('full_title'), m.get('other_titles'), m.get('title_prefix'), m.get('work_titles'))\n",
    " for m in edition_metadata.values() if 'full_title' in m][:10]"
   ]
  },
  {
   "cell_type": "code",
   "execution_count": 102,
   "id": "9e20ca7c",
   "metadata": {},
   "outputs": [
    {
     "data": {
      "text/plain": [
       "[('II Jornadas de Estudios Ingleses',\n",
       "  '13 al 16 de noviembre de 1996',\n",
       "  None,\n",
       "  ['2. Jornadas de Estudios Ingleses',\n",
       "   'Segunda[s] Jornadas de Estudios Ingleses',\n",
       "   'Jornadas de Estudios Ingleses'],\n",
       "  None,\n",
       "  None),\n",
       " ('Plays by August Strindberg.',\n",
       "  '[First series]: The dream play, The link, The dance of death, part I, The dance of death, part II',\n",
       "  None,\n",
       "  ['Dream play', 'Link', 'Dance of death'],\n",
       "  None,\n",
       "  None),\n",
       " (\"A panorama of the world's legal systems\",\n",
       "  None,\n",
       "  None,\n",
       "  [\"World's legal systems.\"],\n",
       "  None,\n",
       "  None),\n",
       " ('Construction mechanic 1 & C',\n",
       "  None,\n",
       "  None,\n",
       "  ['Rate training manual'],\n",
       "  None,\n",
       "  None),\n",
       " ('The countrey gaugers vade mecvm, or, Pocket-companion',\n",
       "  'being decimal tables for the speedy gauging of small brewing vessels either of a circular, elliptical, or rectilineal base : and also for the gauging of cask in ale or wine measure, either full or part empty : also the description and use of an instrument for the gauging of small brewing vessels',\n",
       "  None,\n",
       "  ['Pocket-companion', 'Pocket companion'],\n",
       "  None,\n",
       "  None),\n",
       " ('Eschatos echthros, or, The death of death in the death of Christ',\n",
       "  'being a narrative of the first death as the mistress of mortals and empress of the universe : conflicting of various sections and directions (as appears by the index) in order to a holy living and happy dying',\n",
       "  None,\n",
       "  ['Poema mortuale',\n",
       "   'Elegy upon death',\n",
       "   'The death of death in the death of Christ',\n",
       "   'Eschatos echthros',\n",
       "   'The death of Christ, the death of death'],\n",
       "  None,\n",
       "  None),\n",
       " ('Duma i uprzedzenie',\n",
       "  None,\n",
       "  None,\n",
       "  ['Pride and Prejudice'],\n",
       "  None,\n",
       "  ['Pride and prejudice.']),\n",
       " ('Evaluation of enhancement efforts for rainbow trout in southcentral Alaska, 1990',\n",
       "  None,\n",
       "  None,\n",
       "  ['Federal aid in sport fish restoration (Alaska)'],\n",
       "  None,\n",
       "  None),\n",
       " ('Owner of tug William Alexander.',\n",
       "  None,\n",
       "  None,\n",
       "  ['Relief of owner of tug William Alexander'],\n",
       "  None,\n",
       "  None),\n",
       " ('Martha McAfee.',\n",
       "  None,\n",
       "  None,\n",
       "  ['Increase of pension for Martha McAfee'],\n",
       "  None,\n",
       "  None)]"
      ]
     },
     "execution_count": 102,
     "metadata": {},
     "output_type": "execute_result"
    }
   ],
   "source": [
    "[(m.get('title'), m.get('subtitle'), m.get('full_title'), m.get('other_titles'), m.get('title_prefix'), m.get('work_titles'))\n",
    " for m in edition_metadata.values() if 'other_titles' in m][:10]"
   ]
  },
  {
   "cell_type": "markdown",
   "id": "576e58cb",
   "metadata": {},
   "source": [
    "It's pretty uncommon to use a `title_prefix` and it doesn't combine them in a `full_title`"
   ]
  },
  {
   "cell_type": "code",
   "execution_count": 103,
   "id": "eae3e9b0",
   "metadata": {},
   "outputs": [
    {
     "data": {
      "text/plain": [
       "[('religion of the future', None, None, None, 'The ', None),\n",
       " ('Venice notebook', None, None, None, 'The ', None),\n",
       " ('dandy del Hotel Savoy', None, None, None, 'El ', None),\n",
       " (\"inganno de gl'occhi.\", None, None, None, 'Lo ', None),\n",
       " ('effect of different scouring and rinsing treatments on the colour of scoured wool.',\n",
       "  None,\n",
       "  None,\n",
       "  None,\n",
       "  'The ',\n",
       "  None),\n",
       " ('amending of the Federal Constitution', None, None, None, 'The ', None),\n",
       " ('proposed undergraduate curriculum for the professional preparation of school health educators in Malaysia',\n",
       "  None,\n",
       "  None,\n",
       "  None,\n",
       "  'A ',\n",
       "  None),\n",
       " ('industrie pharmaceutique', None, None, None, \"L'\", None),\n",
       " ('study of new optical materials',\n",
       "  'I. Crystal-chemical development of new optical frequency converters II. New hosts for Cr3+ luminescence and lasing',\n",
       "  None,\n",
       "  None,\n",
       "  'A ',\n",
       "  None),\n",
       " ('verts paradis', 'roman.', None, None, 'Les ', None)]"
      ]
     },
     "execution_count": 103,
     "metadata": {},
     "output_type": "execute_result"
    }
   ],
   "source": [
    "[(m.get('title'), m.get('subtitle'), m.get('full_title'), m.get('other_titles'), m.get('title_prefix'), m.get('work_titles'))\n",
    " for m in edition_metadata.values() if 'title_prefix' in m][:10]"
   ]
  },
  {
   "cell_type": "markdown",
   "id": "16d22f5c",
   "metadata": {},
   "source": [
    "Work titles often seems relevant for editions in different languages"
   ]
  },
  {
   "cell_type": "code",
   "execution_count": 104,
   "id": "f3935b03",
   "metadata": {},
   "outputs": [
    {
     "data": {
      "text/plain": [
       "[('Il talismano', None, None, None, None, ['Talisman.']),\n",
       " ('Duma i uprzedzenie',\n",
       "  None,\n",
       "  None,\n",
       "  ['Pride and Prejudice'],\n",
       "  None,\n",
       "  ['Pride and prejudice.']),\n",
       " ('Oeuvres complètes de M. de Lamartine.', None, None, None, None, ['Works']),\n",
       " ('Convention between Her Majesty and the King of the Belgiansenabling their respective Post Offices to make postal arrangements, signed at Brussells, January 8, 1857.',\n",
       "  None,\n",
       "  None,\n",
       "  None,\n",
       "  None,\n",
       "  ['Treaties, etc.']),\n",
       " ('first crossing of Greenland',\n",
       "  None,\n",
       "  None,\n",
       "  None,\n",
       "  'The ',\n",
       "  ['Paa ski over Grønland.']),\n",
       " ('Gleichgewicht der Welt', 'Roman', None, None, 'Das ', ['Fine balance.']),\n",
       " ('Sobranie sochineniĭ v dvenadtsati tomakh',\n",
       "  None,\n",
       "  None,\n",
       "  None,\n",
       "  None,\n",
       "  ['Works']),\n",
       " ('money market',\n",
       "  None,\n",
       "  None,\n",
       "  None,\n",
       "  'The ',\n",
       "  ['Banche e il mercato monetario.']),\n",
       " ('Tagungsbericht und wissenschaftliche Abhandlungen.',\n",
       "  None,\n",
       "  None,\n",
       "  None,\n",
       "  None,\n",
       "  ['Deutscher Geographentag']),\n",
       " ('Strategic plan 2006-2010',\n",
       "  None,\n",
       "  None,\n",
       "  None,\n",
       "  None,\n",
       "  ['Tallinna Tehnikaülikooli arengukava 2006-2010.'])]"
      ]
     },
     "execution_count": 104,
     "metadata": {},
     "output_type": "execute_result"
    }
   ],
   "source": [
    "[(m.get('title'), m.get('subtitle'), m.get('full_title'), m.get('other_titles'), m.get('title_prefix'), m.get('work_titles'))\n",
    " for m in edition_metadata.values() if 'work_titles' in m][:10]"
   ]
  },
  {
   "cell_type": "markdown",
   "id": "28fcff46",
   "metadata": {},
   "source": [
    "## LCCN, OCLC, OCAID\n",
    "\n",
    "Library of Congress Control Numbers"
   ]
  },
  {
   "cell_type": "code",
   "execution_count": 105,
   "id": "cce69aa3",
   "metadata": {},
   "outputs": [
    {
     "data": {
      "text/plain": [
       "[['2006031060'],\n",
       " ['93236615'],\n",
       " ['94006337'],\n",
       " ['94027806'],\n",
       " ['00105552'],\n",
       " ['2001118532'],\n",
       " ['94175581'],\n",
       " ['94242124'],\n",
       " ['94620082'],\n",
       " ['94621686']]"
      ]
     },
     "execution_count": 105,
     "metadata": {},
     "output_type": "execute_result"
    }
   ],
   "source": [
    "[m['lccn'] for m in edition_metadata.values() if 'lccn' in m][:10]"
   ]
  },
  {
   "cell_type": "markdown",
   "id": "d3af0b66",
   "metadata": {},
   "source": [
    "[OCLC Numbers](https://help.oclc.org/Metadata_Services/WorldShare_Collection_Manager/Data_sync_collections/Prepare_your_data/30035_field_and_OCLC_control_numbers)"
   ]
  },
  {
   "cell_type": "code",
   "execution_count": 106,
   "id": "6332cf1c",
   "metadata": {},
   "outputs": [
    {
     "data": {
      "text/plain": [
       "[['44845380'],\n",
       " ['43183151'],\n",
       " ['45544818'],\n",
       " ['29379986'],\n",
       " ['9703110'],\n",
       " ['316548975'],\n",
       " ['29953070'],\n",
       " ['648935664'],\n",
       " ['30916430'],\n",
       " ['30734335']]"
      ]
     },
     "execution_count": 106,
     "metadata": {},
     "output_type": "execute_result"
    }
   ],
   "source": [
    "[m['oclc_numbers'] for m in edition_metadata.values() if 'oclc_numbers' in m][:10]"
   ]
  },
  {
   "cell_type": "markdown",
   "id": "7339e0e2",
   "metadata": {},
   "source": [
    "Internet Archive e.g. https://archive.org/details/interferon0000unse"
   ]
  },
  {
   "cell_type": "code",
   "execution_count": 107,
   "id": "eab9c1bc",
   "metadata": {},
   "outputs": [
    {
     "data": {
      "text/plain": [
       "['interferon0000unse',\n",
       " 'rajincharge0000davi',\n",
       " 'voicesofislam0000unse_r7b1',\n",
       " 'philipsconciseat0000unse',\n",
       " 'conversationsave0000litt',\n",
       " 'tracerhydrologyp0000inte',\n",
       " 'microsoftaccessx00mari',\n",
       " 'formsofcivilproc02lans',\n",
       " 'agriculturalmanu00wash',\n",
       " 'religionoffuture00elio']"
      ]
     },
     "execution_count": 107,
     "metadata": {},
     "output_type": "execute_result"
    }
   ],
   "source": [
    "[m['ocaid'] for m in edition_metadata.values() if 'ocaid' in m][:10]"
   ]
  },
  {
   "cell_type": "markdown",
   "id": "2ad583d5",
   "metadata": {},
   "source": [
    "## Identifiers"
   ]
  },
  {
   "cell_type": "markdown",
   "id": "3f150b69",
   "metadata": {},
   "source": [
    "Links to other resources"
   ]
  },
  {
   "cell_type": "code",
   "execution_count": 108,
   "id": "0aba1fba",
   "metadata": {},
   "outputs": [
    {
     "data": {
      "text/plain": [
       "[{'goodreads': ['5945087']},\n",
       " {'librarything': ['6457272']},\n",
       " {'goodreads': ['288665'], 'librarything': ['4307547']},\n",
       " {'goodreads': ['1715461']},\n",
       " {},\n",
       " {'librarything': ['5391523']},\n",
       " {},\n",
       " {'goodreads': ['5870746']},\n",
       " {'librarything': ['740747'], 'goodreads': ['494437']},\n",
       " {'goodreads': ['6160082']}]"
      ]
     },
     "execution_count": 108,
     "metadata": {},
     "output_type": "execute_result"
    }
   ],
   "source": [
    "[m['identifiers'] for m in edition_metadata.values() if 'identifiers' in m][:10]"
   ]
  },
  {
   "cell_type": "markdown",
   "id": "504b279a",
   "metadata": {},
   "source": [
    "Mostly to goodreads and librarything, with some to amazon."
   ]
  },
  {
   "cell_type": "code",
   "execution_count": 109,
   "id": "c8265dbd",
   "metadata": {},
   "outputs": [
    {
     "data": {
      "text/plain": [
       "[('goodreads', 61813),\n",
       " ('librarything', 41339),\n",
       " ('amazon', 4681),\n",
       " ('overdrive', 786),\n",
       " ('dnb', 223),\n",
       " ('wikidata', 193),\n",
       " ('google', 174),\n",
       " ('amazon.co.uk_asin', 149),\n",
       " ('depósito_legal', 117),\n",
       " ('amazon.de_asin', 99),\n",
       " ('amazon.ca_asin', 70),\n",
       " ('amazon.it_asin', 44),\n",
       " ('alibris_id', 37),\n",
       " ('canadian_national_library_archive', 29),\n",
       " ('british_library', 20)]"
      ]
     },
     "execution_count": 109,
     "metadata": {},
     "output_type": "execute_result"
    }
   ],
   "source": [
    "identifier_source_counts = Counter()\n",
    "\n",
    "for m in edition_metadata.values():\n",
    "    if 'identifiers' in m:\n",
    "        identifier_source_counts.update(list(m['identifiers']))\n",
    "        \n",
    "identifier_source_counts.most_common(15)"
   ]
  },
  {
   "cell_type": "markdown",
   "id": "a630538d",
   "metadata": {},
   "source": [
    "## Physical Format"
   ]
  },
  {
   "cell_type": "code",
   "execution_count": 110,
   "id": "4dc03296",
   "metadata": {},
   "outputs": [
    {
     "data": {
      "text/plain": [
       "['Paperback',\n",
       " 'Paperback',\n",
       " 'Hardcover',\n",
       " 'Hardcover',\n",
       " 'Paperback',\n",
       " 'Hardcover',\n",
       " 'Unknown Binding',\n",
       " 'Hardcover',\n",
       " 'Library Binding',\n",
       " 'Hardcover']"
      ]
     },
     "execution_count": 110,
     "metadata": {},
     "output_type": "execute_result"
    }
   ],
   "source": [
    "[m['physical_format'] for m in edition_metadata.values() if 'physical_format' in m][:10]"
   ]
  },
  {
   "cell_type": "markdown",
   "id": "c5e8908e",
   "metadata": {},
   "source": [
    "There's some case normalisation issues here.\n",
    "\n",
    "It's almost entirely hard copies."
   ]
  },
  {
   "cell_type": "code",
   "execution_count": 111,
   "id": "3abcef6e",
   "metadata": {},
   "outputs": [
    {
     "data": {
      "text/plain": [
       "[('Paperback', 26915),\n",
       " ('paperback', 13715),\n",
       " ('Hardcover', 13144),\n",
       " ('Microform', 7756),\n",
       " ('hardcover', 4532),\n",
       " ('Unknown Binding', 4000),\n",
       " ('Electronic resource', 1647),\n",
       " ('Mass Market Paperback', 845),\n",
       " ('Ring-bound', 623),\n",
       " ('audio cd', 476),\n",
       " ('Audio Cassette', 471),\n",
       " ('Library Binding', 457),\n",
       " ('Audio CD', 415),\n",
       " ('Spiral-bound', 373),\n",
       " ('eBook', 343)]"
      ]
     },
     "execution_count": 111,
     "metadata": {},
     "output_type": "execute_result"
    }
   ],
   "source": [
    "identifier_source_counts = Counter()\n",
    "\n",
    "for m in edition_metadata.values():\n",
    "    if 'physical_format' in m:\n",
    "        identifier_source_counts.update([m['physical_format']])\n",
    "        \n",
    "identifier_source_counts.most_common(15)"
   ]
  },
  {
   "cell_type": "markdown",
   "id": "4636184a",
   "metadata": {},
   "source": [
    "## Contributions"
   ]
  },
  {
   "cell_type": "markdown",
   "id": "c8e31278",
   "metadata": {},
   "source": [
    "Adaptations, editors, illustrators. Unstructured"
   ]
  },
  {
   "cell_type": "code",
   "execution_count": 112,
   "id": "fd65da99",
   "metadata": {},
   "outputs": [
    {
     "data": {
      "text/plain": [
       "[['Virginia Gray Henry-Blakemore (Adapter)',\n",
       "  'Omid Safi (Adapter)',\n",
       "  'Vincent J. Cornell (Editor)'],\n",
       " ['Briscoe, Jill.', 'Mayhall, Carole.'],\n",
       " ['Highton, Elena I.', 'Highton, Elena I.'],\n",
       " ['Lawrence F. Abbott (Editor)'],\n",
       " ['New Zealand. Ministry for the Environment.'],\n",
       " ['Iowa. Division of Criminal and Juvenile Justice Planning.'],\n",
       " ['Medina Casado, Carmelo.', 'Soto Palomo, Concepción.'],\n",
       " ['Illustrated (Illustrator)'],\n",
       " ['Björkman, Edwin, 1866-1951, tr.'],\n",
       " ['Washington (State). Bureau of Statistics, Agriculture and Immigration.']]"
      ]
     },
     "execution_count": 112,
     "metadata": {},
     "output_type": "execute_result"
    }
   ],
   "source": [
    "[m['contributions'] for m in edition_metadata.values() if 'contributions' in m][:10]"
   ]
  },
  {
   "cell_type": "markdown",
   "id": "a884ac09",
   "metadata": {},
   "source": [
    "## Series"
   ]
  },
  {
   "cell_type": "code",
   "execution_count": 113,
   "id": "78a19999",
   "metadata": {},
   "outputs": [
    {
     "data": {
      "text/plain": [
       "[['Its Report -- 1903'],\n",
       " ['Strategic forum -- no. 101'],\n",
       " ['Colección Teatro breve'],\n",
       " ['Loeb classical library. [Greek authors]', 'Loeb classical library'],\n",
       " ['Research note SO -- 359.'],\n",
       " ['Research publication series / Ministry of Higher Education, Republic of Sri Lanka',\n",
       "  'Research publication series (Sri Lanka. Usas Adhyāpana Amātyaṃśaya)'],\n",
       " ['Theses'],\n",
       " ['Acta universitatis stockholmiensis -- 13'],\n",
       " ['Statistika dlya vsekh'],\n",
       " ['The printed sources of Western art -- 14']]"
      ]
     },
     "execution_count": 113,
     "metadata": {},
     "output_type": "execute_result"
    }
   ],
   "source": [
    "[m['series'] for m in edition_metadata.values() if 'series' in m][:10]"
   ]
  },
  {
   "cell_type": "markdown",
   "id": "6b24670a",
   "metadata": {},
   "source": [
    "## Weight, Physical Dimensions"
   ]
  },
  {
   "cell_type": "markdown",
   "id": "437c87be",
   "metadata": {},
   "source": [
    "Weight as a description"
   ]
  },
  {
   "cell_type": "code",
   "execution_count": 114,
   "id": "a18c62f7",
   "metadata": {},
   "outputs": [
    {
     "data": {
      "text/plain": [
       "['6.8 pounds',\n",
       " '1.7 pounds',\n",
       " '1 pounds',\n",
       " '1.1 pounds',\n",
       " '1.7 pounds',\n",
       " '7.2 ounces',\n",
       " '9.3 ounces',\n",
       " '11.2 ounces',\n",
       " '2.6 pounds',\n",
       " '6.9 ounces']"
      ]
     },
     "execution_count": 114,
     "metadata": {},
     "output_type": "execute_result"
    }
   ],
   "source": [
    "[m['weight'] for m in edition_metadata.values() if 'weight' in m][:10]"
   ]
  },
  {
   "cell_type": "markdown",
   "id": "92612b5c",
   "metadata": {},
   "source": [
    "Size as a description"
   ]
  },
  {
   "cell_type": "code",
   "execution_count": 115,
   "id": "ecde1e74",
   "metadata": {},
   "outputs": [
    {
     "data": {
      "text/plain": [
       "['9.9 x 7 x 5.8 inches',\n",
       " '37 x 8.2 x 5.2 inches',\n",
       " '8.2 x 5.2 x 0.8 inches',\n",
       " '9.1 x 6.1 x 0.8 inches',\n",
       " '11.5 x 7.9 x 0.2 inches',\n",
       " '8.3 x 5.5 x 0.5 inches',\n",
       " '9.5 x 6.5 x 2.2 inches',\n",
       " '20 x 20 x 20 inches',\n",
       " '11.1 x 8.3 x 0.3 inches',\n",
       " '9.4 x 6.1 x 0.8 inches']"
      ]
     },
     "execution_count": 115,
     "metadata": {},
     "output_type": "execute_result"
    }
   ],
   "source": [
    "[m['physical_dimensions'] for m in edition_metadata.values() if 'physical_dimensions' in m][:10]"
   ]
  },
  {
   "cell_type": "markdown",
   "id": "f46739f9",
   "metadata": {},
   "source": [
    "## Genres"
   ]
  },
  {
   "cell_type": "markdown",
   "id": "8c7575fc",
   "metadata": {},
   "source": [
    "Broader than other classifications"
   ]
  },
  {
   "cell_type": "code",
   "execution_count": 116,
   "id": "6dcc6751",
   "metadata": {},
   "outputs": [
    {
     "data": {
      "text/plain": [
       "[['Congresses.'],\n",
       " ['Forms.'],\n",
       " ['Statistics.'],\n",
       " ['Catalogs.'],\n",
       " ['Statistics.'],\n",
       " ['Correspondence.'],\n",
       " ['Catalogs.'],\n",
       " ['Drama.'],\n",
       " ['Poetry.'],\n",
       " ['Statistics.']]"
      ]
     },
     "execution_count": 116,
     "metadata": {},
     "output_type": "execute_result"
    }
   ],
   "source": [
    "[m['genres'] for m in edition_metadata.values() if 'genres' in m][:10]"
   ]
  },
  {
   "cell_type": "code",
   "execution_count": 117,
   "id": "0830dec3",
   "metadata": {},
   "outputs": [
    {
     "data": {
      "text/plain": [
       "[('Biography.', 1555),\n",
       " ('Fiction.', 1511),\n",
       " ('Congresses.', 1112),\n",
       " ('Juvenile literature.', 565),\n",
       " ('Exhibitions.', 536),\n",
       " ('Biography', 526),\n",
       " ('Early works to 1800.', 395),\n",
       " ('Bibliography.', 373),\n",
       " ('Catalogs.', 338),\n",
       " ('Statistics.', 251)]"
      ]
     },
     "execution_count": 117,
     "metadata": {},
     "output_type": "execute_result"
    }
   ],
   "source": [
    "genre_counts = Counter()\n",
    "\n",
    "for m in edition_metadata.values():\n",
    "    genre_counts.update(m.get('genres', []))\n",
    "    \n",
    "genre_counts.most_common(10)"
   ]
  },
  {
   "cell_type": "markdown",
   "id": "5b959baa",
   "metadata": {},
   "source": [
    "## Description"
   ]
  },
  {
   "cell_type": "markdown",
   "id": "88e984c4",
   "metadata": {},
   "source": [
    "Something like a blurb"
   ]
  },
  {
   "cell_type": "code",
   "execution_count": 118,
   "id": "7bf1f123",
   "metadata": {},
   "outputs": [
    {
     "data": {
      "text/plain": [
       "[{'type': '/type/text',\n",
       "  'value': 'Study on traditional axe used by shifting cultivation people in Betung and Sorek Villages, Kecamatan Pangkalan Kuras, Kabupaten Kampar, Riau Province.'},\n",
       " {'type': '/type/text',\n",
       "  'value': 'Considers legislation to revise regulations in matters related to railroad train crew sizes, boiler inspection procedures, and yard maintenance measures\\n\\nConsiders (61) H.R. 22066, (61) S. 6702, (61) H.R. 25924, (61) H.R. 16879, (61) H.R. 16880, (61) H.R. 16881'},\n",
       " {'type': '/type/text',\n",
       "  'value': 'About the Burmese minister Vanʻ jaṅʻʺ Maṅʻʺ Rājā, 1392-1466.'},\n",
       " {'type': '/type/text', 'value': 'Committee Serial No. 58'},\n",
       " {'type': '/type/text',\n",
       "  'value': 'Isaac, nacido en 1970, hijo de Moisés y de Amparo, se considera descendiente de los judíos sefardíes expulsados de España en 1492. Tras morir su esposa, el librero Moisés debe educar en solitario a Isaac, que se interesa por su pasado a la vez que se acostumbra a convivir con gentes diversas. Al llegar a la universidad, Isaac traba gran amistad con un árabe musulmán, Mahmud Garib, y con un europeo católico, Álvaro Rocamora; los tres intercambian conocimientos y sensibilidades, y avanzan en la formulación de una religiosidad tolerante que no concuerda ni con la lógica violenta que se advierte en el contexto internacional ni con el racismo incipiente que crece en torno a ellos. Más adelante, cuando completa estudios en París, Isaac vive la plenitud del amor y vuelve a su Gerona natal, donde debe enfrentarse a graves acontecimientos en medio de la espiral destructiva en la que ha entrado el mundo.'},\n",
       " {'type': '/type/text',\n",
       "  'value': 'Committee Serial No. 81-12. Considers legislation to authorize appropriations for continuing the construction of highways.\\n\\nConsiders (81) H.R. 7398, (81) H.R. 7941.'},\n",
       " {'type': '/type/text',\n",
       "  'value': 'Environmental protection and conservation and restoration of architecture in Ranong Province, Southern Thailand.'},\n",
       " {'type': '/type/text', 'value': 'English-Shan bilingual dictionary.'},\n",
       " {'type': '/type/text',\n",
       "  'value': 'Instructions for making a variety of gifts for dogs, cats, birds, small caged animals, and their owners.'},\n",
       " {'type': '/type/text',\n",
       "  'value': 'Introduces you to people who have dreamed big dreams and overcome daunting obstacles to achieve their goals, confronted challenges, and found new meaning and purpose in life as a result.'}]"
      ]
     },
     "execution_count": 118,
     "metadata": {},
     "output_type": "execute_result"
    }
   ],
   "source": [
    "[m['description'] for m in edition_metadata.values() if 'description' in m][:10]"
   ]
  },
  {
   "cell_type": "markdown",
   "id": "56863d9e",
   "metadata": {},
   "source": [
    "## Local id"
   ]
  },
  {
   "cell_type": "markdown",
   "id": "28756c63",
   "metadata": {},
   "source": [
    "Look like links to other catalogues?"
   ]
  },
  {
   "cell_type": "code",
   "execution_count": 119,
   "id": "72e90429",
   "metadata": {},
   "outputs": [
    {
     "data": {
      "text/plain": [
       "[('Voices of Islam [Five Volumes]',\n",
       "  ['urn:cst:10017030842',\n",
       "   'urn:cst:10017030848',\n",
       "   'urn:cst:10017030854',\n",
       "   'urn:cst:10017030860',\n",
       "   'urn:cst:10017030866']),\n",
       " ('Can a busy Christian develop her spiritual life?',\n",
       "  ['urn:evs:39663100284140']),\n",
       " ('Tracer Hydrology', ['urn:trent:0116403979903']),\n",
       " ('Foundations of the Christian Way of Life According to 1 Peter 1, 13-25',\n",
       "  ['urn:cst:10011457656']),\n",
       " ('Popping fuchsias', ['urn:trent:0116402773380'])]"
      ]
     },
     "execution_count": 119,
     "metadata": {},
     "output_type": "execute_result"
    }
   ],
   "source": [
    "[(m.get('title'), m['local_id']) for m in edition_metadata.values() if 'local_id' in m][:5]"
   ]
  },
  {
   "cell_type": "markdown",
   "id": "71f33cd6",
   "metadata": {},
   "source": [
    "## URL"
   ]
  },
  {
   "cell_type": "markdown",
   "id": "f797c78e",
   "metadata": {},
   "source": [
    "A lot of these links are broken..."
   ]
  },
  {
   "cell_type": "code",
   "execution_count": 120,
   "id": "cccd93fd",
   "metadata": {},
   "outputs": [
    {
     "data": {
      "text/plain": [
       "[('Romania and NATO',\n",
       "  ['http://www.ndu.edu/inss/strforum/SF101/forum101.html']),\n",
       " ('Big trees of the midsouth forest survey',\n",
       "  ['http://purl.version.gpo.gov/GPO/LPS82477']),\n",
       " ('Achievement and motivation',\n",
       "  ['http://www.loc.gov/catdir/toc/cam051/91043220.html',\n",
       "   'http://www.loc.gov/catdir/description/cam024/91043220.html']),\n",
       " ('Owner of tug William Alexander.',\n",
       "  ['https://proxy.lib.muohio.edu/login?source=opac&url=http://www.lexisnexis.com/congcomp/getdoc?SERIAL-SET-ID=3272+H.rp.1252']),\n",
       " ('Martha McAfee.',\n",
       "  ['https://proxy.lib.muohio.edu/login?source=opac&url=http://www.lexisnexis.com/congcomp/getdoc?SERIAL-SET-ID=4761+H.rp.3677'])]"
      ]
     },
     "execution_count": 120,
     "metadata": {},
     "output_type": "execute_result"
    }
   ],
   "source": [
    "[(m.get('title'), m['url']) for m in edition_metadata.values() if 'url' in m][:5]"
   ]
  },
  {
   "cell_type": "markdown",
   "id": "f6a53cdb",
   "metadata": {},
   "source": [
    "## Table of Contents"
   ]
  },
  {
   "cell_type": "code",
   "execution_count": 121,
   "id": "b7bd1887",
   "metadata": {},
   "outputs": [
    {
     "data": {
      "text/plain": [
       "[('Early Spanish Choral Music',\n",
       "  [{'type': '/type/text',\n",
       "    'value': 'Contents: Pastores, Dicite Quidnam Vidistis / by Christobal de Morales, - Ecce Virgo Concipiet / by Christobal de Morales, - o Vos Omnes / by de Esquivel, - Ecce nunc Tempus / by Francisco Guerrero, - Missus est Gabriel / by Christobal de Morales, - Vamos al Portal / by Francisco Guerrero, - o Quam Gloriosum / by Juan de Esquivel, - o Magnummysterium / by Christobal de Morales.'}]),\n",
       " ('Tratado de derecho comparativo',\n",
       "  [{'level': 0,\n",
       "    'type': {'key': '/type/toc_item'},\n",
       "    'title': 'v. 2. El método comparativo'}]),\n",
       " ('Inhibition of chain reactions',\n",
       "  ['Pt. 1. Straight chain reactions: Fundamentals of the theory of chain reactions. Inhibition of straight chain reactions in the gas phase. Inhibitors of polymerization. Kinetics of the inhibited chain oxidation of organic compounds. Inhibition of oxidation by phenols and aromatic amines. Cyclic mechanisms of chain termination upon oxidation of organic compounds',\n",
       "   'pt. 2. Degenerate chain branching reactions: Kinetics and mechanisms of autoxidation of organic compounds. Kinetics of autoxidation of organic compounds inhibited by peroxyl radical acceptors. Hydroperoxide-decomposing inhibitors of oxidation. Synergism of antioxidants',\n",
       "   'pt. 3. Branching chain processes: Fundamentals of the theory of branching chain processes. Inhibition of ignition and combustion']),\n",
       " ('Science 5/13',\n",
       "  [{'title': 'v.1 With objectives in mind',\n",
       "    'type': {'key': '/type/toc_item'},\n",
       "    'level': 0},\n",
       "   {'title': 'v.2 Working with wood, 1 + 2',\n",
       "    'type': {'key': '/type/toc_item'},\n",
       "    'level': 0},\n",
       "   {'title': 'v.3 Working with wood, Background',\n",
       "    'type': {'key': '/type/toc_item'},\n",
       "    'level': 0},\n",
       "   {'title': 'v.4 Time', 'type': {'key': '/type/toc_item'}, 'level': 0},\n",
       "   {'title': 'v.5 Early experiences',\n",
       "    'type': {'key': '/type/toc_item'},\n",
       "    'level': 0},\n",
       "   {'title': 'v.6 Science from toys',\n",
       "    'type': {'key': '/type/toc_item'},\n",
       "    'level': 0},\n",
       "   {'title': 'v.7 Structures and forces, 1 + 2',\n",
       "    'type': {'key': '/type/toc_item'},\n",
       "    'level': 0},\n",
       "   {'title': 'v.8 Structures and forces, 3',\n",
       "    'type': {'key': '/type/toc_item'},\n",
       "    'level': 0},\n",
       "   {'title': 'v.9 Change, 1 + 2',\n",
       "    'type': {'key': '/type/toc_item'},\n",
       "    'level': 0},\n",
       "   {'title': 'v.10 Change, 3', 'type': {'key': '/type/toc_item'}, 'level': 0},\n",
       "   {'title': 'v.11 Minibeasts, 1 + 2',\n",
       "    'type': {'key': '/type/toc_item'},\n",
       "    'level': 0},\n",
       "   {'title': 'v.12 Holes, gaps and cavities',\n",
       "    'type': {'key': '/type/toc_item'},\n",
       "    'level': 0},\n",
       "   {'title': 'v.13 Trees', 'type': {'key': '/type/toc_item'}, 'level': 0},\n",
       "   {'title': 'v.14 Coloured things',\n",
       "    'type': {'key': '/type/toc_item'},\n",
       "    'level': 0},\n",
       "   {'title': 'v.15 Metals, 1 + 2',\n",
       "    'type': {'key': '/type/toc_item'},\n",
       "    'level': 0},\n",
       "   {'title': 'v.16 Metals, Background',\n",
       "    'type': {'key': '/type/toc_item'},\n",
       "    'level': 0},\n",
       "   {'title': 'v.17 Ourselves', 'type': {'key': '/type/toc_item'}, 'level': 0},\n",
       "   {'title': 'v.18 Like and unlike',\n",
       "    'type': {'key': '/type/toc_item'},\n",
       "    'level': 0},\n",
       "   {'title': 'v.19 Science models and toys',\n",
       "    'type': {'key': '/type/toc_item'},\n",
       "    'level': 0},\n",
       "   {'title': 'v.20 Children and plastics',\n",
       "    'type': {'key': '/type/toc_item'},\n",
       "    'level': 0},\n",
       "   {'title': 'v.21 Early explorations',\n",
       "    'type': {'key': '/type/toc_item'},\n",
       "    'level': 0},\n",
       "   {'title': 'v.22 Investigations',\n",
       "    'type': {'key': '/type/toc_item'},\n",
       "    'level': 0},\n",
       "   {'title': 'v.23  Tackling problems',\n",
       "    'type': {'key': '/type/toc_item'},\n",
       "    'level': 0},\n",
       "   {'title': 'v.24 Ways and means.',\n",
       "    'type': {'key': '/type/toc_item'},\n",
       "    'level': 0}]),\n",
       " ('Filología comparada de las lenguas y dialectos arawak',\n",
       "  [{'title': 't. I. 1. pte. Fraseario del Arawak de las Guayanas holandesa e inglesa. 2. pte. Compendio gramatical de la lengua arawak de las Guayanas holandesa e inglesa.',\n",
       "    'type': {'key': '/type/toc_item'},\n",
       "    'level': 0}])]"
      ]
     },
     "execution_count": 121,
     "metadata": {},
     "output_type": "execute_result"
    }
   ],
   "source": [
    "[(m.get('title'), m['table_of_contents']) for m in edition_metadata.values() if 'table_of_contents' in m][:5]"
   ]
  },
  {
   "cell_type": "markdown",
   "id": "950a300b",
   "metadata": {},
   "source": [
    "## First Sentence"
   ]
  },
  {
   "cell_type": "code",
   "execution_count": 122,
   "id": "51f24af9",
   "metadata": {},
   "outputs": [
    {
     "data": {
      "text/plain": [
       "[('Edith Wharton (Women Writers)',\n",
       "  {'type': '/type/text',\n",
       "   'value': 'Edith Wharton awoke in the morning before her husband and guests.'}),\n",
       " ('Miss Brown',\n",
       "  {'type': '/type/text',\n",
       "   'value': \"WHILE Anne was being indoctrinated with her cousin's philosophical theories, Hamlin had little by little let himself be drawn into the little clique of more mystical and Bohemian pre-Raphaelites whom Edmund Lewis had collected round Madame Elaguine.\"}),\n",
       " ('The escape of Marvin the ape',\n",
       "  {'type': '/type/text',\n",
       "   'value': \"It was feeding time, and when the zookeeper wasn't looking, Marvin... slipped out.\"}),\n",
       " (\"La Philosophie D'un Anti-philosophe (Zaharoff Lectures)\",\n",
       "  {'type': '/type/text', 'value': 'Institutions are the bedrock of society.'}),\n",
       " ('Sunday Morning',\n",
       "  {'type': '/type/text',\n",
       "   'value': 'Last night my mother and father came home late.'})]"
      ]
     },
     "execution_count": 122,
     "metadata": {},
     "output_type": "execute_result"
    }
   ],
   "source": [
    "[(m.get('title'), m['first_sentence']) for m in edition_metadata.values() if 'first_sentence' in m][:5]"
   ]
  },
  {
   "cell_type": "markdown",
   "id": "4ae2aecb",
   "metadata": {},
   "source": [
    "## Classifications"
   ]
  },
  {
   "cell_type": "code",
   "execution_count": 123,
   "id": "62b3d0f1",
   "metadata": {},
   "outputs": [
    {
     "data": {
      "text/plain": [
       "[('The Annotated Pride and Prejudice',\n",
       "  {'lccn_permalink': ['https://lccn.loc.gov/2012025584']}),\n",
       " ('The Annotated Pride and Prejudice',\n",
       "  {'lccn_permalink': ['https://lccn.loc.gov/2006049949']}),\n",
       " (\"Elmo's World Babies!\",\n",
       "  {'lccn_permalink': ['https://lccn.loc.gov/99066885']}),\n",
       " ('Pride and Prejudice',\n",
       "  {'lccn_permalink': ['https://lccn.loc.gov/2008277621']}),\n",
       " ('Libelli', {'identificativo_sbn': ['IT\\\\ICCU\\\\CUB\\\\0218304']})]"
      ]
     },
     "execution_count": 123,
     "metadata": {},
     "output_type": "execute_result"
    }
   ],
   "source": [
    "[(m.get('title'), m['classifications']) for m in edition_metadata.values() if m.get('classifications')][:5]"
   ]
  },
  {
   "cell_type": "markdown",
   "id": "8fa3ddcb",
   "metadata": {},
   "source": [
    "# Authors"
   ]
  },
  {
   "cell_type": "code",
   "execution_count": 124,
   "id": "a609dc61",
   "metadata": {},
   "outputs": [
    {
     "data": {
      "application/vnd.jupyter.widget-view+json": {
       "model_id": "2837e08748c94b87be7f4d98e6c085f1",
       "version_major": 2,
       "version_minor": 0
      },
      "text/plain": [
       "  0%|          | 0/230841 [00:00<?, ?it/s]"
      ]
     },
     "metadata": {},
     "output_type": "display_data"
    },
    {
     "data": {
      "text/plain": [
       "{'type': 1.0,\n",
       " 'key': 1.0,\n",
       " 'revision': 1.0,\n",
       " 'last_modified': 1.0,\n",
       " 'name': 0.9999956680139144,\n",
       " 'personal_name': 0.6213757521410841,\n",
       " 'created': 0.4581681763638175,\n",
       " 'latest_revision': 0.3775932351705286,\n",
       " 'birth_date': 0.22452250683370806,\n",
       " 'death_date': 0.08824688855099397,\n",
       " 'source_records': 0.08777037008157129,\n",
       " 'remote_ids': 0.07237015954704754,\n",
       " 'alternate_names': 0.04473208832053231,\n",
       " 'photos': 0.02413782646930138,\n",
       " 'bio': 0.01831563717017341,\n",
       " 'title': 0.014347537915708215}"
      ]
     },
     "execution_count": 124,
     "metadata": {},
     "output_type": "execute_result"
    }
   ],
   "source": [
    "author_key_counts = Counter()\n",
    "\n",
    "for m in tqdm(author_metadata.values()):\n",
    "    author_key_counts.update(m.keys())\n",
    "\n",
    "{k:v/len(author_metadata) for k,v in author_key_counts.most_common() if v/len(author_metadata) > 0.01}"
   ]
  },
  {
   "cell_type": "markdown",
   "id": "cc248b74",
   "metadata": {},
   "source": [
    "## Name, personal_name, alternate_names, title"
   ]
  },
  {
   "cell_type": "markdown",
   "id": "1e103a87",
   "metadata": {},
   "source": [
    "Seems inconsistent in name format"
   ]
  },
  {
   "cell_type": "code",
   "execution_count": 125,
   "id": "505709b5",
   "metadata": {},
   "outputs": [
    {
     "data": {
      "text/plain": [
       "[('Dilwyn Jenkins', 'Dilwyn Jenkins', None, None),\n",
       " ('John Walmsley', 'John Walmsley', None, None),\n",
       " ('Ruth Schroeder', 'Ruth Schroeder', None, None),\n",
       " ('Ping, Weiying Nü', 'Ping, Weiying', None, 'Nü'),\n",
       " ('Bolesław Mikołajczak', 'Bolesław Mikołajczak', None, None)]"
      ]
     },
     "execution_count": 125,
     "metadata": {},
     "output_type": "execute_result"
    }
   ],
   "source": [
    "[(m.get('name'),\n",
    "  m.get('personal_name'),\n",
    "  m.get('alternate_names'),\n",
    "  m.get('title'),\n",
    " )\n",
    "  for m in author_metadata.values() if m.get('personal_name')][:5]"
   ]
  },
  {
   "cell_type": "code",
   "execution_count": 126,
   "id": "c4eb5de7",
   "metadata": {},
   "outputs": [
    {
     "data": {
      "text/plain": [
       "[('Jean Ingelow',\n",
       "  'Ingelow, Jean',\n",
       "  ['Ingelow, Jean', 'Poems by Jean Ingelow'],\n",
       "  None),\n",
       " ('Margaret Olwen Macmillan',\n",
       "  'Margaret Olwen Macmillan',\n",
       "  ['Professor Margaret MacMillan',\n",
       "   'Margaret MacMillan',\n",
       "   'Margaret Macmillan',\n",
       "   'Margaret MacMillian',\n",
       "   'Margaret / Marjorie H arris & Anne L. Desjardins in Conversation with Adrienne Clarkson and John Ralston Saul MacMillan'],\n",
       "  None),\n",
       " ('Ernest Renan',\n",
       "  'Ernest Renan',\n",
       "  ['Ernest Rénan',\n",
       "   'E. Renan',\n",
       "   'Joseph Ernest Renan',\n",
       "   'Renan',\n",
       "   'M. Ernest Renan'],\n",
       "  None),\n",
       " ('George Ernest Wright',\n",
       "  'George Ernest Wright',\n",
       "  ['G. Ernest Wright', 'Wright, George Ernest, 1909-1974'],\n",
       "  None),\n",
       " ('Venezuela.', None, ['Venezuela'], None)]"
      ]
     },
     "execution_count": 126,
     "metadata": {},
     "output_type": "execute_result"
    }
   ],
   "source": [
    "[(m.get('name'),\n",
    "  m.get('personal_name'),\n",
    "  m.get('alternate_names'),\n",
    "  m.get('title'),\n",
    " )\n",
    "  for m in author_metadata.values() if m.get('alternate_names')][:5]"
   ]
  },
  {
   "cell_type": "code",
   "execution_count": 127,
   "id": "af8f4447",
   "metadata": {},
   "outputs": [
    {
     "data": {
      "text/plain": [
       "[('Ping, Weiying Nü', 'Ping, Weiying', None, 'Nü'),\n",
       " ('Singh, Swaran Ph.D.', 'Singh, Swaran', None, 'Ph.D.'),\n",
       " ('Sir John Francis Davis',\n",
       "  'Davis, John Francis',\n",
       "  ['Davis, John Francis Sir, bart', 'Davis, John Francis Sir'],\n",
       "  'Sir'),\n",
       " ('Thomas Cranmer',\n",
       "  'Thomas Cranmer',\n",
       "  ['Cranmer, Thomas Abp. of Canterbury', 'Cranmer, Thomas abp. of Canterbury'],\n",
       "  'Abp. of Canterbury'),\n",
       " ('Cavagna Sangiuliani di Gualdana, Antonio conte',\n",
       "  'Cavagna Sangiuliani di Gualdana, Antonio',\n",
       "  None,\n",
       "  'conte')]"
      ]
     },
     "execution_count": 127,
     "metadata": {},
     "output_type": "execute_result"
    }
   ],
   "source": [
    "[(m.get('name'),\n",
    "  m.get('personal_name'),\n",
    "  m.get('alternate_names'),\n",
    "  m.get('title'),\n",
    " )\n",
    "  for m in author_metadata.values() if m.get('title')][:5]"
   ]
  },
  {
   "cell_type": "markdown",
   "id": "a6e1cbf0",
   "metadata": {},
   "source": [
    "## birth_date, death_date"
   ]
  },
  {
   "cell_type": "markdown",
   "id": "d60a88ab",
   "metadata": {},
   "source": [
    "A date is a human readable string"
   ]
  },
  {
   "cell_type": "code",
   "execution_count": 128,
   "id": "5ff3cbd0",
   "metadata": {},
   "outputs": [
    {
     "data": {
      "text/plain": [
       "[('Jean Ingelow', '1820', '1897'),\n",
       " ('Guthrie, William', '1708', '1770'),\n",
       " ('Ernest Renan', '28 February 1823', '2 October 1892'),\n",
       " ('Barbara E. Ward', None, '1983'),\n",
       " ('Paul Louis', '1872', '1948')]"
      ]
     },
     "execution_count": 128,
     "metadata": {},
     "output_type": "execute_result"
    }
   ],
   "source": [
    "[(m.get('name'), m.get('birth_date'), m.get('death_date')\n",
    " )\n",
    "  for m in author_metadata.values() if m.get('death_date')][:5]"
   ]
  },
  {
   "cell_type": "markdown",
   "id": "3a6cbdfa",
   "metadata": {},
   "source": [
    "## source_records"
   ]
  },
  {
   "cell_type": "markdown",
   "id": "853a95fa",
   "metadata": {},
   "source": [
    "Where the data came from; here often Better World Books"
   ]
  },
  {
   "cell_type": "code",
   "execution_count": 129,
   "id": "249e1ef0",
   "metadata": {},
   "outputs": [
    {
     "data": {
      "text/plain": [
       "[('Rizky Ranny Andayani', ['bwb:9798645250430']),\n",
       " ('Brenda Cartujano-Barrera', ['bwb:9780578256108']),\n",
       " ('D. Battaglia', ['bwb:9789251335338']),\n",
       " ('Gaurie Dwivedi', ['bwb:9789390095414']),\n",
       " ('Orest Publishing', ['bwb:9798751008284'])]"
      ]
     },
     "execution_count": 129,
     "metadata": {},
     "output_type": "execute_result"
    }
   ],
   "source": [
    "[(m.get('name'), m.get('source_records')\n",
    " )\n",
    "  for m in author_metadata.values() if m.get('source_records')][:5]"
   ]
  },
  {
   "cell_type": "markdown",
   "id": "db9e58ee",
   "metadata": {},
   "source": [
    "Similar to book sources.\n",
    "\n",
    "This could be a potential source of duplicates."
   ]
  },
  {
   "cell_type": "code",
   "execution_count": 130,
   "id": "8d713e64",
   "metadata": {},
   "outputs": [
    {
     "data": {
      "text/plain": [
       "[('bwb', 11002),\n",
       " ('amazon', 7601),\n",
       " ('ia', 1839),\n",
       " ('marc', 1745),\n",
       " ('pressbooks', 13)]"
      ]
     },
     "execution_count": 130,
     "metadata": {},
     "output_type": "execute_result"
    }
   ],
   "source": [
    "Counter(a.split(':')[0] for m in author_metadata.values() for a in m.get('source_records', [])).most_common(5)"
   ]
  },
  {
   "cell_type": "markdown",
   "id": "9d3af5bb",
   "metadata": {},
   "source": [
    "## remote_ids"
   ]
  },
  {
   "cell_type": "code",
   "execution_count": 131,
   "id": "c7eaed25",
   "metadata": {},
   "outputs": [
    {
     "data": {
      "text/plain": [
       "[('Jean Ingelow',\n",
       "  {'viaf': '28265826', 'wikidata': 'Q467915', 'isni': '0000000083425290'}),\n",
       " ('Guthrie, William',\n",
       "  {'viaf': '100194070', 'wikidata': 'Q8010287', 'isni': '0000000110792193'}),\n",
       " ('Margaret Olwen Macmillan',\n",
       "  {'viaf': '66698923', 'wikidata': 'Q518615', 'isni': '0000000109111493'}),\n",
       " ('Ernest Renan',\n",
       "  {'wikidata': 'Q157155', 'viaf': '100170528', 'isni': '0000000122834194'}),\n",
       " ('Paul Louis',\n",
       "  {'viaf': '100278931', 'wikidata': 'Q3370321', 'isni': '0000000118801787'})]"
      ]
     },
     "execution_count": 131,
     "metadata": {},
     "output_type": "execute_result"
    }
   ],
   "source": [
    "[(m.get('name'), m.get('remote_ids')\n",
    " )\n",
    "  for m in author_metadata.values() if m.get('remote_ids')][:5]"
   ]
  },
  {
   "cell_type": "markdown",
   "id": "7db62d00",
   "metadata": {},
   "source": [
    "* Wikidata, e.g. https://www.wikidata.org/wiki/Q467915\n",
    "* VIAF, e.g. https://viaf.org/viaf/28265826/\n",
    "* ISNI, e.g. https://isni.org/isni/0000000083425290\n",
    "\n",
    "These can be used to get more information, and even links to Wikipedia pages"
   ]
  },
  {
   "cell_type": "code",
   "execution_count": 132,
   "id": "5764690a",
   "metadata": {},
   "outputs": [
    {
     "data": {
      "text/plain": [
       "[('wikidata', 16579),\n",
       " ('viaf', 16502),\n",
       " ('isni', 16195),\n",
       " ('goodreads', 104),\n",
       " ('amazon', 103),\n",
       " ('librarything', 97),\n",
       " ('project_gutenberg', 32),\n",
       " ('librivox', 29)]"
      ]
     },
     "execution_count": 132,
     "metadata": {},
     "output_type": "execute_result"
    }
   ],
   "source": [
    "Counter(a for m in author_metadata.values() for a in m.get('remote_ids', {})).most_common(10)"
   ]
  },
  {
   "cell_type": "markdown",
   "id": "59cfeb16",
   "metadata": {},
   "source": [
    "## photos"
   ]
  },
  {
   "cell_type": "code",
   "execution_count": 133,
   "id": "808f336f",
   "metadata": {},
   "outputs": [
    {
     "data": {
      "text/plain": [
       "[('Margaret Olwen Macmillan', [9245942]),\n",
       " ('Ernest Renan', [11748743]),\n",
       " ('Luis F. Ladaria', [3365901]),\n",
       " ('Joss Whedon', [12092955]),\n",
       " ('Radoslav Rotković', [6460266])]"
      ]
     },
     "execution_count": 133,
     "metadata": {},
     "output_type": "execute_result"
    }
   ],
   "source": [
    "[(m.get('name'), m.get('photos')\n",
    " )\n",
    "  for m in author_metadata.values() if m.get('photos')][:5]"
   ]
  },
  {
   "cell_type": "markdown",
   "id": "0b460c96",
   "metadata": {},
   "source": [
    "We can download them from the covers subdomain"
   ]
  },
  {
   "cell_type": "code",
   "execution_count": 134,
   "id": "1cd5721b",
   "metadata": {},
   "outputs": [
    {
     "data": {
      "image/jpeg": "[encoded data removed]",
      "text/plain": [
       "<IPython.core.display.Image object>"
      ]
     },
     "execution_count": 134,
     "metadata": {},
     "output_type": "execute_result"
    }
   ],
   "source": [
    "Image(requests.get('https://covers.openlibrary.org/a/id/9245942-M.jpg').content)"
   ]
  },
  {
   "cell_type": "markdown",
   "id": "ddfbfaa2",
   "metadata": {},
   "source": [
    "## bio"
   ]
  },
  {
   "cell_type": "code",
   "execution_count": 135,
   "id": "26e1727d",
   "metadata": {},
   "outputs": [
    {
     "data": {
      "text/plain": [
       "[('Margaret Olwen Macmillan',\n",
       "  {'type': '/type/text',\n",
       "   'value': 'https://en.wikipedia.org/wiki/Margaret_MacMillan'}),\n",
       " ('Ernest Renan',\n",
       "  {'type': '/type/text',\n",
       "   'value': 'Joseph Ernest Renan (27 February 1823 – 2 October 1892) was a French Orientalist and Semitic scholar, expert of Semitic languages and civilizations, historian of religion, philologist, philosopher, biblical scholar and critic. He wrote influential and pioneering historical works on the origins of early Christianity, and espoused popular political theories especially concerning nationalism and national identity. Renan is credited as being among the first scholars to advance the Khazar theory, which helds that Ashkenazi Jews were descendants of the Khazars, Turkic peoples who had adopted Jewish religion and migrated to Western Europe following the collapse of their khanate.\\r\\n\\r\\n**Source**: [Ernest Renan](https://en.wikipedia.org/wiki/Ernest_Renan) on Wikipedia'}),\n",
       " ('Ombretta De Biase',\n",
       "  {'type': '/type/text',\n",
       "   'value': 'Ombretta De Biase, drammaturga e regista, è nata a Milano nel 1945, si è laureata a Padova dove ha anche insegnato matematica e fisica per oltre un decennio. Attualmente vive e lavora a Milano. Fra le sue opere di saggistica: Da Konstantin Stanislavskij a Marlon Brando (Editoria & Spettacolo, Roma 2002, 2 ed.). Quasi tutte le sue pièces sono state rappresentate, premiate o pubblicate. Nel 2003 ha ideato e tuttora dirige il Premio Fersen. Nel 2004 ha ideato e diretto la rassegna teatrale Dopo Pirandello e nel 2005 ha ideato e diretto la rassegna teatrale Anima Mundi, dedicata alla drammaturgia delle donne, replicata nel 2010 e nel 2011 presso la Biblioteca Comunale Centrale di palazzo Sormani, a Milano. Nel 2009 ha collaborato alla sceneggiatura del film Poesia che mi guardi per la regia di Marina Spada.'}),\n",
       " ('Cecelia Holland',\n",
       "  {'type': '/type/text',\n",
       "   'value': 'Cecelia Holland (born on December 31, 1943) is an American historical fiction novelist.'}),\n",
       " ('Joss Whedon',\n",
       "  {'type': '/type/text',\n",
       "   'value': \"Joseph Hill Whedon (/ˈwiːdən/; born June 23, 1964) is an American film and television director, producer, screenwriter, composer, and comic book writer. He is the founder of Mutant Enemy Productions, co-founder of Bellwether Pictures, and is best known as the creator of several television series: the supernatural drama Buffy the Vampire Slayer (1997–2003) and its spinoff Angel (1999–2004), the space Western Firefly (2002), the musical miniseries Dr. Horrible's Sing-Along Blog (2008), the science fiction drama Dollhouse (2009–2010), the Marvel Cinematic Universe series Agents of S.H.I.E.L.D. (2013–2020), and the science fiction drama The Nevers (2021).\"})]"
      ]
     },
     "execution_count": 135,
     "metadata": {},
     "output_type": "execute_result"
    }
   ],
   "source": [
    "[(m.get('name'), m.get('bio')\n",
    " )\n",
    "  for m in author_metadata.values() if m.get('bio')][:5]"
   ]
  }
 ],
 "metadata": {
  "kernelspec": {
   "display_name": "Python 3 (ipykernel)",
   "language": "python",
   "name": "python3"
  },
  "language_info": {
   "codemirror_mode": {
    "name": "ipython",
    "version": 3
   },
   "file_extension": ".py",
   "mimetype": "text/x-python",
   "name": "python",
   "nbconvert_exporter": "python",
   "pygments_lexer": "ipython3",
   "version": "3.8.10"
  },
  "toc": {
   "base_numbering": 1,
   "nav_menu": {},
   "number_sections": true,
   "sideBar": true,
   "skip_h1_title": false,
   "title_cell": "Table of Contents",
   "title_sidebar": "Contents",
   "toc_cell": false,
   "toc_position": {},
   "toc_section_display": true,
   "toc_window_display": false
  }
 },
 "nbformat": 4,
 "nbformat_minor": 5
}
