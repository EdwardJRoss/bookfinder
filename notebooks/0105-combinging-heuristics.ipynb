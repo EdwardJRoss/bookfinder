{
 "cells": [
  {
   "cell_type": "markdown",
   "id": "be744b1a-b8d4-4b13-a986-f864e0e8ace3",
   "metadata": {},
   "source": [
    "# Load the Data"
   ]
  },
  {
   "cell_type": "code",
   "execution_count": 1,
   "id": "06c4284e-f456-409d-be80-a7619825b368",
   "metadata": {},
   "outputs": [],
   "source": [
    "from pathlib import Path\n",
    "import pandas as pd\n",
    "import xxhash"
   ]
  },
  {
   "cell_type": "markdown",
   "id": "775e7e2f-95dd-40d5-afc3-16bf9d7d5ecb",
   "metadata": {},
   "source": [
    "Read in all Hacker News Stories from 2021, which [can be downloaded from Kaggle](https://www.kaggle.com/datasets/edwardjross/hackernews-2021-comments-and-stories) (extracted from the BigQuery dataset)."
   ]
  },
  {
   "cell_type": "code",
   "execution_count": 2,
   "id": "93adeb87-d47d-427c-a265-58363e785cc7",
   "metadata": {},
   "outputs": [],
   "source": [
    "df = (\n",
    "    pd\n",
    "    .read_parquet('../data/01_raw/hackernews2021.parquet')\n",
    "    .set_index('id')\n",
    ")"
   ]
  },
  {
   "cell_type": "code",
   "execution_count": 3,
   "id": "7c0852d6-75d9-41c7-a324-33344bec7343",
   "metadata": {},
   "outputs": [
    {
     "data": {
      "text/html": [
       "<div>\n",
       "<style scoped>\n",
       "    .dataframe tbody tr th:only-of-type {\n",
       "        vertical-align: middle;\n",
       "    }\n",
       "\n",
       "    .dataframe tbody tr th {\n",
       "        vertical-align: top;\n",
       "    }\n",
       "\n",
       "    .dataframe thead th {\n",
       "        text-align: right;\n",
       "    }\n",
       "</style>\n",
       "<table border=\"1\" class=\"dataframe\">\n",
       "  <thead>\n",
       "    <tr style=\"text-align: right;\">\n",
       "      <th></th>\n",
       "      <th>title</th>\n",
       "      <th>url</th>\n",
       "      <th>text</th>\n",
       "      <th>dead</th>\n",
       "      <th>by</th>\n",
       "      <th>score</th>\n",
       "      <th>time</th>\n",
       "      <th>timestamp</th>\n",
       "      <th>type</th>\n",
       "      <th>parent</th>\n",
       "      <th>descendants</th>\n",
       "      <th>ranking</th>\n",
       "      <th>deleted</th>\n",
       "    </tr>\n",
       "    <tr>\n",
       "      <th>id</th>\n",
       "      <th></th>\n",
       "      <th></th>\n",
       "      <th></th>\n",
       "      <th></th>\n",
       "      <th></th>\n",
       "      <th></th>\n",
       "      <th></th>\n",
       "      <th></th>\n",
       "      <th></th>\n",
       "      <th></th>\n",
       "      <th></th>\n",
       "      <th></th>\n",
       "      <th></th>\n",
       "    </tr>\n",
       "  </thead>\n",
       "  <tbody>\n",
       "    <tr>\n",
       "      <th>27405131</th>\n",
       "      <td>None</td>\n",
       "      <td>None</td>\n",
       "      <td>They didn&amp;#x27;t say they &lt;i&gt;weren&amp;#x27;t&lt;/i&gt; ...</td>\n",
       "      <td>None</td>\n",
       "      <td>chrisseaton</td>\n",
       "      <td>NaN</td>\n",
       "      <td>1622901869</td>\n",
       "      <td>2021-06-05 14:04:29+00:00</td>\n",
       "      <td>comment</td>\n",
       "      <td>27405089.0</td>\n",
       "      <td>NaN</td>\n",
       "      <td>NaN</td>\n",
       "      <td>None</td>\n",
       "    </tr>\n",
       "    <tr>\n",
       "      <th>27814313</th>\n",
       "      <td>None</td>\n",
       "      <td>None</td>\n",
       "      <td>Check out &lt;a href=\"https:&amp;#x2F;&amp;#x2F;www.remno...</td>\n",
       "      <td>None</td>\n",
       "      <td>noyesno</td>\n",
       "      <td>NaN</td>\n",
       "      <td>1626119705</td>\n",
       "      <td>2021-07-12 19:55:05+00:00</td>\n",
       "      <td>comment</td>\n",
       "      <td>27812726.0</td>\n",
       "      <td>NaN</td>\n",
       "      <td>NaN</td>\n",
       "      <td>None</td>\n",
       "    </tr>\n",
       "    <tr>\n",
       "      <th>28626089</th>\n",
       "      <td>None</td>\n",
       "      <td>None</td>\n",
       "      <td>Like a million-dollars pixel but with letters....</td>\n",
       "      <td>None</td>\n",
       "      <td>alainchabat</td>\n",
       "      <td>NaN</td>\n",
       "      <td>1632381114</td>\n",
       "      <td>2021-09-23 07:11:54+00:00</td>\n",
       "      <td>comment</td>\n",
       "      <td>28626017.0</td>\n",
       "      <td>NaN</td>\n",
       "      <td>NaN</td>\n",
       "      <td>None</td>\n",
       "    </tr>\n",
       "    <tr>\n",
       "      <th>27143346</th>\n",
       "      <td>None</td>\n",
       "      <td>None</td>\n",
       "      <td>Not the question...</td>\n",
       "      <td>None</td>\n",
       "      <td>SigmundA</td>\n",
       "      <td>NaN</td>\n",
       "      <td>1620920426</td>\n",
       "      <td>2021-05-13 15:40:26+00:00</td>\n",
       "      <td>comment</td>\n",
       "      <td>27143231.0</td>\n",
       "      <td>NaN</td>\n",
       "      <td>NaN</td>\n",
       "      <td>None</td>\n",
       "    </tr>\n",
       "    <tr>\n",
       "      <th>29053108</th>\n",
       "      <td>None</td>\n",
       "      <td>None</td>\n",
       "      <td>There’s the Unorganized Militia of the United ...</td>\n",
       "      <td>None</td>\n",
       "      <td>User23</td>\n",
       "      <td>NaN</td>\n",
       "      <td>1635636573</td>\n",
       "      <td>2021-10-30 23:29:33+00:00</td>\n",
       "      <td>comment</td>\n",
       "      <td>29052087.0</td>\n",
       "      <td>NaN</td>\n",
       "      <td>NaN</td>\n",
       "      <td>None</td>\n",
       "    </tr>\n",
       "    <tr>\n",
       "      <th>...</th>\n",
       "      <td>...</td>\n",
       "      <td>...</td>\n",
       "      <td>...</td>\n",
       "      <td>...</td>\n",
       "      <td>...</td>\n",
       "      <td>...</td>\n",
       "      <td>...</td>\n",
       "      <td>...</td>\n",
       "      <td>...</td>\n",
       "      <td>...</td>\n",
       "      <td>...</td>\n",
       "      <td>...</td>\n",
       "      <td>...</td>\n",
       "    </tr>\n",
       "    <tr>\n",
       "      <th>27367848</th>\n",
       "      <td>None</td>\n",
       "      <td>None</td>\n",
       "      <td>Housing supply isn’t something that can’t chan...</td>\n",
       "      <td>None</td>\n",
       "      <td>JCM9</td>\n",
       "      <td>NaN</td>\n",
       "      <td>1622636746</td>\n",
       "      <td>2021-06-02 12:25:46+00:00</td>\n",
       "      <td>comment</td>\n",
       "      <td>27367172.0</td>\n",
       "      <td>NaN</td>\n",
       "      <td>NaN</td>\n",
       "      <td>None</td>\n",
       "    </tr>\n",
       "    <tr>\n",
       "      <th>28052800</th>\n",
       "      <td>None</td>\n",
       "      <td>None</td>\n",
       "      <td>Final Fantasy XIV has been experiencing consta...</td>\n",
       "      <td>None</td>\n",
       "      <td>amyjess</td>\n",
       "      <td>NaN</td>\n",
       "      <td>1628017217</td>\n",
       "      <td>2021-08-03 19:00:17+00:00</td>\n",
       "      <td>comment</td>\n",
       "      <td>28050798.0</td>\n",
       "      <td>NaN</td>\n",
       "      <td>NaN</td>\n",
       "      <td>None</td>\n",
       "    </tr>\n",
       "    <tr>\n",
       "      <th>28052805</th>\n",
       "      <td>None</td>\n",
       "      <td>None</td>\n",
       "      <td>How did you resolve it?</td>\n",
       "      <td>None</td>\n",
       "      <td>8ytecoder</td>\n",
       "      <td>NaN</td>\n",
       "      <td>1628017238</td>\n",
       "      <td>2021-08-03 19:00:38+00:00</td>\n",
       "      <td>comment</td>\n",
       "      <td>28049375.0</td>\n",
       "      <td>NaN</td>\n",
       "      <td>NaN</td>\n",
       "      <td>None</td>\n",
       "    </tr>\n",
       "    <tr>\n",
       "      <th>26704924</th>\n",
       "      <td>None</td>\n",
       "      <td>None</td>\n",
       "      <td>This hasn&amp;#x27;t been my experience being vega...</td>\n",
       "      <td>None</td>\n",
       "      <td>pacomerh</td>\n",
       "      <td>NaN</td>\n",
       "      <td>1617657938</td>\n",
       "      <td>2021-04-05 21:25:38+00:00</td>\n",
       "      <td>comment</td>\n",
       "      <td>26704794.0</td>\n",
       "      <td>NaN</td>\n",
       "      <td>NaN</td>\n",
       "      <td>None</td>\n",
       "    </tr>\n",
       "    <tr>\n",
       "      <th>27076885</th>\n",
       "      <td>None</td>\n",
       "      <td>None</td>\n",
       "      <td>Death services tread a very fine moral line.  ...</td>\n",
       "      <td>None</td>\n",
       "      <td>curryst</td>\n",
       "      <td>NaN</td>\n",
       "      <td>1620400897</td>\n",
       "      <td>2021-05-07 15:21:37+00:00</td>\n",
       "      <td>comment</td>\n",
       "      <td>27075961.0</td>\n",
       "      <td>NaN</td>\n",
       "      <td>NaN</td>\n",
       "      <td>None</td>\n",
       "    </tr>\n",
       "  </tbody>\n",
       "</table>\n",
       "<p>4155063 rows × 13 columns</p>\n",
       "</div>"
      ],
      "text/plain": [
       "         title   url                                               text  dead  \\\n",
       "id                                                                              \n",
       "27405131  None  None  They didn&#x27;t say they <i>weren&#x27;t</i> ...  None   \n",
       "27814313  None  None  Check out <a href=\"https:&#x2F;&#x2F;www.remno...  None   \n",
       "28626089  None  None  Like a million-dollars pixel but with letters....  None   \n",
       "27143346  None  None                                Not the question...  None   \n",
       "29053108  None  None  There’s the Unorganized Militia of the United ...  None   \n",
       "...        ...   ...                                                ...   ...   \n",
       "27367848  None  None  Housing supply isn’t something that can’t chan...  None   \n",
       "28052800  None  None  Final Fantasy XIV has been experiencing consta...  None   \n",
       "28052805  None  None                            How did you resolve it?  None   \n",
       "26704924  None  None  This hasn&#x27;t been my experience being vega...  None   \n",
       "27076885  None  None  Death services tread a very fine moral line.  ...  None   \n",
       "\n",
       "                   by  score        time                 timestamp     type  \\\n",
       "id                                                                            \n",
       "27405131  chrisseaton    NaN  1622901869 2021-06-05 14:04:29+00:00  comment   \n",
       "27814313      noyesno    NaN  1626119705 2021-07-12 19:55:05+00:00  comment   \n",
       "28626089  alainchabat    NaN  1632381114 2021-09-23 07:11:54+00:00  comment   \n",
       "27143346     SigmundA    NaN  1620920426 2021-05-13 15:40:26+00:00  comment   \n",
       "29053108       User23    NaN  1635636573 2021-10-30 23:29:33+00:00  comment   \n",
       "...               ...    ...         ...                       ...      ...   \n",
       "27367848         JCM9    NaN  1622636746 2021-06-02 12:25:46+00:00  comment   \n",
       "28052800      amyjess    NaN  1628017217 2021-08-03 19:00:17+00:00  comment   \n",
       "28052805    8ytecoder    NaN  1628017238 2021-08-03 19:00:38+00:00  comment   \n",
       "26704924     pacomerh    NaN  1617657938 2021-04-05 21:25:38+00:00  comment   \n",
       "27076885      curryst    NaN  1620400897 2021-05-07 15:21:37+00:00  comment   \n",
       "\n",
       "              parent  descendants  ranking deleted  \n",
       "id                                                  \n",
       "27405131  27405089.0          NaN      NaN    None  \n",
       "27814313  27812726.0          NaN      NaN    None  \n",
       "28626089  28626017.0          NaN      NaN    None  \n",
       "27143346  27143231.0          NaN      NaN    None  \n",
       "29053108  29052087.0          NaN      NaN    None  \n",
       "...              ...          ...      ...     ...  \n",
       "27367848  27367172.0          NaN      NaN    None  \n",
       "28052800  28050798.0          NaN      NaN    None  \n",
       "28052805  28049375.0          NaN      NaN    None  \n",
       "26704924  26704794.0          NaN      NaN    None  \n",
       "27076885  27075961.0          NaN      NaN    None  \n",
       "\n",
       "[4155063 rows x 13 columns]"
      ]
     },
     "execution_count": 3,
     "metadata": {},
     "output_type": "execute_result"
    }
   ],
   "source": [
    "df"
   ]
  },
  {
   "cell_type": "markdown",
   "id": "69808199-0d22-4afb-8394-a5e360343103",
   "metadata": {},
   "source": [
    "# Split the Data\n",
    "\n",
    "The data will be split deterministically by the by the root story.\n",
    "This allows using features about the comment thread.\n",
    "\n",
    "## Finding the root\n",
    "\n",
    "For each comment the root can be found by walking up the parents recursively."
   ]
  },
  {
   "cell_type": "code",
   "execution_count": 4,
   "id": "28185400-acb8-4ecd-a87e-12feac8b27ba",
   "metadata": {},
   "outputs": [],
   "source": [
    "parent_dict = df['parent'].fillna(df.index.to_series()).to_dict()\n",
    "\n",
    "root_dict = {}\n",
    "\n",
    "for item, parent in parent_dict.items():\n",
    "    while parent in parent_dict:\n",
    "        grandparent = parent_dict[parent]\n",
    "        if parent == grandparent:\n",
    "            break\n",
    "        parent = grandparent\n",
    "    root_dict[item] = parent\n",
    "    \n",
    "df['root'] = df.index.map(root_dict)"
   ]
  },
  {
   "cell_type": "code",
   "execution_count": 5,
   "id": "4c18a7b9",
   "metadata": {},
   "outputs": [
    {
     "data": {
      "text/plain": [
       "id\n",
       "27405131    27404512.0\n",
       "27814313    27807850.0\n",
       "28626089    28625485.0\n",
       "27143346    27142567.0\n",
       "29053108    29043296.0\n",
       "Name: root, dtype: float64"
      ]
     },
     "execution_count": 5,
     "metadata": {},
     "output_type": "execute_result"
    }
   ],
   "source": [
    "df['root'].head()"
   ]
  },
  {
   "cell_type": "markdown",
   "id": "3a58dcf1-371b-44d1-883b-f824fcecbb88",
   "metadata": {},
   "source": [
    "## Deterministic Splitting\n",
    "\n",
    "The hash of the root id with a fixed salt gives a deterministic random split.\n",
    "Choose a 50% training set."
   ]
  },
  {
   "cell_type": "code",
   "execution_count": 6,
   "id": "447d99ed",
   "metadata": {},
   "outputs": [],
   "source": [
    "def bucket(s, salt='hnbooks'):\n",
    "    return xxhash.xxh32_intdigest(str(s)+salt) % 100\n",
    "\n",
    "bucket = df['root'].apply(bucket)\n",
    "\n",
    "df['bucket'] = bucket\n",
    "\n",
    "df['train'] = bucket < 50"
   ]
  },
  {
   "cell_type": "markdown",
   "id": "ec2618cc",
   "metadata": {},
   "source": [
    "# Text Extraction"
   ]
  },
  {
   "cell_type": "code",
   "execution_count": 7,
   "id": "f82aef37",
   "metadata": {},
   "outputs": [],
   "source": [
    "import numpy as np"
   ]
  },
  {
   "cell_type": "code",
   "execution_count": 8,
   "id": "0cb08c68",
   "metadata": {},
   "outputs": [],
   "source": [
    "import re\n",
    "import html\n",
    "\n",
    "patterns = {\n",
    "    re.compile('<p>'): '\\n\\n',\n",
    "    re.compile('<i>'): r'',\n",
    "    re.compile('</i>'): r'',\n",
    "    re.compile('<a href=\"([^\"]*)\"[^>]*>.*?</a>'): r'\\1',\n",
    "    re.compile('<pre><code>((?:.|\\n)*?)</code></pre>', flags=re.MULTILINE): r'\\1',\n",
    "}\n",
    "\n",
    "def clean_text(s):\n",
    "    for match, sub in patterns.items():\n",
    "        s = match.sub(sub, s)\n",
    "    return html.unescape(s)"
   ]
  },
  {
   "cell_type": "code",
   "execution_count": 9,
   "id": "a92d7770",
   "metadata": {},
   "outputs": [
    {
     "name": "stdout",
     "output_type": "stream",
     "text": [
      "<i>&gt; they’re the only ones who can use FLOC</i><p>It is available to everyone:<p><pre><code>    cohort = await document.interestCohort();\n",
      "</code></pre>\n",
      "See <a href=\"https:&#x2F;&#x2F;github.com&#x2F;WICG&#x2F;floc\" rel=\"nofollow\">https:&#x2F;&#x2F;github.com&#x2F;WICG&#x2F;floc</a><p>(Disclosure: I work for Google, speaking only for myself)\n"
     ]
    }
   ],
   "source": [
    "text = '<i>&gt; they’re the only ones who can use FLOC</i><p>It is available to everyone:<p><pre><code>    cohort = await document.interestCohort();\\n</code></pre>\\nSee <a href=\"https:&#x2F;&#x2F;github.com&#x2F;WICG&#x2F;floc\" rel=\"nofollow\">https:&#x2F;&#x2F;github.com&#x2F;WICG&#x2F;floc</a><p>(Disclosure: I work for Google, speaking only for myself)'\n",
    "\n",
    "print(text)"
   ]
  },
  {
   "cell_type": "code",
   "execution_count": 10,
   "id": "efad13df",
   "metadata": {},
   "outputs": [
    {
     "name": "stdout",
     "output_type": "stream",
     "text": [
      "> they’re the only ones who can use FLOC\n",
      "\n",
      "It is available to everyone:\n",
      "\n",
      "    cohort = await document.interestCohort();\n",
      "\n",
      "See https://github.com/WICG/floc\n",
      "\n",
      "(Disclosure: I work for Google, speaking only for myself)\n"
     ]
    }
   ],
   "source": [
    "result = (clean_text(text))\n",
    "\n",
    "print(result)"
   ]
  },
  {
   "cell_type": "markdown",
   "id": "1b521f5b",
   "metadata": {},
   "source": [
    "# Joining Features"
   ]
  },
  {
   "cell_type": "code",
   "execution_count": 11,
   "id": "72d8a8f3",
   "metadata": {},
   "outputs": [],
   "source": [
    "sample = df.query('train & dead.isna() & deleted.isna()').copy()\n",
    "\n",
    "del df"
   ]
  },
  {
   "cell_type": "code",
   "execution_count": 12,
   "id": "bd735f0c",
   "metadata": {},
   "outputs": [],
   "source": [
    "ask_hn_data = pd.read_parquet('../data/02_intermediate/ask_hn_books.parquet')\n",
    "seed_data = pd.read_parquet('../data/02_intermediate/seed_books.parquet')\n",
    "zero_shot_data = pd.read_parquet('../data/02_intermediate/zero_shot_contains_book_title_predictions.parquet')\n",
    "work_of_art_data = pd.read_parquet('../data/02_intermediate/work_of_art_predictions.parquet')\n"
   ]
  },
  {
   "cell_type": "code",
   "execution_count": 13,
   "id": "4ba3e358",
   "metadata": {},
   "outputs": [],
   "source": [
    "sample = (\n",
    "    sample\n",
    "    .merge(ask_hn_data, left_index=True, right_index=True, how='left', validate='1:1')\n",
    "    .merge(seed_data, left_index=True, right_index=True, how='left', validate='1:1')\n",
    "    .merge(zero_shot_data, left_index=True, right_index=True, how='left', validate='1:1')\n",
    "    .merge(work_of_art_data, left_index=True, right_index=True, how='left', validate='1:1')\n",
    ")"
   ]
  },
  {
   "cell_type": "code",
   "execution_count": 14,
   "id": "8b0fbf0c",
   "metadata": {},
   "outputs": [],
   "source": [
    "sample = sample.assign(\n",
    "    comment_text = text,\n",
    "    text = lambda _: (np.where(_.title.isna(), '', _.title) + \n",
    "                      np.where(~_.title.isna() & ~_.text.isna(), '<p>', '') +\n",
    "                      _.text.fillna('')\n",
    "                      ).apply(clean_text))"
   ]
  },
  {
   "cell_type": "markdown",
   "id": "ff327055",
   "metadata": {},
   "source": [
    "Almost every field has each of the scores, except `prob` and `work_of_art` which were just scored on comments"
   ]
  },
  {
   "cell_type": "code",
   "execution_count": 15,
   "id": "0efbd1d3",
   "metadata": {},
   "outputs": [
    {
     "data": {
      "text/html": [
       "<div>\n",
       "<style scoped>\n",
       "    .dataframe tbody tr th:only-of-type {\n",
       "        vertical-align: middle;\n",
       "    }\n",
       "\n",
       "    .dataframe tbody tr th {\n",
       "        vertical-align: top;\n",
       "    }\n",
       "\n",
       "    .dataframe thead th {\n",
       "        text-align: right;\n",
       "    }\n",
       "</style>\n",
       "<table border=\"1\" class=\"dataframe\">\n",
       "  <thead>\n",
       "    <tr style=\"text-align: right;\">\n",
       "      <th></th>\n",
       "      <th>title</th>\n",
       "      <th>url</th>\n",
       "      <th>text</th>\n",
       "      <th>dead</th>\n",
       "      <th>by</th>\n",
       "      <th>score</th>\n",
       "      <th>time</th>\n",
       "      <th>timestamp</th>\n",
       "      <th>type</th>\n",
       "      <th>parent</th>\n",
       "      <th>...</th>\n",
       "      <th>bucket</th>\n",
       "      <th>train</th>\n",
       "      <th>ask_hn_books</th>\n",
       "      <th>seed_book</th>\n",
       "      <th>seed_child</th>\n",
       "      <th>seed_parent</th>\n",
       "      <th>seed_sibling</th>\n",
       "      <th>prob</th>\n",
       "      <th>work_of_art</th>\n",
       "      <th>comment_text</th>\n",
       "    </tr>\n",
       "  </thead>\n",
       "  <tbody>\n",
       "    <tr>\n",
       "      <th>0</th>\n",
       "      <td>0.924893</td>\n",
       "      <td>0.929302</td>\n",
       "      <td>0.0</td>\n",
       "      <td>1.0</td>\n",
       "      <td>0.000005</td>\n",
       "      <td>0.924799</td>\n",
       "      <td>0.0</td>\n",
       "      <td>0.0</td>\n",
       "      <td>0.0</td>\n",
       "      <td>0.075201</td>\n",
       "      <td>...</td>\n",
       "      <td>0.0</td>\n",
       "      <td>0.0</td>\n",
       "      <td>0.0</td>\n",
       "      <td>0.0</td>\n",
       "      <td>0.0</td>\n",
       "      <td>0.0</td>\n",
       "      <td>0.0</td>\n",
       "      <td>0.0</td>\n",
       "      <td>0.0</td>\n",
       "      <td>0.0</td>\n",
       "    </tr>\n",
       "  </tbody>\n",
       "</table>\n",
       "<p>1 rows × 24 columns</p>\n",
       "</div>"
      ],
      "text/plain": [
       "      title       url  text  dead        by     score  time  timestamp  type  \\\n",
       "0  0.924893  0.929302   0.0   1.0  0.000005  0.924799   0.0        0.0   0.0   \n",
       "\n",
       "     parent  ...  bucket  train  ask_hn_books  seed_book  seed_child  \\\n",
       "0  0.075201  ...     0.0    0.0           0.0        0.0         0.0   \n",
       "\n",
       "   seed_parent  seed_sibling  prob  work_of_art  comment_text  \n",
       "0          0.0           0.0   0.0          0.0           0.0  \n",
       "\n",
       "[1 rows x 24 columns]"
      ]
     },
     "execution_count": 15,
     "metadata": {},
     "output_type": "execute_result"
    }
   ],
   "source": [
    "sample.isna().mean().to_frame().T"
   ]
  },
  {
   "cell_type": "markdown",
   "id": "f74c4f99",
   "metadata": {},
   "source": [
    "## Fixing up seed sibling\n",
    "\n",
    "In the definition of `seed_sibling` we looked at the children of parents - that includes the item itself.\n",
    "\n",
    "\n",
    "Ideally we'd only include it when another sibling is a `seed_book` but for simplicity let's just exclude `seed_book`s"
   ]
  },
  {
   "cell_type": "code",
   "execution_count": 16,
   "id": "83d8afd9",
   "metadata": {},
   "outputs": [],
   "source": [
    "sample['seed_sibling'] = sample['seed_sibling'] & ~sample['seed_book']"
   ]
  },
  {
   "cell_type": "markdown",
   "id": "420628ca",
   "metadata": {},
   "source": [
    "# Coverage and Correlation\n",
    "\n",
    "For each of these heuristics we want to answer:\n",
    "\n",
    "1. How many comments with works does it contain?\n",
    "2. Does it add something not in the other heuristics?\n",
    "3. What's the precision?\n",
    "\n",
    "We can make some ground on 1 and 2, but 3 requires some annotation"
   ]
  },
  {
   "cell_type": "markdown",
   "id": "71e94baf",
   "metadata": {},
   "source": [
    "## Coverage"
   ]
  },
  {
   "cell_type": "markdown",
   "id": "2a4751ab",
   "metadata": {},
   "source": [
    "## Zero shot classifier"
   ]
  },
  {
   "cell_type": "markdown",
   "id": "f44c02a2",
   "metadata": {},
   "source": [
    "For the zero shot classifier we need to choose a cutoff probability to determine the coverage.\n",
    "\n",
    "We can plot this by seeing the number of items with a cutoff of x below 1; e.g. around 90% it's around 200k"
   ]
  },
  {
   "cell_type": "code",
   "execution_count": 17,
   "id": "2e34ddc4",
   "metadata": {},
   "outputs": [
    {
     "data": {
      "text/plain": [
       "<AxesSubplot:ylabel='Frequency'>"
      ]
     },
     "execution_count": 17,
     "metadata": {},
     "output_type": "execute_result"
    },
    {
     "data": {
      "image/png": "[encoded data removed]",
      "text/plain": [
       "<Figure size 432x288 with 1 Axes>"
      ]
     },
     "metadata": {
      "needs_background": "light"
     },
     "output_type": "display_data"
    }
   ],
   "source": [
    "(1-sample['prob']).plot.hist(bins=20, log='y', cumulative=True)"
   ]
  },
  {
   "cell_type": "markdown",
   "id": "767eecbd",
   "metadata": {},
   "source": [
    "Looking at the distribution of probabilities it has a minimum near 80%, which suggests this is a reasonable decision boundary."
   ]
  },
  {
   "cell_type": "code",
   "execution_count": 18,
   "id": "2af32fc4",
   "metadata": {},
   "outputs": [
    {
     "data": {
      "text/plain": [
       "<AxesSubplot:ylabel='Frequency'>"
      ]
     },
     "execution_count": 18,
     "metadata": {},
     "output_type": "execute_result"
    },
    {
     "data": {
      "image/png": "[encoded data removed]",
      "text/plain": [
       "<Figure size 432x288 with 1 Axes>"
      ]
     },
     "metadata": {
      "needs_background": "light"
     },
     "output_type": "display_data"
    }
   ],
   "source": [
    "sample['prob'].plot.hist(bins=20, log='y')"
   ]
  },
  {
   "cell_type": "markdown",
   "id": "6834ba97",
   "metadata": {},
   "source": [
    "We can also check this directly at different cutoff points"
   ]
  },
  {
   "cell_type": "code",
   "execution_count": 19,
   "id": "b8e845af",
   "metadata": {},
   "outputs": [
    {
     "data": {
      "text/html": [
       "<div>\n",
       "<style scoped>\n",
       "    .dataframe tbody tr th:only-of-type {\n",
       "        vertical-align: middle;\n",
       "    }\n",
       "\n",
       "    .dataframe tbody tr th {\n",
       "        vertical-align: top;\n",
       "    }\n",
       "\n",
       "    .dataframe thead th {\n",
       "        text-align: right;\n",
       "    }\n",
       "</style>\n",
       "<table border=\"1\" class=\"dataframe\">\n",
       "  <thead>\n",
       "    <tr style=\"text-align: right;\">\n",
       "      <th></th>\n",
       "      <th>cutoff</th>\n",
       "      <th>n</th>\n",
       "    </tr>\n",
       "  </thead>\n",
       "  <tbody>\n",
       "    <tr>\n",
       "      <th>0</th>\n",
       "      <td>0.80</td>\n",
       "      <td>50480</td>\n",
       "    </tr>\n",
       "    <tr>\n",
       "      <th>1</th>\n",
       "      <td>0.90</td>\n",
       "      <td>29597</td>\n",
       "    </tr>\n",
       "    <tr>\n",
       "      <th>2</th>\n",
       "      <td>0.95</td>\n",
       "      <td>17062</td>\n",
       "    </tr>\n",
       "  </tbody>\n",
       "</table>\n",
       "</div>"
      ],
      "text/plain": [
       "   cutoff      n\n",
       "0    0.80  50480\n",
       "1    0.90  29597\n",
       "2    0.95  17062"
      ]
     },
     "execution_count": 19,
     "metadata": {},
     "output_type": "execute_result"
    }
   ],
   "source": [
    "pd.DataFrame([(x, (sample['prob'] > x).sum()) for x in [0.8, 0.9, 0.95]], columns=['cutoff', 'n'])"
   ]
  },
  {
   "cell_type": "code",
   "execution_count": 20,
   "id": "c9169a02",
   "metadata": {},
   "outputs": [],
   "source": [
    "sample['zero_shot_80'] = sample['prob'] > 0.8"
   ]
  },
  {
   "cell_type": "markdown",
   "id": "3a8b7381",
   "metadata": {},
   "source": [
    "## All fields"
   ]
  },
  {
   "cell_type": "code",
   "execution_count": 21,
   "id": "12dfe5c9",
   "metadata": {},
   "outputs": [
    {
     "data": {
      "text/html": [
       "<div>\n",
       "<style scoped>\n",
       "    .dataframe tbody tr th:only-of-type {\n",
       "        vertical-align: middle;\n",
       "    }\n",
       "\n",
       "    .dataframe tbody tr th {\n",
       "        vertical-align: top;\n",
       "    }\n",
       "\n",
       "    .dataframe thead th {\n",
       "        text-align: right;\n",
       "    }\n",
       "</style>\n",
       "<table border=\"1\" class=\"dataframe\">\n",
       "  <thead>\n",
       "    <tr style=\"text-align: right;\">\n",
       "      <th></th>\n",
       "      <th>work_of_art</th>\n",
       "      <th>zero_shot_80</th>\n",
       "      <th>seed_sibling</th>\n",
       "      <th>seed_book</th>\n",
       "      <th>seed_child</th>\n",
       "      <th>seed_parent</th>\n",
       "      <th>ask_hn_books</th>\n",
       "    </tr>\n",
       "  </thead>\n",
       "  <tbody>\n",
       "    <tr>\n",
       "      <th>0</th>\n",
       "      <td>55878</td>\n",
       "      <td>50480</td>\n",
       "      <td>13018</td>\n",
       "      <td>1184</td>\n",
       "      <td>1148</td>\n",
       "      <td>922</td>\n",
       "      <td>864</td>\n",
       "    </tr>\n",
       "  </tbody>\n",
       "</table>\n",
       "</div>"
      ],
      "text/plain": [
       "   work_of_art  zero_shot_80  seed_sibling  seed_book  seed_child  \\\n",
       "0        55878         50480         13018       1184        1148   \n",
       "\n",
       "   seed_parent  ask_hn_books  \n",
       "0          922           864  "
      ]
     },
     "execution_count": 21,
     "metadata": {},
     "output_type": "execute_result"
    }
   ],
   "source": [
    "sample.filter(regex='ask_hn|seed_|work_of_art|zero_shot_80').sum().sort_values(ascending=False).to_frame().T"
   ]
  },
  {
   "cell_type": "markdown",
   "id": "018846a9",
   "metadata": {},
   "source": [
    "## Correlation\n",
    "\n",
    "https://en.wikipedia.org/wiki/Association_rule_learning#Confidence"
   ]
  },
  {
   "cell_type": "code",
   "execution_count": 22,
   "id": "793368a4",
   "metadata": {},
   "outputs": [],
   "source": [
    "def confidence(x, y):\n",
    "    return (sample[x] & sample[y]).sum() / sample[x].sum()"
   ]
  },
  {
   "cell_type": "markdown",
   "id": "662359fd",
   "metadata": {},
   "source": [
    "In general this is really promising, `work_of_art` and `zero_shot_80` have the most coverage and agree about 1/4 of the time.\n",
    "They also both contain many of the examples from `seek_book` which are very likley to be actual examples, `work_of_art` doing particularly well.\n",
    "\n",
    "Observations:\n",
    "* most `seed_book` occur in `work_of_art`; this shows `work_of_art` is good at picking up common book names!\n",
    "* If we assume `work_of_art` and `zero_shot_80` are good indicators: `seed_book` ~ `ask_hn_books` > `seed_child` > `seed_parent` > `seed_sibling`\n",
    "* 1/3 of `ask_hn_books` are a `seed_sibling` which shows this is a good heuristic"
   ]
  },
  {
   "cell_type": "code",
   "execution_count": 23,
   "id": "c9858669",
   "metadata": {},
   "outputs": [
    {
     "data": {
      "image/png": "[encoded data removed]",
      "text/plain": [
       "<Figure size 432x288 with 2 Axes>"
      ]
     },
     "metadata": {
      "needs_background": "light"
     },
     "output_type": "display_data"
    }
   ],
   "source": [
    "import seaborn as sns\n",
    "\n",
    "cols = ['seed_book', 'seed_child', 'seed_parent', 'seed_sibling', 'ask_hn_books', 'work_of_art', 'zero_shot_80']\n",
    "\n",
    "confidences = pd.DataFrame(index=cols, columns=cols, dtype='float')\n",
    "\n",
    "for col1 in cols:\n",
    "    for col2 in cols:\n",
    "        confidences.loc[col1, col2] = confidence(col1, col2)\n",
    "        \n",
    "ax = sns.heatmap(confidences, annot=True, fmt=\"0.0%\")"
   ]
  },
  {
   "cell_type": "markdown",
   "id": "a654f5fe",
   "metadata": {},
   "source": [
    "# Saving Samples\n",
    "\n",
    "Export samples for annotation in [prodigy](prodi.gy) which expects a `text` column with the details and any information in a `meta` column."
   ]
  },
  {
   "cell_type": "code",
   "execution_count": 24,
   "id": "d5727942",
   "metadata": {},
   "outputs": [],
   "source": [
    "def prodigy_prepare(df, meta_cols=None, meta_index=True, text_col='text'):\n",
    "    if meta_cols is None:\n",
    "        meta_cols = []\n",
    "    if meta_index:\n",
    "        if df.index.names in df.columns:\n",
    "            raise ValueError(\"Index\")\n",
    "        meta_cols = df.index.names + meta_cols\n",
    "        df = df.reset_index()\n",
    "    \n",
    "    meta = df[meta_cols].to_dict(orient='records')\n",
    "    \n",
    "    return pd.DataFrame({'text': df[text_col],\n",
    "                         'meta': meta})"
   ]
  },
  {
   "cell_type": "code",
   "execution_count": 25,
   "id": "85e5bd9b",
   "metadata": {},
   "outputs": [],
   "source": [
    "def prodigy_write(df, output_file, meta_cols=None, meta_index=True, text_col='text'):\n",
    "    df_out = prodigy_prepare(df, meta_cols, meta_index, text_col)\n",
    "    df_out.to_json(output_file, orient='records', lines=True)"
   ]
  },
  {
   "cell_type": "code",
   "execution_count": 26,
   "id": "ff3d06ff",
   "metadata": {},
   "outputs": [
    {
     "data": {
      "text/plain": [
       "['seed_book',\n",
       " 'seed_child',\n",
       " 'seed_parent',\n",
       " 'seed_sibling',\n",
       " 'ask_hn_books',\n",
       " 'work_of_art',\n",
       " 'zero_shot_80']"
      ]
     },
     "execution_count": 26,
     "metadata": {},
     "output_type": "execute_result"
    }
   ],
   "source": [
    "cols"
   ]
  },
  {
   "cell_type": "code",
   "execution_count": 27,
   "id": "9c129eed",
   "metadata": {},
   "outputs": [
    {
     "data": {
      "text/plain": [
       "1.947961"
      ]
     },
     "execution_count": 27,
     "metadata": {},
     "output_type": "execute_result"
    }
   ],
   "source": [
    "len(sample) / 1e6"
   ]
  },
  {
   "cell_type": "code",
   "execution_count": 28,
   "id": "32da1bc5",
   "metadata": {},
   "outputs": [],
   "source": [
    "prodigy_write(sample.sample(frac=1), meta_cols=cols, output_file='../data/02_intermediate/sample_data.jsonl')"
   ]
  },
  {
   "cell_type": "code",
   "execution_count": 29,
   "id": "affd0f39",
   "metadata": {},
   "outputs": [
    {
     "data": {
      "text/plain": [
       "['seed_book',\n",
       " 'seed_child',\n",
       " 'seed_parent',\n",
       " 'seed_sibling',\n",
       " 'ask_hn_books',\n",
       " 'work_of_art',\n",
       " 'zero_shot_80']"
      ]
     },
     "execution_count": 29,
     "metadata": {},
     "output_type": "execute_result"
    }
   ],
   "source": [
    "cols"
   ]
  },
  {
   "cell_type": "code",
   "execution_count": 30,
   "id": "0dad0464",
   "metadata": {},
   "outputs": [],
   "source": [
    "for col in cols:\n",
    "    prodigy_write(sample.query(col).sample(frac=1, random_state=349),\n",
    "                  meta_cols=cols,\n",
    "                  output_file=f'../data/02_intermediate/sample_{col}.jsonl')"
   ]
  }
 ],
 "metadata": {
  "kernelspec": {
   "display_name": "Python 3 (ipykernel)",
   "language": "python",
   "name": "python3"
  },
  "language_info": {
   "codemirror_mode": {
    "name": "ipython",
    "version": 3
   },
   "file_extension": ".py",
   "mimetype": "text/x-python",
   "name": "python",
   "nbconvert_exporter": "python",
   "pygments_lexer": "ipython3",
   "version": "3.8.10"
  },
  "toc": {
   "base_numbering": 1,
   "nav_menu": {},
   "number_sections": true,
   "sideBar": true,
   "skip_h1_title": false,
   "title_cell": "Table of Contents",
   "title_sidebar": "Contents",
   "toc_cell": false,
   "toc_position": {},
   "toc_section_display": true,
   "toc_window_display": false
  }
 },
 "nbformat": 4,
 "nbformat_minor": 5
}
