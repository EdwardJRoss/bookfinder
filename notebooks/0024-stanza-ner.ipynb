{
 "cells": [
  {
   "cell_type": "markdown",
   "id": "04dde901",
   "metadata": {},
   "source": [
    "# Stanza NER\n",
    "\n",
    "[Stanza's](https://stanfordnlp.github.io/stanza/neural_pipeline.html) NER pipeline, like SpaCy's, is built on Ontonotes so it can recognize Work of Art.\n",
    "\n",
    "It seems to do a worse job than `0022-spacy-ner` so we'd prefer that.\n",
    "It's clear I should annotate some examples to automatically do these kinds of evaluations."
   ]
  },
  {
   "cell_type": "code",
   "execution_count": 3,
   "id": "40b0d86a",
   "metadata": {},
   "outputs": [],
   "source": [
    "import stanza\n",
    "\n",
    "import pandas as pd"
   ]
  },
  {
   "cell_type": "code",
   "execution_count": 4,
   "id": "f9c46bc2",
   "metadata": {},
   "outputs": [],
   "source": [
    "book_recs = pd.read_csv('../data/02_intermediate/hn_ask_book_recommendations.csv')"
   ]
  },
  {
   "cell_type": "code",
   "execution_count": 2,
   "id": "60caf8bd",
   "metadata": {},
   "outputs": [
    {
     "name": "stderr",
     "output_type": "stream",
     "text": [
      "2022-06-27 20:43:35 INFO: Loading these models for language: en (English):\n",
      "=========================\n",
      "| Processor | Package   |\n",
      "-------------------------\n",
      "| tokenize  | ewt       |\n",
      "| pos       | ewt       |\n",
      "| lemma     | ewt       |\n",
      "| depparse  | ewt       |\n",
      "| sentiment | sstplus   |\n",
      "| ner       | ontonotes |\n",
      "=========================\n",
      "\n",
      "2022-06-27 20:43:36 INFO: Use device: gpu\n",
      "2022-06-27 20:43:36 INFO: Loading: tokenize\n",
      "2022-06-27 20:43:55 INFO: Loading: pos\n",
      "2022-06-27 20:43:56 INFO: Loading: lemma\n",
      "2022-06-27 20:43:56 INFO: Loading: depparse\n",
      "2022-06-27 20:43:58 INFO: Loading: sentiment\n",
      "2022-06-27 20:43:59 INFO: Loading: ner\n",
      "2022-06-27 20:44:00 INFO: Done loading processors!\n"
     ]
    }
   ],
   "source": [
    "nlp = stanza.Pipeline('en')"
   ]
  },
  {
   "cell_type": "code",
   "execution_count": 7,
   "id": "0e126524",
   "metadata": {},
   "outputs": [],
   "source": [
    "import re\n",
    "import html\n",
    "\n",
    "def clean(text):\n",
    "    text = html.unescape(text)\n",
    "    text = text.replace('<i>', '\"')\n",
    "    text = text.replace('</i>', '\"')\n",
    "    text = text.replace('<p>', '\\n\\n')\n",
    "    text = re.sub('<a href=\"(.*?)\".*?>.*?</a>', r'\\1', text)\n",
    "    return text"
   ]
  },
  {
   "cell_type": "code",
   "execution_count": 8,
   "id": "55cd6034",
   "metadata": {},
   "outputs": [
    {
     "name": "stdout",
     "output_type": "stream",
     "text": [
      "CPU times: user 9.04 s, sys: 6.01 s, total: 15 s\n",
      "Wall time: 15.4 s\n"
     ]
    }
   ],
   "source": [
    "%time docs = [nlp(text) for text in book_recs.text.head(20).map(clean).to_list()]"
   ]
  },
  {
   "cell_type": "markdown",
   "id": "684a4ebf",
   "metadata": {},
   "source": [
    "Looking through this these are worse than SpaCy's."
   ]
  },
  {
   "cell_type": "code",
   "execution_count": 13,
   "id": "a2f9fd98",
   "metadata": {},
   "outputs": [
    {
     "name": "stdout",
     "output_type": "stream",
     "text": [
      "- Existential Rationalism: Handling Hume's Fork (second edition)\n",
      "- Living with the Himalayan Masters\n",
      "- The Outsider\n",
      "- Hirohito: Behind the Myth\n",
      "\n",
      "entity: Handling Hume's Fork\ttype: WORK_OF_ART\n",
      "entity: second\ttype: ORDINAL\n",
      "entity: Living with the Himalayan Masters\n",
      "- The Outsider\n",
      "- Hirohito: Behind the Myth\ttype: WORK_OF_ART\n",
      "\n",
      "The Coming of Neo-Feudalism by Joel Kotkin\n",
      "\n",
      "entity: The Coming of Neo\ttype: WORK_OF_ART\n",
      "entity: Joel Kotkin\ttype: PERSON\n",
      "\n",
      "Probably \"Reaper\", by Will Wight. It’s not an insightful nonfiction book or a piece of high literature, but the whole Cradle series is very, very fun.\n",
      "\n",
      "entity: Will Wight\ttype: PERSON\n",
      "\n",
      "A Gentleman in Moscow by Amor Towles. I spent a lot of the year in isolation, only seeing a few people and this book felt like an appropriate analogy. It was also very heartwarming when I really needed something to lift me up.\n",
      "\n",
      "entity: Moscow\ttype: GPE\n",
      "entity: Amor Towles\ttype: PERSON\n",
      "\n",
      "\"In Cold Blood\" by Truman Capote. It's a masterpiece.\n",
      "\n",
      "entity: Cold Blood\"\ttype: WORK_OF_ART\n",
      "entity: Truman Capote\ttype: PERSON\n",
      "\n",
      "A small selection of papers that I find useful (also check the Wikipedia articles for a quick overview):\n",
      "\n",
      "Communicating Sequential Processes \"CSP\" by Tony Hoare[0] has a strong influence on Go and Clojure. He also published/contributed to other interesting and influential books and papers.\n",
      "\n",
      "Making reliable distributed systems in the presence of software errors by Joe Armstrong[1] (Erlang, BEAM). An implementation of the actor model and functional programming to optimize for reliability.\n",
      "\n",
      "Conflict-free Replicated Data Types by Marc Shapiro, Nuno Preguiça, Carlos Baquero, Marek Zawirsk, \"CRDTs\" [2]. Enable strong eventual consistency, which is typically useful (and implemented) for databases, p2p (chat) applications and other distributed systems.\n",
      "\n",
      "[0] https://www.cs.cmu.edu/~crary/819-f09/Hoare78.pdf\n",
      "\n",
      "[1] https://www.cs.otago.ac.nz/coursework/cosc461/armstrong_thesis_2003.pdf\n",
      "\n",
      "[2] https://hal.inria.fr/hal-00932836/file/CRDTs_SSS-2011.pdf\n",
      "\n",
      "entity: Wikipedia\ttype: WORK_OF_ART\n",
      "entity: CSP\ttype: ORG\n",
      "entity: Tony Hoare\ttype: PERSON\n",
      "entity: Joe Armstrong\ttype: PERSON\n",
      "entity: 1\ttype: CARDINAL\n",
      "entity: Erlang\ttype: ORG\n",
      "entity: Marc Shapiro\ttype: PERSON\n",
      "entity: Nuno Preguiça\ttype: PERSON\n",
      "entity: Carlos Baquero\ttype: PERSON\n",
      "entity: Marek Zawirsk\ttype: PERSON\n",
      "entity: CRDTs\ttype: WORK_OF_ART\n",
      "entity: 2\ttype: CARDINAL\n",
      "entity: 2\ttype: CARDINAL\n",
      "\n",
      "\"The Unwomanly Face of War: An Oral History of Women in World War II\". Non-fiction. Harrowing. Was inspired to read it after seeing \"Beanpole\".\n",
      "\n",
      "Also really enjoyed \"Klara and the Sun\".\n",
      "\n",
      "entity: The Unwomanly Face of War: An Oral History of Women in World War II\"\ttype: WORK_OF_ART\n",
      "entity: Beanpole\ttype: PERSON\n",
      "entity: Klara and the Sun\"\ttype: WORK_OF_ART\n",
      "\n",
      "programming pearls jon bentley\n",
      "\n",
      "entity: jon\ttype: PERSON\n",
      "\n",
      "try aristotle's treatment on the subject in The Nichomachean Ethics. very relatable by modern standards\n",
      "\n",
      "entity: The Nichomachean Ethics\ttype: WORK_OF_ART\n",
      "\n",
      "Can you send a reference for. “Statistical Inference in Computer Age?” There are several books with similar titles.\n",
      "\n",
      "entity: “Statistical Inference in Computer Age\ttype: WORK_OF_ART\n",
      "\n",
      "\"Learning how to learn\" course (the corresponding book: \"A mind for numbers ...\"): evidenced based 101 on how to learn: the essence is ~12 points on what to do and the most important what not to do to learn something (100s references).\n",
      "https://barbaraoakley.com\n",
      "\n",
      "You are learning almost all of the time on the \"knowledge\" job.\n",
      "\n",
      "entity: 101\ttype: CARDINAL\n",
      "entity: 12\ttype: CARDINAL\n",
      "entity: 100s\ttype: CARDINAL\n",
      "\n",
      "The best and most accessible book on theory is probably Reliable and Secure Distributed systems by Cachin, Guerrouai et al.\n",
      "\n",
      "entity: Reliable and Secure Distributed\ttype: WORK_OF_ART\n",
      "entity: Cachin\ttype: ORG\n",
      "\n",
      "Nand2Tetris opened up a world for me. Searching for it on HN, I also found these books (three of them new to me):\n",
      "\n",
      "* The Elements of Computing Systems [1]\n",
      "* Understanding Computation: From Simple Machines to Impossible Programs [2]\n",
      "* Computer Systems: A Programmer's Perspective [3]\n",
      "* Code: The Hidden Language of Computer Hardware and Software [4]\n",
      "\n",
      "[1] https://news.ycombinator.com/item?id=26036790\n",
      "\n",
      "[2] https://news.ycombinator.com/item?id=26040203\n",
      "\n",
      "[3] https://news.ycombinator.com/item?id=26040101\n",
      "\n",
      "[4] https://news.ycombinator.com/item?id=26038506\n",
      "\n",
      "entity: Nand2Tetris\ttype: PERSON\n",
      "entity: HN\ttype: ORG\n",
      "entity: three\ttype: CARDINAL\n",
      "entity: 1\ttype: CARDINAL\n",
      "entity: 2\ttype: CARDINAL\n",
      "entity: 3\ttype: CARDINAL\n",
      "entity: 4\ttype: CARDINAL\n",
      "\n",
      "Seek out distributed systems research papers from real-world practitioners. A quick search lead me to this nice collection: https://dancres.github.io/Pages/\n",
      "\n",
      "\n",
      "\n",
      "When We Cease to Understand the World\n",
      "by Benjamín Labatut, translated from the Spanish by Adrian Nathan West\n",
      "\n",
      "https://www.nyrb.com/products/when-we-cease-to-understand-the-world?variant=37890166784168\n",
      "\n",
      "entity: Benjamín Labatut\ttype: PERSON\n",
      "entity: Spanish\ttype: NORP\n",
      "entity: Adrian Nathan West\ttype: PERSON\n",
      "\n"
     ]
    }
   ],
   "source": [
    "doc = docs[0]\n",
    "for doc in docs[:15]:\n",
    "    print(doc.text)\n",
    "    print()\n",
    "    print(*[f'entity: {ent.text}\\ttype: {ent.type}' for ent in doc.ents], sep='\\n')\n",
    "    print()"
   ]
  }
 ],
 "metadata": {
  "kernelspec": {
   "display_name": "Python 3 (ipykernel)",
   "language": "python",
   "name": "python3"
  },
  "language_info": {
   "codemirror_mode": {
    "name": "ipython",
    "version": 3
   },
   "file_extension": ".py",
   "mimetype": "text/x-python",
   "name": "python",
   "nbconvert_exporter": "python",
   "pygments_lexer": "ipython3",
   "version": "3.8.10"
  },
  "toc": {
   "base_numbering": 1,
   "nav_menu": {},
   "number_sections": true,
   "sideBar": true,
   "skip_h1_title": false,
   "title_cell": "Table of Contents",
   "title_sidebar": "Contents",
   "toc_cell": false,
   "toc_position": {},
   "toc_section_display": true,
   "toc_window_display": false
  }
 },
 "nbformat": 4,
 "nbformat_minor": 5
}
