{
 "cells": [
  {
   "cell_type": "markdown",
   "id": "2fd1f8d8-5d1c-4bde-9671-ac9b07ffea7a",
   "metadata": {},
   "source": [
    "# Zero Shot Classification for Detecting Book Titles\n",
    "\n",
    "This notebook uses NLI as a Zero Shot Classifier for finding comments with book titles.\n",
    "It doesn't work perfectly, but it makes some useful predictions as a starting point for active learning.\n",
    "\n",
    "It requires around 2 hours to classify 2 million comments on an RTX 5000 using a MiniLM based NLI model."
   ]
  },
  {
   "cell_type": "markdown",
   "id": "be744b1a-b8d4-4b13-a986-f864e0e8ace3",
   "metadata": {},
   "source": [
    "# Load the Data"
   ]
  },
  {
   "cell_type": "code",
   "execution_count": 1,
   "id": "06c4284e-f456-409d-be80-a7619825b368",
   "metadata": {},
   "outputs": [],
   "source": [
    "from pathlib import Path\n",
    "import pandas as pd\n",
    "import xxhash"
   ]
  },
  {
   "cell_type": "markdown",
   "id": "775e7e2f-95dd-40d5-afc3-16bf9d7d5ecb",
   "metadata": {},
   "source": [
    "Read in all Hacker News Stories from 2021, which [can be downloaded from Kaggle](https://www.kaggle.com/datasets/edwardjross/hackernews-2021-comments-and-stories) (extracted from the BigQuery dataset)."
   ]
  },
  {
   "cell_type": "code",
   "execution_count": 2,
   "id": "93adeb87-d47d-427c-a265-58363e785cc7",
   "metadata": {},
   "outputs": [],
   "source": [
    "df = pd.read_parquet('../data/01_raw/hackernews2021.parquet').set_index('id')"
   ]
  },
  {
   "cell_type": "code",
   "execution_count": 3,
   "id": "7c0852d6-75d9-41c7-a324-33344bec7343",
   "metadata": {},
   "outputs": [
    {
     "data": {
      "text/html": [
       "<div>\n",
       "<style scoped>\n",
       "    .dataframe tbody tr th:only-of-type {\n",
       "        vertical-align: middle;\n",
       "    }\n",
       "\n",
       "    .dataframe tbody tr th {\n",
       "        vertical-align: top;\n",
       "    }\n",
       "\n",
       "    .dataframe thead th {\n",
       "        text-align: right;\n",
       "    }\n",
       "</style>\n",
       "<table border=\"1\" class=\"dataframe\">\n",
       "  <thead>\n",
       "    <tr style=\"text-align: right;\">\n",
       "      <th></th>\n",
       "      <th>title</th>\n",
       "      <th>url</th>\n",
       "      <th>text</th>\n",
       "      <th>dead</th>\n",
       "      <th>by</th>\n",
       "      <th>score</th>\n",
       "      <th>time</th>\n",
       "      <th>timestamp</th>\n",
       "      <th>type</th>\n",
       "      <th>parent</th>\n",
       "      <th>descendants</th>\n",
       "      <th>ranking</th>\n",
       "      <th>deleted</th>\n",
       "    </tr>\n",
       "    <tr>\n",
       "      <th>id</th>\n",
       "      <th></th>\n",
       "      <th></th>\n",
       "      <th></th>\n",
       "      <th></th>\n",
       "      <th></th>\n",
       "      <th></th>\n",
       "      <th></th>\n",
       "      <th></th>\n",
       "      <th></th>\n",
       "      <th></th>\n",
       "      <th></th>\n",
       "      <th></th>\n",
       "      <th></th>\n",
       "    </tr>\n",
       "  </thead>\n",
       "  <tbody>\n",
       "    <tr>\n",
       "      <th>27405131</th>\n",
       "      <td>None</td>\n",
       "      <td>None</td>\n",
       "      <td>They didn&amp;#x27;t say they &lt;i&gt;weren&amp;#x27;t&lt;/i&gt; ...</td>\n",
       "      <td>None</td>\n",
       "      <td>chrisseaton</td>\n",
       "      <td>NaN</td>\n",
       "      <td>1622901869</td>\n",
       "      <td>2021-06-05 14:04:29+00:00</td>\n",
       "      <td>comment</td>\n",
       "      <td>27405089.0</td>\n",
       "      <td>NaN</td>\n",
       "      <td>NaN</td>\n",
       "      <td>None</td>\n",
       "    </tr>\n",
       "    <tr>\n",
       "      <th>27814313</th>\n",
       "      <td>None</td>\n",
       "      <td>None</td>\n",
       "      <td>Check out &lt;a href=\"https:&amp;#x2F;&amp;#x2F;www.remno...</td>\n",
       "      <td>None</td>\n",
       "      <td>noyesno</td>\n",
       "      <td>NaN</td>\n",
       "      <td>1626119705</td>\n",
       "      <td>2021-07-12 19:55:05+00:00</td>\n",
       "      <td>comment</td>\n",
       "      <td>27812726.0</td>\n",
       "      <td>NaN</td>\n",
       "      <td>NaN</td>\n",
       "      <td>None</td>\n",
       "    </tr>\n",
       "    <tr>\n",
       "      <th>28626089</th>\n",
       "      <td>None</td>\n",
       "      <td>None</td>\n",
       "      <td>Like a million-dollars pixel but with letters....</td>\n",
       "      <td>None</td>\n",
       "      <td>alainchabat</td>\n",
       "      <td>NaN</td>\n",
       "      <td>1632381114</td>\n",
       "      <td>2021-09-23 07:11:54+00:00</td>\n",
       "      <td>comment</td>\n",
       "      <td>28626017.0</td>\n",
       "      <td>NaN</td>\n",
       "      <td>NaN</td>\n",
       "      <td>None</td>\n",
       "    </tr>\n",
       "    <tr>\n",
       "      <th>27143346</th>\n",
       "      <td>None</td>\n",
       "      <td>None</td>\n",
       "      <td>Not the question...</td>\n",
       "      <td>None</td>\n",
       "      <td>SigmundA</td>\n",
       "      <td>NaN</td>\n",
       "      <td>1620920426</td>\n",
       "      <td>2021-05-13 15:40:26+00:00</td>\n",
       "      <td>comment</td>\n",
       "      <td>27143231.0</td>\n",
       "      <td>NaN</td>\n",
       "      <td>NaN</td>\n",
       "      <td>None</td>\n",
       "    </tr>\n",
       "    <tr>\n",
       "      <th>29053108</th>\n",
       "      <td>None</td>\n",
       "      <td>None</td>\n",
       "      <td>There’s the Unorganized Militia of the United ...</td>\n",
       "      <td>None</td>\n",
       "      <td>User23</td>\n",
       "      <td>NaN</td>\n",
       "      <td>1635636573</td>\n",
       "      <td>2021-10-30 23:29:33+00:00</td>\n",
       "      <td>comment</td>\n",
       "      <td>29052087.0</td>\n",
       "      <td>NaN</td>\n",
       "      <td>NaN</td>\n",
       "      <td>None</td>\n",
       "    </tr>\n",
       "    <tr>\n",
       "      <th>...</th>\n",
       "      <td>...</td>\n",
       "      <td>...</td>\n",
       "      <td>...</td>\n",
       "      <td>...</td>\n",
       "      <td>...</td>\n",
       "      <td>...</td>\n",
       "      <td>...</td>\n",
       "      <td>...</td>\n",
       "      <td>...</td>\n",
       "      <td>...</td>\n",
       "      <td>...</td>\n",
       "      <td>...</td>\n",
       "      <td>...</td>\n",
       "    </tr>\n",
       "    <tr>\n",
       "      <th>27367848</th>\n",
       "      <td>None</td>\n",
       "      <td>None</td>\n",
       "      <td>Housing supply isn’t something that can’t chan...</td>\n",
       "      <td>None</td>\n",
       "      <td>JCM9</td>\n",
       "      <td>NaN</td>\n",
       "      <td>1622636746</td>\n",
       "      <td>2021-06-02 12:25:46+00:00</td>\n",
       "      <td>comment</td>\n",
       "      <td>27367172.0</td>\n",
       "      <td>NaN</td>\n",
       "      <td>NaN</td>\n",
       "      <td>None</td>\n",
       "    </tr>\n",
       "    <tr>\n",
       "      <th>28052800</th>\n",
       "      <td>None</td>\n",
       "      <td>None</td>\n",
       "      <td>Final Fantasy XIV has been experiencing consta...</td>\n",
       "      <td>None</td>\n",
       "      <td>amyjess</td>\n",
       "      <td>NaN</td>\n",
       "      <td>1628017217</td>\n",
       "      <td>2021-08-03 19:00:17+00:00</td>\n",
       "      <td>comment</td>\n",
       "      <td>28050798.0</td>\n",
       "      <td>NaN</td>\n",
       "      <td>NaN</td>\n",
       "      <td>None</td>\n",
       "    </tr>\n",
       "    <tr>\n",
       "      <th>28052805</th>\n",
       "      <td>None</td>\n",
       "      <td>None</td>\n",
       "      <td>How did you resolve it?</td>\n",
       "      <td>None</td>\n",
       "      <td>8ytecoder</td>\n",
       "      <td>NaN</td>\n",
       "      <td>1628017238</td>\n",
       "      <td>2021-08-03 19:00:38+00:00</td>\n",
       "      <td>comment</td>\n",
       "      <td>28049375.0</td>\n",
       "      <td>NaN</td>\n",
       "      <td>NaN</td>\n",
       "      <td>None</td>\n",
       "    </tr>\n",
       "    <tr>\n",
       "      <th>26704924</th>\n",
       "      <td>None</td>\n",
       "      <td>None</td>\n",
       "      <td>This hasn&amp;#x27;t been my experience being vega...</td>\n",
       "      <td>None</td>\n",
       "      <td>pacomerh</td>\n",
       "      <td>NaN</td>\n",
       "      <td>1617657938</td>\n",
       "      <td>2021-04-05 21:25:38+00:00</td>\n",
       "      <td>comment</td>\n",
       "      <td>26704794.0</td>\n",
       "      <td>NaN</td>\n",
       "      <td>NaN</td>\n",
       "      <td>None</td>\n",
       "    </tr>\n",
       "    <tr>\n",
       "      <th>27076885</th>\n",
       "      <td>None</td>\n",
       "      <td>None</td>\n",
       "      <td>Death services tread a very fine moral line.  ...</td>\n",
       "      <td>None</td>\n",
       "      <td>curryst</td>\n",
       "      <td>NaN</td>\n",
       "      <td>1620400897</td>\n",
       "      <td>2021-05-07 15:21:37+00:00</td>\n",
       "      <td>comment</td>\n",
       "      <td>27075961.0</td>\n",
       "      <td>NaN</td>\n",
       "      <td>NaN</td>\n",
       "      <td>None</td>\n",
       "    </tr>\n",
       "  </tbody>\n",
       "</table>\n",
       "<p>4155063 rows × 13 columns</p>\n",
       "</div>"
      ],
      "text/plain": [
       "         title   url                                               text  dead  \\\n",
       "id                                                                              \n",
       "27405131  None  None  They didn&#x27;t say they <i>weren&#x27;t</i> ...  None   \n",
       "27814313  None  None  Check out <a href=\"https:&#x2F;&#x2F;www.remno...  None   \n",
       "28626089  None  None  Like a million-dollars pixel but with letters....  None   \n",
       "27143346  None  None                                Not the question...  None   \n",
       "29053108  None  None  There’s the Unorganized Militia of the United ...  None   \n",
       "...        ...   ...                                                ...   ...   \n",
       "27367848  None  None  Housing supply isn’t something that can’t chan...  None   \n",
       "28052800  None  None  Final Fantasy XIV has been experiencing consta...  None   \n",
       "28052805  None  None                            How did you resolve it?  None   \n",
       "26704924  None  None  This hasn&#x27;t been my experience being vega...  None   \n",
       "27076885  None  None  Death services tread a very fine moral line.  ...  None   \n",
       "\n",
       "                   by  score        time                 timestamp     type  \\\n",
       "id                                                                            \n",
       "27405131  chrisseaton    NaN  1622901869 2021-06-05 14:04:29+00:00  comment   \n",
       "27814313      noyesno    NaN  1626119705 2021-07-12 19:55:05+00:00  comment   \n",
       "28626089  alainchabat    NaN  1632381114 2021-09-23 07:11:54+00:00  comment   \n",
       "27143346     SigmundA    NaN  1620920426 2021-05-13 15:40:26+00:00  comment   \n",
       "29053108       User23    NaN  1635636573 2021-10-30 23:29:33+00:00  comment   \n",
       "...               ...    ...         ...                       ...      ...   \n",
       "27367848         JCM9    NaN  1622636746 2021-06-02 12:25:46+00:00  comment   \n",
       "28052800      amyjess    NaN  1628017217 2021-08-03 19:00:17+00:00  comment   \n",
       "28052805    8ytecoder    NaN  1628017238 2021-08-03 19:00:38+00:00  comment   \n",
       "26704924     pacomerh    NaN  1617657938 2021-04-05 21:25:38+00:00  comment   \n",
       "27076885      curryst    NaN  1620400897 2021-05-07 15:21:37+00:00  comment   \n",
       "\n",
       "              parent  descendants  ranking deleted  \n",
       "id                                                  \n",
       "27405131  27405089.0          NaN      NaN    None  \n",
       "27814313  27812726.0          NaN      NaN    None  \n",
       "28626089  28626017.0          NaN      NaN    None  \n",
       "27143346  27143231.0          NaN      NaN    None  \n",
       "29053108  29052087.0          NaN      NaN    None  \n",
       "...              ...          ...      ...     ...  \n",
       "27367848  27367172.0          NaN      NaN    None  \n",
       "28052800  28050798.0          NaN      NaN    None  \n",
       "28052805  28049375.0          NaN      NaN    None  \n",
       "26704924  26704794.0          NaN      NaN    None  \n",
       "27076885  27075961.0          NaN      NaN    None  \n",
       "\n",
       "[4155063 rows x 13 columns]"
      ]
     },
     "execution_count": 3,
     "metadata": {},
     "output_type": "execute_result"
    }
   ],
   "source": [
    "df"
   ]
  },
  {
   "cell_type": "markdown",
   "id": "69808199-0d22-4afb-8394-a5e360343103",
   "metadata": {},
   "source": [
    "# Split the Data\n",
    "\n",
    "The data will be split deterministically by the by the root story.\n",
    "This allows using features about the comment thread.\n",
    "\n",
    "## Finding the root\n",
    "\n",
    "For each comment the root can be found by walking up the parents recursively."
   ]
  },
  {
   "cell_type": "code",
   "execution_count": 4,
   "id": "28185400-acb8-4ecd-a87e-12feac8b27ba",
   "metadata": {},
   "outputs": [],
   "source": [
    "parent_dict = df['parent'].fillna(df.index.to_series()).to_dict()\n",
    "\n",
    "root_dict = {}\n",
    "\n",
    "for item, parent in parent_dict.items():\n",
    "    while parent in parent_dict:\n",
    "        grandparent = parent_dict[parent]\n",
    "        if parent == grandparent:\n",
    "            break\n",
    "        parent = grandparent\n",
    "    root_dict[item] = parent\n",
    "    \n",
    "df['root'] = df.index.map(root_dict)"
   ]
  },
  {
   "cell_type": "markdown",
   "id": "3a58dcf1-371b-44d1-883b-f824fcecbb88",
   "metadata": {},
   "source": [
    "## Deterministic Splitting\n",
    "\n",
    "The hash of the root id with a fixed salt gives a deterministic random split.\n",
    "Choose a 50% training set."
   ]
  },
  {
   "cell_type": "code",
   "execution_count": 5,
   "id": "3f1bae94-4fb9-46bf-b180-20ab09fdaff7",
   "metadata": {},
   "outputs": [],
   "source": [
    "def bucket(s, salt='hnbooks'):\n",
    "    return xxhash.xxh32_intdigest(str(s)+salt) % 100\n",
    "\n",
    "bucket = df['root'].apply(bucket)\n",
    "\n",
    "df['bucket'] = bucket\n",
    "\n",
    "df['train'] = bucket < 50"
   ]
  },
  {
   "cell_type": "markdown",
   "id": "451fd7c4-dc9b-4c17-87ef-3cda3d20b111",
   "metadata": {},
   "source": [
    "# Clean the text\n",
    "\n",
    "Hacker News comments have a subset of HTML, remove some of the markup."
   ]
  },
  {
   "cell_type": "code",
   "execution_count": 6,
   "id": "df85c3d2-0022-4f2c-bde5-b2b4159d1c72",
   "metadata": {},
   "outputs": [],
   "source": [
    "import re\n",
    "import html\n",
    "\n",
    "def clean(text):\n",
    "    text = html.unescape(text)\n",
    "    text = text.replace('<i>', '')\n",
    "    text = text.replace('</i>', '')\n",
    "    text = text.replace('<p>', '\\n\\n')\n",
    "    text = re.sub('<a href=\"(.*?)\".*?>.*?</a>', r'\\1', text)\n",
    "    return text.strip()"
   ]
  },
  {
   "cell_type": "markdown",
   "id": "5f50c53d-3484-44a0-9fe0-f69dced1286f",
   "metadata": {},
   "source": [
    "Create a sample of training data with the clean text."
   ]
  },
  {
   "cell_type": "code",
   "execution_count": 7,
   "id": "32899d4e-282b-4086-b95c-9b0d0d764697",
   "metadata": {},
   "outputs": [],
   "source": [
    "sample = (\n",
    "    df\n",
    "    .query('train & deleted.isna() & dead.isna()')\n",
    "    .rename(columns={'text': 'comment_text'})\n",
    "    .assign(text=lambda _: (\n",
    "        _['title'].fillna('') + '\\n' + _['comment_text'].fillna('')\n",
    "    ).map(clean)\n",
    "           )\n",
    ").copy()"
   ]
  },
  {
   "cell_type": "markdown",
   "id": "a9cc7658-8bec-4474-8b4b-558df935dd84",
   "metadata": {},
   "source": [
    "# Zero-Shot Classification\n",
    "\n",
    "Following [Joe Davison's article](https://joeddav.github.io/blog/2020/05/29/ZSL.html) we can use NLI to perform zero-shot inference.\n",
    "\n",
    "Instead of using BART we'll use [nli-MiniLM2-L6-H768](https://huggingface.co/cross-encoder/nli-MiniLM2-L6-H768) from [SentenceTransformers pre-trained cross-encoders](https://www.sbert.net/docs/pretrained_cross-encoders.html#nli) which is built on [MiniLM](https://github.com/microsoft/unilm/tree/master/minilm) (I'm not sure which model, but likely one of [nreimers](https://huggingface.co/nreimers)) and trained on SNLI and MultiNLI datasets.\n",
    "\n",
    "I don't use the [ZeroShotClassificationPipeline](https://huggingface.co/docs/transformers/v4.21.2/en/main_classes/pipelines#transformers.ZeroShotClassificationPipeline) because it was raising errors on long texts."
   ]
  },
  {
   "cell_type": "code",
   "execution_count": 8,
   "id": "0662f530-8377-4abf-ba4c-01775ca7a99a",
   "metadata": {},
   "outputs": [
    {
     "data": {
      "text/plain": [
       "'cuda:0'"
      ]
     },
     "execution_count": 8,
     "metadata": {},
     "output_type": "execute_result"
    }
   ],
   "source": [
    "import torch\n",
    "device = \"cuda:0\" if torch.cuda.is_available() else \"cpu\"\n",
    "device"
   ]
  },
  {
   "cell_type": "code",
   "execution_count": 9,
   "id": "d0e5dfac-b533-4e91-acbd-7d0dc6fa26c8",
   "metadata": {},
   "outputs": [],
   "source": [
    "from transformers import AutoTokenizer, AutoModelForSequenceClassification\n",
    "\n",
    "model_name = 'cross-encoder/nli-MiniLM2-L6-H768'\n",
    "\n",
    "tokenizer = AutoTokenizer.from_pretrained(model_name)\n",
    "model = AutoModelForSequenceClassification.from_pretrained(model_name).to(device)"
   ]
  },
  {
   "cell_type": "markdown",
   "id": "42486b8b",
   "metadata": {},
   "source": [
    "I tried a few different `hypothesis` (such as \"This contains the title of a book\" or \"The book is referenced by title\") but after quickly checking a few examples this seemed to work relatively well."
   ]
  },
  {
   "cell_type": "code",
   "execution_count": 10,
   "id": "d4f6739f-7d8a-4d12-a16c-4bd250415450",
   "metadata": {},
   "outputs": [],
   "source": [
    "def zero_shot_predict_book(examples, device=device):\n",
    "    hypothesis = \"This comment mentions a book by title.\"\n",
    "\n",
    "    tokens = tokenizer(text=[(ex, hypothesis) for ex in examples],\n",
    "                          return_tensors='pt',\n",
    "                 truncation=True, padding=True).to(device)\n",
    "\n",
    "    with torch.no_grad():\n",
    "        preds = model(**tokens)\n",
    "    \n",
    "    logits = preds.logits\n",
    "    # Contradiction, entailment, neutral\n",
    "    # Ignore neutral\n",
    "    entail_contradiction_logits = logits[:,[0,1]]\n",
    "    probs = entail_contradiction_logits.softmax(dim=1)\n",
    "    return probs[:,1].to('cpu')"
   ]
  },
  {
   "cell_type": "markdown",
   "id": "15c94220",
   "metadata": {},
   "source": [
    "Testing it on a few examples, it over-indexes on mentions of book and misses more subtle references, but it picks something up."
   ]
  },
  {
   "cell_type": "code",
   "execution_count": 11,
   "id": "69b8374d-5c49-4304-bf9c-ce61f34bb6b3",
   "metadata": {},
   "outputs": [
    {
     "data": {
      "text/plain": [
       "tensor([0.9915, 0.0016, 0.9544, 0.3877])"
      ]
     },
     "execution_count": 11,
     "metadata": {},
     "output_type": "execute_result"
    }
   ],
   "source": [
    "zero_shot_predict_book([\"I really liked that book\", # False\n",
    "                        \"Dune is a great movie\", # False\n",
    "                        \"I recommend The Structure and Interpretation of Computer Programs\", # True\n",
    "                       \"This makes me think of 'tracer bullets' from Pragmatic Programmer\" # True])"
   ]
  },
  {
   "cell_type": "markdown",
   "id": "1ddaf9b9",
   "metadata": {},
   "source": [
    "Now we can run this over the whole list"
   ]
  },
  {
   "cell_type": "code",
   "execution_count": 12,
   "id": "ee443b6d-23ca-4caf-a084-526b5ad99068",
   "metadata": {},
   "outputs": [],
   "source": [
    "batch_size = 8"
   ]
  },
  {
   "cell_type": "code",
   "execution_count": 13,
   "id": "7144a5fe-56af-4a08-83a1-8792702d8e7f",
   "metadata": {},
   "outputs": [],
   "source": [
    "from tqdm.auto import tqdm"
   ]
  },
  {
   "cell_type": "code",
   "execution_count": 18,
   "id": "87d8c737-ffeb-418e-8d35-d967e66b3590",
   "metadata": {},
   "outputs": [],
   "source": [
    "def minibatch(seq, size):\n",
    "    return [seq[i:i+size] for i in range(0, len(seq), size)]"
   ]
  },
  {
   "cell_type": "markdown",
   "id": "e2af8db0",
   "metadata": {},
   "source": [
    "This takes about 2 hours on an RTX 6000."
   ]
  },
  {
   "cell_type": "code",
   "execution_count": 19,
   "id": "aa75b125-d4fc-4904-807e-0168d0d15348",
   "metadata": {},
   "outputs": [
    {
     "data": {
      "application/vnd.jupyter.widget-view+json": {
       "model_id": "783f9a443963475b8048473441aab6e0",
       "version_major": 2,
       "version_minor": 0
      },
      "text/plain": [
       "  0%|          | 0/243496 [00:00<?, ?it/s]"
      ]
     },
     "metadata": {},
     "output_type": "display_data"
    }
   ],
   "source": [
    "preds = []\n",
    "\n",
    "for batch in tqdm(minibatch(sample_indices, batch_size)):\n",
    "    examples = sample.loc[batch].text.to_list()\n",
    "    preds.append(zero_shot_predict_book(examples).numpy())\n",
    "    \n",
    "preds = np.concatenate(preds)"
   ]
  },
  {
   "cell_type": "markdown",
   "id": "4d6c0705",
   "metadata": {},
   "source": [
    "Save the output"
   ]
  },
  {
   "cell_type": "code",
   "execution_count": 20,
   "id": "d05e668c-3f2c-481a-a0a8-6dcaad9c6077",
   "metadata": {},
   "outputs": [],
   "source": [
    "(\n",
    "    pd.Series(preds, index=pd.Index(sample_indices, name='id'), name='prob')\n",
    "    .to_frame()\n",
    "    .to_parquet('../data/02_intermediate/zero_shot_contains_book_title_predictions.parquet',\n",
    "                compression='gzip', engine='pyarrow')\n",
    ")"
   ]
  }
 ],
 "metadata": {
  "kernelspec": {
   "display_name": "Python 3 (ipykernel)",
   "language": "python",
   "name": "python3"
  },
  "language_info": {
   "codemirror_mode": {
    "name": "ipython",
    "version": 3
   },
   "file_extension": ".py",
   "mimetype": "text/x-python",
   "name": "python",
   "nbconvert_exporter": "python",
   "pygments_lexer": "ipython3",
   "version": "3.8.10"
  },
  "toc": {
   "base_numbering": 1,
   "nav_menu": {},
   "number_sections": true,
   "sideBar": true,
   "skip_h1_title": false,
   "title_cell": "Table of Contents",
   "title_sidebar": "Contents",
   "toc_cell": false,
   "toc_position": {},
   "toc_section_display": true,
   "toc_window_display": false
  }
 },
 "nbformat": 4,
 "nbformat_minor": 5
}
