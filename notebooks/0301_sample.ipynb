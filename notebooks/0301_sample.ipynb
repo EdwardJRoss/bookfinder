{
 "cells": [
  {
   "cell_type": "markdown",
   "id": "5cbe4c9e-91c9-446d-a28d-5f4738ed18ab",
   "metadata": {},
   "source": [
    "# Sample\n",
    "\n",
    "Bootstrap some sample data for annotation.\n",
    "\n",
    "Use heuristics to get some examples and SentenceTransformers to generalise them."
   ]
  },
  {
   "cell_type": "code",
   "execution_count": 1,
   "id": "420c8379-9cd6-401c-9706-9f46fff8e221",
   "metadata": {},
   "outputs": [
    {
     "name": "stdout",
     "output_type": "stream",
     "text": [
      "/home/bookfinder\n"
     ]
    }
   ],
   "source": [
    "%cd .."
   ]
  },
  {
   "cell_type": "code",
   "execution_count": 2,
   "id": "d4e260a5-dcdb-4f75-9ca7-0c6d997853f1",
   "metadata": {},
   "outputs": [],
   "source": [
    "import pandas as pd\n",
    "\n",
    "from sentence_transformers import SentenceTransformer"
   ]
  },
  {
   "cell_type": "markdown",
   "id": "eb583a72-02d7-4872-b6be-de01572e8de3",
   "metadata": {},
   "source": [
    "# Read in the data\n",
    "\n",
    "We will only use 3% of the data for these annotations (buckets 0-2)"
   ]
  },
  {
   "cell_type": "code",
   "execution_count": 3,
   "id": "9e740b1a-5ba5-4014-83ea-67c0c4c13f61",
   "metadata": {},
   "outputs": [],
   "source": [
    "df = (\n",
    "    pd.read_parquet('data/02_intermediate/hn_enriched.parquet')\n",
    "    .query('bucket<3 & text_length > 0')\n",
    ")"
   ]
  },
  {
   "cell_type": "code",
   "execution_count": 4,
   "id": "4c99543a-bc90-4509-8f21-d4f562d10160",
   "metadata": {},
   "outputs": [
    {
     "data": {
      "text/html": [
       "<div>\n",
       "<style scoped>\n",
       "    .dataframe tbody tr th:only-of-type {\n",
       "        vertical-align: middle;\n",
       "    }\n",
       "\n",
       "    .dataframe tbody tr th {\n",
       "        vertical-align: top;\n",
       "    }\n",
       "\n",
       "    .dataframe thead th {\n",
       "        text-align: right;\n",
       "    }\n",
       "</style>\n",
       "<table border=\"1\" class=\"dataframe\">\n",
       "  <thead>\n",
       "    <tr style=\"text-align: right;\">\n",
       "      <th></th>\n",
       "      <th>title</th>\n",
       "      <th>url</th>\n",
       "      <th>text</th>\n",
       "      <th>dead</th>\n",
       "      <th>by</th>\n",
       "      <th>score</th>\n",
       "      <th>time</th>\n",
       "      <th>timestamp</th>\n",
       "      <th>type</th>\n",
       "      <th>parent</th>\n",
       "      <th>descendants</th>\n",
       "      <th>ranking</th>\n",
       "      <th>deleted</th>\n",
       "      <th>root</th>\n",
       "      <th>clean_text</th>\n",
       "      <th>bucket</th>\n",
       "      <th>text_length</th>\n",
       "    </tr>\n",
       "    <tr>\n",
       "      <th>id</th>\n",
       "      <th></th>\n",
       "      <th></th>\n",
       "      <th></th>\n",
       "      <th></th>\n",
       "      <th></th>\n",
       "      <th></th>\n",
       "      <th></th>\n",
       "      <th></th>\n",
       "      <th></th>\n",
       "      <th></th>\n",
       "      <th></th>\n",
       "      <th></th>\n",
       "      <th></th>\n",
       "      <th></th>\n",
       "      <th></th>\n",
       "      <th></th>\n",
       "      <th></th>\n",
       "    </tr>\n",
       "  </thead>\n",
       "  <tbody>\n",
       "    <tr>\n",
       "      <th>28886146</th>\n",
       "      <td>The Programmers, like the Poets</td>\n",
       "      <td>None</td>\n",
       "      <td>The programmers, like the poets, work only sli...</td>\n",
       "      <td>None</td>\n",
       "      <td>graderjs</td>\n",
       "      <td>10.0</td>\n",
       "      <td>1634368355</td>\n",
       "      <td>2021-10-16 07:12:35+00:00</td>\n",
       "      <td>story</td>\n",
       "      <td>&lt;NA&gt;</td>\n",
       "      <td>6.0</td>\n",
       "      <td>NaN</td>\n",
       "      <td>None</td>\n",
       "      <td>28886146</td>\n",
       "      <td>The programmers, like the poets, work only sli...</td>\n",
       "      <td>0</td>\n",
       "      <td>345</td>\n",
       "    </tr>\n",
       "    <tr>\n",
       "      <th>26236715</th>\n",
       "      <td>None</td>\n",
       "      <td>None</td>\n",
       "      <td>I&amp;#x27;m not counting the research I did prior...</td>\n",
       "      <td>None</td>\n",
       "      <td>BiteCode_dev</td>\n",
       "      <td>NaN</td>\n",
       "      <td>1614084773</td>\n",
       "      <td>2021-02-23 12:52:53+00:00</td>\n",
       "      <td>comment</td>\n",
       "      <td>26213473</td>\n",
       "      <td>NaN</td>\n",
       "      <td>NaN</td>\n",
       "      <td>None</td>\n",
       "      <td>26207965</td>\n",
       "      <td>I'm not counting the research I did prior the ...</td>\n",
       "      <td>1</td>\n",
       "      <td>135</td>\n",
       "    </tr>\n",
       "    <tr>\n",
       "      <th>26909217</th>\n",
       "      <td>None</td>\n",
       "      <td>None</td>\n",
       "      <td>TFA? I know you&amp;#x27;re referring to Moxie (so...</td>\n",
       "      <td>None</td>\n",
       "      <td>spurgu</td>\n",
       "      <td>NaN</td>\n",
       "      <td>1619132826</td>\n",
       "      <td>2021-04-22 23:07:06+00:00</td>\n",
       "      <td>comment</td>\n",
       "      <td>26899430</td>\n",
       "      <td>NaN</td>\n",
       "      <td>NaN</td>\n",
       "      <td>None</td>\n",
       "      <td>26891811</td>\n",
       "      <td>TFA? I know you're referring to Moxie (somehow...</td>\n",
       "      <td>0</td>\n",
       "      <td>83</td>\n",
       "    </tr>\n",
       "    <tr>\n",
       "      <th>26263927</th>\n",
       "      <td>None</td>\n",
       "      <td>None</td>\n",
       "      <td>From the perspective of January 2009, quite a ...</td>\n",
       "      <td>None</td>\n",
       "      <td>flyingfences</td>\n",
       "      <td>NaN</td>\n",
       "      <td>1614267634</td>\n",
       "      <td>2021-02-25 15:40:34+00:00</td>\n",
       "      <td>comment</td>\n",
       "      <td>26263680</td>\n",
       "      <td>NaN</td>\n",
       "      <td>NaN</td>\n",
       "      <td>None</td>\n",
       "      <td>26262170</td>\n",
       "      <td>From the perspective of January 2009, quite a ...</td>\n",
       "      <td>1</td>\n",
       "      <td>50</td>\n",
       "    </tr>\n",
       "    <tr>\n",
       "      <th>27975372</th>\n",
       "      <td>None</td>\n",
       "      <td>None</td>\n",
       "      <td>Yeah I was reluctant to link to it, it&amp;#x27;s ...</td>\n",
       "      <td>None</td>\n",
       "      <td>RankingMember</td>\n",
       "      <td>NaN</td>\n",
       "      <td>1627408166</td>\n",
       "      <td>2021-07-27 17:49:26+00:00</td>\n",
       "      <td>comment</td>\n",
       "      <td>27974340</td>\n",
       "      <td>NaN</td>\n",
       "      <td>NaN</td>\n",
       "      <td>None</td>\n",
       "      <td>27973169</td>\n",
       "      <td>Yeah I was reluctant to link to it, it's terri...</td>\n",
       "      <td>2</td>\n",
       "      <td>195</td>\n",
       "    </tr>\n",
       "    <tr>\n",
       "      <th>...</th>\n",
       "      <td>...</td>\n",
       "      <td>...</td>\n",
       "      <td>...</td>\n",
       "      <td>...</td>\n",
       "      <td>...</td>\n",
       "      <td>...</td>\n",
       "      <td>...</td>\n",
       "      <td>...</td>\n",
       "      <td>...</td>\n",
       "      <td>...</td>\n",
       "      <td>...</td>\n",
       "      <td>...</td>\n",
       "      <td>...</td>\n",
       "      <td>...</td>\n",
       "      <td>...</td>\n",
       "      <td>...</td>\n",
       "      <td>...</td>\n",
       "    </tr>\n",
       "    <tr>\n",
       "      <th>29631086</th>\n",
       "      <td>None</td>\n",
       "      <td>None</td>\n",
       "      <td>Not that you’re wrong, but there seems to be t...</td>\n",
       "      <td>None</td>\n",
       "      <td>wbsss4412</td>\n",
       "      <td>NaN</td>\n",
       "      <td>1640038542</td>\n",
       "      <td>2021-12-20 22:15:42+00:00</td>\n",
       "      <td>comment</td>\n",
       "      <td>29629328</td>\n",
       "      <td>NaN</td>\n",
       "      <td>NaN</td>\n",
       "      <td>None</td>\n",
       "      <td>29625625</td>\n",
       "      <td>Not that you’re wrong, but there seems to be t...</td>\n",
       "      <td>2</td>\n",
       "      <td>206</td>\n",
       "    </tr>\n",
       "    <tr>\n",
       "      <th>27907148</th>\n",
       "      <td>None</td>\n",
       "      <td>None</td>\n",
       "      <td>I have read that they are using drone technolo...</td>\n",
       "      <td>None</td>\n",
       "      <td>melicoy</td>\n",
       "      <td>NaN</td>\n",
       "      <td>1626879333</td>\n",
       "      <td>2021-07-21 14:55:33+00:00</td>\n",
       "      <td>comment</td>\n",
       "      <td>27904758</td>\n",
       "      <td>NaN</td>\n",
       "      <td>NaN</td>\n",
       "      <td>None</td>\n",
       "      <td>27904758</td>\n",
       "      <td>I have read that they are using drone technolo...</td>\n",
       "      <td>1</td>\n",
       "      <td>135</td>\n",
       "    </tr>\n",
       "    <tr>\n",
       "      <th>26118887</th>\n",
       "      <td>None</td>\n",
       "      <td>None</td>\n",
       "      <td>I was under the impression that Apple chose to...</td>\n",
       "      <td>None</td>\n",
       "      <td>Malic</td>\n",
       "      <td>NaN</td>\n",
       "      <td>1613166051</td>\n",
       "      <td>2021-02-12 21:40:51+00:00</td>\n",
       "      <td>comment</td>\n",
       "      <td>26118069</td>\n",
       "      <td>NaN</td>\n",
       "      <td>NaN</td>\n",
       "      <td>None</td>\n",
       "      <td>26116062</td>\n",
       "      <td>I was under the impression that Apple chose to...</td>\n",
       "      <td>1</td>\n",
       "      <td>254</td>\n",
       "    </tr>\n",
       "    <tr>\n",
       "      <th>25858382</th>\n",
       "      <td>None</td>\n",
       "      <td>None</td>\n",
       "      <td>I see where you are coming from, but I still o...</td>\n",
       "      <td>None</td>\n",
       "      <td>mikem170</td>\n",
       "      <td>NaN</td>\n",
       "      <td>1611234185</td>\n",
       "      <td>2021-01-21 13:03:05+00:00</td>\n",
       "      <td>comment</td>\n",
       "      <td>25853940</td>\n",
       "      <td>NaN</td>\n",
       "      <td>NaN</td>\n",
       "      <td>None</td>\n",
       "      <td>25847062</td>\n",
       "      <td>I see where you are coming from, but I still o...</td>\n",
       "      <td>1</td>\n",
       "      <td>1594</td>\n",
       "    </tr>\n",
       "    <tr>\n",
       "      <th>28182933</th>\n",
       "      <td>None</td>\n",
       "      <td>None</td>\n",
       "      <td>The first time I watched the Big Lebowski, I h...</td>\n",
       "      <td>None</td>\n",
       "      <td>krylon</td>\n",
       "      <td>NaN</td>\n",
       "      <td>1628966113</td>\n",
       "      <td>2021-08-14 18:35:13+00:00</td>\n",
       "      <td>comment</td>\n",
       "      <td>28182061</td>\n",
       "      <td>NaN</td>\n",
       "      <td>NaN</td>\n",
       "      <td>None</td>\n",
       "      <td>28178014</td>\n",
       "      <td>The first time I watched the Big Lebowski, I h...</td>\n",
       "      <td>2</td>\n",
       "      <td>337</td>\n",
       "    </tr>\n",
       "  </tbody>\n",
       "</table>\n",
       "<p>105290 rows × 17 columns</p>\n",
       "</div>"
      ],
      "text/plain": [
       "                                    title   url  \\\n",
       "id                                                \n",
       "28886146  The Programmers, like the Poets  None   \n",
       "26236715                             None  None   \n",
       "26909217                             None  None   \n",
       "26263927                             None  None   \n",
       "27975372                             None  None   \n",
       "...                                   ...   ...   \n",
       "29631086                             None  None   \n",
       "27907148                             None  None   \n",
       "26118887                             None  None   \n",
       "25858382                             None  None   \n",
       "28182933                             None  None   \n",
       "\n",
       "                                                       text  dead  \\\n",
       "id                                                                  \n",
       "28886146  The programmers, like the poets, work only sli...  None   \n",
       "26236715  I&#x27;m not counting the research I did prior...  None   \n",
       "26909217  TFA? I know you&#x27;re referring to Moxie (so...  None   \n",
       "26263927  From the perspective of January 2009, quite a ...  None   \n",
       "27975372  Yeah I was reluctant to link to it, it&#x27;s ...  None   \n",
       "...                                                     ...   ...   \n",
       "29631086  Not that you’re wrong, but there seems to be t...  None   \n",
       "27907148  I have read that they are using drone technolo...  None   \n",
       "26118887  I was under the impression that Apple chose to...  None   \n",
       "25858382  I see where you are coming from, but I still o...  None   \n",
       "28182933  The first time I watched the Big Lebowski, I h...  None   \n",
       "\n",
       "                     by  score        time                 timestamp     type  \\\n",
       "id                                                                              \n",
       "28886146       graderjs   10.0  1634368355 2021-10-16 07:12:35+00:00    story   \n",
       "26236715   BiteCode_dev    NaN  1614084773 2021-02-23 12:52:53+00:00  comment   \n",
       "26909217         spurgu    NaN  1619132826 2021-04-22 23:07:06+00:00  comment   \n",
       "26263927   flyingfences    NaN  1614267634 2021-02-25 15:40:34+00:00  comment   \n",
       "27975372  RankingMember    NaN  1627408166 2021-07-27 17:49:26+00:00  comment   \n",
       "...                 ...    ...         ...                       ...      ...   \n",
       "29631086      wbsss4412    NaN  1640038542 2021-12-20 22:15:42+00:00  comment   \n",
       "27907148        melicoy    NaN  1626879333 2021-07-21 14:55:33+00:00  comment   \n",
       "26118887          Malic    NaN  1613166051 2021-02-12 21:40:51+00:00  comment   \n",
       "25858382       mikem170    NaN  1611234185 2021-01-21 13:03:05+00:00  comment   \n",
       "28182933         krylon    NaN  1628966113 2021-08-14 18:35:13+00:00  comment   \n",
       "\n",
       "            parent  descendants  ranking deleted      root  \\\n",
       "id                                                           \n",
       "28886146      <NA>          6.0      NaN    None  28886146   \n",
       "26236715  26213473          NaN      NaN    None  26207965   \n",
       "26909217  26899430          NaN      NaN    None  26891811   \n",
       "26263927  26263680          NaN      NaN    None  26262170   \n",
       "27975372  27974340          NaN      NaN    None  27973169   \n",
       "...            ...          ...      ...     ...       ...   \n",
       "29631086  29629328          NaN      NaN    None  29625625   \n",
       "27907148  27904758          NaN      NaN    None  27904758   \n",
       "26118887  26118069          NaN      NaN    None  26116062   \n",
       "25858382  25853940          NaN      NaN    None  25847062   \n",
       "28182933  28182061          NaN      NaN    None  28178014   \n",
       "\n",
       "                                                 clean_text  bucket  \\\n",
       "id                                                                    \n",
       "28886146  The programmers, like the poets, work only sli...       0   \n",
       "26236715  I'm not counting the research I did prior the ...       1   \n",
       "26909217  TFA? I know you're referring to Moxie (somehow...       0   \n",
       "26263927  From the perspective of January 2009, quite a ...       1   \n",
       "27975372  Yeah I was reluctant to link to it, it's terri...       2   \n",
       "...                                                     ...     ...   \n",
       "29631086  Not that you’re wrong, but there seems to be t...       2   \n",
       "27907148  I have read that they are using drone technolo...       1   \n",
       "26118887  I was under the impression that Apple chose to...       1   \n",
       "25858382  I see where you are coming from, but I still o...       1   \n",
       "28182933  The first time I watched the Big Lebowski, I h...       2   \n",
       "\n",
       "          text_length  \n",
       "id                     \n",
       "28886146          345  \n",
       "26236715          135  \n",
       "26909217           83  \n",
       "26263927           50  \n",
       "27975372          195  \n",
       "...               ...  \n",
       "29631086          206  \n",
       "27907148          135  \n",
       "26118887          254  \n",
       "25858382         1594  \n",
       "28182933          337  \n",
       "\n",
       "[105290 rows x 17 columns]"
      ]
     },
     "execution_count": 4,
     "metadata": {},
     "output_type": "execute_result"
    }
   ],
   "source": [
    "df"
   ]
  },
  {
   "cell_type": "markdown",
   "id": "a30e5fa6-70dc-4310-b4b7-cb10a9a998ba",
   "metadata": {},
   "source": [
    "# Calculate Embeddings\n",
    "\n",
    "Let's use a fast model"
   ]
  },
  {
   "cell_type": "code",
   "execution_count": 5,
   "id": "66e2ed78-35b2-4a73-9585-add676b406be",
   "metadata": {},
   "outputs": [],
   "source": [
    "model_name = 'all-MiniLM-L6-v2'\n",
    "\n",
    "model = SentenceTransformer(model_name)"
   ]
  },
  {
   "cell_type": "code",
   "execution_count": 6,
   "id": "cdb3f98e-34ba-49e6-9cb6-69f228daded2",
   "metadata": {},
   "outputs": [
    {
     "data": {
      "text/plain": [
       "105290"
      ]
     },
     "execution_count": 6,
     "metadata": {},
     "output_type": "execute_result"
    }
   ],
   "source": [
    "len(df)"
   ]
  },
  {
   "cell_type": "code",
   "execution_count": 7,
   "id": "32be16b2-c8e3-4960-919a-e07c6a3303f0",
   "metadata": {},
   "outputs": [
    {
     "data": {
      "application/vnd.jupyter.widget-view+json": {
       "model_id": "7ae73adecd524e25a06a880de7aaa3ae",
       "version_major": 2,
       "version_minor": 0
      },
      "text/plain": [
       "Batches:   0%|          | 0/3291 [00:00<?, ?it/s]"
      ]
     },
     "metadata": {},
     "output_type": "display_data"
    },
    {
     "name": "stdout",
     "output_type": "stream",
     "text": [
      "CPU times: user 2min 10s, sys: 8.6 s, total: 2min 18s\n",
      "Wall time: 1min 22s\n"
     ]
    }
   ],
   "source": [
    "%%time\n",
    "\n",
    "embeddings = model.encode(df.clean_text.to_list(),\n",
    "                          show_progress_bar=True,\n",
    "                          normalize_embeddings=True,\n",
    "                         convert_to_numpy=True)"
   ]
  },
  {
   "cell_type": "code",
   "execution_count": 8,
   "id": "6ddb8062-3e7e-4a9c-b739-a713dc3a1548",
   "metadata": {},
   "outputs": [
    {
     "data": {
      "text/plain": [
       "(105290, 384)"
      ]
     },
     "execution_count": 8,
     "metadata": {},
     "output_type": "execute_result"
    }
   ],
   "source": [
    "embeddings.shape"
   ]
  },
  {
   "cell_type": "markdown",
   "id": "0705ecb4-65a9-4573-aac7-98791f6b1999",
   "metadata": {},
   "source": [
    "# Heuristic Book Finders\n",
    "\n",
    "As a very rough heuristic look for pattern \"{Proper Noun} by {Proper Noun}\"\n",
    "\n",
    "We could create much better rules e.g. using a Gazeteer or using an existing NER model, but this is good enough to get some examples in the first round of annotation."
   ]
  },
  {
   "cell_type": "code",
   "execution_count": 9,
   "id": "1180933c-626b-4973-b938-7b4609d238f2",
   "metadata": {},
   "outputs": [
    {
     "data": {
      "text/plain": [
       "136"
      ]
     },
     "execution_count": 9,
     "metadata": {},
     "output_type": "execute_result"
    }
   ],
   "source": [
    "has_author_pattern = df.clean_text.str.contains(r'[A-Z][a-z]+ by [A-Z]')\n",
    "sum(has_author_pattern)"
   ]
  },
  {
   "cell_type": "code",
   "execution_count": 10,
   "id": "21f16a48-03ba-431d-aab8-f2cfe93d9461",
   "metadata": {},
   "outputs": [],
   "source": [
    "pd.options.display.max_colwidth = 1000"
   ]
  },
  {
   "cell_type": "code",
   "execution_count": 11,
   "id": "8f2691c7-ce80-48f2-ba83-ca34dd07896b",
   "metadata": {},
   "outputs": [
    {
     "data": {
      "text/html": [
       "<div>\n",
       "<style scoped>\n",
       "    .dataframe tbody tr th:only-of-type {\n",
       "        vertical-align: middle;\n",
       "    }\n",
       "\n",
       "    .dataframe tbody tr th {\n",
       "        vertical-align: top;\n",
       "    }\n",
       "\n",
       "    .dataframe thead th {\n",
       "        text-align: right;\n",
       "    }\n",
       "</style>\n",
       "<table border=\"1\" class=\"dataframe\">\n",
       "  <thead>\n",
       "    <tr style=\"text-align: right;\">\n",
       "      <th></th>\n",
       "      <th>clean_text</th>\n",
       "    </tr>\n",
       "    <tr>\n",
       "      <th>id</th>\n",
       "      <th></th>\n",
       "    </tr>\n",
       "  </thead>\n",
       "  <tbody>\n",
       "    <tr>\n",
       "      <th>26523441</th>\n",
       "      <td>I found it a little garden path. I think \"African American Georgia newspapers from...\" is slightly clearer.\\n\\nThat slightly alters the meaning by not using the demonym: newspapers published by African Americans from Georgia vs newspapers published in Georgia by African Americans.\\n\\nI guess you could also go with African American Georgian Georgia newspapers to be explicit that it's newspapers published in Georgia by African Americans from Georgia.\\n\\nSorry, I guess I have Georgia on my mind now.</td>\n",
       "    </tr>\n",
       "    <tr>\n",
       "      <th>29673502</th>\n",
       "      <td>In my view it's about the interface. Any utopian community must interface with the rest of the currently-not-utopian world. I suspect the utopian aspect can only be maintained if that interface is very small and restricted. Otherwise the property-based wider society will grow to dominate and maximally exploit the utopia, as is its nature. This concept is explored in The Dispossessed by Ursula K. Le Guin.</td>\n",
       "    </tr>\n",
       "    <tr>\n",
       "      <th>28100193</th>\n",
       "      <td>Almost certainly. Even calling the reproducing female 'queen' betrays a hierarchical sensibility that social insects almost certainly do not have. See Metaphors We Live By by George Lakoff and Mark Johnson.</td>\n",
       "    </tr>\n",
       "    <tr>\n",
       "      <th>27827363</th>\n",
       "      <td>If anyone is interested in this era of comic books and the society they bred, The Amazing Adventures of Kavalier &amp; Clay by Michael Chabon is a smart, excellently written novel.\\n\\nIt covers the comic book culture in NYC in WW2 and the years after, and covers a scenario very similar to this report.</td>\n",
       "    </tr>\n",
       "    <tr>\n",
       "      <th>26223637</th>\n",
       "      <td>Glossary:\\n\\nAPT31 - a name given to an attack group that is attributed to China.\\n\\nEquation Group - a name given to an APT group which is believed to be the Tailored Access Operations (TAO) unit of the NSA. The unit is now named \"Computer Network Operations\" (CNO).\\n\\nJian -  a name that was given to a 0-Day exploit that was attributed to the Chinese-affiliated attack group.\\n\\n0-Day - a vulnerability that is unknown to the public or to the relevant vendor (e.g Microsoft).\\n\\n0-Day Exploit - an exploit that is directed at a zero-day\\n\\n---\\n\\nIn this story, we claim that the Chinese APT acquired the Equation Group exploit somewhere around 2014, cloned it into their own version (Jian), and used it until was finally caught in 2017.\\n\\nInterestingly, the 0-Day was reported to Microsoft by Lockheed Martin's Incident Response team. This might suggest that the Chinese APT might have used it to attack American targets.\\n\\nI tried to summarize the highlights in a less technical lingo in ...</td>\n",
       "    </tr>\n",
       "    <tr>\n",
       "      <th>...</th>\n",
       "      <td>...</td>\n",
       "    </tr>\n",
       "    <tr>\n",
       "      <th>27323291</th>\n",
       "      <td>&gt; Confirmed by PCR\\n\\nWhat was the cycle threshold? The problem with this whole manufactured pandemic is that all the numbers and tests are bullshit because people are doing bad science. The massive relief bills introduced financial incentives to do bad science. It’s institutional failure at a massive scale.</td>\n",
       "    </tr>\n",
       "    <tr>\n",
       "      <th>28111445</th>\n",
       "      <td>Cool, many unknown bands, thanks for also pointing to albums in particular! Will start with Rabies by Uncle Al</td>\n",
       "    </tr>\n",
       "    <tr>\n",
       "      <th>25746920</th>\n",
       "      <td>August 6, 2018\\n\\n#1: Let's Encrypt Root Trusted by All Major Root Programs(https://letsencrypt.org/2018/08/06/trusted-by-all-major-root-programs.html)\\n\\n#2: I’m a very slow thinker (2016)(https://sivers.org/slow)\\n\\n#3: Facebook has asked U.S. banks to share financial information about customers\\n(https://www.wsj.com/articles/facebook-to-banks-give-us-your-data-well-give-you-our-users-1533564049)\\n\\nedit: That was with https://hn.algolia.com/ though, not by clicking on the date. Liked the idea before reading everything. With a click on the date I get a similar, but slightly different result. Neat feature though.</td>\n",
       "    </tr>\n",
       "    <tr>\n",
       "      <th>28724612</th>\n",
       "      <td>The CRDT I was referencing was Shelf by Greg Little. He's given a few talks about it at the braid meetups. When he first showed it off, Kevin Jahns (the Yjs author) was also there and was as impressed as I was:\\n\\nhttps://braid.org/meeting-8 (the shelf part with Greg starts at about 43 minutes in to the recording.)\\n\\nThe code is all here. Its tiny:\\n\\nhttps://github.com/dglittle/shelf</td>\n",
       "    </tr>\n",
       "    <tr>\n",
       "      <th>28337190</th>\n",
       "      <td>This exact phenomenon is discussed in \"Punished by Rewards.\" It's probably one of the best possible ways to train kids that reading is no fun, of no benefit to them, and should only be done if promised some kind of prize.</td>\n",
       "    </tr>\n",
       "  </tbody>\n",
       "</table>\n",
       "<p>136 rows × 1 columns</p>\n",
       "</div>"
      ],
      "text/plain": [
       "                                                                                                                                                                                                                                                                                                                                                                                                                                                                                                                                                                                                                                                                                                                                                                                                                                                                                                                                                                                                                                       clean_text\n",
       "id                                                                                                                                                                                                                                                                                                                                                                                                                                                                                                                                                                                                                                                                                                                                                                                                                                                                                                                                                                                                                                               \n",
       "26523441                                                                                                                                                                                                                                                                                                                                                                                                                                                                                                                    I found it a little garden path. I think \"African American Georgia newspapers from...\" is slightly clearer.\\n\\nThat slightly alters the meaning by not using the demonym: newspapers published by African Americans from Georgia vs newspapers published in Georgia by African Americans.\\n\\nI guess you could also go with African American Georgian Georgia newspapers to be explicit that it's newspapers published in Georgia by African Americans from Georgia.\\n\\nSorry, I guess I have Georgia on my mind now.\n",
       "29673502                                                                                                                                                                                                                                                                                                                                                                                                                                                                                                                                                                                                                  In my view it's about the interface. Any utopian community must interface with the rest of the currently-not-utopian world. I suspect the utopian aspect can only be maintained if that interface is very small and restricted. Otherwise the property-based wider society will grow to dominate and maximally exploit the utopia, as is its nature. This concept is explored in The Dispossessed by Ursula K. Le Guin.\n",
       "28100193                                                                                                                                                                                                                                                                                                                                                                                                                                                                                                                                                                                                                                                                                                                                                                                                                           Almost certainly. Even calling the reproducing female 'queen' betrays a hierarchical sensibility that social insects almost certainly do not have. See Metaphors We Live By by George Lakoff and Mark Johnson.\n",
       "27827363                                                                                                                                                                                                                                                                                                                                                                                                                                                                                                                                                                                                                                                                                                                               If anyone is interested in this era of comic books and the society they bred, The Amazing Adventures of Kavalier & Clay by Michael Chabon is a smart, excellently written novel.\\n\\nIt covers the comic book culture in NYC in WW2 and the years after, and covers a scenario very similar to this report.\n",
       "26223637  Glossary:\\n\\nAPT31 - a name given to an attack group that is attributed to China.\\n\\nEquation Group - a name given to an APT group which is believed to be the Tailored Access Operations (TAO) unit of the NSA. The unit is now named \"Computer Network Operations\" (CNO).\\n\\nJian -  a name that was given to a 0-Day exploit that was attributed to the Chinese-affiliated attack group.\\n\\n0-Day - a vulnerability that is unknown to the public or to the relevant vendor (e.g Microsoft).\\n\\n0-Day Exploit - an exploit that is directed at a zero-day\\n\\n---\\n\\nIn this story, we claim that the Chinese APT acquired the Equation Group exploit somewhere around 2014, cloned it into their own version (Jian), and used it until was finally caught in 2017.\\n\\nInterestingly, the 0-Day was reported to Microsoft by Lockheed Martin's Incident Response team. This might suggest that the Chinese APT might have used it to attack American targets.\\n\\nI tried to summarize the highlights in a less technical lingo in ...\n",
       "...                                                                                                                                                                                                                                                                                                                                                                                                                                                                                                                                                                                                                                                                                                                                                                                                                                                                                                                                                                                                                                           ...\n",
       "27323291                                                                                                                                                                                                                                                                                                                                                                                                                                                                                                                                                                                                                                                                                                                    > Confirmed by PCR\\n\\nWhat was the cycle threshold? The problem with this whole manufactured pandemic is that all the numbers and tests are bullshit because people are doing bad science. The massive relief bills introduced financial incentives to do bad science. It’s institutional failure at a massive scale.\n",
       "28111445                                                                                                                                                                                                                                                                                                                                                                                                                                                                                                                                                                                                                                                                                                                                                                                                                                                                                                                           Cool, many unknown bands, thanks for also pointing to albums in particular! Will start with Rabies by Uncle Al\n",
       "25746920                                                                                                                                                                                                                                                                                                                                                                                            August 6, 2018\\n\\n#1: Let's Encrypt Root Trusted by All Major Root Programs(https://letsencrypt.org/2018/08/06/trusted-by-all-major-root-programs.html)\\n\\n#2: I’m a very slow thinker (2016)(https://sivers.org/slow)\\n\\n#3: Facebook has asked U.S. banks to share financial information about customers\\n(https://www.wsj.com/articles/facebook-to-banks-give-us-your-data-well-give-you-our-users-1533564049)\\n\\nedit: That was with https://hn.algolia.com/ though, not by clicking on the date. Liked the idea before reading everything. With a click on the date I get a similar, but slightly different result. Neat feature though.\n",
       "28724612                                                                                                                                                                                                                                                                                                                                                                                                                                                                                                                                                                                                                                     The CRDT I was referencing was Shelf by Greg Little. He's given a few talks about it at the braid meetups. When he first showed it off, Kevin Jahns (the Yjs author) was also there and was as impressed as I was:\\n\\nhttps://braid.org/meeting-8 (the shelf part with Greg starts at about 43 minutes in to the recording.)\\n\\nThe code is all here. Its tiny:\\n\\nhttps://github.com/dglittle/shelf\n",
       "28337190                                                                                                                                                                                                                                                                                                                                                                                                                                                                                                                                                                                                                                                                                                                                                                                                            This exact phenomenon is discussed in \"Punished by Rewards.\" It's probably one of the best possible ways to train kids that reading is no fun, of no benefit to them, and should only be done if promised some kind of prize.\n",
       "\n",
       "[136 rows x 1 columns]"
      ]
     },
     "execution_count": 11,
     "metadata": {},
     "output_type": "execute_result"
    }
   ],
   "source": [
    "df.loc[has_author_pattern][['clean_text']]"
   ]
  },
  {
   "cell_type": "markdown",
   "id": "232bf6aa-5f6b-499b-9ba9-e77f593d2723",
   "metadata": {},
   "source": [
    "An alternative approach would be to use a \"search phrase\" but this didn't seem to work so well."
   ]
  },
  {
   "cell_type": "code",
   "execution_count": 12,
   "id": "b0c18842-8cea-4b47-8f8a-5885d6b8f4a9",
   "metadata": {},
   "outputs": [],
   "source": [
    "query = model.encode([\n",
    "    'I recommend the book'\n",
    "]).mean(axis=0)"
   ]
  },
  {
   "cell_type": "markdown",
   "id": "79e8a53f-e188-4f21-854e-0fe2f6ae7ac5",
   "metadata": {},
   "source": [
    "Instead we will take the mean embedding of our examples"
   ]
  },
  {
   "cell_type": "code",
   "execution_count": 13,
   "id": "8f0a183d-c73d-491d-b716-dcd8d8f8c7c0",
   "metadata": {},
   "outputs": [],
   "source": [
    "query = embeddings[has_author_pattern].mean(axis=0)"
   ]
  },
  {
   "cell_type": "markdown",
   "id": "b469951d-ae60-4add-9ef7-9c5ab8d267fc",
   "metadata": {},
   "source": [
    "And calculate the dot product; because the embeddings are normalised this is proportional to the cosine product."
   ]
  },
  {
   "cell_type": "code",
   "execution_count": 14,
   "id": "55576c3a-b438-432f-9951-152c80e83ddb",
   "metadata": {},
   "outputs": [],
   "source": [
    "scores = embeddings @ query"
   ]
  },
  {
   "cell_type": "markdown",
   "id": "f0af2c40-1640-4b25-bc2d-37290a75a135",
   "metadata": {},
   "source": [
    "Looking at some top examples it does reasonably well"
   ]
  },
  {
   "cell_type": "code",
   "execution_count": 15,
   "id": "b1ee57a5-a09e-4dcb-b796-b5d3bcdf69a5",
   "metadata": {},
   "outputs": [],
   "source": [
    "indices = scores.argsort()"
   ]
  },
  {
   "cell_type": "code",
   "execution_count": 16,
   "id": "deace417-aad0-4f9e-8e55-d71437bbfe81",
   "metadata": {},
   "outputs": [
    {
     "data": {
      "text/html": [
       "<div>\n",
       "<style scoped>\n",
       "    .dataframe tbody tr th:only-of-type {\n",
       "        vertical-align: middle;\n",
       "    }\n",
       "\n",
       "    .dataframe tbody tr th {\n",
       "        vertical-align: top;\n",
       "    }\n",
       "\n",
       "    .dataframe thead th {\n",
       "        text-align: right;\n",
       "    }\n",
       "</style>\n",
       "<table border=\"1\" class=\"dataframe\">\n",
       "  <thead>\n",
       "    <tr style=\"text-align: right;\">\n",
       "      <th></th>\n",
       "      <th>clean_text</th>\n",
       "    </tr>\n",
       "    <tr>\n",
       "      <th>id</th>\n",
       "      <th></th>\n",
       "    </tr>\n",
       "  </thead>\n",
       "  <tbody>\n",
       "    <tr>\n",
       "      <th>28708830</th>\n",
       "      <td>Any other book you think has been critical to Cloudflare's successful mindset?</td>\n",
       "    </tr>\n",
       "    <tr>\n",
       "      <th>27685099</th>\n",
       "      <td>Has anyone read his other book ‘Silicon Snake Oil’ [1] from 1995 lately?\\n\\nSounds like most of his predictions in it (eg e-commerce will fail, digital books will not be viable, etc) were wildly off the mark - but were any prescient?\\n\\n[1] https://en.m.wikipedia.org/wiki/Silicon_Snake_Oil</td>\n",
       "    </tr>\n",
       "    <tr>\n",
       "      <th>25823453</th>\n",
       "      <td>I think its website makes it pretty clear that it's mostly targeting scientists...\\n\\nhttps://julialang.org/, https://docs.julialang.org/en/v1/ (The first two words of the Introduction are literally \"scientific computing\".)</td>\n",
       "    </tr>\n",
       "    <tr>\n",
       "      <th>28708371</th>\n",
       "      <td>When I joined Cloudflare in 2011 Matthew recommended the book.\\n\\nI bought \"The Innovator's Dilemma\", read it, and said to myself \"OK, we'll do that then\".</td>\n",
       "    </tr>\n",
       "    <tr>\n",
       "      <th>29009317</th>\n",
       "      <td>Scihub has been a life saver for me once I started working on some of the more obscure areas of AI such as signal/time series processing. Anything off the beaten path is locked up behind paywalls, and I'm sorry I ain't paying $40 just to see if someone's paper sucks or not (which 95% of them do, in this particular niche, especially the ones shielded from scrutiny by paywalls).</td>\n",
       "    </tr>\n",
       "    <tr>\n",
       "      <th>28603481</th>\n",
       "      <td>Good article.  I used to love reading Kyle Rankin’s rantings  in Linux Journal… good times.</td>\n",
       "    </tr>\n",
       "    <tr>\n",
       "      <th>28313287</th>\n",
       "      <td>Pretty cool. I read about this audience first philosophy before but haven't seen someone making a newsletter out of it.</td>\n",
       "    </tr>\n",
       "    <tr>\n",
       "      <th>27517837</th>\n",
       "      <td>&gt; as a preserved island of fun and \"hacking for the sake of it\"\\n\\nSomehow this sentiment is anything but fun to me. Emacs is the last bastion of a different path down the tree of personal computing than the one our species took, one in which individual users are empowered and not - as is now the case - held hostage by us[0] in our ivory towers of impenetrable layers of cryptic technology.\\n\\nEmacs was made for humans to use as a real tool. Barely anything else in the tech world really qualifies to the same degree. I'd love to peek into the parallel universe where we stuck to introspectable, malleable software and ended up with something closer to the Houyhnhnm computing stack[1]. Alas, for now that ship has sailed.\\n\\nSee also: That old story about Emacs at Amazon, etc.\\n\\n[0]: \"tech people\"\\n\\n[1]: https://ngnghm.github.io/</td>\n",
       "    </tr>\n",
       "    <tr>\n",
       "      <th>25826384</th>\n",
       "      <td>I’d love to know more about this, if you had recommendations?</td>\n",
       "    </tr>\n",
       "    <tr>\n",
       "      <th>25785132</th>\n",
       "      <td>This is old, but a really interesting read. Not so much because of the discussion of Mongo; more that it shows what happens when you unthinkingly follow tech trends, without thinking carefully about your own requirements.</td>\n",
       "    </tr>\n",
       "  </tbody>\n",
       "</table>\n",
       "</div>"
      ],
      "text/plain": [
       "                                                                                                                                                                                                                                                                                                                                                                                                                                                                                                                                                                                                                                                                                                                                                                                                                                                                     clean_text\n",
       "id                                                                                                                                                                                                                                                                                                                                                                                                                                                                                                                                                                                                                                                                                                                                                                                                                                                                             \n",
       "28708830                                                                                                                                                                                                                                                                                                                                                                                                                                                                                                                                                                                                                                                                                                                                                                                         Any other book you think has been critical to Cloudflare's successful mindset?\n",
       "27685099                                                                                                                                                                                                                                                                                                                                                                                                                                                                                                                                                                     Has anyone read his other book ‘Silicon Snake Oil’ [1] from 1995 lately?\\n\\nSounds like most of his predictions in it (eg e-commerce will fail, digital books will not be viable, etc) were wildly off the mark - but were any prescient?\\n\\n[1] https://en.m.wikipedia.org/wiki/Silicon_Snake_Oil\n",
       "25823453                                                                                                                                                                                                                                                                                                                                                                                                                                                                                                                                                                                                                                        I think its website makes it pretty clear that it's mostly targeting scientists...\\n\\nhttps://julialang.org/, https://docs.julialang.org/en/v1/ (The first two words of the Introduction are literally \"scientific computing\".)\n",
       "28708371                                                                                                                                                                                                                                                                                                                                                                                                                                                                                                                                                                                                                                                                                                            When I joined Cloudflare in 2011 Matthew recommended the book.\\n\\nI bought \"The Innovator's Dilemma\", read it, and said to myself \"OK, we'll do that then\".\n",
       "29009317                                                                                                                                                                                                                                                                                                                                                                                                                                                                            Scihub has been a life saver for me once I started working on some of the more obscure areas of AI such as signal/time series processing. Anything off the beaten path is locked up behind paywalls, and I'm sorry I ain't paying $40 just to see if someone's paper sucks or not (which 95% of them do, in this particular niche, especially the ones shielded from scrutiny by paywalls).\n",
       "28603481                                                                                                                                                                                                                                                                                                                                                                                                                                                                                                                                                                                                                                                                                                                                                                            Good article.  I used to love reading Kyle Rankin’s rantings  in Linux Journal… good times.\n",
       "28313287                                                                                                                                                                                                                                                                                                                                                                                                                                                                                                                                                                                                                                                                                                                                                Pretty cool. I read about this audience first philosophy before but haven't seen someone making a newsletter out of it.\n",
       "27517837  > as a preserved island of fun and \"hacking for the sake of it\"\\n\\nSomehow this sentiment is anything but fun to me. Emacs is the last bastion of a different path down the tree of personal computing than the one our species took, one in which individual users are empowered and not - as is now the case - held hostage by us[0] in our ivory towers of impenetrable layers of cryptic technology.\\n\\nEmacs was made for humans to use as a real tool. Barely anything else in the tech world really qualifies to the same degree. I'd love to peek into the parallel universe where we stuck to introspectable, malleable software and ended up with something closer to the Houyhnhnm computing stack[1]. Alas, for now that ship has sailed.\\n\\nSee also: That old story about Emacs at Amazon, etc.\\n\\n[0]: \"tech people\"\\n\\n[1]: https://ngnghm.github.io/\n",
       "25826384                                                                                                                                                                                                                                                                                                                                                                                                                                                                                                                                                                                                                                                                                                                                                                                                          I’d love to know more about this, if you had recommendations?\n",
       "25785132                                                                                                                                                                                                                                                                                                                                                                                                                                                                                                                                                                                                                                          This is old, but a really interesting read. Not so much because of the discussion of Mongo; more that it shows what happens when you unthinkingly follow tech trends, without thinking carefully about your own requirements."
      ]
     },
     "execution_count": 16,
     "metadata": {},
     "output_type": "execute_result"
    }
   ],
   "source": [
    "df.iloc[indices[-10:]].clean_text.to_frame()"
   ]
  },
  {
   "cell_type": "markdown",
   "id": "5b0cd922-22a5-46e5-a1d5-45587a6df762",
   "metadata": {},
   "source": [
    "# Sampling\n",
    "\n",
    "For a first round of annotation let's grab the 100 most likely comments, and 100 other random comments"
   ]
  },
  {
   "cell_type": "code",
   "execution_count": 17,
   "id": "cf8d6b35-5ad9-4f6a-92b8-6ca011a4d435",
   "metadata": {},
   "outputs": [],
   "source": [
    "sample = pd.concat([df.iloc[indices[-100:]], df.sample(100)], axis=0).sample(frac=1)"
   ]
  },
  {
   "cell_type": "markdown",
   "id": "bdc0fc8b-cf4d-489f-aa19-569236572ec9",
   "metadata": {},
   "source": [
    "# Save results\n",
    "\n",
    "Put the results in a Prodigy compatible format"
   ]
  },
  {
   "cell_type": "code",
   "execution_count": 18,
   "id": "3aa382ee-d099-449f-aa3b-c8ed21e0cd70",
   "metadata": {},
   "outputs": [],
   "source": [
    "import json\n",
    "\n",
    "with open('data/02_intermediate/hn_sample_0.jsonl', 'w') as f:\n",
    "    for id, row in sample.iterrows():\n",
    "        data = {\"text\": row[\"clean_text\"], \"meta\": {\"id\": id}}\n",
    "        print(json.dumps(data), file=f)"
   ]
  }
 ],
 "metadata": {
  "kernelspec": {
   "display_name": "Python 3 (ipykernel)",
   "language": "python",
   "name": "python3"
  },
  "language_info": {
   "codemirror_mode": {
    "name": "ipython",
    "version": 3
   },
   "file_extension": ".py",
   "mimetype": "text/x-python",
   "name": "python",
   "nbconvert_exporter": "python",
   "pygments_lexer": "ipython3",
   "version": "3.8.12"
  }
 },
 "nbformat": 4,
 "nbformat_minor": 5
}
