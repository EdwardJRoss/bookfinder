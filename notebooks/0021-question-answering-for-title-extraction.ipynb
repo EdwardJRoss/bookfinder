{
 "cells": [
  {
   "cell_type": "markdown",
   "id": "3988c7bb",
   "metadata": {},
   "source": [
    "# Question Answering for Role Title Extraction\n",
    "\n",
    "Question Answering can be used as a sort of zero-shot NER by picking an appropriate question.\n",
    "\n",
    "This works surprisingly well for posts that actually contain a book title; almost always picking it out (and potentially the author).\n",
    "It doesn't do so well for multiple results, but is a very strong starting point."
   ]
  },
  {
   "cell_type": "code",
   "execution_count": 1,
   "id": "4b57931b",
   "metadata": {},
   "outputs": [
    {
     "name": "stderr",
     "output_type": "stream",
     "text": [
      "2022-06-27 21:42:11.017470: W tensorflow/stream_executor/platform/default/dso_loader.cc:64] Could not load dynamic library 'libcudart.so.11.0'; dlerror: libcudart.so.11.0: cannot open shared object file: No such file or directory\n",
      "2022-06-27 21:42:11.017528: I tensorflow/stream_executor/cuda/cudart_stub.cc:29] Ignore above cudart dlerror if you do not have a GPU set up on your machine.\n"
     ]
    }
   ],
   "source": [
    "import numpy as np\n",
    "import pandas as pd\n",
    "\n",
    "import html\n",
    "\n",
    "from pathlib import Path\n",
    "\n",
    "from transformers import pipeline"
   ]
  },
  {
   "cell_type": "code",
   "execution_count": 2,
   "id": "ddfd79f7",
   "metadata": {},
   "outputs": [],
   "source": [
    "import re\n",
    "\n",
    "def clean(text):\n",
    "    text = html.unescape(text)\n",
    "    text = text.replace('<i>', '\"')\n",
    "    text = text.replace('</i>', '\"')\n",
    "    text = text.replace('<p>', '\\n\\n')\n",
    "    text = re.sub('<a href=\"(.*?)\".*?>.*?</a>', r'\\1', text)\n",
    "    return text"
   ]
  },
  {
   "cell_type": "code",
   "execution_count": 3,
   "id": "244d1e16",
   "metadata": {},
   "outputs": [],
   "source": [
    "book_recs = pd.read_csv('../data/02_intermediate/hn_ask_book_recommendations.csv')"
   ]
  },
  {
   "cell_type": "code",
   "execution_count": 4,
   "id": "6e09f9c2",
   "metadata": {},
   "outputs": [],
   "source": [
    "books = book_recs.text.head(30).map(clean).to_list()"
   ]
  },
  {
   "cell_type": "code",
   "execution_count": 5,
   "id": "55770c60",
   "metadata": {},
   "outputs": [
    {
     "name": "stderr",
     "output_type": "stream",
     "text": [
      "No model was supplied, defaulted to distilbert-base-cased-distilled-squad (https://huggingface.co/distilbert-base-cased-distilled-squad)\n"
     ]
    }
   ],
   "source": [
    "pipe = pipeline(\"question-answering\")"
   ]
  },
  {
   "cell_type": "markdown",
   "id": "4c33b870",
   "metadata": {},
   "source": [
    "## First post"
   ]
  },
  {
   "cell_type": "markdown",
   "id": "901ef362",
   "metadata": {},
   "source": [
    "There are a list of 4 books here."
   ]
  },
  {
   "cell_type": "code",
   "execution_count": 6,
   "id": "d6e17761",
   "metadata": {},
   "outputs": [
    {
     "name": "stdout",
     "output_type": "stream",
     "text": [
      "- Existential Rationalism: Handling Hume's Fork (second edition)\n",
      "- Living with the Himalayan Masters\n",
      "- The Outsider\n",
      "- Hirohito: Behind the Myth\n"
     ]
    }
   ],
   "source": [
    "print(books[0])"
   ]
  },
  {
   "cell_type": "markdown",
   "id": "3f214a8a",
   "metadata": {},
   "source": [
    "It does poorly breaking across newlines. Maybe some preprocessing would help."
   ]
  },
  {
   "cell_type": "code",
   "execution_count": 7,
   "id": "922815ad",
   "metadata": {},
   "outputs": [
    {
     "name": "stderr",
     "output_type": "stream",
     "text": [
      "/home/edward/.venv/ds/lib/python3.8/site-packages/transformers/pipelines/question_answering.py:316: UserWarning: Creating a tensor from a list of numpy.ndarrays is extremely slow. Please consider converting the list to a single numpy.ndarray with numpy.array() before converting to a tensor. (Triggered internally at  ../torch/csrc/utils/tensor_new.cpp:201.)\n",
      "  fw_args = {k: torch.tensor(v, device=self.device) for (k, v) in fw_args.items()}\n"
     ]
    },
    {
     "data": {
      "text/plain": [
       "[{'score': 0.2605375349521637,\n",
       "  'start': 103,\n",
       "  'end': 143,\n",
       "  'answer': 'The Outsider\\n- Hirohito: Behind the Myth'},\n",
       " {'score': 0.09077351540327072,\n",
       "  'start': 103,\n",
       "  'end': 126,\n",
       "  'answer': 'The Outsider\\n- Hirohito'},\n",
       " {'score': 0.04595860093832016,\n",
       "  'start': 2,\n",
       "  'end': 47,\n",
       "  'answer': \"Existential Rationalism: Handling Hume's Fork\"},\n",
       " {'score': 0.03626202791929245,\n",
       "  'start': 128,\n",
       "  'end': 143,\n",
       "  'answer': 'Behind the Myth'},\n",
       " {'score': 0.016868628561496735,\n",
       "  'start': 27,\n",
       "  'end': 47,\n",
       "  'answer': \"Handling Hume's Fork\"}]"
      ]
     },
     "execution_count": 7,
     "metadata": {},
     "output_type": "execute_result"
    }
   ],
   "source": [
    "pipe(context=books[0], question=\"What book is this about?\", topk=5, handle_impossible_answer=True)"
   ]
  },
  {
   "cell_type": "markdown",
   "id": "e1519fe1",
   "metadata": {},
   "source": [
    "Hume is too confidently wrong"
   ]
  },
  {
   "cell_type": "code",
   "execution_count": 8,
   "id": "786a74ea",
   "metadata": {},
   "outputs": [
    {
     "data": {
      "text/plain": [
       "[{'score': 0.39432305097579956, 'start': 36, 'end': 40, 'answer': 'Hume'},\n",
       " {'score': 0.17219921946525574,\n",
       "  'start': 36,\n",
       "  'end': 47,\n",
       "  'answer': \"Hume's Fork\"},\n",
       " {'score': 0.09345115721225739,\n",
       "  'start': 27,\n",
       "  'end': 40,\n",
       "  'answer': 'Handling Hume'},\n",
       " {'score': 0.048475462943315506,\n",
       "  'start': 36,\n",
       "  'end': 64,\n",
       "  'answer': \"Hume's Fork (second edition)\"},\n",
       " {'score': 0.04080972820520401,\n",
       "  'start': 27,\n",
       "  'end': 47,\n",
       "  'answer': \"Handling Hume's Fork\"}]"
      ]
     },
     "execution_count": 8,
     "metadata": {},
     "output_type": "execute_result"
    }
   ],
   "source": [
    "pipe(context=books[0], question=\"Who is the author?\", topk=5, handle_impossible_answer=True)"
   ]
  },
  {
   "cell_type": "markdown",
   "id": "b9c12774",
   "metadata": {},
   "source": [
    "## Second Post"
   ]
  },
  {
   "cell_type": "code",
   "execution_count": 9,
   "id": "b6852d3d",
   "metadata": {},
   "outputs": [
    {
     "name": "stdout",
     "output_type": "stream",
     "text": [
      "The Coming of Neo-Feudalism by Joel Kotkin\n"
     ]
    }
   ],
   "source": [
    "print(books[1])"
   ]
  },
  {
   "cell_type": "markdown",
   "id": "94cb00c5",
   "metadata": {},
   "source": [
    "We need a way of merging overlapping recommendations; but this is right."
   ]
  },
  {
   "cell_type": "code",
   "execution_count": 10,
   "id": "8ba1101c",
   "metadata": {},
   "outputs": [
    {
     "data": {
      "text/plain": [
       "[{'score': 0.8426161408424377,\n",
       "  'start': 0,\n",
       "  'end': 27,\n",
       "  'answer': 'The Coming of Neo-Feudalism'},\n",
       " {'score': 0.15182335674762726,\n",
       "  'start': 4,\n",
       "  'end': 27,\n",
       "  'answer': 'Coming of Neo-Feudalism'},\n",
       " {'score': 0.004171550273895264,\n",
       "  'start': 14,\n",
       "  'end': 27,\n",
       "  'answer': 'Neo-Feudalism'},\n",
       " {'score': 0.0004384214407764375,\n",
       "  'start': 0,\n",
       "  'end': 42,\n",
       "  'answer': 'The Coming of Neo-Feudalism by Joel Kotkin'},\n",
       " {'score': 0.0002944305306300521,\n",
       "  'start': 0,\n",
       "  'end': 10,\n",
       "  'answer': 'The Coming'}]"
      ]
     },
     "execution_count": 10,
     "metadata": {},
     "output_type": "execute_result"
    }
   ],
   "source": [
    "pipe(context=books[1], question=\"What book is this about?\", topk=5, handle_impossible_answer=True)"
   ]
  },
  {
   "cell_type": "markdown",
   "id": "8e470f48",
   "metadata": {},
   "source": [
    "This is right."
   ]
  },
  {
   "cell_type": "code",
   "execution_count": 11,
   "id": "c28f747b",
   "metadata": {},
   "outputs": [
    {
     "data": {
      "text/plain": [
       "[{'score': 0.9972344636917114,\n",
       "  'start': 31,\n",
       "  'end': 42,\n",
       "  'answer': 'Joel Kotkin'},\n",
       " {'score': 0.0010390320094302297, 'start': 31, 'end': 35, 'answer': 'Joel'},\n",
       " {'score': 0.0005376354674808681, 'start': 36, 'end': 42, 'answer': 'Kotkin'},\n",
       " {'score': 0.00041213215445168316,\n",
       "  'start': 31,\n",
       "  'end': 42,\n",
       "  'answer': 'Joel Kotkin'},\n",
       " {'score': 0.0001502289087511599,\n",
       "  'start': 0,\n",
       "  'end': 42,\n",
       "  'answer': 'The Coming of Neo-Feudalism by Joel Kotkin'}]"
      ]
     },
     "execution_count": 11,
     "metadata": {},
     "output_type": "execute_result"
    }
   ],
   "source": [
    "pipe(context=books[1], question=\"Who is the author?\", topk=5, handle_impossible_answer=True)"
   ]
  },
  {
   "cell_type": "markdown",
   "id": "fa60161d",
   "metadata": {},
   "source": [
    "## Third Post\n",
    "\n",
    "Gets it exactly right"
   ]
  },
  {
   "cell_type": "code",
   "execution_count": 12,
   "id": "d7968cb3",
   "metadata": {},
   "outputs": [
    {
     "name": "stdout",
     "output_type": "stream",
     "text": [
      "Probably \"Reaper\", by Will Wight. It’s not an insightful nonfiction book or a piece of high literature, but the whole Cradle series is very, very fun.\n"
     ]
    }
   ],
   "source": [
    "print(books[2])"
   ]
  },
  {
   "cell_type": "code",
   "execution_count": 13,
   "id": "b8e1f051",
   "metadata": {},
   "outputs": [
    {
     "data": {
      "text/plain": [
       "[{'score': 0.3536214530467987, 'start': 10, 'end': 16, 'answer': 'Reaper'},\n",
       " {'score': 0.05046669766306877, 'start': 118, 'end': 124, 'answer': 'Cradle'},\n",
       " {'score': 0.04372008517384529,\n",
       "  'start': 118,\n",
       "  'end': 131,\n",
       "  'answer': 'Cradle series'},\n",
       " {'score': 0.036290064454078674, 'start': 10, 'end': 17, 'answer': 'Reaper\"'},\n",
       " {'score': 0.019747283309698105, 'start': 9, 'end': 16, 'answer': '\"Reaper'}]"
      ]
     },
     "execution_count": 13,
     "metadata": {},
     "output_type": "execute_result"
    }
   ],
   "source": [
    "pipe(context=books[2], question=\"What book is this about?\", topk=5, handle_impossible_answer=True)"
   ]
  },
  {
   "cell_type": "code",
   "execution_count": 14,
   "id": "ce355d5b",
   "metadata": {},
   "outputs": [
    {
     "data": {
      "text/plain": [
       "[{'score': 0.9716078639030457, 'start': 22, 'end': 32, 'answer': 'Will Wight'},\n",
       " {'score': 0.02592596597969532,\n",
       "  'start': 22,\n",
       "  'end': 33,\n",
       "  'answer': 'Will Wight.'},\n",
       " {'score': 0.001337842084467411, 'start': 27, 'end': 32, 'answer': 'Wight'},\n",
       " {'score': 0.0003502972249407321, 'start': 22, 'end': 26, 'answer': 'Will'},\n",
       " {'score': 0.00034414735273458064,\n",
       "  'start': 19,\n",
       "  'end': 32,\n",
       "  'answer': 'by Will Wight'}]"
      ]
     },
     "execution_count": 14,
     "metadata": {},
     "output_type": "execute_result"
    }
   ],
   "source": [
    "pipe(context=books[2], question=\"Who is the author?\", topk=5, handle_impossible_answer=True)"
   ]
  },
  {
   "cell_type": "markdown",
   "id": "3440ea58",
   "metadata": {},
   "source": [
    "## Fouth Post\n",
    "\n",
    "Right again"
   ]
  },
  {
   "cell_type": "code",
   "execution_count": 15,
   "id": "90cef2af",
   "metadata": {},
   "outputs": [
    {
     "name": "stdout",
     "output_type": "stream",
     "text": [
      "A Gentleman in Moscow by Amor Towles. I spent a lot of the year in isolation, only seeing a few people and this book felt like an appropriate analogy. It was also very heartwarming when I really needed something to lift me up.\n"
     ]
    }
   ],
   "source": [
    "print(books[3])"
   ]
  },
  {
   "cell_type": "code",
   "execution_count": 16,
   "id": "376be7a5",
   "metadata": {},
   "outputs": [
    {
     "data": {
      "text/plain": [
       "[{'score': 0.7443851232528687,\n",
       "  'start': 0,\n",
       "  'end': 21,\n",
       "  'answer': 'A Gentleman in Moscow'},\n",
       " {'score': 0.08203072100877762,\n",
       "  'start': 0,\n",
       "  'end': 36,\n",
       "  'answer': 'A Gentleman in Moscow by Amor Towles'},\n",
       " {'score': 0.07942397147417068,\n",
       "  'start': 0,\n",
       "  'end': 37,\n",
       "  'answer': 'A Gentleman in Moscow by Amor Towles.'},\n",
       " {'score': 0.044820066541433334,\n",
       "  'start': 0,\n",
       "  'end': 11,\n",
       "  'answer': 'A Gentleman'},\n",
       " {'score': 0.021551057696342468,\n",
       "  'start': 2,\n",
       "  'end': 21,\n",
       "  'answer': 'Gentleman in Moscow'}]"
      ]
     },
     "execution_count": 16,
     "metadata": {},
     "output_type": "execute_result"
    }
   ],
   "source": [
    "pipe(context=books[3], question=\"What book is this about?\", topk=5, handle_impossible_answer=True)"
   ]
  },
  {
   "cell_type": "code",
   "execution_count": 17,
   "id": "c993c64a",
   "metadata": {},
   "outputs": [
    {
     "data": {
      "text/plain": [
       "[{'score': 0.9685162305831909,\n",
       "  'start': 25,\n",
       "  'end': 36,\n",
       "  'answer': 'Amor Towles'},\n",
       " {'score': 0.02845042571425438,\n",
       "  'start': 25,\n",
       "  'end': 37,\n",
       "  'answer': 'Amor Towles.'},\n",
       " {'score': 0.0012753085466101766,\n",
       "  'start': 0,\n",
       "  'end': 36,\n",
       "  'answer': 'A Gentleman in Moscow by Amor Towles'},\n",
       " {'score': 0.0006127895903773606, 'start': 25, 'end': 29, 'answer': 'Amor'},\n",
       " {'score': 0.00034427616628818214,\n",
       "  'start': 22,\n",
       "  'end': 36,\n",
       "  'answer': 'by Amor Towles'}]"
      ]
     },
     "execution_count": 17,
     "metadata": {},
     "output_type": "execute_result"
    }
   ],
   "source": [
    "pipe(context=books[3], question=\"Who is the author?\", topk=5, handle_impossible_answer=True)"
   ]
  },
  {
   "cell_type": "markdown",
   "id": "c407fdf8",
   "metadata": {},
   "source": [
    "## Fifth Post\n",
    "\n",
    "Right again"
   ]
  },
  {
   "cell_type": "code",
   "execution_count": 18,
   "id": "3f4a1ab6",
   "metadata": {},
   "outputs": [
    {
     "name": "stdout",
     "output_type": "stream",
     "text": [
      "\"In Cold Blood\" by Truman Capote. It's a masterpiece.\n"
     ]
    }
   ],
   "source": [
    "print(books[4])"
   ]
  },
  {
   "cell_type": "code",
   "execution_count": 19,
   "id": "5edf499f",
   "metadata": {},
   "outputs": [
    {
     "data": {
      "text/plain": [
       "[{'score': 0.5808616876602173,\n",
       "  'start': 1,\n",
       "  'end': 14,\n",
       "  'answer': 'In Cold Blood'},\n",
       " {'score': 0.23709535598754883,\n",
       "  'start': 0,\n",
       "  'end': 14,\n",
       "  'answer': '\"In Cold Blood'},\n",
       " {'score': 0.11051516979932785,\n",
       "  'start': 1,\n",
       "  'end': 15,\n",
       "  'answer': 'In Cold Blood\"'},\n",
       " {'score': 0.04510993883013725,\n",
       "  'start': 0,\n",
       "  'end': 15,\n",
       "  'answer': '\"In Cold Blood\"'},\n",
       " {'score': 0.0039156838320195675,\n",
       "  'start': 1,\n",
       "  'end': 52,\n",
       "  'answer': 'In Cold Blood\" by Truman Capote. It\\'s a masterpiece'}]"
      ]
     },
     "execution_count": 19,
     "metadata": {},
     "output_type": "execute_result"
    }
   ],
   "source": [
    "pipe(context=books[4], question=\"What book is this about?\", topk=5, handle_impossible_answer=True)"
   ]
  },
  {
   "cell_type": "code",
   "execution_count": 20,
   "id": "147285de",
   "metadata": {},
   "outputs": [
    {
     "data": {
      "text/plain": [
       "[{'score': 0.9937615394592285,\n",
       "  'start': 19,\n",
       "  'end': 32,\n",
       "  'answer': 'Truman Capote'},\n",
       " {'score': 0.005086508113890886,\n",
       "  'start': 19,\n",
       "  'end': 33,\n",
       "  'answer': 'Truman Capote.'},\n",
       " {'score': 0.00057207205099985, 'start': 19, 'end': 25, 'answer': 'Truman'},\n",
       " {'score': 0.00022857873409520835, 'start': 26, 'end': 32, 'answer': 'Capote'},\n",
       " {'score': 7.831704715499654e-05,\n",
       "  'start': 16,\n",
       "  'end': 32,\n",
       "  'answer': 'by Truman Capote'}]"
      ]
     },
     "execution_count": 20,
     "metadata": {},
     "output_type": "execute_result"
    }
   ],
   "source": [
    "pipe(context=books[4], question=\"Who is the author?\", topk=5, handle_impossible_answer=True)"
   ]
  },
  {
   "cell_type": "markdown",
   "id": "9205f4c7",
   "metadata": {},
   "source": [
    "## Sixth Post\n",
    "\n",
    "This is a difficult one, these are actually all papers."
   ]
  },
  {
   "cell_type": "code",
   "execution_count": 21,
   "id": "5edef96b",
   "metadata": {},
   "outputs": [
    {
     "name": "stdout",
     "output_type": "stream",
     "text": [
      "A small selection of papers that I find useful (also check the Wikipedia articles for a quick overview):\n",
      "\n",
      "Communicating Sequential Processes \"CSP\" by Tony Hoare[0] has a strong influence on Go and Clojure. He also published/contributed to other interesting and influential books and papers.\n",
      "\n",
      "Making reliable distributed systems in the presence of software errors by Joe Armstrong[1] (Erlang, BEAM). An implementation of the actor model and functional programming to optimize for reliability.\n",
      "\n",
      "Conflict-free Replicated Data Types by Marc Shapiro, Nuno Preguiça, Carlos Baquero, Marek Zawirsk, \"CRDTs\" [2]. Enable strong eventual consistency, which is typically useful (and implemented) for databases, p2p (chat) applications and other distributed systems.\n",
      "\n",
      "[0] https://www.cs.cmu.edu/~crary/819-f09/Hoare78.pdf\n",
      "\n",
      "[1] https://www.cs.otago.ac.nz/coursework/cosc461/armstrong_thesis_2003.pdf\n",
      "\n",
      "[2] https://hal.inria.fr/hal-00932836/file/CRDTs_SSS-2011.pdf\n"
     ]
    }
   ],
   "source": [
    "print(books[5])"
   ]
  },
  {
   "cell_type": "code",
   "execution_count": 22,
   "id": "6013378f",
   "metadata": {},
   "outputs": [
    {
     "data": {
      "text/plain": [
       "[{'score': 0.0959417074918747,\n",
       "  'start': 106,\n",
       "  'end': 140,\n",
       "  'answer': 'Communicating Sequential Processes'},\n",
       " {'score': 0.08643828332424164,\n",
       "  'start': 106,\n",
       "  'end': 145,\n",
       "  'answer': 'Communicating Sequential Processes \"CSP'},\n",
       " {'score': 0.06057683750987053, 'start': 142, 'end': 145, 'answer': 'CSP'},\n",
       " {'score': 0.05559767037630081,\n",
       "  'start': 106,\n",
       "  'end': 146,\n",
       "  'answer': 'Communicating Sequential Processes \"CSP\"'},\n",
       " {'score': 0.04726332053542137, 'start': 141, 'end': 145, 'answer': '\"CSP'}]"
      ]
     },
     "execution_count": 22,
     "metadata": {},
     "output_type": "execute_result"
    }
   ],
   "source": [
    "pipe(context=books[5], question=\"What book is this about?\", topk=5, handle_impossible_answer=True)"
   ]
  },
  {
   "cell_type": "code",
   "execution_count": 23,
   "id": "f6c740bd",
   "metadata": {},
   "outputs": [
    {
     "data": {
      "text/plain": [
       "[{'score': 0.4444877803325653,\n",
       "  'start': 366,\n",
       "  'end': 379,\n",
       "  'answer': 'Joe Armstrong'},\n",
       " {'score': 0.07175072282552719,\n",
       "  'start': 150,\n",
       "  'end': 160,\n",
       "  'answer': 'Tony Hoare'},\n",
       " {'score': 0.008594379760324955,\n",
       "  'start': 366,\n",
       "  'end': 397,\n",
       "  'answer': 'Joe Armstrong[1] (Erlang, BEAM)'},\n",
       " {'score': 0.002378952456638217,\n",
       "  'start': 366,\n",
       "  'end': 382,\n",
       "  'answer': 'Joe Armstrong[1]'},\n",
       " {'score': 0.0008865283452905715, 'start': 0, 'end': 0, 'answer': ''}]"
      ]
     },
     "execution_count": 23,
     "metadata": {},
     "output_type": "execute_result"
    }
   ],
   "source": [
    "pipe(context=books[5], question=\"Who is the author?\", topk=5, handle_impossible_answer=True)"
   ]
  },
  {
   "cell_type": "markdown",
   "id": "a0c1e40c",
   "metadata": {},
   "source": [
    "## Seventh Post"
   ]
  },
  {
   "cell_type": "code",
   "execution_count": 24,
   "id": "e85c3a52",
   "metadata": {},
   "outputs": [
    {
     "name": "stdout",
     "output_type": "stream",
     "text": [
      "\"The Unwomanly Face of War: An Oral History of Women in World War II\". Non-fiction. Harrowing. Was inspired to read it after seeing \"Beanpole\".\n",
      "\n",
      "Also really enjoyed \"Klara and the Sun\".\n"
     ]
    }
   ],
   "source": [
    "print(books[6])"
   ]
  },
  {
   "cell_type": "markdown",
   "id": "530c00a6",
   "metadata": {},
   "source": [
    "Only gets half the title, and completely misses the other books. The score is very low too."
   ]
  },
  {
   "cell_type": "code",
   "execution_count": 25,
   "id": "7e926b58",
   "metadata": {},
   "outputs": [
    {
     "data": {
      "text/plain": [
       "[{'score': 0.06026965379714966,\n",
       "  'start': 1,\n",
       "  'end': 26,\n",
       "  'answer': 'The Unwomanly Face of War'},\n",
       " {'score': 0.033767107874155045,\n",
       "  'start': 28,\n",
       "  'end': 68,\n",
       "  'answer': 'An Oral History of Women in World War II'},\n",
       " {'score': 0.011089831590652466,\n",
       "  'start': 1,\n",
       "  'end': 52,\n",
       "  'answer': 'The Unwomanly Face of War: An Oral History of Women'},\n",
       " {'score': 0.010547981597483158,\n",
       "  'start': 0,\n",
       "  'end': 26,\n",
       "  'answer': '\"The Unwomanly Face of War'},\n",
       " {'score': 0.010149270296096802,\n",
       "  'start': 31,\n",
       "  'end': 68,\n",
       "  'answer': 'Oral History of Women in World War II'}]"
      ]
     },
     "execution_count": 25,
     "metadata": {},
     "output_type": "execute_result"
    }
   ],
   "source": [
    "pipe(context=books[6], question=\"What book is this about?\", topk=5, handle_impossible_answer=True)"
   ]
  },
  {
   "cell_type": "markdown",
   "id": "3549a505",
   "metadata": {},
   "source": [
    "This is too confidently wrong."
   ]
  },
  {
   "cell_type": "code",
   "execution_count": 26,
   "id": "334cb340",
   "metadata": {},
   "outputs": [
    {
     "data": {
      "text/plain": [
       "[{'score': 0.2859797179698944, 'start': 84, 'end': 93, 'answer': 'Harrowing'},\n",
       " {'score': 0.18127445876598358,\n",
       "  'start': 71,\n",
       "  'end': 93,\n",
       "  'answer': 'Non-fiction. Harrowing'},\n",
       " {'score': 0.12296736240386963,\n",
       "  'start': 71,\n",
       "  'end': 82,\n",
       "  'answer': 'Non-fiction'},\n",
       " {'score': 0.03354998677968979,\n",
       "  'start': 84,\n",
       "  'end': 94,\n",
       "  'answer': 'Harrowing.'},\n",
       " {'score': 0.021266387775540352,\n",
       "  'start': 71,\n",
       "  'end': 94,\n",
       "  'answer': 'Non-fiction. Harrowing.'}]"
      ]
     },
     "execution_count": 26,
     "metadata": {},
     "output_type": "execute_result"
    }
   ],
   "source": [
    "pipe(context=books[6], question=\"Who is the author?\", topk=5, handle_impossible_answer=True)"
   ]
  },
  {
   "cell_type": "markdown",
   "id": "86594649",
   "metadata": {},
   "source": [
    "## Eighth Post"
   ]
  },
  {
   "cell_type": "code",
   "execution_count": 27,
   "id": "6e9505a7",
   "metadata": {},
   "outputs": [
    {
     "name": "stdout",
     "output_type": "stream",
     "text": [
      "programming pearls jon bentley\n"
     ]
    }
   ],
   "source": [
    "print(books[7])"
   ]
  },
  {
   "cell_type": "markdown",
   "id": "c0620167",
   "metadata": {},
   "source": [
    "Only gets half the title, and completely misses the other books."
   ]
  },
  {
   "cell_type": "markdown",
   "id": "1e5dd248",
   "metadata": {},
   "source": [
    "The top answer is right"
   ]
  },
  {
   "cell_type": "code",
   "execution_count": 28,
   "id": "d6b2081b",
   "metadata": {},
   "outputs": [
    {
     "data": {
      "text/plain": [
       "[{'score': 0.5504440069198608,\n",
       "  'start': 0,\n",
       "  'end': 18,\n",
       "  'answer': 'programming pearls'},\n",
       " {'score': 0.30278968811035156,\n",
       "  'start': 0,\n",
       "  'end': 30,\n",
       "  'answer': 'programming pearls jon bentley'},\n",
       " {'score': 0.06683448702096939, 'start': 12, 'end': 18, 'answer': 'pearls'},\n",
       " {'score': 0.036764491349458694,\n",
       "  'start': 12,\n",
       "  'end': 30,\n",
       "  'answer': 'pearls jon bentley'},\n",
       " {'score': 0.019708285108208656,\n",
       "  'start': 0,\n",
       "  'end': 11,\n",
       "  'answer': 'programming'}]"
      ]
     },
     "execution_count": 28,
     "metadata": {},
     "output_type": "execute_result"
    }
   ],
   "source": [
    "pipe(context=books[7], question=\"What book is this about?\", topk=5, handle_impossible_answer=True)"
   ]
  },
  {
   "cell_type": "markdown",
   "id": "28220e56",
   "metadata": {},
   "source": [
    "But it can't really tell it's a book..."
   ]
  },
  {
   "cell_type": "code",
   "execution_count": 29,
   "id": "979dece3",
   "metadata": {},
   "outputs": [
    {
     "data": {
      "text/plain": [
       "[{'score': 0.38840705156326294,\n",
       "  'start': 0,\n",
       "  'end': 18,\n",
       "  'answer': 'programming pearls'},\n",
       " {'score': 0.3662135601043701,\n",
       "  'start': 0,\n",
       "  'end': 30,\n",
       "  'answer': 'programming pearls jon bentley'},\n",
       " {'score': 0.08963220566511154, 'start': 12, 'end': 18, 'answer': 'pearls'},\n",
       " {'score': 0.08451064676046371,\n",
       "  'start': 12,\n",
       "  'end': 30,\n",
       "  'answer': 'pearls jon bentley'},\n",
       " {'score': 0.012788637541234493,\n",
       "  'start': 0,\n",
       "  'end': 11,\n",
       "  'answer': 'programming'}]"
      ]
     },
     "execution_count": 29,
     "metadata": {},
     "output_type": "execute_result"
    }
   ],
   "source": [
    "pipe(context=books[7], question=\"What song is this about?\", topk=5, handle_impossible_answer=True)"
   ]
  },
  {
   "cell_type": "markdown",
   "id": "b77c6242",
   "metadata": {},
   "source": [
    "This is too confidently wrong."
   ]
  },
  {
   "cell_type": "code",
   "execution_count": 30,
   "id": "073eb0b9",
   "metadata": {},
   "outputs": [
    {
     "data": {
      "text/plain": [
       "[{'score': 0.5670811533927917,\n",
       "  'start': 0,\n",
       "  'end': 30,\n",
       "  'answer': 'programming pearls jon bentley'},\n",
       " {'score': 0.19033314287662506,\n",
       "  'start': 12,\n",
       "  'end': 30,\n",
       "  'answer': 'pearls jon bentley'},\n",
       " {'score': 0.09922166913747787,\n",
       "  'start': 19,\n",
       "  'end': 30,\n",
       "  'answer': 'jon bentley'},\n",
       " {'score': 0.05318687856197357, 'start': 23, 'end': 30, 'answer': 'bentley'},\n",
       " {'score': 0.03328821435570717,\n",
       "  'start': 0,\n",
       "  'end': 18,\n",
       "  'answer': 'programming pearls'}]"
      ]
     },
     "execution_count": 30,
     "metadata": {},
     "output_type": "execute_result"
    }
   ],
   "source": [
    "pipe(context=books[7], question=\"Who is the author?\", topk=5, handle_impossible_answer=True)"
   ]
  },
  {
   "cell_type": "markdown",
   "id": "e0e93c4c",
   "metadata": {},
   "source": [
    "If we add more context it does much better."
   ]
  },
  {
   "cell_type": "code",
   "execution_count": 31,
   "id": "9c322b65",
   "metadata": {},
   "outputs": [
    {
     "data": {
      "text/plain": [
       "[{'score': 0.9242533445358276,\n",
       "  'start': 19,\n",
       "  'end': 30,\n",
       "  'answer': 'jon bentley'},\n",
       " {'score': 0.05638393387198448, 'start': 23, 'end': 30, 'answer': 'bentley'},\n",
       " {'score': 0.008598157204687595,\n",
       "  'start': 0,\n",
       "  'end': 30,\n",
       "  'answer': 'programming pearls jon bentley'},\n",
       " {'score': 0.006067426409572363, 'start': 23, 'end': 30, 'answer': 'bentley'},\n",
       " {'score': 0.0018185155931860209, 'start': 19, 'end': 22, 'answer': 'jon'}]"
      ]
     },
     "execution_count": 31,
     "metadata": {},
     "output_type": "execute_result"
    }
   ],
   "source": [
    "pipe(context=books[7], question=\"Who is the author of programming pearls?\", topk=5, handle_impossible_answer=True)"
   ]
  },
  {
   "cell_type": "markdown",
   "id": "39d4bd74",
   "metadata": {},
   "source": [
    "## Ninth book\n",
    "\n",
    "Exactly right"
   ]
  },
  {
   "cell_type": "code",
   "execution_count": 32,
   "id": "57e177f1",
   "metadata": {},
   "outputs": [
    {
     "name": "stdout",
     "output_type": "stream",
     "text": [
      "try aristotle's treatment on the subject in The Nichomachean Ethics. very relatable by modern standards\n"
     ]
    }
   ],
   "source": [
    "print(books[8])"
   ]
  },
  {
   "cell_type": "code",
   "execution_count": 33,
   "id": "90b2b460",
   "metadata": {},
   "outputs": [
    {
     "data": {
      "text/plain": [
       "[{'score': 0.90522301197052,\n",
       "  'start': 44,\n",
       "  'end': 67,\n",
       "  'answer': 'The Nichomachean Ethics'},\n",
       " {'score': 0.05711742490530014,\n",
       "  'start': 48,\n",
       "  'end': 67,\n",
       "  'answer': 'Nichomachean Ethics'},\n",
       " {'score': 0.028559990227222443,\n",
       "  'start': 44,\n",
       "  'end': 68,\n",
       "  'answer': 'The Nichomachean Ethics.'},\n",
       " {'score': 0.004761051386594772,\n",
       "  'start': 44,\n",
       "  'end': 60,\n",
       "  'answer': 'The Nichomachean'},\n",
       " {'score': 0.0018020677380263805,\n",
       "  'start': 48,\n",
       "  'end': 68,\n",
       "  'answer': 'Nichomachean Ethics.'}]"
      ]
     },
     "execution_count": 33,
     "metadata": {},
     "output_type": "execute_result"
    }
   ],
   "source": [
    "pipe(context=books[8], question=\"What book is this about?\", topk=5, handle_impossible_answer=True)"
   ]
  },
  {
   "cell_type": "code",
   "execution_count": 34,
   "id": "069b1fcf",
   "metadata": {},
   "outputs": [
    {
     "data": {
      "text/plain": [
       "[{'score': 0.9859960675239563, 'start': 4, 'end': 13, 'answer': 'aristotle'},\n",
       " {'score': 0.002930512884631753, 'start': 4, 'end': 13, 'answer': 'aristotle'},\n",
       " {'score': 0.001233691698871553,\n",
       "  'start': 4,\n",
       "  'end': 15,\n",
       "  'answer': \"aristotle's\"},\n",
       " {'score': 0.0003458717546891421,\n",
       "  'start': 0,\n",
       "  'end': 13,\n",
       "  'answer': 'try aristotle'},\n",
       " {'score': 0.00030797257204540074,\n",
       "  'start': 4,\n",
       "  'end': 13,\n",
       "  'answer': 'aristotle'}]"
      ]
     },
     "execution_count": 34,
     "metadata": {},
     "output_type": "execute_result"
    }
   ],
   "source": [
    "pipe(context=books[8], question=\"Who is the author?\", topk=5, handle_impossible_answer=True)"
   ]
  },
  {
   "cell_type": "markdown",
   "id": "05bf0360",
   "metadata": {},
   "source": [
    "## Tenth book\n",
    "\n",
    "Exactly right"
   ]
  },
  {
   "cell_type": "code",
   "execution_count": 35,
   "id": "a5e1b98f",
   "metadata": {},
   "outputs": [
    {
     "name": "stdout",
     "output_type": "stream",
     "text": [
      "Can you send a reference for. “Statistical Inference in Computer Age?” There are several books with similar titles.\n"
     ]
    }
   ],
   "source": [
    "print(books[9])"
   ]
  },
  {
   "cell_type": "markdown",
   "id": "66fdb8a0",
   "metadata": {},
   "source": [
    "Get's it right"
   ]
  },
  {
   "cell_type": "code",
   "execution_count": 36,
   "id": "7a55f557",
   "metadata": {},
   "outputs": [
    {
     "data": {
      "text/plain": [
       "[{'score': 0.7364696264266968,\n",
       "  'start': 31,\n",
       "  'end': 68,\n",
       "  'answer': 'Statistical Inference in Computer Age'},\n",
       " {'score': 0.11681927740573883,\n",
       "  'start': 56,\n",
       "  'end': 68,\n",
       "  'answer': 'Computer Age'},\n",
       " {'score': 0.04142001271247864,\n",
       "  'start': 30,\n",
       "  'end': 68,\n",
       "  'answer': '“Statistical Inference in Computer Age'},\n",
       " {'score': 0.040733471512794495,\n",
       "  'start': 31,\n",
       "  'end': 52,\n",
       "  'answer': 'Statistical Inference'},\n",
       " {'score': 0.03188558295369148,\n",
       "  'start': 31,\n",
       "  'end': 70,\n",
       "  'answer': 'Statistical Inference in Computer Age?”'}]"
      ]
     },
     "execution_count": 36,
     "metadata": {},
     "output_type": "execute_result"
    }
   ],
   "source": [
    "pipe(context=books[9], question=\"What book is this about?\", topk=5, handle_impossible_answer=True)"
   ]
  },
  {
   "cell_type": "markdown",
   "id": "a6f53771",
   "metadata": {},
   "source": [
    "Too confidently wrong"
   ]
  },
  {
   "cell_type": "code",
   "execution_count": 37,
   "id": "38bea32d",
   "metadata": {},
   "outputs": [
    {
     "data": {
      "text/plain": [
       "[{'score': 0.21951982378959656,\n",
       "  'start': 31,\n",
       "  'end': 68,\n",
       "  'answer': 'Statistical Inference in Computer Age'},\n",
       " {'score': 0.17552605271339417,\n",
       "  'start': 31,\n",
       "  'end': 70,\n",
       "  'answer': 'Statistical Inference in Computer Age?”'},\n",
       " {'score': 0.10378080606460571,\n",
       "  'start': 30,\n",
       "  'end': 68,\n",
       "  'answer': '“Statistical Inference in Computer Age'},\n",
       " {'score': 0.08298218995332718,\n",
       "  'start': 30,\n",
       "  'end': 70,\n",
       "  'answer': '“Statistical Inference in Computer Age?”'},\n",
       " {'score': 0.04622333124279976,\n",
       "  'start': 31,\n",
       "  'end': 69,\n",
       "  'answer': 'Statistical Inference in Computer Age?'}]"
      ]
     },
     "execution_count": 37,
     "metadata": {},
     "output_type": "execute_result"
    }
   ],
   "source": [
    "pipe(context=books[9], question=\"Who is the author?\", topk=5, handle_impossible_answer=True)"
   ]
  },
  {
   "cell_type": "code",
   "execution_count": 38,
   "id": "bd0a571f",
   "metadata": {},
   "outputs": [
    {
     "data": {
      "text/plain": [
       "[{'score': 0.10568806529045105,\n",
       "  'start': 0,\n",
       "  'end': 24,\n",
       "  'answer': 'Can you send a reference'},\n",
       " {'score': 0.04337441548705101,\n",
       "  'start': 0,\n",
       "  'end': 68,\n",
       "  'answer': 'Can you send a reference for. “Statistical Inference in Computer Age'},\n",
       " {'score': 0.042221132665872574,\n",
       "  'start': 0,\n",
       "  'end': 28,\n",
       "  'answer': 'Can you send a reference for'},\n",
       " {'score': 0.03146642819046974,\n",
       "  'start': 0,\n",
       "  'end': 69,\n",
       "  'answer': 'Can you send a reference for. “Statistical Inference in Computer Age?'},\n",
       " {'score': 0.014582433737814426,\n",
       "  'start': 30,\n",
       "  'end': 70,\n",
       "  'answer': '“Statistical Inference in Computer Age?”'}]"
      ]
     },
     "execution_count": 38,
     "metadata": {},
     "output_type": "execute_result"
    }
   ],
   "source": [
    "pipe(context=books[9], question=\"Who is the author of Statistical Inference in Computer Age?\", topk=5, handle_impossible_answer=True)"
   ]
  },
  {
   "cell_type": "markdown",
   "id": "2096d757",
   "metadata": {},
   "source": [
    "## Example with no results\n",
    "\n",
    "Maybe we should set threshold around 50."
   ]
  },
  {
   "cell_type": "code",
   "execution_count": 39,
   "id": "00ac5177",
   "metadata": {},
   "outputs": [
    {
     "name": "stdout",
     "output_type": "stream",
     "text": [
      "Seek out distributed systems research papers from real-world practitioners. A quick search lead me to this nice collection: https://dancres.github.io/Pages/\n"
     ]
    }
   ],
   "source": [
    "print(books[13])"
   ]
  },
  {
   "cell_type": "code",
   "execution_count": 40,
   "id": "68b37b70",
   "metadata": {},
   "outputs": [
    {
     "data": {
      "text/plain": [
       "[{'score': 0.3960203230381012,\n",
       "  'start': 132,\n",
       "  'end': 155,\n",
       "  'answer': 'dancres.github.io/Pages'},\n",
       " {'score': 0.13216771185398102,\n",
       "  'start': 132,\n",
       "  'end': 146,\n",
       "  'answer': 'dancres.github'},\n",
       " {'score': 0.09443812817335129, 'start': 132, 'end': 139, 'answer': 'dancres'},\n",
       " {'score': 0.0851767286658287,\n",
       "  'start': 132,\n",
       "  'end': 149,\n",
       "  'answer': 'dancres.github.io'},\n",
       " {'score': 0.028707168996334076,\n",
       "  'start': 140,\n",
       "  'end': 155,\n",
       "  'answer': 'github.io/Pages'}]"
      ]
     },
     "execution_count": 40,
     "metadata": {},
     "output_type": "execute_result"
    }
   ],
   "source": [
    "pipe(context=books[13], question=\"What book is this about?\", topk=5, handle_impossible_answer=True)"
   ]
  },
  {
   "cell_type": "code",
   "execution_count": 41,
   "id": "44b9a9bf",
   "metadata": {},
   "outputs": [
    {
     "data": {
      "text/plain": [
       "[{'score': 0.37659919261932373,\n",
       "  'start': 132,\n",
       "  'end': 146,\n",
       "  'answer': 'dancres.github'},\n",
       " {'score': 0.3447030484676361, 'start': 132, 'end': 139, 'answer': 'dancres'},\n",
       " {'score': 0.097689189016819,\n",
       "  'start': 132,\n",
       "  'end': 155,\n",
       "  'answer': 'dancres.github.io/Pages'},\n",
       " {'score': 0.019532062113285065,\n",
       "  'start': 132,\n",
       "  'end': 149,\n",
       "  'answer': 'dancres.github.io'},\n",
       " {'score': 0.01495211198925972,\n",
       "  'start': 124,\n",
       "  'end': 146,\n",
       "  'answer': 'https://dancres.github'}]"
      ]
     },
     "execution_count": 41,
     "metadata": {},
     "output_type": "execute_result"
    }
   ],
   "source": [
    "pipe(context=books[13], question=\"Who is the author?\", topk=5, handle_impossible_answer=True)"
   ]
  }
 ],
 "metadata": {
  "kernelspec": {
   "display_name": "Python 3 (ipykernel)",
   "language": "python",
   "name": "python3"
  },
  "language_info": {
   "codemirror_mode": {
    "name": "ipython",
    "version": 3
   },
   "file_extension": ".py",
   "mimetype": "text/x-python",
   "name": "python",
   "nbconvert_exporter": "python",
   "pygments_lexer": "ipython3",
   "version": "3.8.10"
  },
  "toc": {
   "base_numbering": 1,
   "nav_menu": {},
   "number_sections": true,
   "sideBar": true,
   "skip_h1_title": false,
   "title_cell": "Table of Contents",
   "title_sidebar": "Contents",
   "toc_cell": false,
   "toc_position": {},
   "toc_section_display": true,
   "toc_window_display": false
  }
 },
 "nbformat": 4,
 "nbformat_minor": 5
}
