{
 "cells": [
  {
   "cell_type": "markdown",
   "id": "45862457",
   "metadata": {},
   "source": [
    "# Open Library SQLite\n",
    "\n",
    "We're going to take some [Open Library dumps](https://openlibrary.org/developers/dumps) for authors, works and editions and put them into SQLite.\n",
    "Because they're so big (several GB of compressed text) they can't fit into memory and SQLite gives an easy way to manage large files."
   ]
  },
  {
   "cell_type": "code",
   "execution_count": 1,
   "id": "b2833ad6",
   "metadata": {},
   "outputs": [],
   "source": [
    "from pathlib import Path\n",
    "\n",
    "import gzip\n",
    "import json\n",
    "import sqlite3\n",
    "\n",
    "from tqdm.auto import tqdm"
   ]
  },
  {
   "cell_type": "markdown",
   "id": "e2196fee",
   "metadata": {},
   "source": [
    "This assumes the dumps are downloaded into `data_path` and are from `ol_dump_date`.\n",
    "\n",
    "A better way could be to stream the download; the files are [here](https://archive.org/details/ol_exports?sort=-publicdate) (for example https://archive.org/download/ol_dump_2022-06-06/ol_dump_editions_2022-06-06.txt.gz) and `_latest` redirects to the latest version (e.g. https://openlibrary.org/data/ol_dump_editions_latest.txt.gz).\n",
    "There's also a torrent version which may be less resource intensive for the Internet Archive."
   ]
  },
  {
   "cell_type": "code",
   "execution_count": 2,
   "id": "a73eab68",
   "metadata": {},
   "outputs": [],
   "source": [
    "ol_dump_date = '2022-06-06'\n",
    "data_path = Path('../data/01_raw')\n",
    "\n",
    "def ol_path(segment):\n",
    "    return data_path / f'ol_dump_{segment}_{ol_dump_date}.txt.gz'\n",
    "\n",
    "def ol_data(segment):\n",
    "    with gzip.open(ol_path(segment), 'rt') as f:\n",
    "        for line in f:\n",
    "            yield tuple(line.split('\\t', 5))"
   ]
  },
  {
   "cell_type": "markdown",
   "id": "ce25119c",
   "metadata": {},
   "source": [
    "We'll write the items to the database in [batches](https://skeptric.com/python-minibatching/) of ~1,000 to reduce the overhead of SQLite parsing the `INSERT STATEMENT`"
   ]
  },
  {
   "cell_type": "code",
   "execution_count": 3,
   "id": "d31e7d5d",
   "metadata": {},
   "outputs": [],
   "source": [
    "def minibatch(seq, size):\n",
    "    items = []\n",
    "    for x in seq:\n",
    "        items.append(x)\n",
    "        if len(items) >= size:\n",
    "            yield items\n",
    "            items = []\n",
    "    if items:\n",
    "        yield items"
   ]
  },
  {
   "cell_type": "markdown",
   "id": "b0b8154a",
   "metadata": {},
   "source": [
    "This puts it all together:\n",
    "\n",
    "* Create a table for the data\n",
    "* Start a transaction\n",
    "* Read the data dump from disk\n",
    "* Insert into SQLite 1,000 rows at a time."
   ]
  },
  {
   "cell_type": "code",
   "execution_count": 4,
   "id": "1056abc3",
   "metadata": {},
   "outputs": [],
   "source": [
    "def create_segment(con, segment, batch_size=1_000):\n",
    "    con.execute(f'CREATE TABLE {segment} (type TEXT, key TEXT, revision INT, last_modified TEXT, json TEXT);')\n",
    "    with con:\n",
    "        for batch in minibatch(tqdm(ol_data(segment)), batch_size):\n",
    "            con.executemany(f'INSERT INTO {segment} VALUES (?,?,?,?,?)', batch)"
   ]
  },
  {
   "cell_type": "markdown",
   "id": "3651d43f",
   "metadata": {},
   "source": [
    "Let's create our database"
   ]
  },
  {
   "cell_type": "code",
   "execution_count": 5,
   "id": "c824aefb",
   "metadata": {},
   "outputs": [],
   "source": [
    "con = sqlite3.connect('../data/01_raw/openlibrary.sqlite')"
   ]
  },
  {
   "cell_type": "markdown",
   "id": "f97080ad",
   "metadata": {},
   "source": [
    "We'll set some options to make writes faster, which are safe in this one-off bulk import scenario (see [this blog](http://blog.quibb.org/2010/08/fast-bulk-inserts-into-sqlite/) and [Stackoverflow post](https://stackoverflow.com/questions/1711631/improve-insert-per-second-performance-of-sqlite) for details)."
   ]
  },
  {
   "cell_type": "code",
   "execution_count": 6,
   "id": "2510c70e",
   "metadata": {},
   "outputs": [
    {
     "data": {
      "text/plain": [
       "<sqlite3.Cursor at 0x7f1a2005b3b0>"
      ]
     },
     "execution_count": 6,
     "metadata": {},
     "output_type": "execute_result"
    }
   ],
   "source": [
    "con.execute(\"PRAGMA synchronous=OFF\")\n",
    "con.execute(\"PRAGMA count_changes=OFF\")\n",
    "con.execute(\"PRAGMA journal_mode=MEMORY\")\n",
    "con.execute(\"PRAGMA temp_store=MEMORY\")"
   ]
  },
  {
   "cell_type": "markdown",
   "id": "da76e7b6",
   "metadata": {},
   "source": [
    "Now let's create all the tables"
   ]
  },
  {
   "cell_type": "code",
   "execution_count": 7,
   "id": "311ffb3b",
   "metadata": {},
   "outputs": [
    {
     "data": {
      "application/vnd.jupyter.widget-view+json": {
       "model_id": "1b517af298e5400fa17ca4270e25cfc1",
       "version_major": 2,
       "version_minor": 0
      },
      "text/plain": [
       "0it [00:00, ?it/s]"
      ]
     },
     "metadata": {},
     "output_type": "display_data"
    },
    {
     "name": "stdout",
     "output_type": "stream",
     "text": [
      "CPU times: user 36.5 s, sys: 3.12 s, total: 39.6 s\n",
      "Wall time: 40.9 s\n"
     ]
    }
   ],
   "source": [
    "%time create_segment(con, 'authors')"
   ]
  },
  {
   "cell_type": "code",
   "execution_count": 8,
   "id": "e0315263",
   "metadata": {},
   "outputs": [
    {
     "data": {
      "application/vnd.jupyter.widget-view+json": {
       "model_id": "b6b841db9423455b828189723a9be8d4",
       "version_major": 2,
       "version_minor": 0
      },
      "text/plain": [
       "0it [00:00, ?it/s]"
      ]
     },
     "metadata": {},
     "output_type": "display_data"
    },
    {
     "name": "stdout",
     "output_type": "stream",
     "text": [
      "CPU times: user 2min 18s, sys: 15.8 s, total: 2min 34s\n",
      "Wall time: 2min 54s\n"
     ]
    }
   ],
   "source": [
    "%time create_segment(con, 'works')"
   ]
  },
  {
   "cell_type": "code",
   "execution_count": 9,
   "id": "2643815a",
   "metadata": {},
   "outputs": [
    {
     "data": {
      "application/vnd.jupyter.widget-view+json": {
       "model_id": "dc9d90b21c5d40aea09fd1544de3b0d2",
       "version_major": 2,
       "version_minor": 0
      },
      "text/plain": [
       "0it [00:00, ?it/s]"
      ]
     },
     "metadata": {},
     "output_type": "display_data"
    },
    {
     "name": "stdout",
     "output_type": "stream",
     "text": [
      "CPU times: user 5min 19s, sys: 38.1 s, total: 5min 57s\n",
      "Wall time: 7min 7s\n"
     ]
    }
   ],
   "source": [
    "%time create_segment(con, 'editions')"
   ]
  },
  {
   "cell_type": "markdown",
   "id": "884ab1e3",
   "metadata": {},
   "source": [
    "And close off the connection"
   ]
  },
  {
   "cell_type": "code",
   "execution_count": 10,
   "id": "9304b083",
   "metadata": {},
   "outputs": [],
   "source": [
    "con.close()"
   ]
  }
 ],
 "metadata": {
  "kernelspec": {
   "display_name": "Python 3 (ipykernel)",
   "language": "python",
   "name": "python3"
  },
  "language_info": {
   "codemirror_mode": {
    "name": "ipython",
    "version": 3
   },
   "file_extension": ".py",
   "mimetype": "text/x-python",
   "name": "python",
   "nbconvert_exporter": "python",
   "pygments_lexer": "ipython3",
   "version": "3.8.10"
  },
  "toc": {
   "base_numbering": 1,
   "nav_menu": {},
   "number_sections": true,
   "sideBar": true,
   "skip_h1_title": false,
   "title_cell": "Table of Contents",
   "title_sidebar": "Contents",
   "toc_cell": false,
   "toc_position": {},
   "toc_section_display": true,
   "toc_window_display": false
  }
 },
 "nbformat": 4,
 "nbformat_minor": 5
}
