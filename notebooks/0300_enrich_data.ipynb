{
 "cells": [
  {
   "cell_type": "markdown",
   "id": "499f4da7-9376-40f8-8abb-4e8d927a651a",
   "metadata": {},
   "source": [
    "# Enrich Data\n",
    "\n",
    "Take the raw HackerNews data and do basic processing:\n",
    "\n",
    "* Remove dead and deleted comments\n",
    "* Find the root comment\n",
    "* Split by the root comment\n",
    "* Clean the comment text"
   ]
  },
  {
   "cell_type": "code",
   "execution_count": 1,
   "id": "36d5ed7a-8926-44bf-9b89-9aacfc2502a3",
   "metadata": {},
   "outputs": [
    {
     "name": "stdout",
     "output_type": "stream",
     "text": [
      "/home/bookfinder\n"
     ]
    }
   ],
   "source": [
    "%cd .."
   ]
  },
  {
   "cell_type": "code",
   "execution_count": 2,
   "id": "c80cda2e-4e92-4b26-8fb8-c51c2134b549",
   "metadata": {},
   "outputs": [],
   "source": [
    "import pandas as pd\n",
    "\n",
    "from bookfinder.transform import clean_text, enrich_root, hash_bucket"
   ]
  },
  {
   "cell_type": "markdown",
   "id": "f3b95163-a2ac-4404-a1fe-c10da3b18cf2",
   "metadata": {},
   "source": [
    "# Read in the raw data"
   ]
  },
  {
   "cell_type": "code",
   "execution_count": 3,
   "id": "a903f510-5f56-453d-bb17-5dd059c6ecd8",
   "metadata": {},
   "outputs": [],
   "source": [
    "def read_hn_data(path):\n",
    "    df = (\n",
    "        pd.read_parquet(path)\n",
    "        .set_index(\"id\")\n",
    "        .assign(parent=lambda df: df[\"parent\"].astype(\"Int64\"))\n",
    "        .query(\"dead.isna() & deleted.isna()\")\n",
    "    )\n",
    "    return df"
   ]
  },
  {
   "cell_type": "code",
   "execution_count": 4,
   "id": "70cc2753-fec2-4130-8391-f3141c200080",
   "metadata": {},
   "outputs": [
    {
     "data": {
      "text/html": [
       "<div>\n",
       "<style scoped>\n",
       "    .dataframe tbody tr th:only-of-type {\n",
       "        vertical-align: middle;\n",
       "    }\n",
       "\n",
       "    .dataframe tbody tr th {\n",
       "        vertical-align: top;\n",
       "    }\n",
       "\n",
       "    .dataframe thead th {\n",
       "        text-align: right;\n",
       "    }\n",
       "</style>\n",
       "<table border=\"1\" class=\"dataframe\">\n",
       "  <thead>\n",
       "    <tr style=\"text-align: right;\">\n",
       "      <th></th>\n",
       "      <th>title</th>\n",
       "      <th>url</th>\n",
       "      <th>text</th>\n",
       "      <th>dead</th>\n",
       "      <th>by</th>\n",
       "      <th>score</th>\n",
       "      <th>time</th>\n",
       "      <th>timestamp</th>\n",
       "      <th>type</th>\n",
       "      <th>parent</th>\n",
       "      <th>descendants</th>\n",
       "      <th>ranking</th>\n",
       "      <th>deleted</th>\n",
       "    </tr>\n",
       "    <tr>\n",
       "      <th>id</th>\n",
       "      <th></th>\n",
       "      <th></th>\n",
       "      <th></th>\n",
       "      <th></th>\n",
       "      <th></th>\n",
       "      <th></th>\n",
       "      <th></th>\n",
       "      <th></th>\n",
       "      <th></th>\n",
       "      <th></th>\n",
       "      <th></th>\n",
       "      <th></th>\n",
       "      <th></th>\n",
       "    </tr>\n",
       "  </thead>\n",
       "  <tbody>\n",
       "    <tr>\n",
       "      <th>27405131</th>\n",
       "      <td>None</td>\n",
       "      <td>None</td>\n",
       "      <td>They didn&amp;#x27;t say they &lt;i&gt;weren&amp;#x27;t&lt;/i&gt; ...</td>\n",
       "      <td>None</td>\n",
       "      <td>chrisseaton</td>\n",
       "      <td>NaN</td>\n",
       "      <td>1622901869</td>\n",
       "      <td>2021-06-05 14:04:29+00:00</td>\n",
       "      <td>comment</td>\n",
       "      <td>27405089</td>\n",
       "      <td>NaN</td>\n",
       "      <td>NaN</td>\n",
       "      <td>None</td>\n",
       "    </tr>\n",
       "    <tr>\n",
       "      <th>27814313</th>\n",
       "      <td>None</td>\n",
       "      <td>None</td>\n",
       "      <td>Check out &lt;a href=\"https:&amp;#x2F;&amp;#x2F;www.remno...</td>\n",
       "      <td>None</td>\n",
       "      <td>noyesno</td>\n",
       "      <td>NaN</td>\n",
       "      <td>1626119705</td>\n",
       "      <td>2021-07-12 19:55:05+00:00</td>\n",
       "      <td>comment</td>\n",
       "      <td>27812726</td>\n",
       "      <td>NaN</td>\n",
       "      <td>NaN</td>\n",
       "      <td>None</td>\n",
       "    </tr>\n",
       "    <tr>\n",
       "      <th>28626089</th>\n",
       "      <td>None</td>\n",
       "      <td>None</td>\n",
       "      <td>Like a million-dollars pixel but with letters....</td>\n",
       "      <td>None</td>\n",
       "      <td>alainchabat</td>\n",
       "      <td>NaN</td>\n",
       "      <td>1632381114</td>\n",
       "      <td>2021-09-23 07:11:54+00:00</td>\n",
       "      <td>comment</td>\n",
       "      <td>28626017</td>\n",
       "      <td>NaN</td>\n",
       "      <td>NaN</td>\n",
       "      <td>None</td>\n",
       "    </tr>\n",
       "    <tr>\n",
       "      <th>27143346</th>\n",
       "      <td>None</td>\n",
       "      <td>None</td>\n",
       "      <td>Not the question...</td>\n",
       "      <td>None</td>\n",
       "      <td>SigmundA</td>\n",
       "      <td>NaN</td>\n",
       "      <td>1620920426</td>\n",
       "      <td>2021-05-13 15:40:26+00:00</td>\n",
       "      <td>comment</td>\n",
       "      <td>27143231</td>\n",
       "      <td>NaN</td>\n",
       "      <td>NaN</td>\n",
       "      <td>None</td>\n",
       "    </tr>\n",
       "    <tr>\n",
       "      <th>29053108</th>\n",
       "      <td>None</td>\n",
       "      <td>None</td>\n",
       "      <td>There’s the Unorganized Militia of the United ...</td>\n",
       "      <td>None</td>\n",
       "      <td>User23</td>\n",
       "      <td>NaN</td>\n",
       "      <td>1635636573</td>\n",
       "      <td>2021-10-30 23:29:33+00:00</td>\n",
       "      <td>comment</td>\n",
       "      <td>29052087</td>\n",
       "      <td>NaN</td>\n",
       "      <td>NaN</td>\n",
       "      <td>None</td>\n",
       "    </tr>\n",
       "    <tr>\n",
       "      <th>...</th>\n",
       "      <td>...</td>\n",
       "      <td>...</td>\n",
       "      <td>...</td>\n",
       "      <td>...</td>\n",
       "      <td>...</td>\n",
       "      <td>...</td>\n",
       "      <td>...</td>\n",
       "      <td>...</td>\n",
       "      <td>...</td>\n",
       "      <td>...</td>\n",
       "      <td>...</td>\n",
       "      <td>...</td>\n",
       "      <td>...</td>\n",
       "    </tr>\n",
       "    <tr>\n",
       "      <th>27367848</th>\n",
       "      <td>None</td>\n",
       "      <td>None</td>\n",
       "      <td>Housing supply isn’t something that can’t chan...</td>\n",
       "      <td>None</td>\n",
       "      <td>JCM9</td>\n",
       "      <td>NaN</td>\n",
       "      <td>1622636746</td>\n",
       "      <td>2021-06-02 12:25:46+00:00</td>\n",
       "      <td>comment</td>\n",
       "      <td>27367172</td>\n",
       "      <td>NaN</td>\n",
       "      <td>NaN</td>\n",
       "      <td>None</td>\n",
       "    </tr>\n",
       "    <tr>\n",
       "      <th>28052800</th>\n",
       "      <td>None</td>\n",
       "      <td>None</td>\n",
       "      <td>Final Fantasy XIV has been experiencing consta...</td>\n",
       "      <td>None</td>\n",
       "      <td>amyjess</td>\n",
       "      <td>NaN</td>\n",
       "      <td>1628017217</td>\n",
       "      <td>2021-08-03 19:00:17+00:00</td>\n",
       "      <td>comment</td>\n",
       "      <td>28050798</td>\n",
       "      <td>NaN</td>\n",
       "      <td>NaN</td>\n",
       "      <td>None</td>\n",
       "    </tr>\n",
       "    <tr>\n",
       "      <th>28052805</th>\n",
       "      <td>None</td>\n",
       "      <td>None</td>\n",
       "      <td>How did you resolve it?</td>\n",
       "      <td>None</td>\n",
       "      <td>8ytecoder</td>\n",
       "      <td>NaN</td>\n",
       "      <td>1628017238</td>\n",
       "      <td>2021-08-03 19:00:38+00:00</td>\n",
       "      <td>comment</td>\n",
       "      <td>28049375</td>\n",
       "      <td>NaN</td>\n",
       "      <td>NaN</td>\n",
       "      <td>None</td>\n",
       "    </tr>\n",
       "    <tr>\n",
       "      <th>26704924</th>\n",
       "      <td>None</td>\n",
       "      <td>None</td>\n",
       "      <td>This hasn&amp;#x27;t been my experience being vega...</td>\n",
       "      <td>None</td>\n",
       "      <td>pacomerh</td>\n",
       "      <td>NaN</td>\n",
       "      <td>1617657938</td>\n",
       "      <td>2021-04-05 21:25:38+00:00</td>\n",
       "      <td>comment</td>\n",
       "      <td>26704794</td>\n",
       "      <td>NaN</td>\n",
       "      <td>NaN</td>\n",
       "      <td>None</td>\n",
       "    </tr>\n",
       "    <tr>\n",
       "      <th>27076885</th>\n",
       "      <td>None</td>\n",
       "      <td>None</td>\n",
       "      <td>Death services tread a very fine moral line.  ...</td>\n",
       "      <td>None</td>\n",
       "      <td>curryst</td>\n",
       "      <td>NaN</td>\n",
       "      <td>1620400897</td>\n",
       "      <td>2021-05-07 15:21:37+00:00</td>\n",
       "      <td>comment</td>\n",
       "      <td>27075961</td>\n",
       "      <td>NaN</td>\n",
       "      <td>NaN</td>\n",
       "      <td>None</td>\n",
       "    </tr>\n",
       "  </tbody>\n",
       "</table>\n",
       "<p>3885039 rows × 13 columns</p>\n",
       "</div>"
      ],
      "text/plain": [
       "         title   url                                               text  dead  \\\n",
       "id                                                                              \n",
       "27405131  None  None  They didn&#x27;t say they <i>weren&#x27;t</i> ...  None   \n",
       "27814313  None  None  Check out <a href=\"https:&#x2F;&#x2F;www.remno...  None   \n",
       "28626089  None  None  Like a million-dollars pixel but with letters....  None   \n",
       "27143346  None  None                                Not the question...  None   \n",
       "29053108  None  None  There’s the Unorganized Militia of the United ...  None   \n",
       "...        ...   ...                                                ...   ...   \n",
       "27367848  None  None  Housing supply isn’t something that can’t chan...  None   \n",
       "28052800  None  None  Final Fantasy XIV has been experiencing consta...  None   \n",
       "28052805  None  None                            How did you resolve it?  None   \n",
       "26704924  None  None  This hasn&#x27;t been my experience being vega...  None   \n",
       "27076885  None  None  Death services tread a very fine moral line.  ...  None   \n",
       "\n",
       "                   by  score        time                 timestamp     type  \\\n",
       "id                                                                            \n",
       "27405131  chrisseaton    NaN  1622901869 2021-06-05 14:04:29+00:00  comment   \n",
       "27814313      noyesno    NaN  1626119705 2021-07-12 19:55:05+00:00  comment   \n",
       "28626089  alainchabat    NaN  1632381114 2021-09-23 07:11:54+00:00  comment   \n",
       "27143346     SigmundA    NaN  1620920426 2021-05-13 15:40:26+00:00  comment   \n",
       "29053108       User23    NaN  1635636573 2021-10-30 23:29:33+00:00  comment   \n",
       "...               ...    ...         ...                       ...      ...   \n",
       "27367848         JCM9    NaN  1622636746 2021-06-02 12:25:46+00:00  comment   \n",
       "28052800      amyjess    NaN  1628017217 2021-08-03 19:00:17+00:00  comment   \n",
       "28052805    8ytecoder    NaN  1628017238 2021-08-03 19:00:38+00:00  comment   \n",
       "26704924     pacomerh    NaN  1617657938 2021-04-05 21:25:38+00:00  comment   \n",
       "27076885      curryst    NaN  1620400897 2021-05-07 15:21:37+00:00  comment   \n",
       "\n",
       "            parent  descendants  ranking deleted  \n",
       "id                                                \n",
       "27405131  27405089          NaN      NaN    None  \n",
       "27814313  27812726          NaN      NaN    None  \n",
       "28626089  28626017          NaN      NaN    None  \n",
       "27143346  27143231          NaN      NaN    None  \n",
       "29053108  29052087          NaN      NaN    None  \n",
       "...            ...          ...      ...     ...  \n",
       "27367848  27367172          NaN      NaN    None  \n",
       "28052800  28050798          NaN      NaN    None  \n",
       "28052805  28049375          NaN      NaN    None  \n",
       "26704924  26704794          NaN      NaN    None  \n",
       "27076885  27075961          NaN      NaN    None  \n",
       "\n",
       "[3885039 rows x 13 columns]"
      ]
     },
     "execution_count": 4,
     "metadata": {},
     "output_type": "execute_result"
    }
   ],
   "source": [
    "df = read_hn_data('./data/01_raw/hackernews2021.parquet')\n",
    "df"
   ]
  },
  {
   "cell_type": "code",
   "execution_count": 5,
   "id": "161724cf-54e4-44c7-9007-6c621bbd416d",
   "metadata": {},
   "outputs": [],
   "source": [
    "df = enrich_root(df)\n",
    "df['clean_text'] = df['text'].fillna('').apply(clean_text)\n",
    "df[\"bucket\"] = df[\"root\"].astype(float).apply(hash_bucket)"
   ]
  },
  {
   "cell_type": "markdown",
   "id": "0a605964-0dac-4da5-82f7-7e03ef816fa9",
   "metadata": {},
   "source": [
    "## Length distribution"
   ]
  },
  {
   "cell_type": "code",
   "execution_count": 6,
   "id": "34dc1845-fcc3-44b8-ae16-22241cf63118",
   "metadata": {},
   "outputs": [],
   "source": [
    "df['text_length'] = df['clean_text'].str.len()"
   ]
  },
  {
   "cell_type": "code",
   "execution_count": 7,
   "id": "e422cb46-e76a-41c9-adca-20462b4161ce",
   "metadata": {},
   "outputs": [
    {
     "data": {
      "text/plain": [
       "0.07129066143222758"
      ]
     },
     "execution_count": 7,
     "metadata": {},
     "output_type": "execute_result"
    }
   ],
   "source": [
    "(df['text_length'] == 0).mean()"
   ]
  },
  {
   "cell_type": "code",
   "execution_count": 8,
   "id": "5fc3efc5-4bd9-4b93-aa5b-5d1811054561",
   "metadata": {},
   "outputs": [
    {
     "data": {
      "text/plain": [
       "<AxesSubplot: >"
      ]
     },
     "execution_count": 8,
     "metadata": {},
     "output_type": "execute_result"
    },
    {
     "data": {
      "image/png": "[encoded data removed]",
      "text/plain": [
       "<Figure size 640x480 with 1 Axes>"
      ]
     },
     "metadata": {},
     "output_type": "display_data"
    }
   ],
   "source": [
    "df['text_length'].hist(log=True, bins=100)"
   ]
  },
  {
   "cell_type": "markdown",
   "id": "a8f0cd34-ff6a-44fa-8705-8847c30d3697",
   "metadata": {},
   "source": [
    "# Save the data"
   ]
  },
  {
   "cell_type": "code",
   "execution_count": 9,
   "id": "54d578e8-3c9e-4f8e-9625-58a89522fc31",
   "metadata": {},
   "outputs": [],
   "source": [
    "df.to_parquet('data/02_intermediate/hn_enriched.parquet')"
   ]
  }
 ],
 "metadata": {
  "kernelspec": {
   "display_name": "Python 3 (ipykernel)",
   "language": "python",
   "name": "python3"
  },
  "language_info": {
   "codemirror_mode": {
    "name": "ipython",
    "version": 3
   },
   "file_extension": ".py",
   "mimetype": "text/x-python",
   "name": "python",
   "nbconvert_exporter": "python",
   "pygments_lexer": "ipython3",
   "version": "3.8.12"
  }
 },
 "nbformat": 4,
 "nbformat_minor": 5
}
