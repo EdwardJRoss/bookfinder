{
 "cells": [
  {
   "cell_type": "markdown",
   "id": "81edde6d",
   "metadata": {},
   "source": [
    "# Looking up ISBNs in Open Library\n",
    "\n",
    "We've already [extracted ASINs from Amazon links in Hacker News posts](./0010-extracting-asins.ipynb) and obtained an [Open  Library Dump](https://openlibrary.org/developers/dumps).\n",
    "\n",
    "We're now going to try to link those ASINs to works in Open Library."
   ]
  },
  {
   "cell_type": "markdown",
   "id": "3f5780aa",
   "metadata": {},
   "source": [
    "## Imports"
   ]
  },
  {
   "cell_type": "code",
   "execution_count": 1,
   "id": "2f3e359e",
   "metadata": {},
   "outputs": [],
   "source": [
    "from pathlib import Path\n",
    "\n",
    "from collections import defaultdict\n",
    "\n",
    "import re\n",
    "\n",
    "import gzip\n",
    "import json\n",
    "import sqlite3\n",
    "\n",
    "import pandas as pd\n",
    "\n",
    "from tqdm.notebook import tqdm"
   ]
  },
  {
   "cell_type": "markdown",
   "id": "bb5e60c9",
   "metadata": {},
   "source": [
    "## Loading in Open Library"
   ]
  },
  {
   "cell_type": "code",
   "execution_count": 2,
   "id": "729b18f5",
   "metadata": {},
   "outputs": [],
   "source": [
    "ol_dump_date = '2022-06-06'\n",
    "data_path = Path('../data/01_raw')\n",
    "\n",
    "def ol_path(segment):\n",
    "    return data_path / f'ol_dump_{segment}_{ol_dump_date}.txt.gz'\n",
    "\n",
    "def ol_data(segment):\n",
    "    with gzip.open(ol_path(segment), 'rt') as f:\n",
    "        for line in f:\n",
    "            yield tuple(line.split('\\t', 5))"
   ]
  },
  {
   "cell_type": "markdown",
   "id": "9678b1c8",
   "metadata": {},
   "source": [
    "## ISBN 10 to 13 Conversion\n",
    "\n",
    "For books their ASIN is identical to an ISBN 10.\n",
    "However almost 20% of Open Library records have an ISBN 13 and not an ISBN 10.\n",
    "Luckily it's [straightforward to convert](https://bisg.org/page/conversionscalculat/Conversion--Calculations-.htm) an ISBN 13 to ISBN 10; we just add the prefix \"378\" and change the final \"check digit\" as per a given algorithm below."
   ]
  },
  {
   "cell_type": "code",
   "execution_count": 3,
   "id": "37308aaf",
   "metadata": {},
   "outputs": [],
   "source": [
    "isbn_10_weighting = [10,9,8,7,6,5,4,3,2]\n",
    "\n",
    "isbn_13_weighting = [1,3,1,3,1,3,1,3,1,3,1,3,1]\n",
    "\n",
    "def isbn10_check_digit(isbn10: str) -> str:\n",
    "    assert len(isbn10) == 10\n",
    "    digits = [int(x) for x in isbn10[:-1]]\n",
    "    check = 11 - sum(x*y for x,y in zip(digits, isbn_10_weighting)) % 11\n",
    "    \n",
    "    if check == 11:\n",
    "        check_digit = \"0\"\n",
    "    elif check == 10:\n",
    "        check_digit = \"X\"\n",
    "    else:\n",
    "        check_digit = str(check)\n",
    "        \n",
    "    assert len(check_digit) == 1\n",
    "    assert check_digit in [\"0\", \"1\", \"2\", \"3\", \"4\", \"5\", \"6\", \"7\", \"8\", \"9\", \"X\"]\n",
    "    return check_digit\n",
    "    \n",
    "def isbn13_check_digit(isbn13: str) -> str:\n",
    "    assert len(isbn13) == 13\n",
    "    digits = [int(x) for x in isbn13[:-1]]\n",
    "    check = 10 - sum(x*y for x,y in zip(digits, isbn_13_weighting)) % 10\n",
    "    \n",
    "    if check == 10:\n",
    "        check_digit = \"0\"\n",
    "    else:\n",
    "        check_digit = str(check)\n",
    "        \n",
    "    assert len(check_digit) == 1\n",
    "    assert check_digit in [\"0\", \"1\", \"2\", \"3\", \"4\", \"5\", \"6\", \"7\", \"8\", \"9\"]\n",
    "    return check_digit\n",
    "    \n",
    "def isbn13_to_10(isbn13: str) -> str:\n",
    "    assert isbn13.startswith(\"978\")\n",
    "    \n",
    "    return isbn13[3:-1] + isbn10_check_digit(isbn13[3:])\n",
    "\n",
    "def isbn10_to_13(isbn10: str) -> str:\n",
    "    return \"978\" + isbn10[:-1] + isbn13_check_digit(\"978\" + isbn10)"
   ]
  },
  {
   "cell_type": "markdown",
   "id": "cd110581",
   "metadata": {},
   "source": [
    "## Extracting the ISBNs\n",
    "\n",
    "We've already exported all posts with an ASIN here; we'll now try to extract the ISBN 10 when it exists with a link to the post."
   ]
  },
  {
   "cell_type": "code",
   "execution_count": 4,
   "id": "81abed3e",
   "metadata": {},
   "outputs": [],
   "source": [
    "df = pd.read_csv('../data/02_intermediate/hn_asin.csv').set_index('id')"
   ]
  },
  {
   "cell_type": "code",
   "execution_count": 5,
   "id": "db05f489",
   "metadata": {},
   "outputs": [],
   "source": [
    "asin_re = re.compile(r'amazon\\.[^\"> ]*/dp/([0-9]{9}[0-9X])\\W'.replace('/', '&#x2F;'))"
   ]
  },
  {
   "cell_type": "code",
   "execution_count": 6,
   "id": "37bced02",
   "metadata": {},
   "outputs": [],
   "source": [
    "asin_matches = df.text.str.extractall(asin_re).drop_duplicates()"
   ]
  },
  {
   "cell_type": "code",
   "execution_count": 7,
   "id": "7c3617ac",
   "metadata": {},
   "outputs": [
    {
     "data": {
      "text/html": [
       "<div>\n",
       "<style scoped>\n",
       "    .dataframe tbody tr th:only-of-type {\n",
       "        vertical-align: middle;\n",
       "    }\n",
       "\n",
       "    .dataframe tbody tr th {\n",
       "        vertical-align: top;\n",
       "    }\n",
       "\n",
       "    .dataframe thead th {\n",
       "        text-align: right;\n",
       "    }\n",
       "</style>\n",
       "<table border=\"1\" class=\"dataframe\">\n",
       "  <thead>\n",
       "    <tr style=\"text-align: right;\">\n",
       "      <th></th>\n",
       "      <th></th>\n",
       "      <th>0</th>\n",
       "    </tr>\n",
       "    <tr>\n",
       "      <th>id</th>\n",
       "      <th>match</th>\n",
       "      <th></th>\n",
       "    </tr>\n",
       "  </thead>\n",
       "  <tbody>\n",
       "    <tr>\n",
       "      <th>25763413</th>\n",
       "      <th>0</th>\n",
       "      <td>0809301377</td>\n",
       "    </tr>\n",
       "    <tr>\n",
       "      <th rowspan=\"2\" valign=\"top\">27595409</th>\n",
       "      <th>0</th>\n",
       "      <td>0884272079</td>\n",
       "    </tr>\n",
       "    <tr>\n",
       "      <th>2</th>\n",
       "      <td>0884271536</td>\n",
       "    </tr>\n",
       "    <tr>\n",
       "      <th>29586021</th>\n",
       "      <th>0</th>\n",
       "      <td>1577314808</td>\n",
       "    </tr>\n",
       "    <tr>\n",
       "      <th>26032563</th>\n",
       "      <th>0</th>\n",
       "      <td>1524747378</td>\n",
       "    </tr>\n",
       "    <tr>\n",
       "      <th>...</th>\n",
       "      <th>...</th>\n",
       "      <td>...</td>\n",
       "    </tr>\n",
       "    <tr>\n",
       "      <th>27126565</th>\n",
       "      <th>0</th>\n",
       "      <td>1937785580</td>\n",
       "    </tr>\n",
       "    <tr>\n",
       "      <th>27096359</th>\n",
       "      <th>0</th>\n",
       "      <td>1736703307</td>\n",
       "    </tr>\n",
       "    <tr>\n",
       "      <th>27090660</th>\n",
       "      <th>0</th>\n",
       "      <td>0300208448</td>\n",
       "    </tr>\n",
       "    <tr>\n",
       "      <th>29331929</th>\n",
       "      <th>0</th>\n",
       "      <td>3831138931</td>\n",
       "    </tr>\n",
       "    <tr>\n",
       "      <th>26745394</th>\n",
       "      <th>0</th>\n",
       "      <td>0062435612</td>\n",
       "    </tr>\n",
       "  </tbody>\n",
       "</table>\n",
       "<p>1423 rows × 1 columns</p>\n",
       "</div>"
      ],
      "text/plain": [
       "                         0\n",
       "id       match            \n",
       "25763413 0      0809301377\n",
       "27595409 0      0884272079\n",
       "         2      0884271536\n",
       "29586021 0      1577314808\n",
       "26032563 0      1524747378\n",
       "...                    ...\n",
       "27126565 0      1937785580\n",
       "27096359 0      1736703307\n",
       "27090660 0      0300208448\n",
       "29331929 0      3831138931\n",
       "26745394 0      0062435612\n",
       "\n",
       "[1423 rows x 1 columns]"
      ]
     },
     "execution_count": 7,
     "metadata": {},
     "output_type": "execute_result"
    }
   ],
   "source": [
    "asin_matches"
   ]
  },
  {
   "cell_type": "code",
   "execution_count": 8,
   "id": "8352ba49",
   "metadata": {},
   "outputs": [],
   "source": [
    "isbn10s = set(asin_matches[0].unique())"
   ]
  },
  {
   "cell_type": "markdown",
   "id": "259439c1",
   "metadata": {},
   "source": [
    "We can also get the corresponding ISBN 13"
   ]
  },
  {
   "cell_type": "code",
   "execution_count": 9,
   "id": "0d73ded7",
   "metadata": {},
   "outputs": [],
   "source": [
    "isbn13s = {isbn10_to_13(a): a for a in isbn10s}"
   ]
  },
  {
   "cell_type": "code",
   "execution_count": 10,
   "id": "3e8439c5",
   "metadata": {},
   "outputs": [
    {
     "data": {
      "text/plain": [
       "(1423, 1423)"
      ]
     },
     "execution_count": 10,
     "metadata": {},
     "output_type": "execute_result"
    }
   ],
   "source": [
    "len(isbn10s), len(isbn13s)"
   ]
  },
  {
   "cell_type": "markdown",
   "id": "778ed08a",
   "metadata": {},
   "source": [
    "## Searching Open Library\n",
    "\n",
    "We can now iterate through all the editions check whether the ISBN 10 or ISBN 13 are inside.\n",
    "\n",
    "We could make this process fast by unnesting the ISBNs and adding an index in SQLite, but in practice it's a batch process we'd only need to do once in a while so we can let it run."
   ]
  },
  {
   "cell_type": "code",
   "execution_count": 11,
   "id": "46697b2b",
   "metadata": {},
   "outputs": [
    {
     "name": "stdout",
     "output_type": "stream",
     "text": [
      "CPU times: user 12min 45s, sys: 4.3 s, total: 12min 49s\n",
      "Wall time: 12min 49s\n"
     ]
    }
   ],
   "source": [
    "%%time\n",
    "matches = defaultdict(set)\n",
    "match_metadata = {}\n",
    "\n",
    "for record_type, key, revision, last_modified, json_metadata in ol_data('editions'):\n",
    "    metadata = json.loads(json_metadata)\n",
    "    for isbn in metadata.get('isbn_10', []):\n",
    "        if isbn in isbn10s:\n",
    "            matches[isbn].update([key])\n",
    "            match_metadata[key] = metadata\n",
    "            \n",
    "    for isbn in metadata.get('isbn_13', []):\n",
    "        if isbn in isbn13s:\n",
    "            matches[isbn13s[isbn]].update([key])\n",
    "            match_metadata[key] = metadata"
   ]
  },
  {
   "cell_type": "markdown",
   "id": "c74aaded",
   "metadata": {},
   "source": [
    "# Analysing linked records"
   ]
  },
  {
   "cell_type": "markdown",
   "id": "a6379de7",
   "metadata": {},
   "source": [
    "Most of the records are linked"
   ]
  },
  {
   "cell_type": "code",
   "execution_count": 12,
   "id": "d04c2426",
   "metadata": {},
   "outputs": [
    {
     "data": {
      "text/plain": [
       "'94.03%'"
      ]
     },
     "execution_count": 12,
     "metadata": {},
     "output_type": "execute_result"
    }
   ],
   "source": [
    "f'{len(matches) / len(isbn10s):0.2%}'"
   ]
  },
  {
   "cell_type": "markdown",
   "id": "ad226dc5",
   "metadata": {},
   "source": [
    "All these unlinked records are legitimate books with ISBNs missing from Open Library.\n",
    "I searched their names through Open Library\n",
    "\n",
    "* 5 are in open library under a different ISBN (one is a CD)\n",
    "* 5 are missing entirely, and could be added"
   ]
  },
  {
   "cell_type": "code",
   "execution_count": 13,
   "id": "07b01c9a",
   "metadata": {},
   "outputs": [],
   "source": [
    "def amazon_link(isbn10):\n",
    "    return f'https://www.amazon.com/dp/{isbn10}'"
   ]
  },
  {
   "cell_type": "code",
   "execution_count": 14,
   "id": "e68b4a8f",
   "metadata": {},
   "outputs": [
    {
     "name": "stdout",
     "output_type": "stream",
     "text": [
      "https://www.amazon.com/dp/1947864351\n",
      "https://www.amazon.com/dp/973465148X\n",
      "https://www.amazon.com/dp/9387022897\n",
      "https://www.amazon.com/dp/0814311156\n",
      "https://www.amazon.com/dp/098018486X\n",
      "https://www.amazon.com/dp/1610279034\n",
      "https://www.amazon.com/dp/1521531218\n",
      "https://www.amazon.com/dp/1733706119\n",
      "https://www.amazon.com/dp/1975977920\n",
      "https://www.amazon.com/dp/9684122179\n"
     ]
    }
   ],
   "source": [
    "print('\\n'.join([amazon_link(i) for i in isbn10s if i not in matches][:10]))"
   ]
  },
  {
   "cell_type": "markdown",
   "id": "76220b77",
   "metadata": {},
   "source": [
    "20% have more than 1 match"
   ]
  },
  {
   "cell_type": "code",
   "execution_count": 15,
   "id": "f71621fb",
   "metadata": {},
   "outputs": [
    {
     "data": {
      "text/plain": [
       "'20.25%'"
      ]
     },
     "execution_count": 15,
     "metadata": {},
     "output_type": "execute_result"
    }
   ],
   "source": [
    "f'{sum(1/len(matches) for v in matches.values() if len(v) > 1):0.2%}'"
   ]
  },
  {
   "cell_type": "markdown",
   "id": "de6a4349",
   "metadata": {},
   "source": [
    "Let's look at an example"
   ]
  },
  {
   "cell_type": "code",
   "execution_count": 16,
   "id": "63cbc9ed",
   "metadata": {},
   "outputs": [
    {
     "data": {
      "text/plain": [
       "('014015339X',\n",
       " {'/books/OL22594993M', '/books/OL7348913M', '/books/OL9303565M'})"
      ]
     },
     "execution_count": 16,
     "metadata": {},
     "output_type": "execute_result"
    }
   ],
   "source": [
    "i, editions = next(iter(matches.items()))\n",
    "i, editions"
   ]
  },
  {
   "cell_type": "markdown",
   "id": "e099d3cf",
   "metadata": {},
   "source": [
    "Winnie the Pooh in Latin has 3 records.\n",
    "\n",
    "These could potentially be merged in some way; for example authors and works can be merged.\n",
    "Something like title is tricky where we need some heuristic to pick one (e.g. last updates, greatest revision, greatest amount of metadta, consistency (e.g. casing), consistency with work, ...)\n",
    "\n",
    "This would be trickier if we found it via title, rather than by ISBN."
   ]
  },
  {
   "cell_type": "code",
   "execution_count": 17,
   "id": "0f087341",
   "metadata": {},
   "outputs": [
    {
     "name": "stdout",
     "output_type": "stream",
     "text": [
      "https://www.amazon.com/dp/014015339X\n"
     ]
    }
   ],
   "source": [
    "print(amazon_link(i))"
   ]
  },
  {
   "cell_type": "code",
   "execution_count": 18,
   "id": "d3035098",
   "metadata": {},
   "outputs": [
    {
     "name": "stdout",
     "output_type": "stream",
     "text": [
      "{'publishers': ['Penguin (Non-Classics)'], 'number_of_pages': 160, 'last_modified': {'type': '/type/datetime', 'value': '2010-08-18T06:35:31.974089'}, 'title': 'Winnie Ille Pu', 'contributions': ['Alexander Lenard (Translator)'], 'identifiers': {'goodreads': ['821004'], 'librarything': ['4315935']}, 'isbn_13': ['9780140153392'], 'covers': [96049], 'created': {'type': '/type/datetime', 'value': '2008-04-29T13:35:46.876380'}, 'languages': [{'key': '/languages/lat'}], 'isbn_10': ['014015339X'], 'publish_date': 'June 20, 1991', 'key': '/books/OL7348913M', 'authors': [{'key': '/authors/OL29881A'}, {'key': '/authors/OL2657539A'}], 'latest_revision': 6, 'works': [{'key': '/works/OL476641W'}], 'type': {'key': '/type/edition'}, 'revision': 6}\n",
      "\n",
      "{'publishers': ['Penguin (Non-Classics)'], 'identifiers': {'librarything': ['4315935'], 'goodreads': ['821004']}, 'ia_box_id': ['ia148423'], 'weight': '2.4 ounces', 'isbn_10': ['014015339X'], 'covers': [8743072], 'physical_format': 'Paperback', 'ia_loaded_id': ['winnieillepulibe00miln'], 'last_modified': {'type': '/type/datetime', 'value': '2019-07-15T14:47:05.906161'}, 'latest_revision': 12, 'key': '/books/OL9303565M', 'authors': [{'key': '/authors/OL29881A'}, {'key': '/authors/OL2657539A'}], 'ocaid': 'winnieillepulibe00miln', 'contributions': ['Alexander Lenard (Translator)'], 'languages': [{'key': '/languages/lat'}], 'classifications': {}, 'source_records': ['ia:winnieillepulibe00miln'], 'title': 'Winnie Ille Pu', 'number_of_pages': 160, 'isbn_13': ['9780140153392'], 'created': {'type': '/type/datetime', 'value': '2008-04-30T09:38:13.731961'}, 'edition_name': 'Revised edition', 'subjects': ['Readers', 'Language', \"Children's Books/Ages 4-8 Fiction\", 'Latin language', 'General', 'Humor / Limericks & Verse', 'Animals', 'Fiction'], 'publish_date': 'June 20, 1991', 'works': [{'key': '/works/OL476641W'}], 'type': {'key': '/type/edition'}, 'physical_dimensions': '7.6 x 5 x 0.6 inches', 'revision': 12}\n",
      "\n",
      "{'other_titles': ['Winnie the Pooh'], 'number_of_pages': 148, 'subtitle': 'liber celeberrimus omnibus fere pueris puellisque notus nunc primum de anglico sermone in Latinum conversus auctore Alexandro Lenardo', 'covers': [10528905, 8735104], 'key': '/books/OL22594993M', 'authors': [{'key': '/authors/OL29881A'}], 'ocaid': 'winnieillepulati00miln', 'publish_places': ['New York :bPenguin Books'], 'contributions': ['Lenardo, Alexandro'], 'pagination': '148 p. :', 'classifications': {}, 'source_records': ['ia:winnieillepulati00miln', 'ia:winnieillepulati00miln_626', 'bwb:9780140153392'], 'title': 'Winnie ille Pu', 'identifiers': {'librarything': ['4315935'], 'goodreads': ['821004']}, 'languages': [{'key': '/languages/lat'}], 'isbn_10': ['014015339X'], 'publish_date': '1991', 'publish_country': 'nyu', 'by_statement': 'A.A. Milnei ;  with notes and glossary prepared in consultation with Dr. Israel Walker.', 'works': [{'key': '/works/OL476641W'}], 'type': {'key': '/type/edition'}, 'lc_classifications': ['PR6025.I65'], 'latest_revision': 12, 'revision': 12, 'created': {'type': '/type/datetime', 'value': '2008-11-16T21:36:43.616851'}, 'last_modified': {'type': '/type/datetime', 'value': '2021-12-30T01:20:52.518143'}}\n",
      "\n"
     ]
    }
   ],
   "source": [
    "for w in editions:\n",
    "    print(match_metadata[w])\n",
    "    print()"
   ]
  },
  {
   "cell_type": "code",
   "execution_count": 19,
   "id": "19aea49f",
   "metadata": {},
   "outputs": [
    {
     "data": {
      "text/plain": [
       "'/works/OL476641W'"
      ]
     },
     "execution_count": 19,
     "metadata": {},
     "output_type": "execute_result"
    }
   ],
   "source": [
    "match_metadata[w]['works'][0]['key']"
   ]
  },
  {
   "cell_type": "markdown",
   "id": "f9e7fd2d",
   "metadata": {},
   "source": [
    "We can find the corresponding HN comments"
   ]
  },
  {
   "cell_type": "code",
   "execution_count": 20,
   "id": "69f78ed5",
   "metadata": {},
   "outputs": [
    {
     "data": {
      "text/plain": [
       "[29735443]"
      ]
     },
     "execution_count": 20,
     "metadata": {},
     "output_type": "execute_result"
    }
   ],
   "source": [
    "comment_ids = asin_matches[asin_matches[0] == i].reset_index()['id'].to_list()\n",
    "comment_ids"
   ]
  },
  {
   "cell_type": "code",
   "execution_count": 21,
   "id": "f8959e1f",
   "metadata": {},
   "outputs": [
    {
     "data": {
      "text/plain": [
       "['Today i learned, that there is a latin translation of Winnie the Pooh. https://www.amazon.com/Winnie-Ille-Pu-Latin-Milne/dp/014015339X It even became a bestseller, and appeared on the list of New York Times bestsellers. Is it known, if translations of the work need to pay for copyright too?']"
      ]
     },
     "execution_count": 21,
     "metadata": {},
     "output_type": "execute_result"
    }
   ],
   "source": [
    "df.loc[comment_ids].clean_text.to_list()"
   ]
  },
  {
   "cell_type": "markdown",
   "id": "63737fc6",
   "metadata": {},
   "source": [
    "# Saving Results"
   ]
  },
  {
   "cell_type": "code",
   "execution_count": 22,
   "id": "f8e484da",
   "metadata": {},
   "outputs": [
    {
     "data": {
      "text/plain": [
       "7"
      ]
     },
     "execution_count": 22,
     "metadata": {},
     "output_type": "execute_result"
    }
   ],
   "source": [
    "max(len(v) for v in matches.values())"
   ]
  },
  {
   "cell_type": "code",
   "execution_count": 23,
   "id": "7c80b1cb",
   "metadata": {},
   "outputs": [],
   "source": [
    "asin_matches.rename(columns={0: 'isbn'}).to_csv('../data/02_intermediate/hn_asin_isbn.csv')"
   ]
  },
  {
   "cell_type": "code",
   "execution_count": 24,
   "id": "04a5cba8",
   "metadata": {},
   "outputs": [
    {
     "data": {
      "text/html": [
       "<div>\n",
       "<style scoped>\n",
       "    .dataframe tbody tr th:only-of-type {\n",
       "        vertical-align: middle;\n",
       "    }\n",
       "\n",
       "    .dataframe tbody tr th {\n",
       "        vertical-align: top;\n",
       "    }\n",
       "\n",
       "    .dataframe thead th {\n",
       "        text-align: right;\n",
       "    }\n",
       "</style>\n",
       "<table border=\"1\" class=\"dataframe\">\n",
       "  <thead>\n",
       "    <tr style=\"text-align: right;\">\n",
       "      <th></th>\n",
       "      <th>id</th>\n",
       "      <th>match</th>\n",
       "      <th>isbn</th>\n",
       "    </tr>\n",
       "  </thead>\n",
       "  <tbody>\n",
       "    <tr>\n",
       "      <th>0</th>\n",
       "      <td>25763413</td>\n",
       "      <td>0</td>\n",
       "      <td>0809301377</td>\n",
       "    </tr>\n",
       "    <tr>\n",
       "      <th>1</th>\n",
       "      <td>27595409</td>\n",
       "      <td>0</td>\n",
       "      <td>0884272079</td>\n",
       "    </tr>\n",
       "    <tr>\n",
       "      <th>2</th>\n",
       "      <td>27595409</td>\n",
       "      <td>2</td>\n",
       "      <td>0884271536</td>\n",
       "    </tr>\n",
       "    <tr>\n",
       "      <th>3</th>\n",
       "      <td>29586021</td>\n",
       "      <td>0</td>\n",
       "      <td>1577314808</td>\n",
       "    </tr>\n",
       "    <tr>\n",
       "      <th>4</th>\n",
       "      <td>26032563</td>\n",
       "      <td>0</td>\n",
       "      <td>1524747378</td>\n",
       "    </tr>\n",
       "    <tr>\n",
       "      <th>...</th>\n",
       "      <td>...</td>\n",
       "      <td>...</td>\n",
       "      <td>...</td>\n",
       "    </tr>\n",
       "    <tr>\n",
       "      <th>1418</th>\n",
       "      <td>27126565</td>\n",
       "      <td>0</td>\n",
       "      <td>1937785580</td>\n",
       "    </tr>\n",
       "    <tr>\n",
       "      <th>1419</th>\n",
       "      <td>27096359</td>\n",
       "      <td>0</td>\n",
       "      <td>1736703307</td>\n",
       "    </tr>\n",
       "    <tr>\n",
       "      <th>1420</th>\n",
       "      <td>27090660</td>\n",
       "      <td>0</td>\n",
       "      <td>0300208448</td>\n",
       "    </tr>\n",
       "    <tr>\n",
       "      <th>1421</th>\n",
       "      <td>29331929</td>\n",
       "      <td>0</td>\n",
       "      <td>3831138931</td>\n",
       "    </tr>\n",
       "    <tr>\n",
       "      <th>1422</th>\n",
       "      <td>26745394</td>\n",
       "      <td>0</td>\n",
       "      <td>0062435612</td>\n",
       "    </tr>\n",
       "  </tbody>\n",
       "</table>\n",
       "<p>1423 rows × 3 columns</p>\n",
       "</div>"
      ],
      "text/plain": [
       "            id  match        isbn\n",
       "0     25763413      0  0809301377\n",
       "1     27595409      0  0884272079\n",
       "2     27595409      2  0884271536\n",
       "3     29586021      0  1577314808\n",
       "4     26032563      0  1524747378\n",
       "...        ...    ...         ...\n",
       "1418  27126565      0  1937785580\n",
       "1419  27096359      0  1736703307\n",
       "1420  27090660      0  0300208448\n",
       "1421  29331929      0  3831138931\n",
       "1422  26745394      0  0062435612\n",
       "\n",
       "[1423 rows x 3 columns]"
      ]
     },
     "execution_count": 24,
     "metadata": {},
     "output_type": "execute_result"
    }
   ],
   "source": [
    "pd.read_csv('../data/02_intermediate/hn_asin_isbn.csv')"
   ]
  },
  {
   "cell_type": "code",
   "execution_count": 25,
   "id": "ea744fb7",
   "metadata": {},
   "outputs": [],
   "source": [
    "pairs = []\n",
    "for k, vs in matches.items():\n",
    "    for v in vs:\n",
    "        pairs.append((k, v))\n",
    "        \n",
    "pd.DataFrame(pairs, columns=['isbn', 'edition_key']).to_csv('../data/02_intermediate/isbn_to_edition.csv', index=False)"
   ]
  },
  {
   "cell_type": "code",
   "execution_count": 26,
   "id": "b9bbde5c",
   "metadata": {},
   "outputs": [
    {
     "data": {
      "text/html": [
       "<div>\n",
       "<style scoped>\n",
       "    .dataframe tbody tr th:only-of-type {\n",
       "        vertical-align: middle;\n",
       "    }\n",
       "\n",
       "    .dataframe tbody tr th {\n",
       "        vertical-align: top;\n",
       "    }\n",
       "\n",
       "    .dataframe thead th {\n",
       "        text-align: right;\n",
       "    }\n",
       "</style>\n",
       "<table border=\"1\" class=\"dataframe\">\n",
       "  <thead>\n",
       "    <tr style=\"text-align: right;\">\n",
       "      <th></th>\n",
       "      <th>isbn</th>\n",
       "      <th>edition_key</th>\n",
       "    </tr>\n",
       "  </thead>\n",
       "  <tbody>\n",
       "    <tr>\n",
       "      <th>0</th>\n",
       "      <td>014015339X</td>\n",
       "      <td>/books/OL7348913M</td>\n",
       "    </tr>\n",
       "    <tr>\n",
       "      <th>1</th>\n",
       "      <td>014015339X</td>\n",
       "      <td>/books/OL9303565M</td>\n",
       "    </tr>\n",
       "    <tr>\n",
       "      <th>2</th>\n",
       "      <td>014015339X</td>\n",
       "      <td>/books/OL22594993M</td>\n",
       "    </tr>\n",
       "    <tr>\n",
       "      <th>3</th>\n",
       "      <td>9810240392</td>\n",
       "      <td>/books/OL9195040M</td>\n",
       "    </tr>\n",
       "    <tr>\n",
       "      <th>4</th>\n",
       "      <td>9810240392</td>\n",
       "      <td>/books/OL3435163M</td>\n",
       "    </tr>\n",
       "    <tr>\n",
       "      <th>...</th>\n",
       "      <td>...</td>\n",
       "      <td>...</td>\n",
       "    </tr>\n",
       "    <tr>\n",
       "      <th>1708</th>\n",
       "      <td>1541647467</td>\n",
       "      <td>/books/OL29483383M</td>\n",
       "    </tr>\n",
       "    <tr>\n",
       "      <th>1709</th>\n",
       "      <td>1541647475</td>\n",
       "      <td>/books/OL32387462M</td>\n",
       "    </tr>\n",
       "    <tr>\n",
       "      <th>1710</th>\n",
       "      <td>1760290424</td>\n",
       "      <td>/books/OL34014431M</td>\n",
       "    </tr>\n",
       "    <tr>\n",
       "      <th>1711</th>\n",
       "      <td>0367338858</td>\n",
       "      <td>/books/OL34664066M</td>\n",
       "    </tr>\n",
       "    <tr>\n",
       "      <th>1712</th>\n",
       "      <td>0140439153</td>\n",
       "      <td>/books/OL3942244M</td>\n",
       "    </tr>\n",
       "  </tbody>\n",
       "</table>\n",
       "<p>1713 rows × 2 columns</p>\n",
       "</div>"
      ],
      "text/plain": [
       "            isbn         edition_key\n",
       "0     014015339X   /books/OL7348913M\n",
       "1     014015339X   /books/OL9303565M\n",
       "2     014015339X  /books/OL22594993M\n",
       "3     9810240392   /books/OL9195040M\n",
       "4     9810240392   /books/OL3435163M\n",
       "...          ...                 ...\n",
       "1708  1541647467  /books/OL29483383M\n",
       "1709  1541647475  /books/OL32387462M\n",
       "1710  1760290424  /books/OL34014431M\n",
       "1711  0367338858  /books/OL34664066M\n",
       "1712  0140439153   /books/OL3942244M\n",
       "\n",
       "[1713 rows x 2 columns]"
      ]
     },
     "execution_count": 26,
     "metadata": {},
     "output_type": "execute_result"
    }
   ],
   "source": [
    "pd.read_csv('../data/02_intermediate/isbn_to_edition.csv')"
   ]
  },
  {
   "cell_type": "markdown",
   "id": "c836f60a",
   "metadata": {},
   "source": [
    "# Quick look at other records"
   ]
  },
  {
   "cell_type": "code",
   "execution_count": 27,
   "id": "8d2cb4a1",
   "metadata": {},
   "outputs": [],
   "source": [
    "import sqlite3"
   ]
  },
  {
   "cell_type": "code",
   "execution_count": 28,
   "id": "d5e8fc7f",
   "metadata": {},
   "outputs": [],
   "source": [
    "db = sqlite3.connect('../data/01_raw/openlibrary.sqlite')"
   ]
  },
  {
   "cell_type": "code",
   "execution_count": 29,
   "id": "7e64a2bd",
   "metadata": {
    "scrolled": false
   },
   "outputs": [
    {
     "name": "stdout",
     "output_type": "stream",
     "text": [
      "***  Winnie Ille Pu by A. A. Milne\n",
      "\n",
      "Today i learned, that there is a latin translation of Winnie the Pooh. https://www.amazon.com/Winnie-Ille-Pu-Latin-Milne/dp/014015339X It even became a bestseller, and appeared on the list of New York Times bestsellers. Is it known, if translations of the work need to pay for copyright too?\n",
      "\n",
      "***  Foundations and Interpretation of Quantum Mechanics by Gennaro Auletta\n",
      "\n",
      "You absolutely want this, relatively obscure, book:\n",
      "\n",
      "https://www.amazon.com/Foundations-Interpretation-Quantum-Mechanics-Critical-Historical/dp/9810240392\n",
      "\n",
      "There are some translation/copy-writing issues but don't let that put you off. It has a solid coverage of quantization of Hamiltonian mechanics in both matrix mechanics and wave mechanics, and then the unification of the two - all following the historical narrative.\n",
      "\n",
      "***  The Game by Neil Strauss\n",
      "\n",
      "(No idea whether you'll read this, but...)\n",
      "\n",
      "> I know you're trying to come at this from a \"things could be worse\" perspective\n",
      "\n",
      "Nope, not really,  I get that it matters, and how it matters.\n",
      "\n",
      "I have two related points:\n",
      "\n",
      "1) It matters, but it definitely doesn't matter **to the magnitude that you think it does**, right now - it's just one of many factors that matter.  Yep, you've lost this one, so rely on your other good areas and if it helps your mindset, find some others to optimise instead. (Like...\n",
      "\n",
      "***  Algorithm Design by Jon Kleinberg\n",
      "\n",
      "The good thing about Algorithm Design & Analysis as a topic is that there is no lack of great resources to learn from! And even better, a large portion of them are freely available online (in forms of lecture notes, or entire books, video lectures, programming challenges with online judging, etc).\n",
      "\n",
      "In addition to what others have mentioned, here are some example resources you might prefer for a beginner-intermediate level intro:\n",
      "\n",
      "1. (free online) Algorithms by Dasgupta, Papadimitriou, and Vazira...\n",
      "\n",
      "***  The Twenty-One Balloons PMC by William Pène Du Bois\n",
      "\n",
      "Like many kids, I learned about Krakatoa from William Pene du Bois' 1948 Newbery Award-winning YA novel \"The Twenty-One Balloons\" [0]. The story is about a fantastical steampunk civilization hidden on Krakatoa, which (spoiler) is eventually destroyed in the eruption. The book is an absolute trip , figuratively and literally - recommended for all ages!\n",
      "\n",
      "[0] https://www.amazon.com/Twenty-One-Balloons-Puffin-Modern-Classics/dp/014240330X/\n",
      "\n",
      "***  How the Mighty Fall by Collins, James C.\n",
      "\n",
      "Take a look at Jim Collins’ **How the Mighty Fall**. https://www.amazon.com/How-Mighty-Fall-Companies-Never/dp/0977326411\n",
      "\n",
      "***  The Trouble with Boys by Peg Tyre\n",
      "\n",
      "> I think it's a pretty poorly kept open secret\n",
      "\n",
      "There are lots of book about this. E.g.: https://www.amazon.com/Trouble-Boys-Surprising-Problems-Educators/dp/0307381293\n",
      "\n",
      "***  Modern Operating Systems by None\n",
      "\n",
      "I don't have any one complete book that I can recommend, and I don't even really have a great reading list for this.  But I'll make an attempt to share what I think is useful as a starting point.\n",
      "\n",
      "1. Systems Operations is first and foremost about understanding systems, in all of their complexity, which means understanding the internals of your OS primarily.\n",
      "\n",
      "2. Performance and networking, in particular, are super important areas to focus on understanding when it comes to learning the topic to he...\n",
      "\n",
      "***  Hidden Hand by Clive Hamilton\n",
      "\n",
      "Not simple examples but a full inquiry: https://www.amazon.com/Hidden-Hand-Clive-Hamilton/dp/1786077833/\n",
      "\n",
      "***  End of Alzheimer's by Dale Bredesen\n",
      "\n",
      "Here's a book that I wish I had 20 years ago, it offers some insight and something you can do:\n",
      "\n",
      "https://www.amazon.com/End-Alzheimers-Program-Prevent-Cognitive/dp/0735216215/\n",
      "\n",
      "The protocol isn't wacky, it's just a list of healthy things everyone should do (like getting enough sleep). I've been following much of it myself.\n",
      "\n",
      "***  Norton Anthology of English Literature by Stephen Greenblatt\n",
      "\n",
      "I'm increasingly put out by Amazon and am trying to stop the habit of shopping there. I like books, and Amazon was founded on books, but the way they ship books now (typically loose in a soft envelope or mostly empty box) means that >50% of the books I've ordered recently have arrived damaged and had to be returned. They used to shrinkwrap books to a cardboard plate inside the box.\n",
      "\n",
      "There are other problems: \n",
      "1) Search is just terrible. Often I have to search in Google to find the product I'm lo...\n",
      "\n",
      "***  Moral mazes by Robert Jackall\n",
      "\n",
      "I googled \"SOC 2 Audited\" - and I've got:\n",
      "\"\"\"\n",
      "A SOC 2 audit is a company-wide certification that evaluates an organization's standards regarding its core data security infrastructure, information handling practices, consumer privacy, and confidentiality. For this purpose, an SOC 2 auditor needs to evaluate various aspects of a company's systems and processes\n",
      "\"\"\"\n",
      "So it is about security. I guess your point is that it is just a security theatre and not related to the real thing - but that is a dif...\n",
      "\n",
      "***  Bringing Up Bebe by None\n",
      "\n",
      "This book has a lot about parenting, including how to get your kids to go to bed:\n",
      "\n",
      "https://www.amazon.com/Bringing-Up-B%C3%A9b%C3%A9-Discovers-Parenting/dp/0143122967\n",
      "\n",
      "***  Cognitive-Behavioral Therapy for Adult ADHD by Mary V. Solanto\n",
      "\n",
      "As someone with ADHD, this sets off some (okay, many) red flags for me.\n",
      "\n",
      "Some thoughts:\n",
      "\n",
      "- Patient intake for ADHD **is** genuinely awful, you're right about that. The diagnostic/treatment process for ADHD often feels like it's designed to make people with ADHD struggle.\n",
      "\n",
      "- CBT is generally helpful, therapy is an important part of treatment. I've seen good results from it.\n",
      "\n",
      "- in-person sessions are expensive (although if you have good insurance you shouldn't be hitting $200-300 a session).\n",
      "\n",
      "----...\n",
      "\n",
      "***  Introduction to 64 Bit Intel Assembly Language Programming for Linux by Ray Seyfarth\n",
      "\n",
      "[0]: https://www.amazon.com/Introduction-Intel-Assembly-Language-Programming/dp/1466470038\n",
      "\n",
      "Ray Sefarth Introduction to 64 Bit Intel Assembly Language Programming for Linux was what we used in my architecture class. I thought it was good coming from only knowing Java at the time.\n",
      "\n",
      "That class alone laid the world flat for me in regards to the \"totality\" of software development. Literally everything comes down to the 1's and 0's running through millions of transistors or whatever they are in the C...\n",
      "\n",
      "***  Information rules by Carl Shapiro\n",
      "\n",
      "Complexity Economics\n",
      "\n",
      "I've been binging books on the topic as well as exchanging dialogs with a colleague over email.  Books list:\n",
      "\n",
      "_Completed_\n",
      "\n",
      "The Origin of Wealth: The Radical Remaking of Economics and What it Means for Business and Society - https://www.amazon.com/gp/product/1422121038/ref=ppx_yo_dt_b_asin_title_o01_s00?ie=UTF8&psc=1\n",
      "\n",
      "Increasing Returns and Path Dependence in the Economy (Economics, Cognition, And Society) - https://www.amazon.com/gp/product/0472064967/ref=ppx_yo_dt_b_asin_t...\n",
      "\n",
      "***  Artificial life II by Artificial Life Workshop (2nd 1990 Santa Fe, N.M.)\n",
      "\n",
      "Not sure if this is just for fun or for research.   Artificial Life is/was a field of ressearch for a while, papers were written, books were published, [1][2] etc.  The field sought to study biology and the complexity of living things by experimenting with simulations of the real thing(s).\n",
      "\n",
      "This reminds me of what IMHO is best use of artificial life in a game, Unnatural Selection.  In the game you had to select and breed creatures to go against other enemy creatures. [3][4]\n",
      "\n",
      "[1]  https://en.wiki...\n",
      "\n",
      "***  Software as capital by Howard Baetjer\n",
      "\n",
      "Also https://www.amazon.com/Software-Capital-Economic-Perspective-Engineering/dp/0818677791\n",
      "\n",
      "***  Algebra by I.M. Gelfand\n",
      "\n",
      "You can find some on Amazon.\n",
      "\n",
      "Gelfand's Algebra: https://www.amazon.com/Algebra-Israel-M-Gelfand/dp/0817636773/\n",
      "\n",
      "Gelfand's Geometry: https://www.amazon.com/Geometry-Israel-M-Gelfand/dp/1071602977/\n",
      "\n",
      "Gelfand's Trigonometry: https://www.amazon.com/Trigonometry-Gelfand-Mathematical-Seminar-Israel/dp/3764339144/\n",
      "\n",
      "***  This Is How They Tell Me the World Ends by Nicole Perlroth\n",
      "\n",
      "I will just add, the author of the NYT piece has a book out on this subject. The book is decent, has some cringe worthy descriptions of technical things if you are a technical person, but overall I learned a huge amount reading it.\n",
      "\n",
      "A lot of the commentary, accusations, and opinions in the comments here would be addressed or better colored if you're interested enough to read her book (https://www.amazon.com/This-They-Tell-World-Ends/dp/1635576059).\n",
      "\n",
      "Also, just to be clear, one of the reasons I *...\n",
      "\n",
      "***  Minding My Mitochondria 2nd Edition by Terry L. Wahls\n",
      "\n",
      "Just to note, I believe Terry Wahls has been arguing a version of this for at least a decade (https://www.amazon.com/Minding-Mitochondria-2nd-progressive-wheelchair/dp/0982175086) and has written a diet (the Wahls Protocol) directed towards mitochondrial health.\n",
      "\n",
      "I've been interested in her ideas ever since close family contracted an autoimmune disease.\n",
      "\n",
      "***  The Toyota way by Jeffrey K. Liker\n",
      "\n",
      "As a huge Ed Deming fan, I'd recommend these books:\n",
      "\n",
      "- The Essential Deming: Leadership Principles from the Father of Quality:\n",
      "https://www.amazon.com/Essential-Deming-Leadership-Principles-Quality/dp/0071790225/\n",
      "\n",
      "- The New Economics for Industry, Government, Education:\n",
      "https://www.amazon.com/Economics-Industry-Government-Education-Press/dp/0262535939/\n",
      "\n",
      "- The Toyota Way: 14 Management Principles from the World's Greatest Manufacturer:\n",
      "https://www.amazon.com/Toyota-Way-Management-Principles-Manufa...\n",
      "\n"
     ]
    }
   ],
   "source": [
    "for idx, (i, editions) in enumerate(matches.items()):\n",
    "    meta = match_metadata[next(iter(editions))]\n",
    "    if 'authors' in meta:\n",
    "        first_author = meta['authors'][0]['key']\n",
    "        author_meta = json.loads(db.execute(f\"SELECT json FROM authors WHERE key = '{first_author}'\").fetchone()[0])\n",
    "    else:\n",
    "        author_meta = {}\n",
    "    \n",
    "    comment_ids = asin_matches[asin_matches[0] == i].reset_index()['id'].to_list()\n",
    "    comment_texts = df.loc[comment_ids].clean_text.to_list()\n",
    "    \n",
    "    print('*** ', meta['title'], 'by', author_meta.get('name'))\n",
    "    print()\n",
    "    for text in comment_texts:\n",
    "        print(text[:500] + ('...' if len(text) >= 500 else ''))\n",
    "    print()\n",
    "    \n",
    "    if idx > 20:\n",
    "        break"
   ]
  }
 ],
 "metadata": {
  "kernelspec": {
   "display_name": "Python 3 (ipykernel)",
   "language": "python",
   "name": "python3"
  },
  "language_info": {
   "codemirror_mode": {
    "name": "ipython",
    "version": 3
   },
   "file_extension": ".py",
   "mimetype": "text/x-python",
   "name": "python",
   "nbconvert_exporter": "python",
   "pygments_lexer": "ipython3",
   "version": "3.8.10"
  },
  "toc": {
   "base_numbering": 1,
   "nav_menu": {},
   "number_sections": true,
   "sideBar": true,
   "skip_h1_title": false,
   "title_cell": "Table of Contents",
   "title_sidebar": "Contents",
   "toc_cell": false,
   "toc_position": {},
   "toc_section_display": true,
   "toc_window_display": false
  }
 },
 "nbformat": 4,
 "nbformat_minor": 5
}
